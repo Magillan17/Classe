{
  "nbformat": 4,
  "nbformat_minor": 0,
  "metadata": {
    "ExecuteTimeLog": [
      {
        "duration": 767,
        "start_time": "2021-06-25T19:38:56.207Z"
      },
      {
        "duration": 70,
        "start_time": "2021-06-25T19:39:14.219Z"
      },
      {
        "duration": 81,
        "start_time": "2021-06-25T19:39:38.085Z"
      },
      {
        "duration": 79,
        "start_time": "2021-06-25T19:39:43.298Z"
      },
      {
        "duration": 84,
        "start_time": "2021-06-25T19:47:01.100Z"
      },
      {
        "duration": 36,
        "start_time": "2021-06-25T21:31:44.574Z"
      },
      {
        "duration": 13,
        "start_time": "2021-06-25T21:31:55.585Z"
      },
      {
        "duration": 373,
        "start_time": "2021-06-25T21:33:28.499Z"
      },
      {
        "duration": 276,
        "start_time": "2021-06-25T21:33:42.802Z"
      },
      {
        "duration": 11,
        "start_time": "2021-06-25T21:35:59.007Z"
      },
      {
        "duration": 19,
        "start_time": "2021-06-25T21:37:32.776Z"
      },
      {
        "duration": 18,
        "start_time": "2021-06-25T21:39:10.980Z"
      },
      {
        "duration": 12,
        "start_time": "2021-06-25T21:43:14.368Z"
      },
      {
        "duration": 24,
        "start_time": "2021-06-25T21:43:26.895Z"
      },
      {
        "duration": 296,
        "start_time": "2021-06-25T21:45:27.217Z"
      },
      {
        "duration": 326,
        "start_time": "2021-06-25T21:46:14.830Z"
      },
      {
        "duration": 89,
        "start_time": "2021-06-25T21:46:52.727Z"
      },
      {
        "duration": 271,
        "start_time": "2021-06-25T21:46:57.562Z"
      },
      {
        "duration": 86,
        "start_time": "2021-06-25T21:48:32.946Z"
      },
      {
        "duration": 25,
        "start_time": "2021-06-25T21:48:40.068Z"
      },
      {
        "duration": 29,
        "start_time": "2021-06-25T21:50:09.090Z"
      },
      {
        "duration": 31,
        "start_time": "2021-06-25T21:50:19.447Z"
      },
      {
        "duration": 55,
        "start_time": "2021-06-25T22:03:41.724Z"
      },
      {
        "duration": 44,
        "start_time": "2021-06-25T22:04:59.142Z"
      },
      {
        "duration": 20,
        "start_time": "2021-06-25T22:05:32.539Z"
      },
      {
        "duration": 12,
        "start_time": "2021-06-25T22:05:58.526Z"
      },
      {
        "duration": 86,
        "start_time": "2021-06-25T22:06:03.760Z"
      },
      {
        "duration": 11,
        "start_time": "2021-06-25T22:06:03.849Z"
      },
      {
        "duration": 84,
        "start_time": "2021-06-25T22:06:21.468Z"
      },
      {
        "duration": 48,
        "start_time": "2021-06-25T22:06:21.555Z"
      },
      {
        "duration": 114,
        "start_time": "2021-06-26T10:31:51.123Z"
      },
      {
        "duration": 105,
        "start_time": "2021-06-26T10:34:13.071Z"
      },
      {
        "duration": 388,
        "start_time": "2021-06-26T10:38:23.711Z"
      },
      {
        "duration": 876,
        "start_time": "2021-06-26T10:38:35.944Z"
      },
      {
        "duration": 65,
        "start_time": "2021-06-26T10:38:36.822Z"
      },
      {
        "duration": 17,
        "start_time": "2021-06-26T10:38:36.889Z"
      },
      {
        "duration": 18,
        "start_time": "2021-06-26T10:42:04.967Z"
      },
      {
        "duration": 116,
        "start_time": "2021-06-26T10:42:12.143Z"
      },
      {
        "duration": 115,
        "start_time": "2021-06-26T10:43:25.999Z"
      },
      {
        "duration": 123,
        "start_time": "2021-06-26T10:43:35.883Z"
      },
      {
        "duration": 18,
        "start_time": "2021-06-26T10:50:28.397Z"
      },
      {
        "duration": 84,
        "start_time": "2021-06-26T10:50:36.086Z"
      },
      {
        "duration": 49,
        "start_time": "2021-06-26T10:50:36.172Z"
      },
      {
        "duration": 42,
        "start_time": "2021-06-26T10:50:36.223Z"
      },
      {
        "duration": 18,
        "start_time": "2021-06-26T10:53:32.428Z"
      },
      {
        "duration": 18,
        "start_time": "2021-06-26T10:55:10.189Z"
      },
      {
        "duration": 30,
        "start_time": "2021-06-26T11:00:20.907Z"
      },
      {
        "duration": 786,
        "start_time": "2021-06-26T11:12:53.157Z"
      },
      {
        "duration": 84,
        "start_time": "2021-06-26T11:13:05.677Z"
      },
      {
        "duration": 52,
        "start_time": "2021-06-26T11:13:05.764Z"
      },
      {
        "duration": 657,
        "start_time": "2021-06-26T11:13:05.819Z"
      },
      {
        "duration": 644,
        "start_time": "2021-06-26T11:13:36.324Z"
      },
      {
        "duration": 84,
        "start_time": "2021-06-26T11:13:46.227Z"
      },
      {
        "duration": 58,
        "start_time": "2021-06-26T11:13:46.314Z"
      },
      {
        "duration": 703,
        "start_time": "2021-06-26T11:13:46.376Z"
      },
      {
        "duration": 49,
        "start_time": "2021-06-26T11:37:50.075Z"
      },
      {
        "duration": 50,
        "start_time": "2021-06-26T11:38:42.479Z"
      },
      {
        "duration": 47,
        "start_time": "2021-06-26T11:38:55.825Z"
      },
      {
        "duration": 102,
        "start_time": "2021-06-26T11:39:08.074Z"
      },
      {
        "duration": 57,
        "start_time": "2021-06-26T11:39:08.179Z"
      },
      {
        "duration": 831,
        "start_time": "2021-06-26T11:39:08.239Z"
      },
      {
        "duration": 41,
        "start_time": "2021-06-26T11:39:55.261Z"
      },
      {
        "duration": 30,
        "start_time": "2021-06-26T11:41:43.221Z"
      },
      {
        "duration": 82,
        "start_time": "2021-06-26T11:41:58.455Z"
      },
      {
        "duration": 38,
        "start_time": "2021-06-26T11:41:58.540Z"
      },
      {
        "duration": 358,
        "start_time": "2021-06-26T11:41:58.581Z"
      },
      {
        "duration": 88,
        "start_time": "2021-06-26T11:42:19.095Z"
      },
      {
        "duration": 34,
        "start_time": "2021-06-26T11:42:19.186Z"
      },
      {
        "duration": 320,
        "start_time": "2021-06-26T11:42:19.223Z"
      },
      {
        "duration": 86,
        "start_time": "2021-06-26T11:56:07.675Z"
      },
      {
        "duration": 40,
        "start_time": "2021-06-26T11:56:07.764Z"
      },
      {
        "duration": 341,
        "start_time": "2021-06-26T11:56:07.807Z"
      },
      {
        "duration": 82,
        "start_time": "2021-06-26T12:03:15.660Z"
      },
      {
        "duration": 79,
        "start_time": "2021-06-26T12:03:15.745Z"
      },
      {
        "duration": 321,
        "start_time": "2021-06-26T12:03:15.827Z"
      },
      {
        "duration": 109,
        "start_time": "2021-06-26T12:05:58.666Z"
      },
      {
        "duration": 119,
        "start_time": "2021-06-26T12:06:25.359Z"
      },
      {
        "duration": 432,
        "start_time": "2021-06-26T12:07:09.864Z"
      },
      {
        "duration": 422,
        "start_time": "2021-06-26T12:07:24.005Z"
      },
      {
        "duration": 831,
        "start_time": "2021-06-26T12:08:02.551Z"
      },
      {
        "duration": 85,
        "start_time": "2021-06-26T12:19:25.078Z"
      },
      {
        "duration": 119,
        "start_time": "2021-06-26T12:19:25.167Z"
      },
      {
        "duration": 542,
        "start_time": "2021-06-26T12:19:24.746Z"
      },
      {
        "duration": 81,
        "start_time": "2021-06-26T12:19:43.723Z"
      },
      {
        "duration": 82,
        "start_time": "2021-06-26T12:21:55.978Z"
      },
      {
        "duration": 662,
        "start_time": "2021-06-26T12:23:37.433Z"
      },
      {
        "duration": 1286,
        "start_time": "2021-06-26T12:24:55.723Z"
      },
      {
        "duration": 84,
        "start_time": "2021-06-26T12:25:01.835Z"
      },
      {
        "duration": 1383,
        "start_time": "2021-06-26T12:25:01.921Z"
      },
      {
        "duration": 665,
        "start_time": "2021-06-26T12:25:02.642Z"
      },
      {
        "duration": 909,
        "start_time": "2021-06-26T12:32:39.042Z"
      },
      {
        "duration": 83,
        "start_time": "2021-06-26T12:33:08.032Z"
      },
      {
        "duration": 893,
        "start_time": "2021-06-26T12:33:08.198Z"
      },
      {
        "duration": 372,
        "start_time": "2021-06-26T12:33:09.093Z"
      },
      {
        "duration": 1216,
        "start_time": "2021-06-26T12:34:19.148Z"
      },
      {
        "duration": 787,
        "start_time": "2021-06-26T19:43:00.538Z"
      },
      {
        "duration": 74,
        "start_time": "2021-06-26T19:43:01.327Z"
      },
      {
        "duration": 388,
        "start_time": "2021-06-26T19:43:01.404Z"
      },
      {
        "duration": 1078,
        "start_time": "2021-06-26T19:53:37.176Z"
      },
      {
        "duration": 296,
        "start_time": "2021-06-26T19:56:06.118Z"
      },
      {
        "duration": 299,
        "start_time": "2021-06-26T20:02:54.793Z"
      },
      {
        "duration": 86,
        "start_time": "2021-06-26T20:03:00.333Z"
      },
      {
        "duration": 45,
        "start_time": "2021-06-26T20:03:00.422Z"
      },
      {
        "duration": 289,
        "start_time": "2021-06-26T20:03:00.470Z"
      },
      {
        "duration": 103,
        "start_time": "2021-06-26T20:10:52.154Z"
      },
      {
        "duration": 805,
        "start_time": "2021-06-26T20:11:06.854Z"
      },
      {
        "duration": 325,
        "start_time": "2021-06-26T20:11:51.167Z"
      },
      {
        "duration": 86,
        "start_time": "2021-06-26T20:12:09.167Z"
      },
      {
        "duration": 815,
        "start_time": "2021-06-26T20:12:09.256Z"
      },
      {
        "duration": 3357,
        "start_time": "2021-06-26T20:12:10.074Z"
      },
      {
        "duration": 81,
        "start_time": "2021-06-26T20:13:12.626Z"
      },
      {
        "duration": 836,
        "start_time": "2021-06-26T20:13:12.710Z"
      },
      {
        "duration": 3309,
        "start_time": "2021-06-26T20:13:13.549Z"
      },
      {
        "duration": 81,
        "start_time": "2021-06-26T20:17:58.065Z"
      },
      {
        "duration": 1123,
        "start_time": "2021-06-26T20:17:58.149Z"
      },
      {
        "duration": 1017,
        "start_time": "2021-06-26T20:17:58.257Z"
      },
      {
        "duration": 406,
        "start_time": "2021-06-26T20:20:13.943Z"
      },
      {
        "duration": 1176,
        "start_time": "2021-06-26T20:21:01.515Z"
      },
      {
        "duration": 1104,
        "start_time": "2021-06-26T20:21:12.752Z"
      },
      {
        "duration": 891,
        "start_time": "2021-06-27T12:19:28.427Z"
      },
      {
        "duration": 1514,
        "start_time": "2021-06-27T12:19:29.321Z"
      },
      {
        "duration": 269,
        "start_time": "2021-06-27T12:19:30.569Z"
      },
      {
        "duration": 1282,
        "start_time": "2021-06-27T12:20:12.056Z"
      },
      {
        "duration": 1440,
        "start_time": "2021-06-27T12:21:27.960Z"
      },
      {
        "duration": 1399,
        "start_time": "2021-06-27T12:29:31.088Z"
      },
      {
        "duration": 86,
        "start_time": "2021-06-27T12:29:55.104Z"
      },
      {
        "duration": 1332,
        "start_time": "2021-06-27T12:29:55.194Z"
      },
      {
        "duration": 292,
        "start_time": "2021-06-27T12:29:56.237Z"
      },
      {
        "duration": 84,
        "start_time": "2021-06-27T12:30:35.854Z"
      },
      {
        "duration": 1279,
        "start_time": "2021-06-27T12:30:35.941Z"
      },
      {
        "duration": 296,
        "start_time": "2021-06-27T12:30:36.926Z"
      },
      {
        "duration": 10076,
        "start_time": "2021-06-27T12:33:41.105Z"
      },
      {
        "duration": 86,
        "start_time": "2021-06-27T12:34:02.205Z"
      },
      {
        "duration": 9097,
        "start_time": "2021-06-27T12:34:02.293Z"
      },
      {
        "duration": 125,
        "start_time": "2021-06-27T12:34:11.268Z"
      },
      {
        "duration": 823,
        "start_time": "2021-06-27T15:12:10.720Z"
      },
      {
        "duration": 6960,
        "start_time": "2021-06-27T15:12:11.545Z"
      },
      {
        "duration": -14,
        "start_time": "2021-06-27T15:12:18.522Z"
      },
      {
        "duration": 42,
        "start_time": "2021-06-27T17:02:58.284Z"
      },
      {
        "duration": 7248,
        "start_time": "2021-06-27T17:03:42.304Z"
      },
      {
        "duration": 81,
        "start_time": "2021-06-27T17:03:51.558Z"
      },
      {
        "duration": 7033,
        "start_time": "2021-06-27T17:03:51.642Z"
      },
      {
        "duration": 685,
        "start_time": "2021-06-27T17:03:57.993Z"
      },
      {
        "duration": 77,
        "start_time": "2021-06-27T19:20:03.771Z"
      },
      {
        "duration": 361,
        "start_time": "2021-06-27T19:20:46.203Z"
      },
      {
        "duration": 94,
        "start_time": "2021-06-27T19:20:51.578Z"
      },
      {
        "duration": 57,
        "start_time": "2021-06-27T19:20:51.675Z"
      },
      {
        "duration": 282,
        "start_time": "2021-06-27T19:20:51.735Z"
      },
      {
        "duration": 340,
        "start_time": "2021-06-27T19:23:19.983Z"
      },
      {
        "duration": 293,
        "start_time": "2021-06-27T19:26:45.482Z"
      },
      {
        "duration": 49,
        "start_time": "2021-06-27T19:29:11.242Z"
      },
      {
        "duration": 797,
        "start_time": "2021-06-27T19:29:36.301Z"
      },
      {
        "duration": 681,
        "start_time": "2021-06-27T19:29:36.419Z"
      },
      {
        "duration": 679,
        "start_time": "2021-06-27T19:29:36.422Z"
      },
      {
        "duration": 96,
        "start_time": "2021-06-27T19:29:49.160Z"
      },
      {
        "duration": 7955,
        "start_time": "2021-06-27T19:29:49.260Z"
      },
      {
        "duration": 853,
        "start_time": "2021-06-27T19:29:56.365Z"
      },
      {
        "duration": 14,
        "start_time": "2021-06-27T19:53:11.158Z"
      },
      {
        "duration": 26,
        "start_time": "2021-06-27T19:53:37.591Z"
      },
      {
        "duration": 25,
        "start_time": "2021-06-27T19:53:56.285Z"
      },
      {
        "duration": 81,
        "start_time": "2021-06-27T20:00:17.700Z"
      },
      {
        "duration": 81,
        "start_time": "2021-06-27T20:00:22.879Z"
      },
      {
        "duration": 283,
        "start_time": "2021-06-27T20:00:31.322Z"
      },
      {
        "duration": 274,
        "start_time": "2021-06-27T20:00:38.636Z"
      },
      {
        "duration": 82,
        "start_time": "2021-06-27T20:01:08.761Z"
      },
      {
        "duration": 3,
        "start_time": "2021-06-27T20:01:08.846Z"
      },
      {
        "duration": 6,
        "start_time": "2021-06-27T20:01:08.852Z"
      },
      {
        "duration": 330,
        "start_time": "2021-06-27T20:01:08.861Z"
      },
      {
        "duration": 295,
        "start_time": "2021-06-27T20:08:09.032Z"
      },
      {
        "duration": 283,
        "start_time": "2021-06-27T20:08:26.677Z"
      },
      {
        "duration": 361,
        "start_time": "2021-06-27T20:08:32.231Z"
      },
      {
        "duration": 361,
        "start_time": "2021-06-27T20:09:48.771Z"
      },
      {
        "duration": 50,
        "start_time": "2021-06-27T20:09:52.787Z"
      },
      {
        "duration": 69,
        "start_time": "2021-06-27T20:10:04.171Z"
      },
      {
        "duration": 61,
        "start_time": "2021-06-27T20:11:09.263Z"
      },
      {
        "duration": 68,
        "start_time": "2021-06-27T20:12:55.083Z"
      },
      {
        "duration": 84,
        "start_time": "2021-06-27T20:13:12.450Z"
      },
      {
        "duration": 85,
        "start_time": "2021-06-27T20:15:29.870Z"
      },
      {
        "duration": 75,
        "start_time": "2021-06-27T20:15:36.886Z"
      },
      {
        "duration": 87,
        "start_time": "2021-06-27T20:15:46.769Z"
      },
      {
        "duration": 4,
        "start_time": "2021-06-27T20:15:46.860Z"
      },
      {
        "duration": 10,
        "start_time": "2021-06-27T20:15:46.867Z"
      },
      {
        "duration": 91,
        "start_time": "2021-06-27T20:15:46.880Z"
      },
      {
        "duration": 75,
        "start_time": "2021-06-27T20:16:10.399Z"
      },
      {
        "duration": 60,
        "start_time": "2021-06-27T20:16:42.876Z"
      },
      {
        "duration": 87,
        "start_time": "2021-06-27T20:16:51.193Z"
      },
      {
        "duration": 4,
        "start_time": "2021-06-27T20:16:51.283Z"
      },
      {
        "duration": 13,
        "start_time": "2021-06-27T20:16:51.289Z"
      },
      {
        "duration": 68,
        "start_time": "2021-06-27T20:16:51.304Z"
      },
      {
        "duration": 261,
        "start_time": "2021-06-27T20:34:00.983Z"
      },
      {
        "duration": 272,
        "start_time": "2021-06-27T20:34:29.322Z"
      },
      {
        "duration": 10,
        "start_time": "2021-06-27T20:35:12.356Z"
      },
      {
        "duration": 25,
        "start_time": "2021-06-27T20:35:50.366Z"
      },
      {
        "duration": 18,
        "start_time": "2021-06-27T20:35:57.549Z"
      },
      {
        "duration": 26,
        "start_time": "2021-06-27T20:36:18.684Z"
      },
      {
        "duration": 25,
        "start_time": "2021-06-27T20:36:29.748Z"
      },
      {
        "duration": 35,
        "start_time": "2021-06-27T20:36:32.795Z"
      },
      {
        "duration": 89,
        "start_time": "2021-06-27T20:36:36.860Z"
      },
      {
        "duration": 3,
        "start_time": "2021-06-27T20:36:36.951Z"
      },
      {
        "duration": 9,
        "start_time": "2021-06-27T20:36:36.957Z"
      },
      {
        "duration": 86,
        "start_time": "2021-06-27T20:36:36.969Z"
      },
      {
        "duration": 23,
        "start_time": "2021-06-27T20:36:37.058Z"
      },
      {
        "duration": 33,
        "start_time": "2021-06-27T20:37:26.171Z"
      },
      {
        "duration": 48,
        "start_time": "2021-06-27T20:37:50.197Z"
      },
      {
        "duration": 43,
        "start_time": "2021-06-27T20:37:58.337Z"
      },
      {
        "duration": 49,
        "start_time": "2021-06-27T20:38:01.558Z"
      },
      {
        "duration": 56,
        "start_time": "2021-06-27T20:38:11.543Z"
      },
      {
        "duration": 61,
        "start_time": "2021-06-27T20:39:11.568Z"
      },
      {
        "duration": 65,
        "start_time": "2021-06-27T20:39:34.386Z"
      },
      {
        "duration": 56,
        "start_time": "2021-06-27T20:40:13.354Z"
      },
      {
        "duration": 61,
        "start_time": "2021-06-27T20:41:01.879Z"
      },
      {
        "duration": 103,
        "start_time": "2021-06-27T20:42:43.581Z"
      },
      {
        "duration": 81,
        "start_time": "2021-06-27T20:43:03.468Z"
      },
      {
        "duration": 59,
        "start_time": "2021-06-27T20:43:22.569Z"
      },
      {
        "duration": 69,
        "start_time": "2021-06-27T20:43:26.667Z"
      },
      {
        "duration": 59,
        "start_time": "2021-06-27T20:43:36.979Z"
      },
      {
        "duration": 394,
        "start_time": "2021-06-27T20:46:16.994Z"
      },
      {
        "duration": 325,
        "start_time": "2021-06-27T20:46:25.854Z"
      },
      {
        "duration": 55,
        "start_time": "2021-06-27T20:47:07.104Z"
      },
      {
        "duration": 359,
        "start_time": "2021-06-27T20:47:53.139Z"
      },
      {
        "duration": 364,
        "start_time": "2021-06-27T20:49:29.408Z"
      },
      {
        "duration": 88,
        "start_time": "2021-06-27T20:50:00.761Z"
      },
      {
        "duration": 5,
        "start_time": "2021-06-27T20:50:00.852Z"
      },
      {
        "duration": 28,
        "start_time": "2021-06-27T20:50:00.861Z"
      },
      {
        "duration": 84,
        "start_time": "2021-06-27T20:50:00.892Z"
      },
      {
        "duration": 341,
        "start_time": "2021-06-27T20:50:00.980Z"
      },
      {
        "duration": 967,
        "start_time": "2021-06-27T20:50:53.219Z"
      },
      {
        "duration": 983,
        "start_time": "2021-06-27T20:51:04.395Z"
      },
      {
        "duration": 658,
        "start_time": "2021-06-27T20:52:50.882Z"
      },
      {
        "duration": 387,
        "start_time": "2021-06-28T11:47:51.592Z"
      },
      {
        "duration": 819,
        "start_time": "2021-06-28T11:48:35.507Z"
      },
      {
        "duration": 4,
        "start_time": "2021-06-28T11:48:36.328Z"
      },
      {
        "duration": 7,
        "start_time": "2021-06-28T11:48:36.335Z"
      },
      {
        "duration": 82,
        "start_time": "2021-06-28T11:48:36.344Z"
      },
      {
        "duration": 4172,
        "start_time": "2021-06-28T11:48:36.429Z"
      },
      {
        "duration": 299,
        "start_time": "2021-06-28T11:49:14.961Z"
      },
      {
        "duration": 95,
        "start_time": "2021-06-28T11:49:29.410Z"
      },
      {
        "duration": 3749,
        "start_time": "2021-06-28T11:49:41.638Z"
      },
      {
        "duration": 85,
        "start_time": "2021-06-28T11:55:29.322Z"
      },
      {
        "duration": 3,
        "start_time": "2021-06-28T11:55:29.409Z"
      },
      {
        "duration": 14,
        "start_time": "2021-06-28T11:55:29.415Z"
      },
      {
        "duration": 65,
        "start_time": "2021-06-28T11:55:29.494Z"
      },
      {
        "duration": 59217,
        "start_time": "2021-06-28T11:55:29.561Z"
      },
      {
        "duration": 96,
        "start_time": "2021-06-28T11:56:33.216Z"
      },
      {
        "duration": 4447,
        "start_time": "2021-06-28T11:56:44.372Z"
      },
      {
        "duration": 110,
        "start_time": "2021-06-28T12:04:54.308Z"
      },
      {
        "duration": 4598,
        "start_time": "2021-06-28T12:05:02.068Z"
      },
      {
        "duration": 4234,
        "start_time": "2021-06-28T12:06:28.308Z"
      },
      {
        "duration": 806,
        "start_time": "2021-06-28T12:32:26.924Z"
      },
      {
        "duration": 286,
        "start_time": "2021-06-28T12:33:21.650Z"
      },
      {
        "duration": 328,
        "start_time": "2021-06-28T12:33:40.524Z"
      },
      {
        "duration": 433,
        "start_time": "2021-06-28T12:34:58.226Z"
      },
      {
        "duration": 1046,
        "start_time": "2021-06-28T12:35:06.836Z"
      },
      {
        "duration": 92,
        "start_time": "2021-06-28T12:39:32.073Z"
      },
      {
        "duration": 8195,
        "start_time": "2021-06-28T12:39:32.167Z"
      },
      {
        "duration": 557,
        "start_time": "2021-06-28T12:39:39.807Z"
      },
      {
        "duration": 554,
        "start_time": "2021-06-28T12:39:39.811Z"
      },
      {
        "duration": 553,
        "start_time": "2021-06-28T12:39:39.813Z"
      },
      {
        "duration": 553,
        "start_time": "2021-06-28T12:39:39.815Z"
      },
      {
        "duration": 101,
        "start_time": "2021-06-28T14:41:16.098Z"
      },
      {
        "duration": 8521,
        "start_time": "2021-06-28T14:41:16.201Z"
      },
      {
        "duration": 614,
        "start_time": "2021-06-28T14:41:24.110Z"
      },
      {
        "duration": 613,
        "start_time": "2021-06-28T14:41:24.113Z"
      },
      {
        "duration": 613,
        "start_time": "2021-06-28T14:41:24.114Z"
      },
      {
        "duration": 613,
        "start_time": "2021-06-28T14:41:24.121Z"
      },
      {
        "duration": 93,
        "start_time": "2021-06-28T14:41:33.508Z"
      },
      {
        "duration": 10640,
        "start_time": "2021-06-28T14:41:33.604Z"
      },
      {
        "duration": 810,
        "start_time": "2021-06-28T14:41:43.437Z"
      },
      {
        "duration": 809,
        "start_time": "2021-06-28T14:41:43.440Z"
      },
      {
        "duration": 808,
        "start_time": "2021-06-28T14:41:43.442Z"
      },
      {
        "duration": 807,
        "start_time": "2021-06-28T14:41:43.444Z"
      },
      {
        "duration": 8,
        "start_time": "2021-06-28T14:41:50.400Z"
      },
      {
        "duration": 14,
        "start_time": "2021-06-28T14:47:21.874Z"
      },
      {
        "duration": 9,
        "start_time": "2021-06-28T14:47:38.144Z"
      },
      {
        "duration": 12,
        "start_time": "2021-06-28T14:50:05.519Z"
      },
      {
        "duration": 4938,
        "start_time": "2021-06-28T14:53:02.565Z"
      },
      {
        "duration": 4980,
        "start_time": "2021-06-28T14:53:25.967Z"
      },
      {
        "duration": 4726,
        "start_time": "2021-06-28T14:54:07.316Z"
      },
      {
        "duration": 19,
        "start_time": "2021-06-28T15:02:37.970Z"
      },
      {
        "duration": 17,
        "start_time": "2021-06-28T15:02:53.566Z"
      },
      {
        "duration": 27,
        "start_time": "2021-06-28T15:04:44.948Z"
      },
      {
        "duration": 795,
        "start_time": "2021-06-28T15:07:03.013Z"
      },
      {
        "duration": 329,
        "start_time": "2021-06-28T15:13:37.049Z"
      },
      {
        "duration": 18,
        "start_time": "2021-06-28T15:13:43.390Z"
      },
      {
        "duration": 19,
        "start_time": "2021-06-28T15:14:03.314Z"
      },
      {
        "duration": 120,
        "start_time": "2021-06-28T15:19:16.393Z"
      },
      {
        "duration": 19,
        "start_time": "2021-06-28T15:19:21.574Z"
      },
      {
        "duration": 19,
        "start_time": "2021-06-28T15:19:31.709Z"
      },
      {
        "duration": 23,
        "start_time": "2021-06-28T15:22:36.861Z"
      },
      {
        "duration": 27,
        "start_time": "2021-06-28T15:23:56.313Z"
      },
      {
        "duration": 10,
        "start_time": "2021-06-28T15:25:23.735Z"
      },
      {
        "duration": 1650,
        "start_time": "2021-06-28T15:25:56.858Z"
      },
      {
        "duration": 24,
        "start_time": "2021-06-28T15:28:39.193Z"
      },
      {
        "duration": 27,
        "start_time": "2021-06-28T15:29:17.291Z"
      },
      {
        "duration": 36,
        "start_time": "2021-06-28T15:29:53.673Z"
      },
      {
        "duration": 36,
        "start_time": "2021-06-28T15:31:59.285Z"
      },
      {
        "duration": 10,
        "start_time": "2021-06-28T15:36:45.960Z"
      },
      {
        "duration": 5,
        "start_time": "2021-06-28T15:36:59.155Z"
      },
      {
        "duration": 6,
        "start_time": "2021-06-28T15:37:09.923Z"
      },
      {
        "duration": 35,
        "start_time": "2021-06-28T15:41:01.427Z"
      },
      {
        "duration": 325,
        "start_time": "2021-06-30T12:41:12.842Z"
      },
      {
        "duration": 849,
        "start_time": "2021-06-30T12:41:18.699Z"
      },
      {
        "duration": 45,
        "start_time": "2021-06-30T12:41:19.552Z"
      },
      {
        "duration": 740,
        "start_time": "2021-06-30T12:41:19.600Z"
      },
      {
        "duration": -10864234,
        "start_time": "2021-06-30T15:42:24.577Z"
      },
      {
        "duration": -10864236,
        "start_time": "2021-06-30T15:42:24.581Z"
      },
      {
        "duration": -10864330,
        "start_time": "2021-06-30T15:42:24.676Z"
      },
      {
        "duration": -10864337,
        "start_time": "2021-06-30T15:42:24.685Z"
      },
      {
        "duration": -10864385,
        "start_time": "2021-06-30T15:42:24.734Z"
      },
      {
        "duration": -10864387,
        "start_time": "2021-06-30T15:42:24.738Z"
      },
      {
        "duration": 68,
        "start_time": "2021-06-30T12:41:37.411Z"
      },
      {
        "duration": 84,
        "start_time": "2021-06-30T12:43:47.250Z"
      },
      {
        "duration": 45,
        "start_time": "2021-06-30T12:43:47.338Z"
      },
      {
        "duration": 293,
        "start_time": "2021-06-30T12:43:47.387Z"
      },
      {
        "duration": -10864355,
        "start_time": "2021-06-30T15:44:52.039Z"
      },
      {
        "duration": -10864362,
        "start_time": "2021-06-30T15:44:52.048Z"
      },
      {
        "duration": -10864367,
        "start_time": "2021-06-30T15:44:52.054Z"
      },
      {
        "duration": -10864376,
        "start_time": "2021-06-30T15:44:52.065Z"
      },
      {
        "duration": -10864378,
        "start_time": "2021-06-30T15:44:52.068Z"
      },
      {
        "duration": -10864506,
        "start_time": "2021-06-30T15:44:52.198Z"
      },
      {
        "duration": 64,
        "start_time": "2021-06-30T12:44:11.813Z"
      },
      {
        "duration": 33,
        "start_time": "2021-06-30T12:47:50.437Z"
      },
      {
        "duration": 40,
        "start_time": "2021-06-30T12:48:14.073Z"
      },
      {
        "duration": 36,
        "start_time": "2021-06-30T12:48:23.766Z"
      },
      {
        "duration": 25,
        "start_time": "2021-06-30T12:52:59.046Z"
      },
      {
        "duration": 7,
        "start_time": "2021-06-30T12:53:56.547Z"
      },
      {
        "duration": 827,
        "start_time": "2021-06-30T20:27:20.244Z"
      },
      {
        "duration": 63,
        "start_time": "2021-06-30T20:36:27.942Z"
      },
      {
        "duration": 54,
        "start_time": "2021-06-30T20:36:43.447Z"
      },
      {
        "duration": 19,
        "start_time": "2021-06-30T20:37:20.168Z"
      },
      {
        "duration": 82,
        "start_time": "2021-06-30T20:37:38.404Z"
      },
      {
        "duration": 44,
        "start_time": "2021-06-30T20:37:38.488Z"
      },
      {
        "duration": 496,
        "start_time": "2021-06-30T20:37:38.535Z"
      },
      {
        "duration": -10863732,
        "start_time": "2021-06-30T23:38:42.767Z"
      },
      {
        "duration": -10863736,
        "start_time": "2021-06-30T23:38:42.773Z"
      },
      {
        "duration": -10863736,
        "start_time": "2021-06-30T23:38:42.776Z"
      },
      {
        "duration": -10863738,
        "start_time": "2021-06-30T23:38:42.780Z"
      },
      {
        "duration": -10863866,
        "start_time": "2021-06-30T23:38:42.910Z"
      },
      {
        "duration": -10863880,
        "start_time": "2021-06-30T23:38:42.926Z"
      },
      {
        "duration": 71,
        "start_time": "2021-06-30T20:38:18.451Z"
      },
      {
        "duration": 7,
        "start_time": "2021-06-30T20:40:30.509Z"
      },
      {
        "duration": 65,
        "start_time": "2021-06-30T20:47:46.955Z"
      },
      {
        "duration": 93,
        "start_time": "2021-06-30T20:48:02.613Z"
      },
      {
        "duration": 75,
        "start_time": "2021-06-30T20:48:02.709Z"
      },
      {
        "duration": 24,
        "start_time": "2021-06-30T20:48:02.787Z"
      },
      {
        "duration": 101,
        "start_time": "2021-06-30T20:48:02.815Z"
      },
      {
        "duration": 193,
        "start_time": "2021-06-30T20:48:02.919Z"
      },
      {
        "duration": -10863652,
        "start_time": "2021-06-30T23:49:06.766Z"
      },
      {
        "duration": -10863657,
        "start_time": "2021-06-30T23:49:06.773Z"
      },
      {
        "duration": -10863661,
        "start_time": "2021-06-30T23:49:06.778Z"
      },
      {
        "duration": -10863662,
        "start_time": "2021-06-30T23:49:06.781Z"
      },
      {
        "duration": 49,
        "start_time": "2021-06-30T20:48:34.100Z"
      },
      {
        "duration": 68,
        "start_time": "2021-06-30T20:48:43.460Z"
      },
      {
        "duration": 32,
        "start_time": "2021-06-30T20:50:06.700Z"
      },
      {
        "duration": 36,
        "start_time": "2021-06-30T20:50:39.613Z"
      },
      {
        "duration": 88,
        "start_time": "2021-06-30T20:52:08.433Z"
      },
      {
        "duration": 1510,
        "start_time": "2021-06-30T20:54:15.621Z"
      },
      {
        "duration": 42,
        "start_time": "2021-06-30T20:55:15.225Z"
      },
      {
        "duration": 54,
        "start_time": "2021-06-30T20:57:01.010Z"
      },
      {
        "duration": 73,
        "start_time": "2021-06-30T20:59:03.826Z"
      },
      {
        "duration": 83,
        "start_time": "2021-06-30T20:59:45.423Z"
      },
      {
        "duration": 69,
        "start_time": "2021-06-30T20:59:45.508Z"
      },
      {
        "duration": 5,
        "start_time": "2021-06-30T20:59:45.581Z"
      },
      {
        "duration": 64,
        "start_time": "2021-06-30T20:59:45.610Z"
      },
      {
        "duration": 140,
        "start_time": "2021-06-30T20:59:45.677Z"
      },
      {
        "duration": -10863987,
        "start_time": "2021-07-01T00:00:49.807Z"
      },
      {
        "duration": -10864005,
        "start_time": "2021-07-01T00:00:49.826Z"
      },
      {
        "duration": -10864010,
        "start_time": "2021-07-01T00:00:49.832Z"
      },
      {
        "duration": -10864013,
        "start_time": "2021-07-01T00:00:49.837Z"
      },
      {
        "duration": 60,
        "start_time": "2021-06-30T21:00:24.349Z"
      },
      {
        "duration": 61,
        "start_time": "2021-06-30T21:00:34.374Z"
      },
      {
        "duration": 118,
        "start_time": "2021-06-30T21:04:36.659Z"
      },
      {
        "duration": 84,
        "start_time": "2021-06-30T21:05:46.440Z"
      },
      {
        "duration": 60,
        "start_time": "2021-06-30T21:06:48.516Z"
      },
      {
        "duration": 84,
        "start_time": "2021-06-30T21:06:55.460Z"
      },
      {
        "duration": 91,
        "start_time": "2021-06-30T21:06:55.547Z"
      },
      {
        "duration": 5,
        "start_time": "2021-06-30T21:06:55.641Z"
      },
      {
        "duration": 73,
        "start_time": "2021-06-30T21:06:55.649Z"
      },
      {
        "duration": 133,
        "start_time": "2021-06-30T21:06:55.724Z"
      },
      {
        "duration": -10863643,
        "start_time": "2021-07-01T00:07:59.503Z"
      },
      {
        "duration": -10863653,
        "start_time": "2021-07-01T00:07:59.514Z"
      },
      {
        "duration": -10863655,
        "start_time": "2021-07-01T00:07:59.518Z"
      },
      {
        "duration": -10863657,
        "start_time": "2021-07-01T00:07:59.522Z"
      },
      {
        "duration": 55,
        "start_time": "2021-06-30T21:08:57.838Z"
      },
      {
        "duration": 80,
        "start_time": "2021-06-30T21:09:03.231Z"
      },
      {
        "duration": 74,
        "start_time": "2021-06-30T21:09:03.313Z"
      },
      {
        "duration": 23,
        "start_time": "2021-06-30T21:09:03.390Z"
      },
      {
        "duration": 84,
        "start_time": "2021-06-30T21:09:03.415Z"
      },
      {
        "duration": 135,
        "start_time": "2021-06-30T21:09:03.502Z"
      },
      {
        "duration": -10863594,
        "start_time": "2021-07-01T00:10:07.234Z"
      },
      {
        "duration": -10863602,
        "start_time": "2021-07-01T00:10:07.244Z"
      },
      {
        "duration": -10863620,
        "start_time": "2021-07-01T00:10:07.263Z"
      },
      {
        "duration": -10863749,
        "start_time": "2021-07-01T00:10:07.393Z"
      },
      {
        "duration": 153,
        "start_time": "2021-06-30T21:19:52.857Z"
      },
      {
        "duration": 72,
        "start_time": "2021-06-30T21:19:53.013Z"
      },
      {
        "duration": 26,
        "start_time": "2021-06-30T21:19:53.087Z"
      },
      {
        "duration": 74,
        "start_time": "2021-06-30T21:19:53.116Z"
      },
      {
        "duration": 21,
        "start_time": "2021-06-30T21:19:57.999Z"
      },
      {
        "duration": 86,
        "start_time": "2021-06-30T21:19:58.023Z"
      },
      {
        "duration": 39,
        "start_time": "2021-06-30T21:19:58.112Z"
      },
      {
        "duration": 6,
        "start_time": "2021-06-30T21:19:58.154Z"
      },
      {
        "duration": 4554,
        "start_time": "2021-06-30T21:24:54.644Z"
      },
      {
        "duration": 4568,
        "start_time": "2021-06-30T21:25:54.241Z"
      },
      {
        "duration": 127,
        "start_time": "2021-06-30T21:32:24.344Z"
      },
      {
        "duration": 125,
        "start_time": "2021-06-30T21:33:18.128Z"
      },
      {
        "duration": 87,
        "start_time": "2021-06-30T21:33:25.068Z"
      },
      {
        "duration": 92,
        "start_time": "2021-06-30T21:33:25.157Z"
      },
      {
        "duration": 6,
        "start_time": "2021-06-30T21:33:25.253Z"
      },
      {
        "duration": 140,
        "start_time": "2021-06-30T21:33:25.262Z"
      },
      {
        "duration": 4741,
        "start_time": "2021-06-30T21:33:25.409Z"
      },
      {
        "duration": 13,
        "start_time": "2021-06-30T21:33:30.153Z"
      },
      {
        "duration": 52,
        "start_time": "2021-06-30T21:33:30.169Z"
      },
      {
        "duration": 39,
        "start_time": "2021-06-30T21:33:30.225Z"
      },
      {
        "duration": 42,
        "start_time": "2021-06-30T21:33:30.268Z"
      },
      {
        "duration": 129,
        "start_time": "2021-06-30T21:35:16.437Z"
      },
      {
        "duration": 130,
        "start_time": "2021-06-30T21:35:29.647Z"
      },
      {
        "duration": 85,
        "start_time": "2021-06-30T21:35:39.060Z"
      },
      {
        "duration": 88,
        "start_time": "2021-06-30T21:35:39.147Z"
      },
      {
        "duration": 5,
        "start_time": "2021-06-30T21:35:39.238Z"
      },
      {
        "duration": 139,
        "start_time": "2021-06-30T21:35:39.246Z"
      },
      {
        "duration": 4638,
        "start_time": "2021-06-30T21:35:39.387Z"
      },
      {
        "duration": 12,
        "start_time": "2021-06-30T21:35:44.027Z"
      },
      {
        "duration": 29,
        "start_time": "2021-06-30T21:35:44.041Z"
      },
      {
        "duration": 61,
        "start_time": "2021-06-30T21:35:44.074Z"
      },
      {
        "duration": 6,
        "start_time": "2021-06-30T21:35:44.138Z"
      },
      {
        "duration": 132,
        "start_time": "2021-06-30T21:36:18.529Z"
      },
      {
        "duration": 84,
        "start_time": "2021-06-30T21:36:29.535Z"
      },
      {
        "duration": 70,
        "start_time": "2021-06-30T21:36:29.622Z"
      },
      {
        "duration": 6,
        "start_time": "2021-06-30T21:36:29.709Z"
      },
      {
        "duration": 155,
        "start_time": "2021-06-30T21:36:29.718Z"
      },
      {
        "duration": 4619,
        "start_time": "2021-06-30T21:36:29.875Z"
      },
      {
        "duration": 21,
        "start_time": "2021-06-30T21:36:34.497Z"
      },
      {
        "duration": 32,
        "start_time": "2021-06-30T21:36:34.520Z"
      },
      {
        "duration": 63,
        "start_time": "2021-06-30T21:36:34.555Z"
      },
      {
        "duration": 7,
        "start_time": "2021-06-30T21:36:34.621Z"
      },
      {
        "duration": 4525,
        "start_time": "2021-06-30T21:37:03.932Z"
      },
      {
        "duration": 4664,
        "start_time": "2021-06-30T21:38:20.922Z"
      },
      {
        "duration": 133,
        "start_time": "2021-06-30T21:47:42.549Z"
      },
      {
        "duration": 145,
        "start_time": "2021-06-30T21:47:54.926Z"
      },
      {
        "duration": 148,
        "start_time": "2021-06-30T21:48:35.551Z"
      },
      {
        "duration": 421,
        "start_time": "2021-06-30T21:48:40.018Z"
      },
      {
        "duration": 4614,
        "start_time": "2021-06-30T22:00:54.841Z"
      },
      {
        "duration": 149,
        "start_time": "2021-06-30T22:09:03.864Z"
      },
      {
        "duration": 638,
        "start_time": "2021-06-30T22:09:10.978Z"
      },
      {
        "duration": 136,
        "start_time": "2021-06-30T22:09:53.209Z"
      },
      {
        "duration": 358,
        "start_time": "2021-06-30T22:09:58.662Z"
      },
      {
        "duration": 1747,
        "start_time": "2021-06-30T22:11:34.310Z"
      },
      {
        "duration": 1789,
        "start_time": "2021-06-30T22:13:47.698Z"
      },
      {
        "duration": 1802,
        "start_time": "2021-06-30T22:15:28.741Z"
      },
      {
        "duration": 1685,
        "start_time": "2021-06-30T22:16:54.006Z"
      },
      {
        "duration": 6101,
        "start_time": "2021-06-30T22:18:04.156Z"
      },
      {
        "duration": -225,
        "start_time": "2021-06-30T22:24:17.036Z"
      },
      {
        "duration": 85,
        "start_time": "2021-06-30T22:24:32.251Z"
      },
      {
        "duration": 75,
        "start_time": "2021-06-30T22:24:32.339Z"
      },
      {
        "duration": 6,
        "start_time": "2021-06-30T22:24:32.417Z"
      },
      {
        "duration": 183,
        "start_time": "2021-06-30T22:24:32.425Z"
      },
      {
        "duration": 4580,
        "start_time": "2021-06-30T22:24:32.611Z"
      },
      {
        "duration": -156,
        "start_time": "2021-06-30T22:31:00.469Z"
      },
      {
        "duration": 85,
        "start_time": "2021-06-30T22:31:26.822Z"
      },
      {
        "duration": 72,
        "start_time": "2021-06-30T22:31:26.910Z"
      },
      {
        "duration": 25,
        "start_time": "2021-06-30T22:31:26.984Z"
      },
      {
        "duration": 137,
        "start_time": "2021-06-30T22:31:27.012Z"
      },
      {
        "duration": 4759,
        "start_time": "2021-06-30T22:31:27.152Z"
      },
      {
        "duration": 80,
        "start_time": "2021-06-30T22:32:19.156Z"
      },
      {
        "duration": 74,
        "start_time": "2021-06-30T22:32:19.164Z"
      },
      {
        "duration": 74,
        "start_time": "2021-06-30T22:32:19.166Z"
      },
      {
        "duration": 75,
        "start_time": "2021-06-30T22:32:19.167Z"
      },
      {
        "duration": 80,
        "start_time": "2021-06-30T22:33:29.204Z"
      },
      {
        "duration": 82,
        "start_time": "2021-06-30T22:34:47.229Z"
      },
      {
        "duration": 47399,
        "start_time": "2021-06-30T22:34:51.553Z"
      },
      {
        "duration": 83,
        "start_time": "2021-06-30T22:36:58.285Z"
      },
      {
        "duration": 82,
        "start_time": "2021-06-30T22:36:58.288Z"
      },
      {
        "duration": 83,
        "start_time": "2021-06-30T22:36:58.290Z"
      },
      {
        "duration": -188,
        "start_time": "2021-06-30T22:36:58.563Z"
      },
      {
        "duration": -189,
        "start_time": "2021-06-30T22:36:58.567Z"
      },
      {
        "duration": -223,
        "start_time": "2021-06-30T22:36:58.605Z"
      },
      {
        "duration": -342,
        "start_time": "2021-06-30T22:36:58.727Z"
      },
      {
        "duration": -351,
        "start_time": "2021-06-30T22:36:58.738Z"
      },
      {
        "duration": -352,
        "start_time": "2021-06-30T22:36:58.741Z"
      },
      {
        "duration": 46848,
        "start_time": "2021-06-30T22:38:12.510Z"
      },
      {
        "duration": 86,
        "start_time": "2021-06-30T22:40:14.099Z"
      },
      {
        "duration": 817,
        "start_time": "2021-06-30T22:42:50.099Z"
      },
      {
        "duration": 394,
        "start_time": "2021-06-30T22:43:47.104Z"
      },
      {
        "duration": 868,
        "start_time": "2021-06-30T22:44:01.918Z"
      },
      {
        "duration": 75,
        "start_time": "2021-06-30T22:44:02.790Z"
      },
      {
        "duration": 7,
        "start_time": "2021-06-30T22:44:02.870Z"
      },
      {
        "duration": 162,
        "start_time": "2021-06-30T22:44:02.880Z"
      },
      {
        "duration": 4585,
        "start_time": "2021-06-30T22:44:03.044Z"
      },
      {
        "duration": -236,
        "start_time": "2021-06-30T22:44:54.530Z"
      },
      {
        "duration": -237,
        "start_time": "2021-06-30T22:44:54.532Z"
      },
      {
        "duration": -236,
        "start_time": "2021-06-30T22:44:54.533Z"
      },
      {
        "duration": -237,
        "start_time": "2021-06-30T22:44:54.535Z"
      },
      {
        "duration": 34,
        "start_time": "2021-06-30T22:52:09.615Z"
      },
      {
        "duration": 37,
        "start_time": "2021-06-30T22:52:24.309Z"
      },
      {
        "duration": 6,
        "start_time": "2021-06-30T22:53:08.545Z"
      },
      {
        "duration": 2206,
        "start_time": "2021-06-30T22:54:28.356Z"
      },
      {
        "duration": 410,
        "start_time": "2021-06-30T22:56:45.590Z"
      },
      {
        "duration": 40,
        "start_time": "2021-06-30T22:56:52.536Z"
      },
      {
        "duration": 394,
        "start_time": "2021-06-30T22:57:53.587Z"
      },
      {
        "duration": 15,
        "start_time": "2021-06-30T22:58:01.057Z"
      },
      {
        "duration": 14,
        "start_time": "2021-06-30T22:58:52.333Z"
      },
      {
        "duration": 13,
        "start_time": "2021-06-30T22:58:59.984Z"
      },
      {
        "duration": 13,
        "start_time": "2021-06-30T22:59:05.373Z"
      },
      {
        "duration": 84,
        "start_time": "2021-06-30T22:59:22.330Z"
      },
      {
        "duration": 72,
        "start_time": "2021-06-30T22:59:22.416Z"
      },
      {
        "duration": 23,
        "start_time": "2021-06-30T22:59:22.491Z"
      },
      {
        "duration": 148,
        "start_time": "2021-06-30T22:59:22.517Z"
      },
      {
        "duration": 4827,
        "start_time": "2021-06-30T22:59:22.668Z"
      },
      {
        "duration": 930,
        "start_time": "2021-06-30T23:00:18.085Z"
      },
      {
        "duration": 72,
        "start_time": "2021-06-30T23:00:19.017Z"
      },
      {
        "duration": 20,
        "start_time": "2021-06-30T23:00:19.093Z"
      },
      {
        "duration": 154,
        "start_time": "2021-06-30T23:00:19.116Z"
      },
      {
        "duration": 4579,
        "start_time": "2021-06-30T23:00:19.273Z"
      },
      {
        "duration": 4,
        "start_time": "2021-06-30T23:00:23.855Z"
      },
      {
        "duration": 71,
        "start_time": "2021-06-30T23:00:23.861Z"
      },
      {
        "duration": 91,
        "start_time": "2021-06-30T23:00:23.935Z"
      },
      {
        "duration": 8,
        "start_time": "2021-06-30T23:00:25.567Z"
      },
      {
        "duration": 12,
        "start_time": "2021-06-30T23:00:39.268Z"
      },
      {
        "duration": 10,
        "start_time": "2021-06-30T23:01:09.616Z"
      },
      {
        "duration": 2167,
        "start_time": "2021-06-30T23:01:28.201Z"
      },
      {
        "duration": 14,
        "start_time": "2021-06-30T23:02:10.615Z"
      },
      {
        "duration": 905,
        "start_time": "2021-07-01T11:14:21.483Z"
      },
      {
        "duration": 82,
        "start_time": "2021-07-01T11:14:22.391Z"
      },
      {
        "duration": 5,
        "start_time": "2021-07-01T11:14:22.476Z"
      },
      {
        "duration": 143,
        "start_time": "2021-07-01T11:14:22.484Z"
      },
      {
        "duration": 4859,
        "start_time": "2021-07-01T11:14:22.629Z"
      },
      {
        "duration": 45470,
        "start_time": "2021-07-01T11:14:27.491Z"
      },
      {
        "duration": 2263,
        "start_time": "2021-07-01T11:15:10.701Z"
      },
      {
        "duration": 2262,
        "start_time": "2021-07-01T11:15:10.704Z"
      },
      {
        "duration": 2262,
        "start_time": "2021-07-01T11:15:10.707Z"
      },
      {
        "duration": 2257,
        "start_time": "2021-07-01T11:15:10.714Z"
      },
      {
        "duration": 83,
        "start_time": "2021-07-01T11:43:14.082Z"
      },
      {
        "duration": 44,
        "start_time": "2021-07-01T11:43:33.935Z"
      },
      {
        "duration": 10,
        "start_time": "2021-07-01T11:45:21.735Z"
      },
      {
        "duration": 11,
        "start_time": "2021-07-01T11:45:29.976Z"
      },
      {
        "duration": 84,
        "start_time": "2021-07-01T11:51:23.692Z"
      },
      {
        "duration": 72,
        "start_time": "2021-07-01T11:51:23.779Z"
      },
      {
        "duration": 6,
        "start_time": "2021-07-01T11:51:23.863Z"
      },
      {
        "duration": 146,
        "start_time": "2021-07-01T11:51:23.872Z"
      },
      {
        "duration": 5125,
        "start_time": "2021-07-01T11:51:24.020Z"
      },
      {
        "duration": 46944,
        "start_time": "2021-07-01T11:51:29.148Z"
      },
      {
        "duration": 2220,
        "start_time": "2021-07-01T11:52:13.875Z"
      },
      {
        "duration": 2218,
        "start_time": "2021-07-01T11:52:13.879Z"
      },
      {
        "duration": 2215,
        "start_time": "2021-07-01T11:52:13.883Z"
      },
      {
        "duration": 2212,
        "start_time": "2021-07-01T11:52:13.887Z"
      },
      {
        "duration": 101,
        "start_time": "2021-07-01T11:54:27.592Z"
      },
      {
        "duration": 91,
        "start_time": "2021-07-01T11:54:27.696Z"
      },
      {
        "duration": 6,
        "start_time": "2021-07-01T11:54:27.790Z"
      },
      {
        "duration": 181,
        "start_time": "2021-07-01T11:54:27.799Z"
      },
      {
        "duration": 5831,
        "start_time": "2021-07-01T11:54:27.982Z"
      },
      {
        "duration": 71126,
        "start_time": "2021-07-01T11:54:33.817Z"
      },
      {
        "duration": 2271,
        "start_time": "2021-07-01T11:55:42.675Z"
      },
      {
        "duration": 2270,
        "start_time": "2021-07-01T11:55:42.679Z"
      },
      {
        "duration": 2265,
        "start_time": "2021-07-01T11:55:42.686Z"
      },
      {
        "duration": 2264,
        "start_time": "2021-07-01T11:55:42.689Z"
      },
      {
        "duration": 28,
        "start_time": "2021-07-01T11:56:16.275Z"
      },
      {
        "duration": 333,
        "start_time": "2021-07-01T18:12:49.531Z"
      },
      {
        "duration": 830,
        "start_time": "2021-07-01T18:13:15.774Z"
      },
      {
        "duration": 68,
        "start_time": "2021-07-01T18:13:16.607Z"
      },
      {
        "duration": 5,
        "start_time": "2021-07-01T18:13:16.678Z"
      },
      {
        "duration": 134,
        "start_time": "2021-07-01T18:13:16.700Z"
      },
      {
        "duration": 4504,
        "start_time": "2021-07-01T18:13:16.836Z"
      },
      {
        "duration": 44565,
        "start_time": "2021-07-01T18:13:21.344Z"
      },
      {
        "duration": -259,
        "start_time": "2021-07-01T18:14:06.171Z"
      },
      {
        "duration": -266,
        "start_time": "2021-07-01T18:14:06.180Z"
      },
      {
        "duration": -273,
        "start_time": "2021-07-01T18:14:06.189Z"
      },
      {
        "duration": -277,
        "start_time": "2021-07-01T18:14:06.194Z"
      },
      {
        "duration": -279,
        "start_time": "2021-07-01T18:14:06.198Z"
      },
      {
        "duration": 300,
        "start_time": "2021-07-01T18:14:25.536Z"
      },
      {
        "duration": 79,
        "start_time": "2021-07-01T18:14:41.283Z"
      },
      {
        "duration": 65,
        "start_time": "2021-07-01T18:19:52.156Z"
      },
      {
        "duration": 68,
        "start_time": "2021-07-01T18:21:13.493Z"
      },
      {
        "duration": 68,
        "start_time": "2021-07-01T18:21:38.250Z"
      },
      {
        "duration": 92,
        "start_time": "2021-07-02T12:22:57.201Z"
      },
      {
        "duration": 91,
        "start_time": "2021-07-02T12:23:05.797Z"
      },
      {
        "duration": 700,
        "start_time": "2021-07-02T12:24:07.833Z"
      },
      {
        "duration": 801,
        "start_time": "2021-07-02T12:24:22.356Z"
      },
      {
        "duration": 99,
        "start_time": "2021-07-02T12:24:26.053Z"
      },
      {
        "duration": 90,
        "start_time": "2021-07-02T12:25:41.682Z"
      },
      {
        "duration": 70389,
        "start_time": "2021-07-02T12:29:54.967Z"
      },
      {
        "duration": 1968,
        "start_time": "2021-07-02T12:35:55.706Z"
      },
      {
        "duration": 103,
        "start_time": "2021-07-02T12:36:23.097Z"
      },
      {
        "duration": 107,
        "start_time": "2021-07-02T12:36:55.488Z"
      },
      {
        "duration": 141,
        "start_time": "2021-07-02T12:37:33.349Z"
      },
      {
        "duration": 92,
        "start_time": "2021-07-02T12:39:51.701Z"
      },
      {
        "duration": 145,
        "start_time": "2021-07-02T12:40:05.231Z"
      },
      {
        "duration": 437,
        "start_time": "2021-07-03T22:26:06.706Z"
      },
      {
        "duration": 331,
        "start_time": "2021-07-03T22:26:13.917Z"
      },
      {
        "duration": 351,
        "start_time": "2021-07-03T22:26:31.539Z"
      },
      {
        "duration": 887,
        "start_time": "2021-07-03T22:26:46.581Z"
      },
      {
        "duration": 181,
        "start_time": "2021-07-03T22:26:47.470Z"
      },
      {
        "duration": 363,
        "start_time": "2021-07-03T22:26:47.653Z"
      },
      {
        "duration": 166,
        "start_time": "2021-07-03T22:26:51.599Z"
      },
      {
        "duration": 156,
        "start_time": "2021-07-03T22:27:09.258Z"
      },
      {
        "duration": 154,
        "start_time": "2021-07-03T22:34:43.315Z"
      },
      {
        "duration": 52,
        "start_time": "2021-07-03T23:03:31.059Z"
      },
      {
        "duration": 28,
        "start_time": "2021-07-03T23:03:39.894Z"
      },
      {
        "duration": 50,
        "start_time": "2021-07-03T23:04:36.225Z"
      },
      {
        "duration": 28,
        "start_time": "2021-07-03T23:05:41.797Z"
      },
      {
        "duration": 30,
        "start_time": "2021-07-03T23:10:53.184Z"
      },
      {
        "duration": 638,
        "start_time": "2021-07-03T23:13:34.400Z"
      },
      {
        "duration": 119,
        "start_time": "2021-07-03T23:19:45.331Z"
      },
      {
        "duration": 126,
        "start_time": "2021-07-03T23:20:01.854Z"
      },
      {
        "duration": 578,
        "start_time": "2021-07-03T23:20:13.637Z"
      },
      {
        "duration": 80,
        "start_time": "2021-07-03T23:21:08.444Z"
      },
      {
        "duration": 182,
        "start_time": "2021-07-03T23:21:08.527Z"
      },
      {
        "duration": 378,
        "start_time": "2021-07-03T23:21:08.712Z"
      },
      {
        "duration": 722,
        "start_time": "2021-07-03T23:21:08.371Z"
      },
      {
        "duration": 720,
        "start_time": "2021-07-03T23:21:08.374Z"
      },
      {
        "duration": 718,
        "start_time": "2021-07-03T23:21:08.377Z"
      },
      {
        "duration": 593,
        "start_time": "2021-07-03T23:21:13.730Z"
      },
      {
        "duration": 85,
        "start_time": "2021-07-04T10:48:38.611Z"
      },
      {
        "duration": 312,
        "start_time": "2021-07-04T10:48:42.743Z"
      },
      {
        "duration": 765,
        "start_time": "2021-07-04T10:48:58.509Z"
      },
      {
        "duration": 250,
        "start_time": "2021-07-04T10:49:02.042Z"
      },
      {
        "duration": 146,
        "start_time": "2021-07-04T10:49:35.800Z"
      },
      {
        "duration": 163,
        "start_time": "2021-07-04T10:49:55.783Z"
      },
      {
        "duration": 410,
        "start_time": "2021-07-04T10:50:17.675Z"
      },
      {
        "duration": 380,
        "start_time": "2021-07-04T10:52:28.382Z"
      },
      {
        "duration": 85,
        "start_time": "2021-07-04T10:52:40.907Z"
      },
      {
        "duration": 163,
        "start_time": "2021-07-04T10:52:49.123Z"
      },
      {
        "duration": 156,
        "start_time": "2021-07-04T10:53:12.491Z"
      },
      {
        "duration": 588,
        "start_time": "2021-07-04T10:55:15.528Z"
      },
      {
        "duration": 290,
        "start_time": "2021-07-04T10:55:26.137Z"
      },
      {
        "duration": 152,
        "start_time": "2021-07-04T10:55:51.004Z"
      },
      {
        "duration": 146,
        "start_time": "2021-07-04T10:56:37.226Z"
      },
      {
        "duration": 4378,
        "start_time": "2021-07-04T11:06:55.306Z"
      },
      {
        "duration": 6889,
        "start_time": "2021-07-04T11:08:11.256Z"
      },
      {
        "duration": 6317,
        "start_time": "2021-07-04T11:08:33.403Z"
      },
      {
        "duration": 34,
        "start_time": "2021-07-04T11:09:35.141Z"
      },
      {
        "duration": 20,
        "start_time": "2021-07-04T11:09:48.458Z"
      },
      {
        "duration": 155,
        "start_time": "2021-07-04T11:14:42.526Z"
      },
      {
        "duration": 2015,
        "start_time": "2021-07-04T11:28:47.777Z"
      },
      {
        "duration": 2111,
        "start_time": "2021-07-04T11:29:35.725Z"
      },
      {
        "duration": 1908,
        "start_time": "2021-07-04T11:30:17.512Z"
      },
      {
        "duration": 167,
        "start_time": "2021-07-04T11:30:29.769Z"
      },
      {
        "duration": 170,
        "start_time": "2021-07-04T11:30:50.528Z"
      },
      {
        "duration": 171,
        "start_time": "2021-07-04T11:31:48.996Z"
      },
      {
        "duration": 84,
        "start_time": "2021-07-04T11:31:58.699Z"
      },
      {
        "duration": 179,
        "start_time": "2021-07-04T11:32:00.462Z"
      },
      {
        "duration": 436,
        "start_time": "2021-07-04T11:32:28.483Z"
      },
      {
        "duration": 162,
        "start_time": "2021-07-04T11:32:35.662Z"
      },
      {
        "duration": 90,
        "start_time": "2021-07-04T11:34:06.895Z"
      },
      {
        "duration": 163,
        "start_time": "2021-07-04T11:34:17.272Z"
      },
      {
        "duration": 265,
        "start_time": "2021-07-04T11:34:44.693Z"
      },
      {
        "duration": 116,
        "start_time": "2021-07-04T11:37:11.015Z"
      },
      {
        "duration": 289,
        "start_time": "2021-07-04T11:37:11.134Z"
      },
      {
        "duration": 297,
        "start_time": "2021-07-04T11:37:11.427Z"
      },
      {
        "duration": -10864979,
        "start_time": "2021-07-04T14:38:16.707Z"
      },
      {
        "duration": -10864983,
        "start_time": "2021-07-04T14:38:16.713Z"
      },
      {
        "duration": -10864987,
        "start_time": "2021-07-04T14:38:16.718Z"
      },
      {
        "duration": -10864990,
        "start_time": "2021-07-04T14:38:16.723Z"
      },
      {
        "duration": -10864993,
        "start_time": "2021-07-04T14:38:16.728Z"
      },
      {
        "duration": -10865003,
        "start_time": "2021-07-04T14:38:16.739Z"
      },
      {
        "duration": -10865004,
        "start_time": "2021-07-04T14:38:16.742Z"
      },
      {
        "duration": -10865008,
        "start_time": "2021-07-04T14:38:16.749Z"
      },
      {
        "duration": 149,
        "start_time": "2021-07-04T11:49:02.785Z"
      },
      {
        "duration": 102,
        "start_time": "2021-07-04T11:58:27.912Z"
      },
      {
        "duration": 30,
        "start_time": "2021-07-04T11:58:33.437Z"
      },
      {
        "duration": 105,
        "start_time": "2021-07-04T12:06:19.813Z"
      },
      {
        "duration": 128,
        "start_time": "2021-07-04T12:06:41.229Z"
      },
      {
        "duration": 92,
        "start_time": "2021-07-04T12:07:36.306Z"
      },
      {
        "duration": 182,
        "start_time": "2021-07-04T12:07:36.401Z"
      },
      {
        "duration": 3,
        "start_time": "2021-07-04T12:07:36.586Z"
      },
      {
        "duration": 273,
        "start_time": "2021-07-04T12:07:36.592Z"
      },
      {
        "duration": -10864942,
        "start_time": "2021-07-04T15:08:41.810Z"
      },
      {
        "duration": -10864983,
        "start_time": "2021-07-04T15:08:41.853Z"
      },
      {
        "duration": -10865008,
        "start_time": "2021-07-04T15:08:41.880Z"
      },
      {
        "duration": -10865019,
        "start_time": "2021-07-04T15:08:41.892Z"
      },
      {
        "duration": -10865024,
        "start_time": "2021-07-04T15:08:41.898Z"
      },
      {
        "duration": -10865032,
        "start_time": "2021-07-04T15:08:41.908Z"
      },
      {
        "duration": -10865043,
        "start_time": "2021-07-04T15:08:41.920Z"
      },
      {
        "duration": -10865050,
        "start_time": "2021-07-04T15:08:41.928Z"
      },
      {
        "duration": 166,
        "start_time": "2021-07-04T12:08:14.984Z"
      },
      {
        "duration": 132,
        "start_time": "2021-07-04T12:08:35.808Z"
      },
      {
        "duration": 82,
        "start_time": "2021-07-04T12:08:41.926Z"
      },
      {
        "duration": 45,
        "start_time": "2021-07-04T12:08:42.011Z"
      },
      {
        "duration": 158,
        "start_time": "2021-07-04T12:08:42.059Z"
      },
      {
        "duration": 262,
        "start_time": "2021-07-04T12:08:42.220Z"
      },
      {
        "duration": -10864913,
        "start_time": "2021-07-04T15:09:47.398Z"
      },
      {
        "duration": -10864918,
        "start_time": "2021-07-04T15:09:47.405Z"
      },
      {
        "duration": -10864922,
        "start_time": "2021-07-04T15:09:47.410Z"
      },
      {
        "duration": -10864923,
        "start_time": "2021-07-04T15:09:47.413Z"
      },
      {
        "duration": -10864925,
        "start_time": "2021-07-04T15:09:47.416Z"
      },
      {
        "duration": -10864927,
        "start_time": "2021-07-04T15:09:47.419Z"
      },
      {
        "duration": -10864928,
        "start_time": "2021-07-04T15:09:47.422Z"
      },
      {
        "duration": -10864931,
        "start_time": "2021-07-04T15:09:47.426Z"
      },
      {
        "duration": 139,
        "start_time": "2021-07-04T12:09:08.907Z"
      },
      {
        "duration": 79,
        "start_time": "2021-07-04T12:09:36.289Z"
      },
      {
        "duration": 34,
        "start_time": "2021-07-04T12:09:36.370Z"
      },
      {
        "duration": 165,
        "start_time": "2021-07-04T12:09:36.407Z"
      },
      {
        "duration": 250,
        "start_time": "2021-07-04T12:09:36.574Z"
      },
      {
        "duration": -10864852,
        "start_time": "2021-07-04T15:10:41.679Z"
      },
      {
        "duration": -10864854,
        "start_time": "2021-07-04T15:10:41.683Z"
      },
      {
        "duration": -10864854,
        "start_time": "2021-07-04T15:10:41.686Z"
      },
      {
        "duration": -10864856,
        "start_time": "2021-07-04T15:10:41.690Z"
      },
      {
        "duration": -10864857,
        "start_time": "2021-07-04T15:10:41.693Z"
      },
      {
        "duration": -10864859,
        "start_time": "2021-07-04T15:10:41.697Z"
      },
      {
        "duration": -10864874,
        "start_time": "2021-07-04T15:10:41.714Z"
      },
      {
        "duration": -10864894,
        "start_time": "2021-07-04T15:10:41.736Z"
      },
      {
        "duration": 447,
        "start_time": "2021-07-04T12:28:48.991Z"
      },
      {
        "duration": 462,
        "start_time": "2021-07-04T12:34:19.304Z"
      },
      {
        "duration": 445,
        "start_time": "2021-07-04T12:37:09.983Z"
      },
      {
        "duration": 466,
        "start_time": "2021-07-04T12:38:27.138Z"
      },
      {
        "duration": 88,
        "start_time": "2021-07-04T12:39:08.350Z"
      },
      {
        "duration": 83,
        "start_time": "2021-07-04T12:39:21.648Z"
      },
      {
        "duration": 4408,
        "start_time": "2021-07-04T12:53:15.510Z"
      },
      {
        "duration": 6404,
        "start_time": "2021-07-04T12:54:17.812Z"
      },
      {
        "duration": 6386,
        "start_time": "2021-07-04T12:54:42.473Z"
      },
      {
        "duration": 6385,
        "start_time": "2021-07-04T12:55:06.348Z"
      },
      {
        "duration": 4662,
        "start_time": "2021-07-04T12:55:39.601Z"
      },
      {
        "duration": 4742,
        "start_time": "2021-07-04T12:55:59.027Z"
      },
      {
        "duration": 4358,
        "start_time": "2021-07-04T12:57:05.874Z"
      },
      {
        "duration": 4394,
        "start_time": "2021-07-04T12:57:25.165Z"
      },
      {
        "duration": 46,
        "start_time": "2021-07-04T12:58:19.948Z"
      },
      {
        "duration": 29,
        "start_time": "2021-07-04T12:58:52.145Z"
      },
      {
        "duration": 31,
        "start_time": "2021-07-04T12:58:59.879Z"
      },
      {
        "duration": 275,
        "start_time": "2021-07-04T13:00:53.961Z"
      },
      {
        "duration": 299,
        "start_time": "2021-07-04T13:01:10.499Z"
      },
      {
        "duration": 51,
        "start_time": "2021-07-04T13:04:02.949Z"
      },
      {
        "duration": 947,
        "start_time": "2021-07-04T13:06:11.786Z"
      },
      {
        "duration": 872,
        "start_time": "2021-07-05T15:40:37.144Z"
      },
      {
        "duration": 38,
        "start_time": "2021-07-05T15:40:38.018Z"
      },
      {
        "duration": 193,
        "start_time": "2021-07-05T15:40:38.059Z"
      },
      {
        "duration": 415,
        "start_time": "2021-07-05T15:40:38.255Z"
      },
      {
        "duration": 1365,
        "start_time": "2021-07-05T15:40:37.308Z"
      },
      {
        "duration": 1355,
        "start_time": "2021-07-05T15:40:37.320Z"
      },
      {
        "duration": 1346,
        "start_time": "2021-07-05T15:40:37.330Z"
      },
      {
        "duration": 1344,
        "start_time": "2021-07-05T15:40:37.333Z"
      },
      {
        "duration": 1343,
        "start_time": "2021-07-05T15:40:37.336Z"
      },
      {
        "duration": 1341,
        "start_time": "2021-07-05T15:40:37.339Z"
      },
      {
        "duration": 1336,
        "start_time": "2021-07-05T15:40:37.346Z"
      },
      {
        "duration": 1335,
        "start_time": "2021-07-05T15:40:37.348Z"
      },
      {
        "duration": 1333,
        "start_time": "2021-07-05T15:40:37.351Z"
      },
      {
        "duration": 103,
        "start_time": "2021-07-05T15:40:48.825Z"
      },
      {
        "duration": 8,
        "start_time": "2021-07-05T15:41:16.635Z"
      },
      {
        "duration": 23,
        "start_time": "2021-07-05T15:48:49.039Z"
      },
      {
        "duration": 21,
        "start_time": "2021-07-05T15:49:15.992Z"
      },
      {
        "duration": 23,
        "start_time": "2021-07-05T15:49:40.969Z"
      },
      {
        "duration": 24,
        "start_time": "2021-07-05T15:52:30.812Z"
      },
      {
        "duration": 23,
        "start_time": "2021-07-05T15:52:42.780Z"
      },
      {
        "duration": 18,
        "start_time": "2021-07-05T15:53:05.723Z"
      },
      {
        "duration": 19,
        "start_time": "2021-07-05T15:53:41.409Z"
      },
      {
        "duration": 146,
        "start_time": "2021-07-05T15:56:22.111Z"
      },
      {
        "duration": 21,
        "start_time": "2021-07-05T15:56:32.065Z"
      },
      {
        "duration": 20,
        "start_time": "2021-07-05T15:56:42.039Z"
      },
      {
        "duration": 21,
        "start_time": "2021-07-05T15:57:07.940Z"
      },
      {
        "duration": 336,
        "start_time": "2021-07-05T15:57:13.401Z"
      },
      {
        "duration": 461,
        "start_time": "2021-07-05T15:57:51.059Z"
      },
      {
        "duration": 331,
        "start_time": "2021-07-05T15:57:58.650Z"
      },
      {
        "duration": 102,
        "start_time": "2021-07-05T15:58:05.948Z"
      },
      {
        "duration": 51,
        "start_time": "2021-07-05T15:58:06.054Z"
      },
      {
        "duration": 180,
        "start_time": "2021-07-05T15:58:06.108Z"
      },
      {
        "duration": 362,
        "start_time": "2021-07-05T15:58:06.292Z"
      },
      {
        "duration": 1293,
        "start_time": "2021-07-05T15:58:05.365Z"
      },
      {
        "duration": 1292,
        "start_time": "2021-07-05T15:58:05.368Z"
      },
      {
        "duration": 1291,
        "start_time": "2021-07-05T15:58:05.371Z"
      },
      {
        "duration": 1064,
        "start_time": "2021-07-05T15:58:05.600Z"
      },
      {
        "duration": 1059,
        "start_time": "2021-07-05T15:58:05.607Z"
      },
      {
        "duration": 1060,
        "start_time": "2021-07-05T15:58:05.609Z"
      },
      {
        "duration": 1059,
        "start_time": "2021-07-05T15:58:05.612Z"
      },
      {
        "duration": 1059,
        "start_time": "2021-07-05T15:58:05.614Z"
      },
      {
        "duration": 1058,
        "start_time": "2021-07-05T15:58:05.617Z"
      },
      {
        "duration": 27,
        "start_time": "2021-07-05T15:58:15.945Z"
      },
      {
        "duration": 27,
        "start_time": "2021-07-05T16:09:09.138Z"
      },
      {
        "duration": 12,
        "start_time": "2021-07-05T16:12:15.653Z"
      },
      {
        "duration": 20,
        "start_time": "2021-07-05T16:14:59.724Z"
      },
      {
        "duration": 13,
        "start_time": "2021-07-05T16:15:15.196Z"
      },
      {
        "duration": 31,
        "start_time": "2021-07-05T16:33:15.849Z"
      },
      {
        "duration": 47,
        "start_time": "2021-07-05T16:35:27.215Z"
      },
      {
        "duration": 38,
        "start_time": "2021-07-05T16:36:08.271Z"
      },
      {
        "duration": 41,
        "start_time": "2021-07-05T16:36:32.655Z"
      },
      {
        "duration": 41,
        "start_time": "2021-07-05T16:37:23.513Z"
      },
      {
        "duration": 21,
        "start_time": "2021-07-05T16:40:48.462Z"
      },
      {
        "duration": 19,
        "start_time": "2021-07-05T16:41:44.319Z"
      },
      {
        "duration": 22,
        "start_time": "2021-07-05T16:46:39.710Z"
      },
      {
        "duration": 112,
        "start_time": "2021-07-05T16:46:59.605Z"
      },
      {
        "duration": 14,
        "start_time": "2021-07-05T16:47:04.515Z"
      },
      {
        "duration": 820,
        "start_time": "2021-07-05T16:53:46.522Z"
      },
      {
        "duration": 594,
        "start_time": "2021-07-05T16:54:14.222Z"
      },
      {
        "duration": 303,
        "start_time": "2021-07-05T16:55:06.143Z"
      },
      {
        "duration": 450,
        "start_time": "2021-07-05T17:05:24.735Z"
      },
      {
        "duration": 320,
        "start_time": "2021-07-05T17:05:44.004Z"
      },
      {
        "duration": 440,
        "start_time": "2021-07-05T17:07:04.829Z"
      },
      {
        "duration": 96,
        "start_time": "2021-07-05T17:07:18.974Z"
      },
      {
        "duration": 50,
        "start_time": "2021-07-05T17:07:19.073Z"
      },
      {
        "duration": 190,
        "start_time": "2021-07-05T17:07:19.127Z"
      },
      {
        "duration": 331,
        "start_time": "2021-07-05T17:07:19.320Z"
      },
      {
        "duration": 1586,
        "start_time": "2021-07-05T17:07:18.068Z"
      },
      {
        "duration": 1580,
        "start_time": "2021-07-05T17:07:18.075Z"
      },
      {
        "duration": 1579,
        "start_time": "2021-07-05T17:07:18.077Z"
      },
      {
        "duration": 1578,
        "start_time": "2021-07-05T17:07:18.080Z"
      },
      {
        "duration": 1577,
        "start_time": "2021-07-05T17:07:18.082Z"
      },
      {
        "duration": 1576,
        "start_time": "2021-07-05T17:07:18.084Z"
      },
      {
        "duration": 1575,
        "start_time": "2021-07-05T17:07:18.086Z"
      },
      {
        "duration": 1569,
        "start_time": "2021-07-05T17:07:18.094Z"
      },
      {
        "duration": 1568,
        "start_time": "2021-07-05T17:07:18.096Z"
      },
      {
        "duration": 1566,
        "start_time": "2021-07-05T17:07:18.099Z"
      },
      {
        "duration": 309,
        "start_time": "2021-07-05T17:07:23.318Z"
      },
      {
        "duration": 349,
        "start_time": "2021-07-05T17:07:41.183Z"
      },
      {
        "duration": 336,
        "start_time": "2021-07-05T17:08:24.223Z"
      },
      {
        "duration": 341,
        "start_time": "2021-07-05T17:09:36.247Z"
      },
      {
        "duration": 315,
        "start_time": "2021-07-05T17:10:04.670Z"
      },
      {
        "duration": 324,
        "start_time": "2021-07-05T17:10:29.610Z"
      },
      {
        "duration": 339,
        "start_time": "2021-07-05T17:11:05.689Z"
      },
      {
        "duration": 361,
        "start_time": "2021-07-05T17:20:54.684Z"
      },
      {
        "duration": 9,
        "start_time": "2021-07-05T17:21:05.299Z"
      },
      {
        "duration": 10,
        "start_time": "2021-07-05T17:21:24.502Z"
      },
      {
        "duration": 11,
        "start_time": "2021-07-05T17:23:51.072Z"
      },
      {
        "duration": 11,
        "start_time": "2021-07-05T17:24:00.731Z"
      },
      {
        "duration": 11,
        "start_time": "2021-07-05T17:24:07.530Z"
      },
      {
        "duration": 38,
        "start_time": "2021-07-05T17:25:41.478Z"
      },
      {
        "duration": 35,
        "start_time": "2021-07-05T17:28:38.619Z"
      },
      {
        "duration": 35,
        "start_time": "2021-07-05T17:30:00.501Z"
      },
      {
        "duration": 39,
        "start_time": "2021-07-05T17:30:13.066Z"
      }
    ],
    "kernelspec": {
      "display_name": "Python 3",
      "language": "python",
      "name": "python3"
    },
    "language_info": {
      "codemirror_mode": {
        "name": "ipython",
        "version": 3
      },
      "file_extension": ".py",
      "mimetype": "text/x-python",
      "name": "python",
      "nbconvert_exporter": "python",
      "pygments_lexer": "ipython3",
      "version": "3.7.8"
    },
    "toc": {
      "base_numbering": 1,
      "nav_menu": {},
      "number_sections": true,
      "sideBar": true,
      "skip_h1_title": true,
      "title_cell": "Table of Contents",
      "title_sidebar": "Contents",
      "toc_cell": false,
      "toc_position": {
        "height": "calc(100% - 180px)",
        "left": "10px",
        "top": "150px",
        "width": "165px"
      },
      "toc_section_display": true,
      "toc_window_display": true
    },
    "colab": {
      "name": "Last_version_updated_july_5.ipynb",
      "provenance": []
    }
  },
  "cells": [
    {
      "cell_type": "markdown",
      "metadata": {
        "id": "kIdhiehmDjas"
      },
      "source": [
        "<div style=\"border-radius: 15px; border: 3px solid indigo; padding: 15px;\">\n",
        "<b> Комментарий ревьюера</b>\n",
        "    \n",
        "Привет! Меня зовут Светлана Носова, я буду проверять твой проект. Если не против, давай общаться на «ты». Если тебе такой стиль общения не нравится, напиши об этом, будем на «вы». \n",
        "\n",
        "Сразу хочу обратить внимание на цветовую разметку.\n",
        "Зеленым отмечены отличные решения и идеи, которые можно и нужно использовать в будущем. Желтым отмечено то, что можно или нужно оптимизировать, в зависимости от контекста. Красным обозначены пропущенные пункты задания и  ошибки, которые обязательно надо будет исправить, чтобы результаты были верные.\n",
        "    \n",
        "**Ответы на мои комментарии или доработки по моим рекомендациям попрошу выделить каким-нибудь цветом, кроме перечисленных.**\n",
        "Также я попрошу тебя **не менять, не передвигать и не удалять мои комментарии**, чтобы при последующей проверке мне было проще ориентироваться.\n",
        "    \n",
        "Кроме того, комментарии у меня обозначены как заголовки. Это сбивает содержание, но при последующей проверке я могу снять с них заголовок, если тебе так будет удобнее. При этом они удобны, поскольку ты сразу можешь перейти к ним.   \n",
        "        \n",
        "<hr>\n",
        "    \n",
        "**По проекту:** в целом, работа выполнена хорошо, все оформлено понятно и аккуратно, есть анализ и промежуточные выводы. У меня остались некоторые вопросы, я все написала в комментариях. Там же я оставила и рекомендации по улучшению проекта. Буду ждать работу на повторное ревью.\n",
        "    \n",
        "<hr style=\"border-top: 3px solid purple; \"></hr>\n",
        "Комментарии можешь оставлять с помощью такого кода в Markdown ячейке:\n",
        "    \n",
        "    \n",
        "    <div class=\"alert alert-info\">\n",
        "    <h2> Комментарий студента</h2>\n",
        "\n",
        "    Тут текст.\n",
        "    </div>\n",
        "    \n",
        "    \n",
        "    <font color='red'> Этот код позволяет менять цвет текста. </font>     \n",
        "\n",
        "<font color='red'> Выглядит это так. </font> \n",
        "  \n",
        "    \n",
        "Если не хочешь, чтобы твои комментарии отображались в содержании как заголовки, замени **h2** на **b** или добавь `<a class=\"tocSkip\">` после фразы *Комментарий студента*.\n",
        "</div>"
      ]
    },
    {
      "cell_type": "markdown",
      "metadata": {
        "id": "KMvpMJqGDjau"
      },
      "source": [
        "# Исследование надёжности заёмщиков\n",
        "\n",
        "Заказчик — кредитный отдел банка. Нужно разобраться, влияет ли семейное положение и количество детей клиента на факт погашения кредита в срок. Входные данные от банка — статистика о платёжеспособности клиентов.\n",
        "\n",
        "Результаты исследования будут учтены при построении модели **кредитного скоринга** — специальной системы, которая оценивает способность потенциального заёмщика вернуть кредит банку."
      ]
    },
    {
      "cell_type": "markdown",
      "metadata": {
        "id": "Vrzx3gzyDjau"
      },
      "source": [
        "<div class=\"alert alert-success\" style=\"border-radius: 15px; box-shadow: 4px 4px 4px; border: 1px solid \">\n",
        "<h2> Комментарий ревьюера</h2>\n",
        "    \n",
        "Правильно делаешь, что добавляешь краткое описание задачи. Это поможет быстро вспомнить, о чем проект, если ты к нему вернешься спустя какое-то время.\n",
        "</div>"
      ]
    },
    {
      "cell_type": "code",
      "metadata": {
        "colab": {
          "base_uri": "https://localhost:8080/"
        },
        "id": "16Jjdd_HEjCA",
        "outputId": "75375bd2-2e49-48e9-c747-ca196bb6168b"
      },
      "source": [
        "from google.colab import drive\n",
        "drive.mount('/content/drive')"
      ],
      "execution_count": 1,
      "outputs": [
        {
          "output_type": "stream",
          "text": [
            "Mounted at /content/drive\n"
          ],
          "name": "stdout"
        }
      ]
    },
    {
      "cell_type": "markdown",
      "metadata": {
        "id": "BppIWicfDjav"
      },
      "source": [
        "## Шаг 1. Откройте файл с данными и изучите общую информацию"
      ]
    },
    {
      "cell_type": "code",
      "metadata": {
        "id": "YBtuF3B9Ej_d"
      },
      "source": [
        ""
      ],
      "execution_count": null,
      "outputs": []
    },
    {
      "cell_type": "code",
      "metadata": {
        "colab": {
          "base_uri": "https://localhost:8080/"
        },
        "id": "dOTMT3cjDjav",
        "outputId": "b4bd8eb7-a4f3-4180-ca19-b6ffa1227251"
      },
      "source": [
        "import pandas as pd\n",
        "data = pd.read_csv('/content/drive/MyDrive/Inga/Data/data_project_1.csv')\n",
        "print(data.head(20))\n",
        "data.info()"
      ],
      "execution_count": 2,
      "outputs": [
        {
          "output_type": "stream",
          "text": [
            "    Unnamed: 0  children  ...   total_income                                 purpose\n",
            "0            0         1  ...  253875.639453                           покупка жилья\n",
            "1            1         1  ...  112080.014102                 приобретение автомобиля\n",
            "2            2         0  ...  145885.952297                           покупка жилья\n",
            "3            3         3  ...  267628.550329              дополнительное образование\n",
            "4            4         0  ...  158616.077870                         сыграть свадьбу\n",
            "5            5         0  ...  255763.565419                           покупка жилья\n",
            "6            6         0  ...  240525.971920                       операции с жильем\n",
            "7            7         0  ...  135823.934197                             образование\n",
            "8            8         2  ...   95856.832424                   на проведение свадьбы\n",
            "9            9         0  ...  144425.938277                 покупка жилья для семьи\n",
            "10          10         2  ...  113943.491460                    покупка недвижимости\n",
            "11          11         0  ...   77069.234271       покупка коммерческой недвижимости\n",
            "12          12         0  ...            NaN                         сыграть свадьбу\n",
            "13          13         0  ...  130458.228857                 приобретение автомобиля\n",
            "14          14         0  ...  165127.911772              покупка жилой недвижимости\n",
            "15          15         1  ...  116820.904450  строительство собственной недвижимости\n",
            "16          16         0  ...  289202.704229                            недвижимость\n",
            "17          17         0  ...   90410.586745              строительство недвижимости\n",
            "18          18         0  ...   56823.777243      на покупку подержанного автомобиля\n",
            "19          19         0  ...  242831.107982            на покупку своего автомобиля\n",
            "\n",
            "[20 rows x 13 columns]\n",
            "<class 'pandas.core.frame.DataFrame'>\n",
            "RangeIndex: 21525 entries, 0 to 21524\n",
            "Data columns (total 13 columns):\n",
            " #   Column            Non-Null Count  Dtype  \n",
            "---  ------            --------------  -----  \n",
            " 0   Unnamed: 0        21525 non-null  int64  \n",
            " 1   children          21525 non-null  int64  \n",
            " 2   days_employed     19351 non-null  float64\n",
            " 3   dob_years         21525 non-null  int64  \n",
            " 4   education         21525 non-null  object \n",
            " 5   education_id      21525 non-null  int64  \n",
            " 6   family_status     21525 non-null  object \n",
            " 7   family_status_id  21525 non-null  int64  \n",
            " 8   gender            21525 non-null  object \n",
            " 9   income_type       21525 non-null  object \n",
            " 10  debt              21525 non-null  int64  \n",
            " 11  total_income      19351 non-null  float64\n",
            " 12  purpose           21525 non-null  object \n",
            "dtypes: float64(2), int64(6), object(5)\n",
            "memory usage: 2.1+ MB\n"
          ],
          "name": "stdout"
        }
      ]
    },
    {
      "cell_type": "markdown",
      "metadata": {
        "id": "aTBR9DTYDjaw"
      },
      "source": [
        "**Вывод**"
      ]
    },
    {
      "cell_type": "markdown",
      "metadata": {
        "id": "E5-CQSnhDjaw"
      },
      "source": [
        "Импортировали библиотеку pandas. Методом .read_csv() загрузили файл и сохранили в переменную data.\n",
        "При просмотре исходной таблицы видны отрицательные значения в продолжительности рабочего стажа (в days_employed), в столбце education есть значения, которые начинаются с заглавных букв (Среднее), total_income приведен до шестого знака после запятой. Заметны большие значения в days_employed и total_income. При просмотре информации, полученной методом .info(), замечены пропущенные значения в столбцах days_employed, total_income.   "
      ]
    },
    {
      "cell_type": "markdown",
      "metadata": {
        "id": "SDM6lYOuDjax"
      },
      "source": [
        "<div class=\"alert alert-success\" style=\"border-radius: 15px; box-shadow: 4px 4px 4px; border: 1px solid \">\n",
        "<h2> Комментарий ревьюера</h2>\n",
        "    \n",
        "Хорошая вводная часть.\n",
        "</div>"
      ]
    },
    {
      "cell_type": "markdown",
      "metadata": {
        "id": "AXB6IRJTDjay"
      },
      "source": [
        "## Шаг 2. Предобработка данных"
      ]
    },
    {
      "cell_type": "markdown",
      "metadata": {
        "id": "bLN4LzH5Djay"
      },
      "source": [
        "### Обработка пропусков"
      ]
    },
    {
      "cell_type": "code",
      "metadata": {
        "id": "zAW3xbDqDjay"
      },
      "source": [
        "#print(data.isnull().sum())\n",
        "missing_data = data[data.isnull().any(axis=1)]\n",
        "#print(missing_data)\n",
        "\n",
        "#print(data['income_type'].unique())\n",
        "#print(missing_data['income_type'].unique())\n",
        "\n",
        "data['days_employed'] = data['days_employed'].abs()\n",
        "\n"
      ],
      "execution_count": 3,
      "outputs": []
    },
    {
      "cell_type": "code",
      "metadata": {
        "colab": {
          "base_uri": "https://localhost:8080/",
          "height": 524
        },
        "id": "HoBgBvfODjaz",
        "outputId": "980f90d5-78c7-497c-dfc2-c0c0a749b11e"
      },
      "source": [
        "#print(data['dob_years'].max())\n",
        "#print(data['dob_years'].min())\n",
        "\n",
        "def age_groups(age):\n",
        "    if age <20:\n",
        "        return 'young'\n",
        "    if 20 <= age < 55:\n",
        "        return 'middle age'\n",
        "    else:\n",
        "        return 'senior'\n",
        "    \n",
        "data['age_group'] = data['dob_years'].apply(age_groups)    \n",
        "    \n",
        "data.loc[:,('total_income')] = data.groupby(['income_type', 'education', 'age_group'])['total_income'].apply(lambda x: x.fillna(x.median()))\n",
        "\n",
        "data.loc[:,('days_employed')] = data.groupby('income_type')['days_employed'].apply(lambda x: x.fillna(x.median()))\n",
        "\n",
        "print(data.isnull().sum())\n",
        "\n",
        "data[data['total_income'].isnull()]\n",
        "\n",
        "#remove these rows\n"
      ],
      "execution_count": 4,
      "outputs": [
        {
          "output_type": "stream",
          "text": [
            "Unnamed: 0          0\n",
            "children            0\n",
            "days_employed       0\n",
            "dob_years           0\n",
            "education           0\n",
            "education_id        0\n",
            "family_status       0\n",
            "family_status_id    0\n",
            "gender              0\n",
            "income_type         0\n",
            "debt                0\n",
            "total_income        4\n",
            "purpose             0\n",
            "age_group           0\n",
            "dtype: int64\n"
          ],
          "name": "stdout"
        },
        {
          "output_type": "execute_result",
          "data": {
            "text/html": [
              "<div>\n",
              "<style scoped>\n",
              "    .dataframe tbody tr th:only-of-type {\n",
              "        vertical-align: middle;\n",
              "    }\n",
              "\n",
              "    .dataframe tbody tr th {\n",
              "        vertical-align: top;\n",
              "    }\n",
              "\n",
              "    .dataframe thead th {\n",
              "        text-align: right;\n",
              "    }\n",
              "</style>\n",
              "<table border=\"1\" class=\"dataframe\">\n",
              "  <thead>\n",
              "    <tr style=\"text-align: right;\">\n",
              "      <th></th>\n",
              "      <th>Unnamed: 0</th>\n",
              "      <th>children</th>\n",
              "      <th>days_employed</th>\n",
              "      <th>dob_years</th>\n",
              "      <th>education</th>\n",
              "      <th>education_id</th>\n",
              "      <th>family_status</th>\n",
              "      <th>family_status_id</th>\n",
              "      <th>gender</th>\n",
              "      <th>income_type</th>\n",
              "      <th>debt</th>\n",
              "      <th>total_income</th>\n",
              "      <th>purpose</th>\n",
              "      <th>age_group</th>\n",
              "    </tr>\n",
              "  </thead>\n",
              "  <tbody>\n",
              "    <tr>\n",
              "      <th>3891</th>\n",
              "      <td>3891</td>\n",
              "      <td>1</td>\n",
              "      <td>1574.202821</td>\n",
              "      <td>68</td>\n",
              "      <td>НЕОКОНЧЕННОЕ ВЫСШЕЕ</td>\n",
              "      <td>2</td>\n",
              "      <td>в разводе</td>\n",
              "      <td>3</td>\n",
              "      <td>F</td>\n",
              "      <td>сотрудник</td>\n",
              "      <td>0</td>\n",
              "      <td>NaN</td>\n",
              "      <td>строительство недвижимости</td>\n",
              "      <td>senior</td>\n",
              "    </tr>\n",
              "    <tr>\n",
              "      <th>5936</th>\n",
              "      <td>5936</td>\n",
              "      <td>0</td>\n",
              "      <td>520.848083</td>\n",
              "      <td>58</td>\n",
              "      <td>высшее</td>\n",
              "      <td>0</td>\n",
              "      <td>женат / замужем</td>\n",
              "      <td>0</td>\n",
              "      <td>M</td>\n",
              "      <td>предприниматель</td>\n",
              "      <td>0</td>\n",
              "      <td>NaN</td>\n",
              "      <td>покупка жилой недвижимости</td>\n",
              "      <td>senior</td>\n",
              "    </tr>\n",
              "    <tr>\n",
              "      <th>6670</th>\n",
              "      <td>6670</td>\n",
              "      <td>0</td>\n",
              "      <td>365213.306266</td>\n",
              "      <td>0</td>\n",
              "      <td>Высшее</td>\n",
              "      <td>0</td>\n",
              "      <td>в разводе</td>\n",
              "      <td>3</td>\n",
              "      <td>F</td>\n",
              "      <td>пенсионер</td>\n",
              "      <td>0</td>\n",
              "      <td>NaN</td>\n",
              "      <td>покупка жилой недвижимости</td>\n",
              "      <td>young</td>\n",
              "    </tr>\n",
              "    <tr>\n",
              "      <th>18818</th>\n",
              "      <td>18818</td>\n",
              "      <td>0</td>\n",
              "      <td>1574.202821</td>\n",
              "      <td>61</td>\n",
              "      <td>НЕОКОНЧЕННОЕ ВЫСШЕЕ</td>\n",
              "      <td>2</td>\n",
              "      <td>женат / замужем</td>\n",
              "      <td>0</td>\n",
              "      <td>F</td>\n",
              "      <td>сотрудник</td>\n",
              "      <td>0</td>\n",
              "      <td>NaN</td>\n",
              "      <td>операции с жильем</td>\n",
              "      <td>senior</td>\n",
              "    </tr>\n",
              "  </tbody>\n",
              "</table>\n",
              "</div>"
            ],
            "text/plain": [
              "       Unnamed: 0  children  ...                     purpose  age_group\n",
              "3891         3891         1  ...  строительство недвижимости     senior\n",
              "5936         5936         0  ...  покупка жилой недвижимости     senior\n",
              "6670         6670         0  ...  покупка жилой недвижимости      young\n",
              "18818       18818         0  ...           операции с жильем     senior\n",
              "\n",
              "[4 rows x 14 columns]"
            ]
          },
          "metadata": {
            "tags": []
          },
          "execution_count": 4
        }
      ]
    },
    {
      "cell_type": "code",
      "metadata": {
        "id": "Xapx1J32FHnE"
      },
      "source": [
        "data = data.dropna()"
      ],
      "execution_count": 6,
      "outputs": []
    },
    {
      "cell_type": "markdown",
      "metadata": {
        "id": "mt8BI_OTDjaz"
      },
      "source": [
        "<div class=\"alert alert-warning\" style=\"border-radius: 15px; box-shadow: 4px 4px 4px; border: 1px solid \">\n",
        "<h2> Комментарий ревьюера</h2>\n",
        "    \n",
        "Отлично. Раз уж у нас есть такая возможность, давай попробуем заменить пропуски медианой, но взятой по 2-3 характеристикам клиента? Группы можно собрать по разным параметрам. Например, тип занятости + образование + возрастная группа. Попробуешь реализовать это? Если что, я помогу. Столбец стажа можно так не заполнять, поскольку он нам не нужен. \n",
        "</div>\n",
        "<div class=\"alert alert-info\">\n",
        "<h2> Комментарий студента</h2>\n",
        "\n",
        "Добавлены изменения с учетом рекоммендаций:\n",
        "1)    выявлены минимальный и максимальный возраст, чтобы убедиться в отсутствии выбросов:\n",
        "    print(data['dob_years'].max())\n",
        "    print(data['dob_years'].min())\n",
        "    \n",
        "2) Написана функция для сортировки по возрасту:\n",
        "    def age_groups(age):\n",
        "    if age <20:\n",
        "        return 'young'\n",
        "    if 20 <= age < 55:\n",
        "        return 'middle age'\n",
        "    else:\n",
        "        return 'senior'\n",
        "                      \n",
        "3) Добавлен новый столбец с вызовом функции\n",
        "                      data['age_group'] = data['dob_years'].apply(age_groups) \n",
        "                      \n",
        "4) В группировку для 'total income' добавлены столбцы 'education' и 'age_group':\n",
        "                      data.loc[:,('total_income')] = data.groupby(['income_type', 'education', 'age_group'])['total_income'].apply(lambda x: x.fillna(x.median()))\n",
        "                       \n",
        "</div>\n",
        "\n"
      ]
    },
    {
      "cell_type": "markdown",
      "metadata": {
        "id": "uNfpOMkSDja0"
      },
      "source": [
        "**Вывод**"
      ]
    },
    {
      "cell_type": "markdown",
      "metadata": {
        "id": "VrTkDj2vDja0"
      },
      "source": [
        "Используя функции .isnull().sum() видим, что в столбцах days_employed и total_income пропущено одинаковое количество значений - 2174. После отфильтровки строк с пропущенными значениями при помощи логической индексации, видим, что общее количество строк с пропущенными значениями 2174. Это означает что в каждой из таких сторок пропущены сразу два значения: days_employed и total_income. Это выглядим логичным, так как люди без работы не имеют дохода. Проверяем эту гипотезу. \n",
        "\n",
        "Вызовом функции unique() сморим, как обозначены люди без дохода и видим, что есть отдельная категория 'безработный'. При проверке уникальных значений для таблицы с пропущенными значениями missing_data, видим, что безработные туда не входят. Значит, значения пропущены случайным образом. \n",
        "\n",
        "Все пропуски помечены NaN. Их необходимо заполнить медианными данными для соответствующих категорий занятости ('пенсионер' 'госслужащий' 'компаньон' 'сотрудник' 'предприниматель'). Перед рассчетом медианы, избавимся от отрицательныз значений в столбце 'days_employed', сохранив их как положительные.  \n",
        "\n",
        "Заполним пропуски на медианные значения для соответствующих категорий используя метод apply(). Затем проверим заполнение вызовом функции isnull().sum(). Пропущенных значений больше нет.  "
      ]
    },
    {
      "cell_type": "markdown",
      "metadata": {
        "id": "q7tofQHLDja0"
      },
      "source": [
        "<div class=\"alert alert-success\" style=\"border-radius: 15px; box-shadow: 4px 4px 4px; border: 1px solid \">\n",
        "<h2> Комментарий ревьюера</h2>\n",
        "    \n",
        "Да, очень похоже на то, что пропуски случайны. Скорее всего имеем склейку разных таблиц.</div>"
      ]
    },
    {
      "cell_type": "markdown",
      "metadata": {
        "id": "9UOseRc1Dja1"
      },
      "source": [
        "### Замена типа данных"
      ]
    },
    {
      "cell_type": "code",
      "metadata": {
        "id": "6avIqmWoDja1"
      },
      "source": [
        "data['days_employed'] = data['days_employed'].astype(int)\n",
        "data['total_income'] = data['total_income'].astype(int)\n",
        "       "
      ],
      "execution_count": 7,
      "outputs": []
    },
    {
      "cell_type": "markdown",
      "metadata": {
        "id": "L5mE98sNDja1"
      },
      "source": [
        ""
      ]
    },
    {
      "cell_type": "markdown",
      "metadata": {
        "id": "k7r3yT-1Dja1"
      },
      "source": [
        "Вывод\n",
        "\n",
        "Для удобства работы с данными, заменим тип данных столбцов days_employed и total_income с float на integer испольщуя метод .astype(int). Десятичные цифры в данном случае не важны, их можно опустить для ускорения времени обработки.\n"
      ]
    },
    {
      "cell_type": "markdown",
      "metadata": {
        "id": "E7uZYowKDja1"
      },
      "source": [
        "### Обработка дубликатов"
      ]
    },
    {
      "cell_type": "code",
      "metadata": {
        "colab": {
          "base_uri": "https://localhost:8080/"
        },
        "id": "rHXbhU_8Dja1",
        "outputId": "0f86fae3-8731-49d9-abdc-cee47ccc0a26"
      },
      "source": [
        "from collections import Counter\n",
        "#print(Counter(data['education']))\n",
        "data['education'] = data['education'].str.lower()\n",
        "#print(Counter(data['education']))\n",
        "\n",
        "#print(Counter(data['family_status']))\n",
        "data['family_status'] = data['family_status'].str.lower()\n",
        "#print(Counter(data['family_status']))\n",
        "#print(Counter(data['income_type']))\n",
        "#print(Counter(data['purpose']))\n",
        "#print(Counter(data['gender']))\n",
        "\n",
        "#print(data.duplicated().sum()) \n",
        "#print(data.shape)\n",
        "\n",
        "data.drop_duplicates(keep = 'first', inplace = True)\n",
        "\n",
        "print(data.duplicated().sum()) \n",
        "print(data.shape)\n"
      ],
      "execution_count": 8,
      "outputs": [
        {
          "output_type": "stream",
          "text": [
            "Counter({'среднее': 13750, 'высшее': 4717, 'СРЕДНЕЕ': 772, 'Среднее': 711, 'неоконченное высшее': 668, 'ВЫСШЕЕ': 274, 'Высшее': 267, 'начальное': 250, 'Неоконченное высшее': 47, 'НЕОКОНЧЕННОЕ ВЫСШЕЕ': 27, 'НАЧАЛЬНОЕ': 17, 'Начальное': 15, 'ученая степень': 4, 'Ученая степень': 1, 'УЧЕНАЯ СТЕПЕНЬ': 1})\n",
            "Counter({'среднее': 15233, 'высшее': 5258, 'неоконченное высшее': 742, 'начальное': 282, 'ученая степень': 6})\n",
            "Counter({'женат / замужем': 12378, 'гражданский брак': 4177, 'Не женат / не замужем': 2813, 'в разводе': 1193, 'вдовец / вдова': 960})\n",
            "Counter({'женат / замужем': 12378, 'гражданский брак': 4177, 'не женат / не замужем': 2813, 'в разводе': 1193, 'вдовец / вдова': 960})\n",
            "Counter({'сотрудник': 11117, 'компаньон': 5085, 'пенсионер': 3855, 'госслужащий': 1459, 'безработный': 2, 'студент': 1, 'предприниматель': 1, 'в декрете': 1})\n",
            "Counter({'свадьба': 797, 'на проведение свадьбы': 777, 'сыграть свадьбу': 774, 'операции с недвижимостью': 676, 'покупка коммерческой недвижимости': 664, 'покупка жилья для сдачи': 653, 'операции с жильем': 652, 'операции с коммерческой недвижимостью': 651, 'покупка жилья': 647, 'жилье': 647, 'покупка жилья для семьи': 641, 'строительство собственной недвижимости': 635, 'недвижимость': 634, 'операции со своей недвижимостью': 630, 'строительство жилой недвижимости': 626, 'покупка недвижимости': 624, 'покупка своего жилья': 620, 'строительство недвижимости': 619, 'ремонт жилью': 612, 'покупка жилой недвижимости': 605, 'на покупку своего автомобиля': 505, 'заняться высшим образованием': 496, 'автомобиль': 495, 'сделка с подержанным автомобилем': 489, 'свой автомобиль': 480, 'на покупку подержанного автомобиля': 479, 'автомобили': 478, 'на покупку автомобиля': 472, 'приобретение автомобиля': 462, 'дополнительное образование': 462, 'сделка с автомобилем': 455, 'высшее образование': 453, 'образование': 447, 'получение дополнительного образования': 447, 'получение образования': 443, 'профильное образование': 436, 'получение высшего образования': 426, 'заняться образованием': 412})\n",
            "Counter({'F': 14233, 'M': 7287, 'XNA': 1})\n",
            "0\n",
            "(21521, 14)\n",
            "0\n",
            "(21521, 14)\n"
          ],
          "name": "stdout"
        }
      ]
    },
    {
      "cell_type": "code",
      "metadata": {
        "colab": {
          "base_uri": "https://localhost:8080/",
          "height": 204
        },
        "id": "qxEEpKC8d7WX",
        "outputId": "edded0be-567e-4b3d-9cfe-fa048f2494f3"
      },
      "source": [
        "data.head()"
      ],
      "execution_count": 114,
      "outputs": [
        {
          "output_type": "execute_result",
          "data": {
            "text/html": [
              "<div>\n",
              "<style scoped>\n",
              "    .dataframe tbody tr th:only-of-type {\n",
              "        vertical-align: middle;\n",
              "    }\n",
              "\n",
              "    .dataframe tbody tr th {\n",
              "        vertical-align: top;\n",
              "    }\n",
              "\n",
              "    .dataframe thead th {\n",
              "        text-align: right;\n",
              "    }\n",
              "</style>\n",
              "<table border=\"1\" class=\"dataframe\">\n",
              "  <thead>\n",
              "    <tr style=\"text-align: right;\">\n",
              "      <th></th>\n",
              "      <th>Unnamed: 0</th>\n",
              "      <th>children</th>\n",
              "      <th>days_employed</th>\n",
              "      <th>dob_years</th>\n",
              "      <th>education</th>\n",
              "      <th>education_id</th>\n",
              "      <th>family_status</th>\n",
              "      <th>family_status_id</th>\n",
              "      <th>gender</th>\n",
              "      <th>income_type</th>\n",
              "      <th>debt</th>\n",
              "      <th>total_income</th>\n",
              "      <th>purpose</th>\n",
              "      <th>age_group</th>\n",
              "      <th>children_yes_or_no</th>\n",
              "    </tr>\n",
              "  </thead>\n",
              "  <tbody>\n",
              "    <tr>\n",
              "      <th>0</th>\n",
              "      <td>0</td>\n",
              "      <td>1</td>\n",
              "      <td>8437</td>\n",
              "      <td>42</td>\n",
              "      <td>высшее</td>\n",
              "      <td>0</td>\n",
              "      <td>женат / замужем</td>\n",
              "      <td>0</td>\n",
              "      <td>F</td>\n",
              "      <td>сотрудник</td>\n",
              "      <td>0</td>\n",
              "      <td>253875.639453</td>\n",
              "      <td>жилье</td>\n",
              "      <td>middle age</td>\n",
              "      <td>1</td>\n",
              "    </tr>\n",
              "    <tr>\n",
              "      <th>1</th>\n",
              "      <td>1</td>\n",
              "      <td>1</td>\n",
              "      <td>4024</td>\n",
              "      <td>36</td>\n",
              "      <td>среднее</td>\n",
              "      <td>1</td>\n",
              "      <td>женат / замужем</td>\n",
              "      <td>0</td>\n",
              "      <td>F</td>\n",
              "      <td>сотрудник</td>\n",
              "      <td>0</td>\n",
              "      <td>112080.014102</td>\n",
              "      <td>автомобиль</td>\n",
              "      <td>middle age</td>\n",
              "      <td>1</td>\n",
              "    </tr>\n",
              "    <tr>\n",
              "      <th>2</th>\n",
              "      <td>2</td>\n",
              "      <td>0</td>\n",
              "      <td>5623</td>\n",
              "      <td>33</td>\n",
              "      <td>Среднее</td>\n",
              "      <td>1</td>\n",
              "      <td>женат / замужем</td>\n",
              "      <td>0</td>\n",
              "      <td>M</td>\n",
              "      <td>сотрудник</td>\n",
              "      <td>0</td>\n",
              "      <td>145885.952297</td>\n",
              "      <td>жилье</td>\n",
              "      <td>middle age</td>\n",
              "      <td>0</td>\n",
              "    </tr>\n",
              "    <tr>\n",
              "      <th>3</th>\n",
              "      <td>3</td>\n",
              "      <td>3</td>\n",
              "      <td>4124</td>\n",
              "      <td>32</td>\n",
              "      <td>среднее</td>\n",
              "      <td>1</td>\n",
              "      <td>женат / замужем</td>\n",
              "      <td>0</td>\n",
              "      <td>M</td>\n",
              "      <td>сотрудник</td>\n",
              "      <td>0</td>\n",
              "      <td>267628.550329</td>\n",
              "      <td>образование</td>\n",
              "      <td>middle age</td>\n",
              "      <td>1</td>\n",
              "    </tr>\n",
              "    <tr>\n",
              "      <th>4</th>\n",
              "      <td>4</td>\n",
              "      <td>0</td>\n",
              "      <td>340266</td>\n",
              "      <td>53</td>\n",
              "      <td>среднее</td>\n",
              "      <td>1</td>\n",
              "      <td>гражданский брак</td>\n",
              "      <td>1</td>\n",
              "      <td>F</td>\n",
              "      <td>пенсионер</td>\n",
              "      <td>0</td>\n",
              "      <td>158616.077870</td>\n",
              "      <td>свадьба</td>\n",
              "      <td>middle age</td>\n",
              "      <td>0</td>\n",
              "    </tr>\n",
              "  </tbody>\n",
              "</table>\n",
              "</div>"
            ],
            "text/plain": [
              "   Unnamed: 0  children  ...   age_group  children_yes_or_no\n",
              "0           0         1  ...  middle age                   1\n",
              "1           1         1  ...  middle age                   1\n",
              "2           2         0  ...  middle age                   0\n",
              "3           3         3  ...  middle age                   1\n",
              "4           4         0  ...  middle age                   0\n",
              "\n",
              "[5 rows x 15 columns]"
            ]
          },
          "metadata": {
            "tags": []
          },
          "execution_count": 114
        }
      ]
    },
    {
      "cell_type": "code",
      "metadata": {
        "colab": {
          "base_uri": "https://localhost:8080/"
        },
        "id": "g1KDmxN1GS0e",
        "outputId": "727ed50f-6760-4f64-8344-492906ba8279"
      },
      "source": [
        "data.duplicated().sum()"
      ],
      "execution_count": 11,
      "outputs": [
        {
          "output_type": "execute_result",
          "data": {
            "text/plain": [
              "0"
            ]
          },
          "metadata": {
            "tags": []
          },
          "execution_count": 11
        }
      ]
    },
    {
      "cell_type": "code",
      "metadata": {
        "colab": {
          "base_uri": "https://localhost:8080/"
        },
        "id": "1LOigkeEDja2",
        "outputId": "4d195161-80e2-40cf-875b-349a640f3190"
      },
      "source": [
        "#Для обработки дубликатов в столбцах 'education_id'/'education' и 'family_status_id'/'family_status' были созданы словари:\n",
        "    \n",
        "education_dict = data[['education_id','education']]\n",
        "family_status_dict = data[['family_status_id', 'family_status']]\n",
        "\n",
        "# Затем было проведено удаление дубликатов из словарей припомощи метода drop_duplicates().Результат был проверен выводом на экран отсортированных значений.\n",
        "\n",
        "education_dict = education_dict.drop_duplicates().reset_index(drop=True)\n",
        "family_status_dict = family_status_dict.drop_duplicates().reset_index(drop=True)\n",
        "print(education_dict.sort_values(by = 'education_id'))\n",
        "\n",
        "print(family_status_dict.sort_values(by = 'family_status_id'))"
      ],
      "execution_count": 12,
      "outputs": [
        {
          "output_type": "stream",
          "text": [
            "   education_id            education\n",
            "0             0               высшее\n",
            "1             1              среднее\n",
            "2             2  неоконченное высшее\n",
            "3             3            начальное\n",
            "4             4       ученая степень\n",
            "   family_status_id          family_status\n",
            "0                 0        женат / замужем\n",
            "1                 1       гражданский брак\n",
            "2                 2         вдовец / вдова\n",
            "3                 3              в разводе\n",
            "4                 4  не женат / не замужем\n"
          ],
          "name": "stdout"
        }
      ]
    },
    {
      "cell_type": "markdown",
      "metadata": {
        "id": "MbAxjLHjDja2"
      },
      "source": [
        "<div class=\"alert alert-success\" style=\"border-radius: 15px; box-shadow: 4px 4px 4px; border: 1px solid \">\n",
        "<h2> Комментарий ревьюера</h2>\n",
        "    \n",
        "Поскольку у нас нет уникальных идентификаторов пользователей, эти дубликаты вполне могут быть разными людьми. А вот дубликаты записей в столбцах вроде **Среднее** образование и **среднее** образование удалить надо было (путем приведения к одному регистру), это верно. </div>\n",
        "\n",
        "\n"
      ]
    },
    {
      "cell_type": "markdown",
      "metadata": {
        "id": "rB5zjX-fDja2"
      },
      "source": [
        "**Вывод**"
      ]
    },
    {
      "cell_type": "markdown",
      "metadata": {
        "id": "Tfy_ASKVDja2"
      },
      "source": [
        "1) Методом Counter проверим количества уникальных значений для столбцов типа object. Видим, что в столбцах 'education' и 'family_status' много дубликатов из-за использования заглавных букв. Приведем содержимое этих двух столбцов к единому формату используя функцию str.lower(). Проверим результат методом Counter.\n",
        "2) Вызовом функции duplicated() находим общее количество дупликатов в таблице. Методом drop_duplicates удаляем полные дубликаты в таблице, оставляя первую строку при помощи keep = 'first' и избавляясь только от дублирующей строки. Проверяем результат методом shape до и после удаления. Видим, что удалены только 71 дублирующих строки. Полные дубликаты могли появиться при объединении нескольких меньших датасетов в один большой.\n"
      ]
    },
    {
      "cell_type": "markdown",
      "metadata": {
        "id": "mQqvmrarDja3"
      },
      "source": [
        "<div class=\"alert alert-danger\" style=\"border-radius: 15px; box-shadow: 4px 4px 4px; border: 1px solid\">\n",
        "<h2> Комментарий ревьюера </h2>\n",
        "    \n",
        "В задаче нас просят обратить внимание на словари. Словарем можно назвать пару столбцов `education` и `education_id`, поскольку они взаимозаменяемы и из них можно слепить словарь (структуру данных dict). Есть еще что-нибудь подобное в таблице?\n",
        "    \n",
        "<div class=\"alert alert-info\">\n",
        "<h2> Комментарий студента</h2>\n",
        "\n",
        "Для обработки дубликатов в столбцах 'education_id'/'education' и 'family_status_id'/'family_status' были созданы словари:\n",
        "    \n",
        "education_dict = data[['education_id','education']]\n",
        "family_status_dict = data[['family_status_id', 'family_status']]\n",
        "\n",
        "Затем было проведено удаление дубликатов из словарей припомощи метода drop_duplicates().Результат был проверен выводом на экран отсортированных значений.\n",
        "\n",
        "education_dict = education_dict.drop_duplicates().reset_index(drop=True)\n",
        "family_status_dict = family_status_dict.drop_duplicates().reset_index(drop=True)\n",
        "print(education_dict.sort_values(by = 'education_id'))\n",
        "\n",
        "print(family_status_dict.sort_values(by = 'family_status_id')) \n",
        "</div>\n",
        "</div>"
      ]
    },
    {
      "cell_type": "markdown",
      "metadata": {
        "id": "KJ6G-c5RDja3"
      },
      "source": [
        "### Лемматизация"
      ]
    },
    {
      "cell_type": "code",
      "metadata": {
        "id": "waBJnMMmetfC"
      },
      "source": [
        "#import numpy as np"
      ],
      "execution_count": 117,
      "outputs": []
    },
    {
      "cell_type": "code",
      "metadata": {
        "id": "JDOhERQYehhD"
      },
      "source": [
        "#x = np.array([[1, 3, 4, 5],[0, 2, 8, 6]])"
      ],
      "execution_count": 125,
      "outputs": []
    },
    {
      "cell_type": "code",
      "metadata": {
        "colab": {
          "base_uri": "https://localhost:8080/"
        },
        "id": "sG5xk9SiewX3",
        "outputId": "fb7d5a16-5f5c-424f-c448-9202c9718d50"
      },
      "source": [
        "#x.reshape(-1)"
      ],
      "execution_count": 127,
      "outputs": [
        {
          "output_type": "execute_result",
          "data": {
            "text/plain": [
              "array([1, 3, 4, 5, 0, 2, 8, 6])"
            ]
          },
          "metadata": {
            "tags": []
          },
          "execution_count": 127
        }
      ]
    },
    {
      "cell_type": "code",
      "metadata": {
        "id": "AWMdyzucM_7v"
      },
      "source": [
        "lemmas = pd.read_csv('/content/drive/MyDrive/Inga/Data/new_data')"
      ],
      "execution_count": 115,
      "outputs": []
    },
    {
      "cell_type": "code",
      "metadata": {
        "scrolled": false,
        "id": "KF01KGpSDja3"
      },
      "source": [
        "from pymystem3 import Mystem\n",
        "m = Mystem()\n",
        "#lemmas = [[m.lemmatize(word) for word in data['purpose']]]  \n",
        "#print(lemmas)\n",
        "import numpy as np\n",
        "n_lemmas = np.array(lemmas)\n",
        "df_lemmas = pd.Series(n_lemmas.reshape(-1))\n",
        "#df_lemmas = pd.Series(lemmas)\n",
        "#print(df_lemmas)\n",
        "\n",
        "#data = pd.concat((data, df_lemmas), axis=1)\n",
        "#data [['df_lemmas']] = df_lemmas\n",
        "print(data.head(20))\n",
        "data.to_csv('new_data')\n",
        "\n",
        "#lemmas_file = pd.DataFrame(lemmas)\n",
        "#print(lemmas_file)"
      ],
      "execution_count": null,
      "outputs": []
    },
    {
      "cell_type": "code",
      "metadata": {
        "colab": {
          "base_uri": "https://localhost:8080/",
          "height": 657
        },
        "id": "ImF2RZ89NI1p",
        "outputId": "20e3217e-cae3-4deb-8084-300dbfda4a6d"
      },
      "source": [
        "lemmas"
      ],
      "execution_count": 128,
      "outputs": [
        {
          "output_type": "execute_result",
          "data": {
            "text/html": [
              "<div>\n",
              "<style scoped>\n",
              "    .dataframe tbody tr th:only-of-type {\n",
              "        vertical-align: middle;\n",
              "    }\n",
              "\n",
              "    .dataframe tbody tr th {\n",
              "        vertical-align: top;\n",
              "    }\n",
              "\n",
              "    .dataframe thead th {\n",
              "        text-align: right;\n",
              "    }\n",
              "</style>\n",
              "<table border=\"1\" class=\"dataframe\">\n",
              "  <thead>\n",
              "    <tr style=\"text-align: right;\">\n",
              "      <th></th>\n",
              "      <th>Unnamed: 0</th>\n",
              "      <th>children</th>\n",
              "      <th>days_employed</th>\n",
              "      <th>dob_years</th>\n",
              "      <th>education</th>\n",
              "      <th>education_id</th>\n",
              "      <th>family_status</th>\n",
              "      <th>family_status_id</th>\n",
              "      <th>gender</th>\n",
              "      <th>income_type</th>\n",
              "      <th>debt</th>\n",
              "      <th>total_income</th>\n",
              "      <th>purpose</th>\n",
              "      <th>age_group</th>\n",
              "      <th>children_yes_or_no</th>\n",
              "      <th>0</th>\n",
              "    </tr>\n",
              "  </thead>\n",
              "  <tbody>\n",
              "    <tr>\n",
              "      <th>0</th>\n",
              "      <td>0</td>\n",
              "      <td>1</td>\n",
              "      <td>8437</td>\n",
              "      <td>42</td>\n",
              "      <td>высшее</td>\n",
              "      <td>0</td>\n",
              "      <td>женат / замужем</td>\n",
              "      <td>0</td>\n",
              "      <td>F</td>\n",
              "      <td>сотрудник</td>\n",
              "      <td>0</td>\n",
              "      <td>253875.639453</td>\n",
              "      <td>покупка жилья</td>\n",
              "      <td>middle age</td>\n",
              "      <td>1</td>\n",
              "      <td>['покупка', ' ', 'жилье', '\\n']</td>\n",
              "    </tr>\n",
              "    <tr>\n",
              "      <th>1</th>\n",
              "      <td>1</td>\n",
              "      <td>1</td>\n",
              "      <td>4024</td>\n",
              "      <td>36</td>\n",
              "      <td>среднее</td>\n",
              "      <td>1</td>\n",
              "      <td>женат / замужем</td>\n",
              "      <td>0</td>\n",
              "      <td>F</td>\n",
              "      <td>сотрудник</td>\n",
              "      <td>0</td>\n",
              "      <td>112080.014102</td>\n",
              "      <td>приобретение автомобиля</td>\n",
              "      <td>middle age</td>\n",
              "      <td>1</td>\n",
              "      <td>['приобретение', ' ', 'автомобиль', '\\n']</td>\n",
              "    </tr>\n",
              "    <tr>\n",
              "      <th>2</th>\n",
              "      <td>2</td>\n",
              "      <td>0</td>\n",
              "      <td>5623</td>\n",
              "      <td>33</td>\n",
              "      <td>Среднее</td>\n",
              "      <td>1</td>\n",
              "      <td>женат / замужем</td>\n",
              "      <td>0</td>\n",
              "      <td>M</td>\n",
              "      <td>сотрудник</td>\n",
              "      <td>0</td>\n",
              "      <td>145885.952297</td>\n",
              "      <td>покупка жилья</td>\n",
              "      <td>middle age</td>\n",
              "      <td>0</td>\n",
              "      <td>['покупка', ' ', 'жилье', '\\n']</td>\n",
              "    </tr>\n",
              "    <tr>\n",
              "      <th>3</th>\n",
              "      <td>3</td>\n",
              "      <td>3</td>\n",
              "      <td>4124</td>\n",
              "      <td>32</td>\n",
              "      <td>среднее</td>\n",
              "      <td>1</td>\n",
              "      <td>женат / замужем</td>\n",
              "      <td>0</td>\n",
              "      <td>M</td>\n",
              "      <td>сотрудник</td>\n",
              "      <td>0</td>\n",
              "      <td>267628.550329</td>\n",
              "      <td>дополнительное образование</td>\n",
              "      <td>middle age</td>\n",
              "      <td>1</td>\n",
              "      <td>['дополнительный', ' ', 'образование', '\\n']</td>\n",
              "    </tr>\n",
              "    <tr>\n",
              "      <th>4</th>\n",
              "      <td>4</td>\n",
              "      <td>0</td>\n",
              "      <td>340266</td>\n",
              "      <td>53</td>\n",
              "      <td>среднее</td>\n",
              "      <td>1</td>\n",
              "      <td>гражданский брак</td>\n",
              "      <td>1</td>\n",
              "      <td>F</td>\n",
              "      <td>пенсионер</td>\n",
              "      <td>0</td>\n",
              "      <td>158616.077870</td>\n",
              "      <td>сыграть свадьбу</td>\n",
              "      <td>middle age</td>\n",
              "      <td>0</td>\n",
              "      <td>['сыграть', ' ', 'свадьба', '\\n']</td>\n",
              "    </tr>\n",
              "    <tr>\n",
              "      <th>...</th>\n",
              "      <td>...</td>\n",
              "      <td>...</td>\n",
              "      <td>...</td>\n",
              "      <td>...</td>\n",
              "      <td>...</td>\n",
              "      <td>...</td>\n",
              "      <td>...</td>\n",
              "      <td>...</td>\n",
              "      <td>...</td>\n",
              "      <td>...</td>\n",
              "      <td>...</td>\n",
              "      <td>...</td>\n",
              "      <td>...</td>\n",
              "      <td>...</td>\n",
              "      <td>...</td>\n",
              "      <td>...</td>\n",
              "    </tr>\n",
              "    <tr>\n",
              "      <th>21520</th>\n",
              "      <td>21520</td>\n",
              "      <td>1</td>\n",
              "      <td>4529</td>\n",
              "      <td>43</td>\n",
              "      <td>среднее</td>\n",
              "      <td>1</td>\n",
              "      <td>гражданский брак</td>\n",
              "      <td>1</td>\n",
              "      <td>F</td>\n",
              "      <td>компаньон</td>\n",
              "      <td>0</td>\n",
              "      <td>224791.862382</td>\n",
              "      <td>операции с жильем</td>\n",
              "      <td>middle age</td>\n",
              "      <td>1</td>\n",
              "      <td>['операция', ' ', 'с', ' ', 'жилье', '\\n']</td>\n",
              "    </tr>\n",
              "    <tr>\n",
              "      <th>21521</th>\n",
              "      <td>21521</td>\n",
              "      <td>0</td>\n",
              "      <td>343937</td>\n",
              "      <td>67</td>\n",
              "      <td>среднее</td>\n",
              "      <td>1</td>\n",
              "      <td>женат / замужем</td>\n",
              "      <td>0</td>\n",
              "      <td>F</td>\n",
              "      <td>пенсионер</td>\n",
              "      <td>0</td>\n",
              "      <td>155999.806512</td>\n",
              "      <td>сделка с автомобилем</td>\n",
              "      <td>senior</td>\n",
              "      <td>0</td>\n",
              "      <td>['сделка', ' ', 'с', ' ', 'автомобиль', '\\n']</td>\n",
              "    </tr>\n",
              "    <tr>\n",
              "      <th>21522</th>\n",
              "      <td>21522</td>\n",
              "      <td>1</td>\n",
              "      <td>2113</td>\n",
              "      <td>38</td>\n",
              "      <td>среднее</td>\n",
              "      <td>1</td>\n",
              "      <td>гражданский брак</td>\n",
              "      <td>1</td>\n",
              "      <td>M</td>\n",
              "      <td>сотрудник</td>\n",
              "      <td>1</td>\n",
              "      <td>89672.561153</td>\n",
              "      <td>недвижимость</td>\n",
              "      <td>middle age</td>\n",
              "      <td>1</td>\n",
              "      <td>['недвижимость', '\\n']</td>\n",
              "    </tr>\n",
              "    <tr>\n",
              "      <th>21523</th>\n",
              "      <td>21523</td>\n",
              "      <td>3</td>\n",
              "      <td>3112</td>\n",
              "      <td>38</td>\n",
              "      <td>среднее</td>\n",
              "      <td>1</td>\n",
              "      <td>женат / замужем</td>\n",
              "      <td>0</td>\n",
              "      <td>M</td>\n",
              "      <td>сотрудник</td>\n",
              "      <td>1</td>\n",
              "      <td>244093.050500</td>\n",
              "      <td>на покупку своего автомобиля</td>\n",
              "      <td>middle age</td>\n",
              "      <td>1</td>\n",
              "      <td>['на', ' ', 'покупка', ' ', 'свой', ' ', 'авто...</td>\n",
              "    </tr>\n",
              "    <tr>\n",
              "      <th>21524</th>\n",
              "      <td>21524</td>\n",
              "      <td>2</td>\n",
              "      <td>1984</td>\n",
              "      <td>40</td>\n",
              "      <td>среднее</td>\n",
              "      <td>1</td>\n",
              "      <td>женат / замужем</td>\n",
              "      <td>0</td>\n",
              "      <td>F</td>\n",
              "      <td>сотрудник</td>\n",
              "      <td>0</td>\n",
              "      <td>82047.418899</td>\n",
              "      <td>на покупку автомобиля</td>\n",
              "      <td>middle age</td>\n",
              "      <td>1</td>\n",
              "      <td>['на', ' ', 'покупка', ' ', 'автомобиль', '\\n']</td>\n",
              "    </tr>\n",
              "  </tbody>\n",
              "</table>\n",
              "<p>21525 rows × 16 columns</p>\n",
              "</div>"
            ],
            "text/plain": [
              "       Unnamed: 0  ...                                                  0\n",
              "0               0  ...                    ['покупка', ' ', 'жилье', '\\n']\n",
              "1               1  ...          ['приобретение', ' ', 'автомобиль', '\\n']\n",
              "2               2  ...                    ['покупка', ' ', 'жилье', '\\n']\n",
              "3               3  ...       ['дополнительный', ' ', 'образование', '\\n']\n",
              "4               4  ...                  ['сыграть', ' ', 'свадьба', '\\n']\n",
              "...           ...  ...                                                ...\n",
              "21520       21520  ...         ['операция', ' ', 'с', ' ', 'жилье', '\\n']\n",
              "21521       21521  ...      ['сделка', ' ', 'с', ' ', 'автомобиль', '\\n']\n",
              "21522       21522  ...                             ['недвижимость', '\\n']\n",
              "21523       21523  ...  ['на', ' ', 'покупка', ' ', 'свой', ' ', 'авто...\n",
              "21524       21524  ...    ['на', ' ', 'покупка', ' ', 'автомобиль', '\\n']\n",
              "\n",
              "[21525 rows x 16 columns]"
            ]
          },
          "metadata": {
            "tags": []
          },
          "execution_count": 128
        }
      ]
    },
    {
      "cell_type": "code",
      "metadata": {
        "colab": {
          "base_uri": "https://localhost:8080/"
        },
        "id": "qfWP74bdHM3l",
        "outputId": "68756471-574a-4d35-f44c-e8e77f8c3966"
      },
      "source": [
        "pip install pymorphy2"
      ],
      "execution_count": 129,
      "outputs": [
        {
          "output_type": "stream",
          "text": [
            "Requirement already satisfied: pymorphy2 in /usr/local/lib/python3.7/dist-packages (0.9.1)\n",
            "Requirement already satisfied: pymorphy2-dicts-ru<3.0,>=2.4 in /usr/local/lib/python3.7/dist-packages (from pymorphy2) (2.4.417127.4579844)\n",
            "Requirement already satisfied: docopt>=0.6 in /usr/local/lib/python3.7/dist-packages (from pymorphy2) (0.6.2)\n",
            "Requirement already satisfied: dawg-python>=0.7.1 in /usr/local/lib/python3.7/dist-packages (from pymorphy2) (0.7.2)\n"
          ],
          "name": "stdout"
        }
      ]
    },
    {
      "cell_type": "code",
      "metadata": {
        "id": "vegrlwTnDja3"
      },
      "source": [
        "import pymorphy2\n",
        "morph = pymorphy2.MorphAnalyzer()"
      ],
      "execution_count": 130,
      "outputs": []
    },
    {
      "cell_type": "code",
      "metadata": {
        "colab": {
          "base_uri": "https://localhost:8080/"
        },
        "id": "89I1RwdngNd7",
        "outputId": "265c1ba2-028e-470b-cf26-16990ed69a40"
      },
      "source": [
        "morph.parse('Мама')[0].tag"
      ],
      "execution_count": 137,
      "outputs": [
        {
          "output_type": "execute_result",
          "data": {
            "text/plain": [
              "OpencorporaTag('NOUN,anim,femn sing,nomn')"
            ]
          },
          "metadata": {
            "tags": []
          },
          "execution_count": 137
        }
      ]
    },
    {
      "cell_type": "code",
      "metadata": {
        "id": "tq4a0fFSN8gY"
      },
      "source": [
        "mama= morph.parse('Мама')[0]"
      ],
      "execution_count": 138,
      "outputs": []
    },
    {
      "cell_type": "code",
      "metadata": {
        "colab": {
          "base_uri": "https://localhost:8080/"
        },
        "id": "YFnlG8yyN8sF",
        "outputId": "ee9d5ead-7311-4b9c-9d01-eea52782fbc2"
      },
      "source": [
        "'NOUN' in mama.tag"
      ],
      "execution_count": 139,
      "outputs": [
        {
          "output_type": "execute_result",
          "data": {
            "text/plain": [
              "True"
            ]
          },
          "metadata": {
            "tags": []
          },
          "execution_count": 139
        }
      ]
    },
    {
      "cell_type": "markdown",
      "metadata": {
        "id": "evSJT6bnPgZt"
      },
      "source": [
        "Напишем функцию, которая оставит в списке строк только слова-существительные."
      ]
    },
    {
      "cell_type": "code",
      "metadata": {
        "id": "IKXfXY5QPfv-"
      },
      "source": [
        "def only_nouns(list_of_strings):\n",
        "    buf_list = []\n",
        "    for word in list_of_strings:\n",
        "        #print(word)\n",
        "        razbor = morph.parse(word)[0]\n",
        "        if 'NOUN' in razbor.tag:\n",
        "            buf_list.append(word)\n",
        "    \n",
        "    return buf_list"
      ],
      "execution_count": 140,
      "outputs": []
    },
    {
      "cell_type": "code",
      "metadata": {
        "id": "b4HfhK4nPfyB"
      },
      "source": [
        "lem =  pd.Series(lemmas.iloc[:, 15], name='Lemmas')"
      ],
      "execution_count": 141,
      "outputs": []
    },
    {
      "cell_type": "code",
      "metadata": {
        "colab": {
          "base_uri": "https://localhost:8080/",
          "height": 36
        },
        "id": "YY8BviZJhp4N",
        "outputId": "44133fdd-cc4c-4cb3-8359-eb540cd73445"
      },
      "source": [
        "lem[0]"
      ],
      "execution_count": 144,
      "outputs": [
        {
          "output_type": "execute_result",
          "data": {
            "application/vnd.google.colaboratory.intrinsic+json": {
              "type": "string"
            },
            "text/plain": [
              "\"['покупка', ' ', 'жилье', '\\\\n']\""
            ]
          },
          "metadata": {
            "tags": []
          },
          "execution_count": 144
        }
      ]
    },
    {
      "cell_type": "code",
      "metadata": {
        "colab": {
          "base_uri": "https://localhost:8080/"
        },
        "id": "dFBsiAUij9EB",
        "outputId": "832843f4-80d4-49f1-aed5-b9c897b09591"
      },
      "source": [
        "'мама_мыла раму'.split('_')"
      ],
      "execution_count": 164,
      "outputs": [
        {
          "output_type": "execute_result",
          "data": {
            "text/plain": [
              "['мама', 'мыла раму']"
            ]
          },
          "metadata": {
            "tags": []
          },
          "execution_count": 164
        }
      ]
    },
    {
      "cell_type": "code",
      "metadata": {
        "colab": {
          "base_uri": "https://localhost:8080/"
        },
        "id": "3_tvri5ElDa8",
        "outputId": "d3deff7e-f68b-433b-b569-f0f86eecb8d2"
      },
      "source": [
        "l = [int(i) for i in input().split()]"
      ],
      "execution_count": 165,
      "outputs": [
        {
          "output_type": "stream",
          "text": [
            "3 45 68\n"
          ],
          "name": "stdout"
        }
      ]
    },
    {
      "cell_type": "code",
      "metadata": {
        "colab": {
          "base_uri": "https://localhost:8080/"
        },
        "id": "lbtE_pzJlVIJ",
        "outputId": "d2cc29c6-6833-4dda-c439-76eb700b3070"
      },
      "source": [
        "l[0]/l[1]"
      ],
      "execution_count": 169,
      "outputs": [
        {
          "output_type": "execute_result",
          "data": {
            "text/plain": [
              "0.06666666666666667"
            ]
          },
          "metadata": {
            "tags": []
          },
          "execution_count": 169
        }
      ]
    },
    {
      "cell_type": "code",
      "metadata": {
        "colab": {
          "base_uri": "https://localhost:8080/",
          "height": 36
        },
        "id": "49Qya1KBmCf6",
        "outputId": "a9109fb7-0a5e-47bd-868c-0ac90f8ec602"
      },
      "source": [
        "lem[0]"
      ],
      "execution_count": 170,
      "outputs": [
        {
          "output_type": "execute_result",
          "data": {
            "application/vnd.google.colaboratory.intrinsic+json": {
              "type": "string"
            },
            "text/plain": [
              "\"['покупка', ' ', 'жилье', '\\\\n']\""
            ]
          },
          "metadata": {
            "tags": []
          },
          "execution_count": 170
        }
      ]
    },
    {
      "cell_type": "code",
      "metadata": {
        "colab": {
          "base_uri": "https://localhost:8080/"
        },
        "id": "NqnWf6UZiFbh",
        "outputId": "f1c96715-55ed-4114-a6ea-e5e8eef95736"
      },
      "source": [
        "lem[0].replace(\"[\", \"\").replace(\"]\", \"\").replace('\\'', \"\").replace(\",\", \"\").replace(\"\\\\n\", \"\").replace(\"  \", '').split()  # как заменять любое кол-во пробелов на 1 пробел??"
      ],
      "execution_count": 166,
      "outputs": [
        {
          "output_type": "execute_result",
          "data": {
            "text/plain": [
              "['покупка', 'жилье']"
            ]
          },
          "metadata": {
            "tags": []
          },
          "execution_count": 166
        }
      ]
    },
    {
      "cell_type": "code",
      "metadata": {
        "id": "k_RdEmcPVgld"
      },
      "source": [
        "lem = lem.apply(lambda x : x.replace(\"[\", \"\").replace(\"]\", \"\").replace(\"\\'\", \"\").replace(\",\", \"\").replace(\"\\\\n\", \"\").replace(\"  \", '').split())"
      ],
      "execution_count": 172,
      "outputs": []
    },
    {
      "cell_type": "code",
      "metadata": {
        "colab": {
          "base_uri": "https://localhost:8080/"
        },
        "id": "uidSszZDmYbR",
        "outputId": "c5612ff4-887f-43fb-9d81-2b9dcca44f31"
      },
      "source": [
        "lem"
      ],
      "execution_count": 173,
      "outputs": [
        {
          "output_type": "execute_result",
          "data": {
            "text/plain": [
              "0                       [покупка, жилье]\n",
              "1             [приобретение, автомобиль]\n",
              "2                       [покупка, жилье]\n",
              "3          [дополнительный, образование]\n",
              "4                     [сыграть, свадьба]\n",
              "                      ...               \n",
              "21520               [операция, с, жилье]\n",
              "21521            [сделка, с, автомобиль]\n",
              "21522                     [недвижимость]\n",
              "21523    [на, покупка, свой, автомобиль]\n",
              "21524          [на, покупка, автомобиль]\n",
              "Name: Lemmas, Length: 21525, dtype: object"
            ]
          },
          "metadata": {
            "tags": []
          },
          "execution_count": 173
        }
      ]
    },
    {
      "cell_type": "code",
      "metadata": {
        "id": "UEJxg_QzVU3J"
      },
      "source": [
        "lem = lem.apply(only_nouns)"
      ],
      "execution_count": 174,
      "outputs": []
    },
    {
      "cell_type": "code",
      "metadata": {
        "colab": {
          "base_uri": "https://localhost:8080/"
        },
        "id": "8a58QfQEmnTk",
        "outputId": "702be83f-63d1-49f8-91eb-72c14d92abc9"
      },
      "source": [
        "lem"
      ],
      "execution_count": 175,
      "outputs": [
        {
          "output_type": "execute_result",
          "data": {
            "text/plain": [
              "0                  [покупка, жилье]\n",
              "1        [приобретение, автомобиль]\n",
              "2                  [покупка, жилье]\n",
              "3                     [образование]\n",
              "4                         [свадьба]\n",
              "                    ...            \n",
              "21520             [операция, жилье]\n",
              "21521          [сделка, автомобиль]\n",
              "21522                [недвижимость]\n",
              "21523         [покупка, автомобиль]\n",
              "21524         [покупка, автомобиль]\n",
              "Name: Lemmas, Length: 21525, dtype: object"
            ]
          },
          "metadata": {
            "tags": []
          },
          "execution_count": 175
        }
      ]
    },
    {
      "cell_type": "code",
      "metadata": {
        "id": "-LYJg9GLXMzD"
      },
      "source": [
        "lem = lem.apply(lambda x: x[-1])"
      ],
      "execution_count": 176,
      "outputs": []
    },
    {
      "cell_type": "code",
      "metadata": {
        "colab": {
          "base_uri": "https://localhost:8080/"
        },
        "id": "AG8NN-WAXU01",
        "outputId": "bb9c81d1-4a19-4921-9681-5489496d4f6b"
      },
      "source": [
        "lem.unique()"
      ],
      "execution_count": 178,
      "outputs": [
        {
          "output_type": "execute_result",
          "data": {
            "text/plain": [
              "array(['жилье', 'автомобиль', 'образование', 'свадьба', 'семья',\n",
              "       'недвижимость', 'сдача'], dtype=object)"
            ]
          },
          "metadata": {
            "tags": []
          },
          "execution_count": 178
        }
      ]
    },
    {
      "cell_type": "markdown",
      "metadata": {
        "id": "4MyFmUAZXbS5"
      },
      "source": [
        "Итого получили 7 категорий целей (не вручную!)\n",
        "\n"
      ]
    },
    {
      "cell_type": "code",
      "metadata": {
        "id": "lCLnoIa-Y-X6"
      },
      "source": [
        "data_lemmatized = lemmas"
      ],
      "execution_count": 179,
      "outputs": []
    },
    {
      "cell_type": "code",
      "metadata": {
        "id": "-AZ8F5xzZFFh"
      },
      "source": [
        "data_lemmatized.purpose = lem"
      ],
      "execution_count": 183,
      "outputs": []
    },
    {
      "cell_type": "code",
      "metadata": {
        "colab": {
          "base_uri": "https://localhost:8080/",
          "height": 640
        },
        "id": "C_gQoh8sZZVC",
        "outputId": "2f1e67f4-bcbd-447e-8f6f-99d3d739fb42"
      },
      "source": [
        "data_lemmatized"
      ],
      "execution_count": 182,
      "outputs": [
        {
          "output_type": "execute_result",
          "data": {
            "text/html": [
              "<div>\n",
              "<style scoped>\n",
              "    .dataframe tbody tr th:only-of-type {\n",
              "        vertical-align: middle;\n",
              "    }\n",
              "\n",
              "    .dataframe tbody tr th {\n",
              "        vertical-align: top;\n",
              "    }\n",
              "\n",
              "    .dataframe thead th {\n",
              "        text-align: right;\n",
              "    }\n",
              "</style>\n",
              "<table border=\"1\" class=\"dataframe\">\n",
              "  <thead>\n",
              "    <tr style=\"text-align: right;\">\n",
              "      <th></th>\n",
              "      <th>Unnamed: 0</th>\n",
              "      <th>children</th>\n",
              "      <th>days_employed</th>\n",
              "      <th>dob_years</th>\n",
              "      <th>education</th>\n",
              "      <th>education_id</th>\n",
              "      <th>family_status</th>\n",
              "      <th>family_status_id</th>\n",
              "      <th>gender</th>\n",
              "      <th>income_type</th>\n",
              "      <th>debt</th>\n",
              "      <th>total_income</th>\n",
              "      <th>purpose</th>\n",
              "      <th>age_group</th>\n",
              "      <th>children_yes_or_no</th>\n",
              "      <th>0</th>\n",
              "    </tr>\n",
              "  </thead>\n",
              "  <tbody>\n",
              "    <tr>\n",
              "      <th>0</th>\n",
              "      <td>0</td>\n",
              "      <td>1</td>\n",
              "      <td>8437</td>\n",
              "      <td>42</td>\n",
              "      <td>высшее</td>\n",
              "      <td>0</td>\n",
              "      <td>женат / замужем</td>\n",
              "      <td>0</td>\n",
              "      <td>F</td>\n",
              "      <td>сотрудник</td>\n",
              "      <td>0</td>\n",
              "      <td>253875.639453</td>\n",
              "      <td>жилье</td>\n",
              "      <td>middle age</td>\n",
              "      <td>1</td>\n",
              "      <td>['покупка', ' ', 'жилье', '\\n']</td>\n",
              "    </tr>\n",
              "    <tr>\n",
              "      <th>1</th>\n",
              "      <td>1</td>\n",
              "      <td>1</td>\n",
              "      <td>4024</td>\n",
              "      <td>36</td>\n",
              "      <td>среднее</td>\n",
              "      <td>1</td>\n",
              "      <td>женат / замужем</td>\n",
              "      <td>0</td>\n",
              "      <td>F</td>\n",
              "      <td>сотрудник</td>\n",
              "      <td>0</td>\n",
              "      <td>112080.014102</td>\n",
              "      <td>автомобиль</td>\n",
              "      <td>middle age</td>\n",
              "      <td>1</td>\n",
              "      <td>['приобретение', ' ', 'автомобиль', '\\n']</td>\n",
              "    </tr>\n",
              "    <tr>\n",
              "      <th>2</th>\n",
              "      <td>2</td>\n",
              "      <td>0</td>\n",
              "      <td>5623</td>\n",
              "      <td>33</td>\n",
              "      <td>Среднее</td>\n",
              "      <td>1</td>\n",
              "      <td>женат / замужем</td>\n",
              "      <td>0</td>\n",
              "      <td>M</td>\n",
              "      <td>сотрудник</td>\n",
              "      <td>0</td>\n",
              "      <td>145885.952297</td>\n",
              "      <td>жилье</td>\n",
              "      <td>middle age</td>\n",
              "      <td>0</td>\n",
              "      <td>['покупка', ' ', 'жилье', '\\n']</td>\n",
              "    </tr>\n",
              "    <tr>\n",
              "      <th>3</th>\n",
              "      <td>3</td>\n",
              "      <td>3</td>\n",
              "      <td>4124</td>\n",
              "      <td>32</td>\n",
              "      <td>среднее</td>\n",
              "      <td>1</td>\n",
              "      <td>женат / замужем</td>\n",
              "      <td>0</td>\n",
              "      <td>M</td>\n",
              "      <td>сотрудник</td>\n",
              "      <td>0</td>\n",
              "      <td>267628.550329</td>\n",
              "      <td>образование</td>\n",
              "      <td>middle age</td>\n",
              "      <td>1</td>\n",
              "      <td>['дополнительный', ' ', 'образование', '\\n']</td>\n",
              "    </tr>\n",
              "    <tr>\n",
              "      <th>4</th>\n",
              "      <td>4</td>\n",
              "      <td>0</td>\n",
              "      <td>340266</td>\n",
              "      <td>53</td>\n",
              "      <td>среднее</td>\n",
              "      <td>1</td>\n",
              "      <td>гражданский брак</td>\n",
              "      <td>1</td>\n",
              "      <td>F</td>\n",
              "      <td>пенсионер</td>\n",
              "      <td>0</td>\n",
              "      <td>158616.077870</td>\n",
              "      <td>свадьба</td>\n",
              "      <td>middle age</td>\n",
              "      <td>0</td>\n",
              "      <td>['сыграть', ' ', 'свадьба', '\\n']</td>\n",
              "    </tr>\n",
              "    <tr>\n",
              "      <th>...</th>\n",
              "      <td>...</td>\n",
              "      <td>...</td>\n",
              "      <td>...</td>\n",
              "      <td>...</td>\n",
              "      <td>...</td>\n",
              "      <td>...</td>\n",
              "      <td>...</td>\n",
              "      <td>...</td>\n",
              "      <td>...</td>\n",
              "      <td>...</td>\n",
              "      <td>...</td>\n",
              "      <td>...</td>\n",
              "      <td>...</td>\n",
              "      <td>...</td>\n",
              "      <td>...</td>\n",
              "      <td>...</td>\n",
              "    </tr>\n",
              "    <tr>\n",
              "      <th>21520</th>\n",
              "      <td>21520</td>\n",
              "      <td>1</td>\n",
              "      <td>4529</td>\n",
              "      <td>43</td>\n",
              "      <td>среднее</td>\n",
              "      <td>1</td>\n",
              "      <td>гражданский брак</td>\n",
              "      <td>1</td>\n",
              "      <td>F</td>\n",
              "      <td>компаньон</td>\n",
              "      <td>0</td>\n",
              "      <td>224791.862382</td>\n",
              "      <td>жилье</td>\n",
              "      <td>middle age</td>\n",
              "      <td>1</td>\n",
              "      <td>['операция', ' ', 'с', ' ', 'жилье', '\\n']</td>\n",
              "    </tr>\n",
              "    <tr>\n",
              "      <th>21521</th>\n",
              "      <td>21521</td>\n",
              "      <td>0</td>\n",
              "      <td>343937</td>\n",
              "      <td>67</td>\n",
              "      <td>среднее</td>\n",
              "      <td>1</td>\n",
              "      <td>женат / замужем</td>\n",
              "      <td>0</td>\n",
              "      <td>F</td>\n",
              "      <td>пенсионер</td>\n",
              "      <td>0</td>\n",
              "      <td>155999.806512</td>\n",
              "      <td>автомобиль</td>\n",
              "      <td>senior</td>\n",
              "      <td>0</td>\n",
              "      <td>['сделка', ' ', 'с', ' ', 'автомобиль', '\\n']</td>\n",
              "    </tr>\n",
              "    <tr>\n",
              "      <th>21522</th>\n",
              "      <td>21522</td>\n",
              "      <td>1</td>\n",
              "      <td>2113</td>\n",
              "      <td>38</td>\n",
              "      <td>среднее</td>\n",
              "      <td>1</td>\n",
              "      <td>гражданский брак</td>\n",
              "      <td>1</td>\n",
              "      <td>M</td>\n",
              "      <td>сотрудник</td>\n",
              "      <td>1</td>\n",
              "      <td>89672.561153</td>\n",
              "      <td>недвижимость</td>\n",
              "      <td>middle age</td>\n",
              "      <td>1</td>\n",
              "      <td>['недвижимость', '\\n']</td>\n",
              "    </tr>\n",
              "    <tr>\n",
              "      <th>21523</th>\n",
              "      <td>21523</td>\n",
              "      <td>3</td>\n",
              "      <td>3112</td>\n",
              "      <td>38</td>\n",
              "      <td>среднее</td>\n",
              "      <td>1</td>\n",
              "      <td>женат / замужем</td>\n",
              "      <td>0</td>\n",
              "      <td>M</td>\n",
              "      <td>сотрудник</td>\n",
              "      <td>1</td>\n",
              "      <td>244093.050500</td>\n",
              "      <td>автомобиль</td>\n",
              "      <td>middle age</td>\n",
              "      <td>1</td>\n",
              "      <td>['на', ' ', 'покупка', ' ', 'свой', ' ', 'авто...</td>\n",
              "    </tr>\n",
              "    <tr>\n",
              "      <th>21524</th>\n",
              "      <td>21524</td>\n",
              "      <td>2</td>\n",
              "      <td>1984</td>\n",
              "      <td>40</td>\n",
              "      <td>среднее</td>\n",
              "      <td>1</td>\n",
              "      <td>женат / замужем</td>\n",
              "      <td>0</td>\n",
              "      <td>F</td>\n",
              "      <td>сотрудник</td>\n",
              "      <td>0</td>\n",
              "      <td>82047.418899</td>\n",
              "      <td>автомобиль</td>\n",
              "      <td>middle age</td>\n",
              "      <td>1</td>\n",
              "      <td>['на', ' ', 'покупка', ' ', 'автомобиль', '\\n']</td>\n",
              "    </tr>\n",
              "  </tbody>\n",
              "</table>\n",
              "<p>21525 rows × 16 columns</p>\n",
              "</div>"
            ],
            "text/plain": [
              "       Unnamed: 0  ...                                                  0\n",
              "0               0  ...                    ['покупка', ' ', 'жилье', '\\n']\n",
              "1               1  ...          ['приобретение', ' ', 'автомобиль', '\\n']\n",
              "2               2  ...                    ['покупка', ' ', 'жилье', '\\n']\n",
              "3               3  ...       ['дополнительный', ' ', 'образование', '\\n']\n",
              "4               4  ...                  ['сыграть', ' ', 'свадьба', '\\n']\n",
              "...           ...  ...                                                ...\n",
              "21520       21520  ...         ['операция', ' ', 'с', ' ', 'жилье', '\\n']\n",
              "21521       21521  ...      ['сделка', ' ', 'с', ' ', 'автомобиль', '\\n']\n",
              "21522       21522  ...                             ['недвижимость', '\\n']\n",
              "21523       21523  ...  ['на', ' ', 'покупка', ' ', 'свой', ' ', 'авто...\n",
              "21524       21524  ...    ['на', ' ', 'покупка', ' ', 'автомобиль', '\\n']\n",
              "\n",
              "[21525 rows x 16 columns]"
            ]
          },
          "metadata": {
            "tags": []
          },
          "execution_count": 182
        }
      ]
    },
    {
      "cell_type": "code",
      "metadata": {
        "id": "B_mlPPNTZN2e"
      },
      "source": [
        "data = data_lemmatized.iloc[:, 0:15]"
      ],
      "execution_count": 184,
      "outputs": []
    },
    {
      "cell_type": "markdown",
      "metadata": {
        "id": "Z2Rgw5qXDja3"
      },
      "source": [
        "**Вывод**"
      ]
    },
    {
      "cell_type": "markdown",
      "metadata": {
        "id": "J6CBhwxdDja4"
      },
      "source": [
        "Лемматизируем строки в столбце 'purpose'. Для этого выделим основу каждого слова word в столбце и сохраним как переменную lemmas.\n",
        "\n"
      ]
    },
    {
      "cell_type": "markdown",
      "metadata": {
        "id": "KbW4rrhCDja4"
      },
      "source": [
        "### Категоризация данных"
      ]
    },
    {
      "cell_type": "code",
      "metadata": {
        "id": "yMv2iUWJDja4"
      },
      "source": [
        "##print(data['purpose'].value_counts())\n",
        "#\n",
        "#def category_purpose(purpose):\n",
        "#    for i in lemmas:\n",
        "#        if 'жилье' in i:\n",
        "#            return 'операции с недвижимостью'\n",
        "#        if 'недвижимость' in i:\n",
        "#            return 'операции с недвижимостью'\n",
        "#        if 'автомобиль' in i:\n",
        "#            return 'операции с автомобилем'\n",
        "#        if 'свадьба' in i:\n",
        "#            return 'свадьба'  \n",
        "#        if 'образование' in i:\n",
        "#            return 'образование'     \n",
        "#    \n",
        "#data.loc[data.loc[:,'purpose'].apply(category_purpose)] \n",
        "#\n",
        "#print(Counter(data['purpose']))\n",
        "#"
      ],
      "execution_count": null,
      "outputs": []
    },
    {
      "cell_type": "markdown",
      "metadata": {
        "id": "nZ16oThHDja4"
      },
      "source": [
        "<div class=\"alert alert-warning\" style=\"border-radius: 15px; box-shadow: 4px 4px 4px; border: 1px solid \">\n",
        "<h2> Комментарий ревьюера</h2>\n",
        "    \n",
        "Согласна с категориями. Но если у тебя будет миллион строк и 100 категорий? Проще ведь сначала лемматизировать, а потом тот же Counter применить.  </div>\n",
        "\n",
        "<div class=\"alert alert-danger\" style=\"border-radius: 15px; box-shadow: 4px 4px 4px; border: 1px solid \">\n",
        "<h2> Комментарий ревьюера</h2>\n",
        "    \n",
        "Не забудь исправить ошибку. </div>"
      ]
    },
    {
      "cell_type": "markdown",
      "metadata": {
        "id": "Pz1fiZvpDja5"
      },
      "source": [
        "**Вывод**"
      ]
    },
    {
      "cell_type": "markdown",
      "metadata": {
        "id": "c91XpOyGDja5"
      },
      "source": [
        "Методом value_counts проверяем какие значения встречаются в столбце 'purpose'. Видно, что они и те же цели написаны по-разному (например, 'свадьба': 797, 'на проведение свадьбы': 777, 'сыграть свадьбу' и тд.). В функции создадим сортировку по категорям для целей кредита и перезапишем столбец purpose используя категории. Методом Counter проверим новые значения столбца purpose.  "
      ]
    },
    {
      "cell_type": "markdown",
      "metadata": {
        "id": "ueiFfrKQDja5"
      },
      "source": [
        "## Шаг 3. Ответьте на вопросы"
      ]
    },
    {
      "cell_type": "markdown",
      "metadata": {
        "id": "1rowu8mpDja5"
      },
      "source": [
        "- Есть ли зависимость между наличием детей и возвратом кредита в срок?"
      ]
    },
    {
      "cell_type": "code",
      "metadata": {
        "colab": {
          "base_uri": "https://localhost:8080/"
        },
        "id": "JxnAmJpADja5",
        "outputId": "c256af9d-6fe2-4c16-ea3e-93a95e521ffc"
      },
      "source": [
        "# Проверим количество детей на наличие артефактов:\n",
        "print(data['children'].value_counts())\n",
        "\n",
        "# Видим, что 47 строк имеют отрицательное количество детей (-1). \n",
        "#Скорее всего, знак минус был добавлен ошибочно. Избавимся от отрицательных значений методом abs:\n",
        "data['children'] = data['children'].abs()\n",
        "\n",
        "# 76 строк имеют количестыо делей равное 20. Учитывая что максимальное значение детей 5 (если отбросить 20),\n",
        "#говорит о том, что данные наиболее вероятно были введены с ошибкой. Перезапишем 20 детей как 2:\n",
        "\n",
        "def change_amount_of_children(x):\n",
        "    if x == 20:\n",
        "        return 2\n",
        "    else:\n",
        "        return x\n",
        "\n",
        "  \n",
        "data['children'] = data['children'].apply(change_amount_of_children)\n",
        "\n",
        "# Проверим результат методом value_counts()\n",
        "print(data['children'].value_counts())"
      ],
      "execution_count": 13,
      "outputs": [
        {
          "output_type": "stream",
          "text": [
            " 0     14146\n",
            " 1      4817\n",
            " 2      2055\n",
            " 3       330\n",
            " 20       76\n",
            "-1        47\n",
            " 4        41\n",
            " 5         9\n",
            "Name: children, dtype: int64\n",
            "0    14146\n",
            "1     4864\n",
            "2     2131\n",
            "3      330\n",
            "4       41\n",
            "5        9\n",
            "Name: children, dtype: int64\n"
          ],
          "name": "stdout"
        }
      ]
    },
    {
      "cell_type": "code",
      "metadata": {
        "colab": {
          "base_uri": "https://localhost:8080/"
        },
        "id": "ilm79sGIDja5",
        "outputId": "fc22aedd-423c-490b-82ee-0f80d8f37a64"
      },
      "source": [
        "debt_by_children_group = data.groupby('children')['debt'].sum()\n",
        "applicants_by_children_group = data.groupby('children')['children'].count() \n",
        "\n",
        "print(debt_by_children_group)\n",
        "print(applicants_by_children_group)\n",
        "\n",
        "perc_of_debt_by_children = (debt_by_children_group / applicants_by_children_group) * 100\n",
        "\n",
        "print((perc_of_debt_by_children).sort_values())"
      ],
      "execution_count": 14,
      "outputs": [
        {
          "output_type": "stream",
          "text": [
            "children\n",
            "0    1063\n",
            "1     445\n",
            "2     202\n",
            "3      27\n",
            "4       4\n",
            "5       0\n",
            "Name: debt, dtype: int64\n",
            "children\n",
            "0    14146\n",
            "1     4864\n",
            "2     2131\n",
            "3      330\n",
            "4       41\n",
            "5        9\n",
            "Name: children, dtype: int64\n",
            "children\n",
            "5    0.000000\n",
            "0    7.514492\n",
            "3    8.181818\n",
            "1    9.148849\n",
            "2    9.479118\n",
            "4    9.756098\n",
            "dtype: float64\n"
          ],
          "name": "stdout"
        }
      ]
    },
    {
      "cell_type": "markdown",
      "metadata": {
        "id": "rnylifhMDja5"
      },
      "source": [
        "**Вывод**"
      ]
    },
    {
      "cell_type": "markdown",
      "metadata": {
        "id": "ownXAGP-Dja5"
      },
      "source": [
        "Коэффициент корреляции между наличием детей и задолженностей по кредиту равен 0.03. Явной зависимости между этими двумя параметрами нет."
      ]
    },
    {
      "cell_type": "markdown",
      "metadata": {
        "id": "4NArh104Dja6"
      },
      "source": [
        "<div class=\"alert alert-danger\" style=\"border-radius: 15px; box-shadow: 4px 4px 4px; border: 1px solid \">\n",
        "<h2> Комментарий ревьюера</h2>\n",
        "    \n",
        "Это коэфф-т линейной связи. А если связь нелинейная? Выведи проценты невозврата. Для этого надо число долгов разделить на общее число кредитов внутри каждой группы. Ниже аналогично. </div>\n",
        "\n",
        "<div class=\"alert alert-info\">\n",
        "<h2> Комментарий студента</h2>\n",
        "\n",
        "Подсчитаем количество долга в зависимости от наличния и количества детей. Для этого сгруппируем данные по столбцу 'children' и подсчитаем количество долгов по сгруппированным данным:    \n",
        "debt_by_children_group = data.groupby('children')['debt'].sum()\n",
        "    \n",
        "Затем подсчитаем общее количество подавшихся на кредит также сгруппированных по наличию и количеству детей:    \n",
        "applicants_by_children_group = data.groupby('children')['children'].count() \n",
        "\n",
        "Распечатаем предварительные данные:\n",
        "print(debt_by_children_group)\n",
        "print(applicants_by_children_group)\n",
        "\n",
        "Вылислим процент невозврата по сгруппированным данным и выведем данные на экран:    \n",
        "perc_of_debt_by_children = (debt_by_children_group / applicants_by_children_group) * 100\n",
        "\n",
        "print(perc_of_debt_by_children)\n",
        "</div>\n",
        "\n",
        "<div class=\"alert alert-warning\" style=\"border-radius: 15px; box-shadow: 4px 4px 4px; border: 1px solid \">\n",
        "<h2> Комментарий ревьюера</h2>\n",
        "    \n",
        "20 детей это не ошибка? </div>\n",
        "\n",
        "<div class=\"alert alert-info\">\n",
        "<h2> Комментарий студента</h2>\n",
        "\n",
        "Проверим количество детей на наличие артефактов:\n",
        "print(data['children'].value_counts())\n",
        "\n",
        "Видим, что 47 строк имеют отрицательное количество детей (-1). \n",
        "Скорее всего, знак минус был добавлен ошибочно. Избавимся от отрицательных значений методом abs:\n",
        "data['children'] = data['children'].abs()\n",
        "\n",
        "76 строк имеют количестыо делей равное 20. Учитывая что максимальное значение детей 5 (если отбросить 20), это\n",
        "говорит о том, что данные наиболее вероятно были введены с ошибкой. Перезапишем 20 детей как 2:\n",
        "\n",
        "def change_amount_of_children(x):\n",
        "    if x == 20:\n",
        "        return 2\n",
        "    else:\n",
        "        return x\n",
        "\n",
        "  \n",
        "data['children'] = data['children'].apply(change_amount_of_children)\n",
        "\n",
        "Проверим результат методом value_counts()\n",
        "print(data['children'].value_counts())\n",
        "</div>\n",
        "\n",
        "<div class=\"alert alert-info\">\n",
        "<h2> Комментарий студента</h2>\n",
        "\n",
        "Вывод:\n",
        "Самый низкий процент невозврата наблюдается среди людей с 5 детьми. Однако это неверный вывод, так как таких людей всего 9. соответственно, данные по этой группе не могут быть использованы для исчерпывающего анализа. \n",
        "Следующий самый низкий процент невозврата (7.51%) наблюдается среди людей без детей. Самый высокий процент наблюдается для людей с 4 детьми (9.75%), однако таких людей всего 41, что значительно меньше в сравнении с количеством людей без детей (14149). В целом с увеличением количества детей процент невозврата растет. \n",
        "    \n",
        "</div>"
      ]
    },
    {
      "cell_type": "markdown",
      "metadata": {
        "id": "CPXSR9G2Dja6"
      },
      "source": [
        "- Есть ли зависимость между семейным положением и возвратом кредита в срок?"
      ]
    },
    {
      "cell_type": "code",
      "metadata": {
        "colab": {
          "base_uri": "https://localhost:8080/"
        },
        "id": "cQulKs2UDja6",
        "outputId": "704df527-bb78-46a3-9384-2b0b9581ccee"
      },
      "source": [
        "print(data['family_status'].value_counts())\n",
        "\n",
        "debt_by_family_status_group = data.groupby('family_status')['debt'].sum()\n",
        "applicants_by_family_status_group = data.groupby('family_status')['family_status'].count() \n",
        "\n",
        "perc_of_debt_by_family_status = (debt_by_family_status_group / applicants_by_family_status_group) * 100\n",
        "\n",
        "print((perc_of_debt_by_family_status).sort_values())"
      ],
      "execution_count": 15,
      "outputs": [
        {
          "output_type": "stream",
          "text": [
            "женат / замужем          12378\n",
            "гражданский брак          4177\n",
            "не женат / не замужем     2813\n",
            "в разводе                 1193\n",
            "вдовец / вдова             960\n",
            "Name: family_status, dtype: int64\n",
            "family_status\n",
            "вдовец / вдова           6.562500\n",
            "в разводе                7.124895\n",
            "женат / замужем          7.521409\n",
            "гражданский брак         9.288963\n",
            "не женат / не замужем    9.740491\n",
            "dtype: float64\n"
          ],
          "name": "stdout"
        }
      ]
    },
    {
      "cell_type": "markdown",
      "metadata": {
        "id": "rBIaGu8JDja6"
      },
      "source": [
        "**Вывод**"
      ]
    },
    {
      "cell_type": "markdown",
      "metadata": {
        "id": "gEz2S1XyDja6"
      },
      "source": [
        "Коэффициент корреляции между семейным положением и задолженностей по кредиту равен -0.008. Явной зависимости между этими двумя параметрами нет.\n",
        "<div class=\"alert alert-info\">\n",
        "<h2> Комментарий студента</h2>\n",
        "\n",
        "Вывод:\n",
        "Самый низкий процент невозврата наблюдается для людей со статусом 'вдовец / вдова', однако общее количество таких людей в 10 раз меньше по сравнению с людьми в статусе 'женат / замужем'. \n",
        "Самый высокий процент наблюдался для людей со статусом 'Не женат / не замужем' (9.74%).    \n",
        "    \n",
        "</div>"
      ]
    },
    {
      "cell_type": "markdown",
      "metadata": {
        "id": "EZWNOoqRDja7"
      },
      "source": [
        "- Есть ли зависимость между уровнем дохода и возвратом кредита в срок?"
      ]
    },
    {
      "cell_type": "code",
      "metadata": {
        "colab": {
          "base_uri": "https://localhost:8080/"
        },
        "id": "BC6jJm9PDja7",
        "outputId": "37aa48da-e51d-436f-fdc1-07304a398972"
      },
      "source": [
        "data['debt'].corr(data['total_income']) # линейной корреляции нет\n",
        "\n",
        "# Разобьем данные по доходу на квартили, чтобы получить рамки доходом для группировки по группам: \n",
        "print(data['total_income'].quantile([0.25, 0.50, 0.75], interpolation='nearest'))\n",
        "\n",
        "# Группируем используя полученные квартили:\n",
        "def income_levels(x):\n",
        "    if x < 107702:\n",
        "        return 'low_income'\n",
        "    if 107702 <= x < 143302:\n",
        "        return 'middle'\n",
        "    if 143302 <= x < 198149:\n",
        "        return 'middle_high'\n",
        "    if x > 198149:\n",
        "        return 'high'\n",
        "    \n",
        "data['income_group'] = data['total_income'].apply(income_levels)   \n",
        "\n",
        "print(data['income_group'].value_counts())\n",
        "\n",
        "debt_by_income_group = data.groupby('income_group')['debt'].sum()\n",
        "applicants_by_income_group = data.groupby('income_group')['income_group'].count() \n",
        "\n",
        "perc_of_debt_by_income = (debt_by_income_group / applicants_by_income_group) * 100\n",
        "\n",
        "print((perc_of_debt_by_income).sort_values())"
      ],
      "execution_count": 16,
      "outputs": [
        {
          "output_type": "stream",
          "text": [
            "0.25    107702\n",
            "0.50    143302\n",
            "0.75    198149\n",
            "Name: total_income, dtype: int64\n",
            "middle_high    5381\n",
            "low_income     5380\n",
            "high           5380\n",
            "middle         5379\n",
            "Name: income_group, dtype: int64\n",
            "income_group\n",
            "high           6.970260\n",
            "low_income     7.936803\n",
            "middle_high    8.567181\n",
            "middle         8.886410\n",
            "dtype: float64\n"
          ],
          "name": "stdout"
        }
      ]
    },
    {
      "cell_type": "markdown",
      "metadata": {
        "id": "dyS2vV54Dja7"
      },
      "source": [
        "**Вывод**\n",
        "\n",
        "<div class=\"alert alert-info\">\n",
        "<h2> Комментарий студента</h2>\n",
        "\n",
        "Линейной корреляции между уровнем дохода и возвратом кредита в срок выявлено не было. \n",
        "    \n",
        "После распреденения данных по уровню дохода с использованием квартилей и расчета доли невыплат по кредиту для сгруппированных данных, видим следующее: самый низкий процент невозврата (6.96%) наблюдается для группы с высоким уровнем дохода (выше 198149). Самый высокий процент (8.88%) наблюдается для для группы с уровнем дохода 107702 - 143302.\n",
        "</div>"
      ]
    },
    {
      "cell_type": "markdown",
      "metadata": {
        "id": "xCcasbwGDja7"
      },
      "source": [
        ""
      ]
    },
    {
      "cell_type": "markdown",
      "metadata": {
        "id": "cLIsFa8WDja7"
      },
      "source": [
        "- Как разные цели кредита влияют на его возврат в срок?"
      ]
    },
    {
      "cell_type": "code",
      "metadata": {
        "id": "QShYyedVDja8"
      },
      "source": [
        "\n",
        "debt_by_purpose = data.groupby('purpose')['debt'].sum()\n",
        "applicants_by_purpose = data.groupby('purpose')['purpose'].count()"
      ],
      "execution_count": 185,
      "outputs": []
    },
    {
      "cell_type": "code",
      "metadata": {
        "colab": {
          "base_uri": "https://localhost:8080/"
        },
        "id": "xlHg-NbZZ2gb",
        "outputId": "da9ec658-fc79-4d85-c9ce-6f59d34a4b44"
      },
      "source": [
        "debt_by_purpose"
      ],
      "execution_count": 186,
      "outputs": [
        {
          "output_type": "execute_result",
          "data": {
            "text/plain": [
              "purpose\n",
              "автомобиль      403\n",
              "жилье           211\n",
              "недвижимость    474\n",
              "образование     370\n",
              "свадьба         186\n",
              "сдача            52\n",
              "семья            45\n",
              "Name: debt, dtype: int64"
            ]
          },
          "metadata": {
            "tags": []
          },
          "execution_count": 186
        }
      ]
    },
    {
      "cell_type": "code",
      "metadata": {
        "colab": {
          "base_uri": "https://localhost:8080/"
        },
        "id": "_E55surAaHOF",
        "outputId": "2ea9a8b3-eeab-4371-e7f2-dc4da3c42858"
      },
      "source": [
        "applicants_by_purpose"
      ],
      "execution_count": 187,
      "outputs": [
        {
          "output_type": "execute_result",
          "data": {
            "text/plain": [
              "purpose\n",
              "автомобиль      4315\n",
              "жилье           3179\n",
              "недвижимость    6367\n",
              "образование     4022\n",
              "свадьба         2348\n",
              "сдача            653\n",
              "семья            641\n",
              "Name: purpose, dtype: int64"
            ]
          },
          "metadata": {
            "tags": []
          },
          "execution_count": 187
        }
      ]
    },
    {
      "cell_type": "code",
      "metadata": {
        "id": "Hz9W1wBuaPJJ"
      },
      "source": [
        "perc_of_debt_by_purpose = (debt_by_purpose/ applicants_by_purpose) * 100"
      ],
      "execution_count": 188,
      "outputs": []
    },
    {
      "cell_type": "code",
      "metadata": {
        "colab": {
          "base_uri": "https://localhost:8080/"
        },
        "id": "ORsOfRq7aU6Z",
        "outputId": "11462ab4-3bf5-4239-908e-623e6deac188"
      },
      "source": [
        "perc_of_debt_by_purpose"
      ],
      "execution_count": 189,
      "outputs": [
        {
          "output_type": "execute_result",
          "data": {
            "text/plain": [
              "purpose\n",
              "автомобиль      9.339513\n",
              "жилье           6.637307\n",
              "недвижимость    7.444636\n",
              "образование     9.199403\n",
              "свадьба         7.921635\n",
              "сдача           7.963247\n",
              "семья           7.020281\n",
              "dtype: float64"
            ]
          },
          "metadata": {
            "tags": []
          },
          "execution_count": 189
        }
      ]
    },
    {
      "cell_type": "markdown",
      "metadata": {
        "id": "S8FN855hDja8"
      },
      "source": [
        "**Вывод**"
      ]
    },
    {
      "cell_type": "markdown",
      "metadata": {
        "id": "nANLI3DVDja8"
      },
      "source": [
        "Для анализа корреляции нужно привести значения в столбце purpose к категориальному типу. При использовании метода corr, коэффициент корреляции 0.001. Значительной корреляции между величинами нет."
      ]
    },
    {
      "cell_type": "markdown",
      "metadata": {
        "id": "viMFtt9BDja8"
      },
      "source": [
        "## Шаг 4. Общий вывод"
      ]
    },
    {
      "cell_type": "markdown",
      "metadata": {
        "id": "IPnzB7iHDja8"
      },
      "source": [
        "Анализ показал, что ни один из перечисленных факторов не оказывает значительного влияния на возврат кредита в срок. "
      ]
    },
    {
      "cell_type": "markdown",
      "metadata": {
        "id": "dI5O1WEuDja8"
      },
      "source": [
        "<div class=\"alert alert-warning\" style=\"border-radius: 15px; box-shadow: 4px 4px 4px; border: 1px solid\">\n",
        "<h2> Комментарий ревьюера</h2>\n",
        "    \n",
        "После корректировок не забудь привести проценты невозврата в срок у самых надежных и самых безответственных клиентов для каждой группы. Например: самые надежные клиенты это люди, берущие кредит на операции с недвижимостью (такой-то процент невозврата в срок), а самые безответственные те, кто обращается в банк с целью получить деньги на покупку автомобиля (такой-то процент). И так для каждый группы. Это хороший тон, — подкреплять вывод полученными ранее результатами. Кроме того, так ты не оставляешь заказчику шансов неверно интерпретировать вывод.\n",
        "</div>"
      ]
    },
    {
      "cell_type": "markdown",
      "metadata": {
        "id": "j5Tjopt-Dja8"
      },
      "source": [
        "## Чек-лист готовности проекта\n",
        "\n",
        "Поставьте 'x' в выполненных пунктах. Далее нажмите Shift+Enter."
      ]
    },
    {
      "cell_type": "markdown",
      "metadata": {
        "id": "O-dxSoxADja8"
      },
      "source": [
        "- [x]  открыт файл;\n",
        "- [x]  файл изучен;\n",
        "- [x]  определены пропущенные значения;\n",
        "- [x]  заполнены пропущенные значения;\n",
        "- [x]  есть пояснение, какие пропущенные значения обнаружены;\n",
        "- [x]  описаны возможные причины появления пропусков в данных;\n",
        "- [ ]  объяснено, по какому принципу заполнены пропуски;\n",
        "- [ ]  заменен вещественный тип данных на целочисленный;\n",
        "- [ ]  есть пояснение, какой метод используется для изменения типа данных и почему;\n",
        "- [ ]  удалены дубликаты;\n",
        "- [ ]  есть пояснение, какой метод используется для поиска и удаления дубликатов;\n",
        "- [ ]  описаны возможные причины появления дубликатов в данных;\n",
        "- [ ]  выделены леммы в значениях столбца с целями получения кредита;\n",
        "- [ ]  описан процесс лемматизации;\n",
        "- [ ]  данные категоризированы;\n",
        "- [ ]  есть объяснение принципа категоризации данных;\n",
        "- [ ]  есть ответ на вопрос: \"Есть ли зависимость между наличием детей и возвратом кредита в срок?\";\n",
        "- [ ]  есть ответ на вопрос: \"Есть ли зависимость между семейным положением и возвратом кредита в срок?\";\n",
        "- [ ]  есть ответ на вопрос: \"Есть ли зависимость между уровнем дохода и возвратом кредита в срок?\";\n",
        "- [ ]  есть ответ на вопрос: \"Как разные цели кредита влияют на его возврат в срок?\";\n",
        "- [ ]  в каждом этапе есть выводы;\n",
        "- [ ]  есть общий вывод."
      ]
    }
  ]
}