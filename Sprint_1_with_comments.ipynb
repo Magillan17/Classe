{
  "nbformat": 4,
  "nbformat_minor": 0,
  "metadata": {
    "colab": {
      "name": "Sprint_1_with_comments.ipynb",
      "provenance": [],
      "collapsed_sections": []
    },
    "kernelspec": {
      "name": "python3",
      "display_name": "Python 3"
    },
    "language_info": {
      "name": "python"
    }
  },
  "cells": [
    {
      "cell_type": "code",
      "metadata": {
        "id": "fHuMSrQZlrg_",
        "colab": {
          "base_uri": "https://localhost:8080/"
        },
        "outputId": "4ce29a4b-4ab1-4024-b2e2-24a53810eeff"
      },
      "source": [
        "from google.colab import drive\n",
        "drive.mount('/content/drive')"
      ],
      "execution_count": null,
      "outputs": [
        {
          "output_type": "stream",
          "text": [
            "Drive already mounted at /content/drive; to attempt to forcibly remount, call drive.mount(\"/content/drive\", force_remount=True).\n"
          ],
          "name": "stdout"
        }
      ]
    },
    {
      "cell_type": "markdown",
      "metadata": {
        "id": "B_-QdelLGZX_"
      },
      "source": [
        "### Импорт данных через google disk:"
      ]
    },
    {
      "cell_type": "code",
      "metadata": {
        "colab": {
          "base_uri": "https://localhost:8080/",
          "height": 328
        },
        "id": "Hd8dMUWSlxOB",
        "outputId": "c41f5cb8-e3c2-442e-ad36-465a43b6b085"
      },
      "source": [
        "import pandas as pd\n",
        "data = pd.read_csv('/content/drive/MyDrive/Inga/Data/data_project_1.csv')\n",
        "\n",
        "data.head()"
      ],
      "execution_count": 99,
      "outputs": [
        {
          "output_type": "execute_result",
          "data": {
            "text/html": [
              "<div>\n",
              "<style scoped>\n",
              "    .dataframe tbody tr th:only-of-type {\n",
              "        vertical-align: middle;\n",
              "    }\n",
              "\n",
              "    .dataframe tbody tr th {\n",
              "        vertical-align: top;\n",
              "    }\n",
              "\n",
              "    .dataframe thead th {\n",
              "        text-align: right;\n",
              "    }\n",
              "</style>\n",
              "<table border=\"1\" class=\"dataframe\">\n",
              "  <thead>\n",
              "    <tr style=\"text-align: right;\">\n",
              "      <th></th>\n",
              "      <th>Unnamed: 0</th>\n",
              "      <th>children</th>\n",
              "      <th>days_employed</th>\n",
              "      <th>dob_years</th>\n",
              "      <th>education</th>\n",
              "      <th>education_id</th>\n",
              "      <th>family_status</th>\n",
              "      <th>family_status_id</th>\n",
              "      <th>gender</th>\n",
              "      <th>income_type</th>\n",
              "      <th>debt</th>\n",
              "      <th>total_income</th>\n",
              "      <th>purpose</th>\n",
              "    </tr>\n",
              "  </thead>\n",
              "  <tbody>\n",
              "    <tr>\n",
              "      <th>0</th>\n",
              "      <td>0</td>\n",
              "      <td>1</td>\n",
              "      <td>-8437.673028</td>\n",
              "      <td>42</td>\n",
              "      <td>высшее</td>\n",
              "      <td>0</td>\n",
              "      <td>женат / замужем</td>\n",
              "      <td>0</td>\n",
              "      <td>F</td>\n",
              "      <td>сотрудник</td>\n",
              "      <td>0</td>\n",
              "      <td>253875.639453</td>\n",
              "      <td>покупка жилья</td>\n",
              "    </tr>\n",
              "    <tr>\n",
              "      <th>1</th>\n",
              "      <td>1</td>\n",
              "      <td>1</td>\n",
              "      <td>-4024.803754</td>\n",
              "      <td>36</td>\n",
              "      <td>среднее</td>\n",
              "      <td>1</td>\n",
              "      <td>женат / замужем</td>\n",
              "      <td>0</td>\n",
              "      <td>F</td>\n",
              "      <td>сотрудник</td>\n",
              "      <td>0</td>\n",
              "      <td>112080.014102</td>\n",
              "      <td>приобретение автомобиля</td>\n",
              "    </tr>\n",
              "    <tr>\n",
              "      <th>2</th>\n",
              "      <td>2</td>\n",
              "      <td>0</td>\n",
              "      <td>-5623.422610</td>\n",
              "      <td>33</td>\n",
              "      <td>Среднее</td>\n",
              "      <td>1</td>\n",
              "      <td>женат / замужем</td>\n",
              "      <td>0</td>\n",
              "      <td>M</td>\n",
              "      <td>сотрудник</td>\n",
              "      <td>0</td>\n",
              "      <td>145885.952297</td>\n",
              "      <td>покупка жилья</td>\n",
              "    </tr>\n",
              "    <tr>\n",
              "      <th>3</th>\n",
              "      <td>3</td>\n",
              "      <td>3</td>\n",
              "      <td>-4124.747207</td>\n",
              "      <td>32</td>\n",
              "      <td>среднее</td>\n",
              "      <td>1</td>\n",
              "      <td>женат / замужем</td>\n",
              "      <td>0</td>\n",
              "      <td>M</td>\n",
              "      <td>сотрудник</td>\n",
              "      <td>0</td>\n",
              "      <td>267628.550329</td>\n",
              "      <td>дополнительное образование</td>\n",
              "    </tr>\n",
              "    <tr>\n",
              "      <th>4</th>\n",
              "      <td>4</td>\n",
              "      <td>0</td>\n",
              "      <td>340266.072047</td>\n",
              "      <td>53</td>\n",
              "      <td>среднее</td>\n",
              "      <td>1</td>\n",
              "      <td>гражданский брак</td>\n",
              "      <td>1</td>\n",
              "      <td>F</td>\n",
              "      <td>пенсионер</td>\n",
              "      <td>0</td>\n",
              "      <td>158616.077870</td>\n",
              "      <td>сыграть свадьбу</td>\n",
              "    </tr>\n",
              "  </tbody>\n",
              "</table>\n",
              "</div>"
            ],
            "text/plain": [
              "   Unnamed: 0  children  ...   total_income                     purpose\n",
              "0           0         1  ...  253875.639453               покупка жилья\n",
              "1           1         1  ...  112080.014102     приобретение автомобиля\n",
              "2           2         0  ...  145885.952297               покупка жилья\n",
              "3           3         3  ...  267628.550329  дополнительное образование\n",
              "4           4         0  ...  158616.077870             сыграть свадьбу\n",
              "\n",
              "[5 rows x 13 columns]"
            ]
          },
          "metadata": {
            "tags": []
          },
          "execution_count": 99
        }
      ]
    },
    {
      "cell_type": "markdown",
      "metadata": {
        "id": "SDqvcP_H15oB"
      },
      "source": [
        "### Обратить внимание на большие значения в столбце days_empl, total_income.\n",
        "\n",
        "Убираем отрицательный стаж работы с помощью модуля:"
      ]
    },
    {
      "cell_type": "code",
      "metadata": {
        "id": "h2Sq00Efl6d4"
      },
      "source": [
        "data['days_employed'] = data['days_employed'].abs()"
      ],
      "execution_count": 100,
      "outputs": []
    },
    {
      "cell_type": "markdown",
      "metadata": {
        "id": "HEXoS8oD2x-U"
      },
      "source": [
        "### В чем измеряется income?"
      ]
    },
    {
      "cell_type": "code",
      "metadata": {
        "colab": {
          "base_uri": "https://localhost:8080/"
        },
        "id": "aJhSdBZ_G8yG",
        "outputId": "b440a0df-cbaa-4b84-ca59-b5e238f0531c"
      },
      "source": [
        "data.isna().sum()"
      ],
      "execution_count": 101,
      "outputs": [
        {
          "output_type": "execute_result",
          "data": {
            "text/plain": [
              "Unnamed: 0             0\n",
              "children               0\n",
              "days_employed       2174\n",
              "dob_years              0\n",
              "education              0\n",
              "education_id           0\n",
              "family_status          0\n",
              "family_status_id       0\n",
              "gender                 0\n",
              "income_type            0\n",
              "debt                   0\n",
              "total_income        2174\n",
              "purpose                0\n",
              "dtype: int64"
            ]
          },
          "metadata": {
            "tags": []
          },
          "execution_count": 101
        }
      ]
    },
    {
      "cell_type": "markdown",
      "metadata": {
        "id": "xCMI4ayGJf1B"
      },
      "source": [
        "# Обработка пропущенных значений."
      ]
    },
    {
      "cell_type": "markdown",
      "metadata": {
        "id": "4mOk4BiwHDJO"
      },
      "source": [
        "Видим, что в столбцах days_emloyed и total_income имеются значения NaN. Заменим их на медианные значения по категории income_type, которая содержит информацию о \"типе\" занятости клиента."
      ]
    },
    {
      "cell_type": "markdown",
      "metadata": {
        "id": "a0Q5zUz9Gx68"
      },
      "source": [
        "### Создадим вспомогательный датасет только со столбцами ['income_type', 'total_income', 'days_employed']:"
      ]
    },
    {
      "cell_type": "code",
      "metadata": {
        "id": "MSulrsdnmR3w"
      },
      "source": [
        "df1 = data[['income_type', 'total_income', 'days_employed']]"
      ],
      "execution_count": 114,
      "outputs": []
    },
    {
      "cell_type": "code",
      "metadata": {
        "colab": {
          "base_uri": "https://localhost:8080/",
          "height": 205
        },
        "id": "bjiDLQSj28f8",
        "outputId": "30863e0a-f4ca-4057-f474-ba7adac6eff0"
      },
      "source": [
        "df1.head()"
      ],
      "execution_count": 115,
      "outputs": [
        {
          "output_type": "execute_result",
          "data": {
            "text/html": [
              "<div>\n",
              "<style scoped>\n",
              "    .dataframe tbody tr th:only-of-type {\n",
              "        vertical-align: middle;\n",
              "    }\n",
              "\n",
              "    .dataframe tbody tr th {\n",
              "        vertical-align: top;\n",
              "    }\n",
              "\n",
              "    .dataframe thead th {\n",
              "        text-align: right;\n",
              "    }\n",
              "</style>\n",
              "<table border=\"1\" class=\"dataframe\">\n",
              "  <thead>\n",
              "    <tr style=\"text-align: right;\">\n",
              "      <th></th>\n",
              "      <th>income_type</th>\n",
              "      <th>total_income</th>\n",
              "      <th>days_employed</th>\n",
              "    </tr>\n",
              "  </thead>\n",
              "  <tbody>\n",
              "    <tr>\n",
              "      <th>0</th>\n",
              "      <td>сотрудник</td>\n",
              "      <td>253875.639453</td>\n",
              "      <td>8437.673028</td>\n",
              "    </tr>\n",
              "    <tr>\n",
              "      <th>1</th>\n",
              "      <td>сотрудник</td>\n",
              "      <td>112080.014102</td>\n",
              "      <td>4024.803754</td>\n",
              "    </tr>\n",
              "    <tr>\n",
              "      <th>2</th>\n",
              "      <td>сотрудник</td>\n",
              "      <td>145885.952297</td>\n",
              "      <td>5623.422610</td>\n",
              "    </tr>\n",
              "    <tr>\n",
              "      <th>3</th>\n",
              "      <td>сотрудник</td>\n",
              "      <td>267628.550329</td>\n",
              "      <td>4124.747207</td>\n",
              "    </tr>\n",
              "    <tr>\n",
              "      <th>4</th>\n",
              "      <td>пенсионер</td>\n",
              "      <td>158616.077870</td>\n",
              "      <td>340266.072047</td>\n",
              "    </tr>\n",
              "  </tbody>\n",
              "</table>\n",
              "</div>"
            ],
            "text/plain": [
              "  income_type   total_income  days_employed\n",
              "0   сотрудник  253875.639453    8437.673028\n",
              "1   сотрудник  112080.014102    4024.803754\n",
              "2   сотрудник  145885.952297    5623.422610\n",
              "3   сотрудник  267628.550329    4124.747207\n",
              "4   пенсионер  158616.077870  340266.072047"
            ]
          },
          "metadata": {
            "tags": []
          },
          "execution_count": 115
        }
      ]
    },
    {
      "cell_type": "code",
      "metadata": {
        "colab": {
          "base_uri": "https://localhost:8080/"
        },
        "id": "S_QVRuvcSLCS",
        "outputId": "5623da7f-5536-4102-d2ee-aa09b9ee861c"
      },
      "source": [
        "df1.isna().sum()"
      ],
      "execution_count": 116,
      "outputs": [
        {
          "output_type": "execute_result",
          "data": {
            "text/plain": [
              "income_type         0\n",
              "total_income     2174\n",
              "days_employed    2174\n",
              "dtype: int64"
            ]
          },
          "metadata": {
            "tags": []
          },
          "execution_count": 116
        }
      ]
    },
    {
      "cell_type": "markdown",
      "metadata": {
        "id": "KTTnFT2HHcZX"
      },
      "source": [
        "### Для проверки правильности заполнения NaN-ов посмотрим на текущие статистики по выборке, и на них же - после обработки NaN."
      ]
    },
    {
      "cell_type": "code",
      "metadata": {
        "id": "Gd37IKDfdrtr"
      },
      "source": [
        "stats_before = df1.describe()"
      ],
      "execution_count": 117,
      "outputs": []
    },
    {
      "cell_type": "markdown",
      "metadata": {
        "id": "YIarVHq4H0xe"
      },
      "source": [
        "Применим к столбцам df1 операцию замены NaN на .median().\n",
        "\n",
        "Описание этой операции см. в коде ниже."
      ]
    },
    {
      "cell_type": "code",
      "metadata": {
        "colab": {
          "base_uri": "https://localhost:8080/"
        },
        "id": "F06BoQslpvE9",
        "outputId": "e5a7dbce-8dcc-4025-eebc-cd18ad32bc0b"
      },
      "source": [
        "df1.loc[:,('total_income')] = df1.groupby('income_type')['total_income'].apply(lambda x: x.fillna(x.median()))"
      ],
      "execution_count": 118,
      "outputs": [
        {
          "output_type": "stream",
          "text": [
            "/usr/local/lib/python3.7/dist-packages/pandas/core/indexing.py:1743: SettingWithCopyWarning: \n",
            "A value is trying to be set on a copy of a slice from a DataFrame.\n",
            "Try using .loc[row_indexer,col_indexer] = value instead\n",
            "\n",
            "See the caveats in the documentation: https://pandas.pydata.org/pandas-docs/stable/user_guide/indexing.html#returning-a-view-versus-a-copy\n",
            "  isetter(ilocs[0], value)\n"
          ],
          "name": "stderr"
        }
      ]
    },
    {
      "cell_type": "code",
      "metadata": {
        "colab": {
          "base_uri": "https://localhost:8080/"
        },
        "id": "B72_wevGrFEo",
        "outputId": "8c9484ec-b038-47eb-86f2-fbb00c4d71ab"
      },
      "source": [
        "df1.loc[:,('days_employed')] = df1.groupby('income_type')['days_employed'].apply(lambda x: x.fillna(x.median()))"
      ],
      "execution_count": 119,
      "outputs": [
        {
          "output_type": "stream",
          "text": [
            "/usr/local/lib/python3.7/dist-packages/pandas/core/indexing.py:1743: SettingWithCopyWarning: \n",
            "A value is trying to be set on a copy of a slice from a DataFrame.\n",
            "Try using .loc[row_indexer,col_indexer] = value instead\n",
            "\n",
            "See the caveats in the documentation: https://pandas.pydata.org/pandas-docs/stable/user_guide/indexing.html#returning-a-view-versus-a-copy\n",
            "  isetter(ilocs[0], value)\n"
          ],
          "name": "stderr"
        }
      ]
    },
    {
      "cell_type": "code",
      "metadata": {
        "colab": {
          "base_uri": "https://localhost:8080/"
        },
        "id": "hIBIJgNrq8Uo",
        "outputId": "a21b16f4-eb00-4e17-f087-b9611ed17fa4"
      },
      "source": [
        "df1.isna().sum()"
      ],
      "execution_count": 120,
      "outputs": [
        {
          "output_type": "execute_result",
          "data": {
            "text/plain": [
              "income_type      0\n",
              "total_income     0\n",
              "days_employed    0\n",
              "dtype: int64"
            ]
          },
          "metadata": {
            "tags": []
          },
          "execution_count": 120
        }
      ]
    },
    {
      "cell_type": "markdown",
      "metadata": {
        "id": "T_BR_c7aILVh"
      },
      "source": [
        "### Видим, что NaN-ов действительно больше нет. Проверим изменения статистик."
      ]
    },
    {
      "cell_type": "code",
      "metadata": {
        "id": "_2x31s8zd1wL"
      },
      "source": [
        "stats_after = df1.describe()"
      ],
      "execution_count": 121,
      "outputs": []
    },
    {
      "cell_type": "code",
      "metadata": {
        "colab": {
          "base_uri": "https://localhost:8080/"
        },
        "id": "DCiHLFkYIVV6",
        "outputId": "4998a0cd-306e-4e34-ea89-5a7d196ccbd5"
      },
      "source": [
        "print(\"Stats Before\")\n",
        "print(stats_before)\n",
        "print(\"Stats After\")\n",
        "print(stats_after)"
      ],
      "execution_count": 123,
      "outputs": [
        {
          "output_type": "stream",
          "text": [
            "Stats Before\n",
            "       total_income  days_employed\n",
            "count  1.935100e+04   19351.000000\n",
            "mean   1.674223e+05   66914.728907\n",
            "std    1.029716e+05  139030.880527\n",
            "min    2.066726e+04      24.141633\n",
            "25%    1.030532e+05     927.009265\n",
            "50%    1.450179e+05    2194.220567\n",
            "75%    2.034351e+05    5537.882441\n",
            "max    2.265604e+06  401755.400475\n",
            "Stats After\n",
            "       total_income  days_employed\n",
            "count  2.152500e+04   21525.000000\n",
            "mean   1.652253e+05   67299.486032\n",
            "std    9.804367e+04  139401.804684\n",
            "min    2.066726e+04      24.141633\n",
            "25%    1.077982e+05    1025.549623\n",
            "50%    1.425944e+05    1993.522017\n",
            "75%    1.955499e+05    5347.024506\n",
            "max    2.265604e+06  401755.400475\n"
          ],
          "name": "stdout"
        }
      ]
    },
    {
      "cell_type": "markdown",
      "metadata": {
        "id": "M2HIkUljI4LF"
      },
      "source": [
        "Видим, что статистики немного изменились - как мы и ожидали.\n",
        "\n",
        "Поместим новые столбцы без NaN в исходный датасет:"
      ]
    },
    {
      "cell_type": "code",
      "metadata": {
        "id": "V85s_W2dnl9K"
      },
      "source": [
        "data.total_income = df1.total_income"
      ],
      "execution_count": 124,
      "outputs": []
    },
    {
      "cell_type": "code",
      "metadata": {
        "id": "K0XHsuRhoFKW"
      },
      "source": [
        "data.days_employed  = df1.days_employed "
      ],
      "execution_count": 125,
      "outputs": []
    },
    {
      "cell_type": "code",
      "metadata": {
        "colab": {
          "base_uri": "https://localhost:8080/"
        },
        "id": "c5D0RgpKPine",
        "outputId": "6fe3617f-a432-4677-8869-081c72c9aab7"
      },
      "source": [
        "data.isna().sum()"
      ],
      "execution_count": 126,
      "outputs": [
        {
          "output_type": "execute_result",
          "data": {
            "text/plain": [
              "Unnamed: 0          0\n",
              "children            0\n",
              "days_employed       0\n",
              "dob_years           0\n",
              "education           0\n",
              "education_id        0\n",
              "family_status       0\n",
              "family_status_id    0\n",
              "gender              0\n",
              "income_type         0\n",
              "debt                0\n",
              "total_income        0\n",
              "purpose             0\n",
              "dtype: int64"
            ]
          },
          "metadata": {
            "tags": []
          },
          "execution_count": 126
        }
      ]
    },
    {
      "cell_type": "markdown",
      "metadata": {
        "id": "S-YgWrTgJI8d"
      },
      "source": [
        "Отбросим все знаки после запятой в наших столбцах - по логике задачи они не должны влиять на результат, а для компьютера так гораздо удобнее:"
      ]
    },
    {
      "cell_type": "code",
      "metadata": {
        "id": "tgMr2GOeQeAP"
      },
      "source": [
        "\n",
        "data.days_employed = data['days_employed'].astype(int)\n",
        "data.total_income = data['total_income'].astype(int)"
      ],
      "execution_count": 127,
      "outputs": []
    },
    {
      "cell_type": "code",
      "metadata": {
        "id": "V0S0Q2NOeKdC"
      },
      "source": [
        ""
      ],
      "execution_count": null,
      "outputs": []
    },
    {
      "cell_type": "code",
      "metadata": {
        "id": "6U8OV8KwJpWi"
      },
      "source": [
        ""
      ],
      "execution_count": null,
      "outputs": []
    },
    {
      "cell_type": "code",
      "metadata": {
        "id": "54vxpqfiJpaa"
      },
      "source": [
        ""
      ],
      "execution_count": null,
      "outputs": []
    },
    {
      "cell_type": "markdown",
      "metadata": {
        "id": "vJMtEwSTJptm"
      },
      "source": [
        "### Код, поясняющий заполнение Nan медианами.\n",
        "\n",
        "Создадим \"игрушечный\" датасет: в качестве групп в нем будут значения в столбце name - всего две группы First и Second.\n",
        "\n",
        "В качестве столбцов, по которым будем искать медиану и заполнять - col1 и col2 с числовыми значениями."
      ]
    },
    {
      "cell_type": "code",
      "metadata": {
        "id": "KO7qCJ_teKfh"
      },
      "source": [
        "df = pd.DataFrame({'col1':[float('nan'), 1, 10, 5, 3, 4], 'col2':[1, 8, 6, float('nan'), 2, 0], 'name':['First', 'Second', 'First', 'Second', 'First', 'Second']})"
      ],
      "execution_count": 145,
      "outputs": []
    },
    {
      "cell_type": "code",
      "metadata": {
        "colab": {
          "base_uri": "https://localhost:8080/",
          "height": 236
        },
        "id": "tTlN-nYjegcA",
        "outputId": "d68c1936-0656-4201-d2fb-3bacc51318e2"
      },
      "source": [
        "df"
      ],
      "execution_count": 146,
      "outputs": [
        {
          "output_type": "execute_result",
          "data": {
            "text/html": [
              "<div>\n",
              "<style scoped>\n",
              "    .dataframe tbody tr th:only-of-type {\n",
              "        vertical-align: middle;\n",
              "    }\n",
              "\n",
              "    .dataframe tbody tr th {\n",
              "        vertical-align: top;\n",
              "    }\n",
              "\n",
              "    .dataframe thead th {\n",
              "        text-align: right;\n",
              "    }\n",
              "</style>\n",
              "<table border=\"1\" class=\"dataframe\">\n",
              "  <thead>\n",
              "    <tr style=\"text-align: right;\">\n",
              "      <th></th>\n",
              "      <th>col1</th>\n",
              "      <th>col2</th>\n",
              "      <th>name</th>\n",
              "    </tr>\n",
              "  </thead>\n",
              "  <tbody>\n",
              "    <tr>\n",
              "      <th>0</th>\n",
              "      <td>NaN</td>\n",
              "      <td>1.0</td>\n",
              "      <td>First</td>\n",
              "    </tr>\n",
              "    <tr>\n",
              "      <th>1</th>\n",
              "      <td>1.0</td>\n",
              "      <td>8.0</td>\n",
              "      <td>Second</td>\n",
              "    </tr>\n",
              "    <tr>\n",
              "      <th>2</th>\n",
              "      <td>10.0</td>\n",
              "      <td>6.0</td>\n",
              "      <td>First</td>\n",
              "    </tr>\n",
              "    <tr>\n",
              "      <th>3</th>\n",
              "      <td>5.0</td>\n",
              "      <td>NaN</td>\n",
              "      <td>Second</td>\n",
              "    </tr>\n",
              "    <tr>\n",
              "      <th>4</th>\n",
              "      <td>3.0</td>\n",
              "      <td>2.0</td>\n",
              "      <td>First</td>\n",
              "    </tr>\n",
              "    <tr>\n",
              "      <th>5</th>\n",
              "      <td>4.0</td>\n",
              "      <td>0.0</td>\n",
              "      <td>Second</td>\n",
              "    </tr>\n",
              "  </tbody>\n",
              "</table>\n",
              "</div>"
            ],
            "text/plain": [
              "   col1  col2    name\n",
              "0   NaN   1.0   First\n",
              "1   1.0   8.0  Second\n",
              "2  10.0   6.0   First\n",
              "3   5.0   NaN  Second\n",
              "4   3.0   2.0   First\n",
              "5   4.0   0.0  Second"
            ]
          },
          "metadata": {
            "tags": []
          },
          "execution_count": 146
        }
      ]
    },
    {
      "cell_type": "markdown",
      "metadata": {
        "id": "7xy0mm5mNjjw"
      },
      "source": [
        "Рассмотрим col1: медиана по группе First равна (10+3)/2 = 6.5, по группе Second - 4.\n",
        "\n",
        "Рассмотрим col2: First: 2, Second: (0+8)/2 = 4."
      ]
    },
    {
      "cell_type": "markdown",
      "metadata": {
        "id": "K8jei45vO8mu"
      },
      "source": [
        "Рассмотрим 3 кода:"
      ]
    },
    {
      "cell_type": "code",
      "metadata": {
        "colab": {
          "base_uri": "https://localhost:8080/",
          "height": 197
        },
        "id": "4RpXDMTM4HTY",
        "outputId": "8fb12e64-a8ba-48b6-8745-638c90fc342e"
      },
      "source": [
        "df.groupby('name')['col1', 'col2'].median() # выводит выбранную статистику median по группе \"name\" для выбранных столбцов col1, col2"
      ],
      "execution_count": 150,
      "outputs": [
        {
          "output_type": "stream",
          "text": [
            "/usr/local/lib/python3.7/dist-packages/ipykernel_launcher.py:1: FutureWarning: Indexing with multiple keys (implicitly converted to a tuple of keys) will be deprecated, use a list instead.\n",
            "  \"\"\"Entry point for launching an IPython kernel.\n"
          ],
          "name": "stderr"
        },
        {
          "output_type": "execute_result",
          "data": {
            "text/html": [
              "<div>\n",
              "<style scoped>\n",
              "    .dataframe tbody tr th:only-of-type {\n",
              "        vertical-align: middle;\n",
              "    }\n",
              "\n",
              "    .dataframe tbody tr th {\n",
              "        vertical-align: top;\n",
              "    }\n",
              "\n",
              "    .dataframe thead th {\n",
              "        text-align: right;\n",
              "    }\n",
              "</style>\n",
              "<table border=\"1\" class=\"dataframe\">\n",
              "  <thead>\n",
              "    <tr style=\"text-align: right;\">\n",
              "      <th></th>\n",
              "      <th>col1</th>\n",
              "      <th>col2</th>\n",
              "    </tr>\n",
              "    <tr>\n",
              "      <th>name</th>\n",
              "      <th></th>\n",
              "      <th></th>\n",
              "    </tr>\n",
              "  </thead>\n",
              "  <tbody>\n",
              "    <tr>\n",
              "      <th>First</th>\n",
              "      <td>6.5</td>\n",
              "      <td>2.0</td>\n",
              "    </tr>\n",
              "    <tr>\n",
              "      <th>Second</th>\n",
              "      <td>4.0</td>\n",
              "      <td>4.0</td>\n",
              "    </tr>\n",
              "  </tbody>\n",
              "</table>\n",
              "</div>"
            ],
            "text/plain": [
              "        col1  col2\n",
              "name              \n",
              "First    6.5   2.0\n",
              "Second   4.0   4.0"
            ]
          },
          "metadata": {
            "tags": []
          },
          "execution_count": 150
        }
      ]
    },
    {
      "cell_type": "markdown",
      "metadata": {
        "id": "9yi9Ev94QP6v"
      },
      "source": [
        "Предыдущее, оказывается, эквивалентно такой операции: группируем по name и как бы разделяем df на два: в одном только First, в другом - только Second. Далее применяем к столбцам этих \"разделенных\" датафреймов лямбда-функцию, которая, внимание! Заменяет СТОЛБЕЦ х на ЧИСЛО x.median(). Дальше полученное просто записывается в одну таблицу:"
      ]
    },
    {
      "cell_type": "code",
      "metadata": {
        "colab": {
          "base_uri": "https://localhost:8080/",
          "height": 197
        },
        "id": "D3m6lkcNOom9",
        "outputId": "592c2553-47f4-4193-a796-b530854b45c8"
      },
      "source": [
        "df.groupby('name')['col1', 'col2'].apply(lambda x: x.median()) "
      ],
      "execution_count": 151,
      "outputs": [
        {
          "output_type": "stream",
          "text": [
            "/usr/local/lib/python3.7/dist-packages/ipykernel_launcher.py:1: FutureWarning: Indexing with multiple keys (implicitly converted to a tuple of keys) will be deprecated, use a list instead.\n",
            "  \"\"\"Entry point for launching an IPython kernel.\n"
          ],
          "name": "stderr"
        },
        {
          "output_type": "execute_result",
          "data": {
            "text/html": [
              "<div>\n",
              "<style scoped>\n",
              "    .dataframe tbody tr th:only-of-type {\n",
              "        vertical-align: middle;\n",
              "    }\n",
              "\n",
              "    .dataframe tbody tr th {\n",
              "        vertical-align: top;\n",
              "    }\n",
              "\n",
              "    .dataframe thead th {\n",
              "        text-align: right;\n",
              "    }\n",
              "</style>\n",
              "<table border=\"1\" class=\"dataframe\">\n",
              "  <thead>\n",
              "    <tr style=\"text-align: right;\">\n",
              "      <th></th>\n",
              "      <th>col1</th>\n",
              "      <th>col2</th>\n",
              "    </tr>\n",
              "    <tr>\n",
              "      <th>name</th>\n",
              "      <th></th>\n",
              "      <th></th>\n",
              "    </tr>\n",
              "  </thead>\n",
              "  <tbody>\n",
              "    <tr>\n",
              "      <th>First</th>\n",
              "      <td>6.5</td>\n",
              "      <td>2.0</td>\n",
              "    </tr>\n",
              "    <tr>\n",
              "      <th>Second</th>\n",
              "      <td>4.0</td>\n",
              "      <td>4.0</td>\n",
              "    </tr>\n",
              "  </tbody>\n",
              "</table>\n",
              "</div>"
            ],
            "text/plain": [
              "        col1  col2\n",
              "name              \n",
              "First    6.5   2.0\n",
              "Second   4.0   4.0"
            ]
          },
          "metadata": {
            "tags": []
          },
          "execution_count": 151
        }
      ]
    },
    {
      "cell_type": "markdown",
      "metadata": {
        "id": "lod6PyflQYsm"
      },
      "source": [
        "Ну и наконец, по аналогии с предыдущим кодом, заменим столбец x не на число, а на столбец, с заполненными nan (с помощью функции fillna()):"
      ]
    },
    {
      "cell_type": "code",
      "metadata": {
        "colab": {
          "base_uri": "https://localhost:8080/",
          "height": 322
        },
        "id": "RDy7FZnDOvIK",
        "outputId": "9b4c1a8d-a98f-48d4-c3f9-5a9d42df0b99"
      },
      "source": [
        "df.groupby('name')['col1', 'col2'].apply(lambda x: x.fillna(x.median()))"
      ],
      "execution_count": 152,
      "outputs": [
        {
          "output_type": "stream",
          "text": [
            "/usr/local/lib/python3.7/dist-packages/ipykernel_launcher.py:1: FutureWarning: Indexing with multiple keys (implicitly converted to a tuple of keys) will be deprecated, use a list instead.\n",
            "  \"\"\"Entry point for launching an IPython kernel.\n"
          ],
          "name": "stderr"
        },
        {
          "output_type": "execute_result",
          "data": {
            "text/html": [
              "<div>\n",
              "<style scoped>\n",
              "    .dataframe tbody tr th:only-of-type {\n",
              "        vertical-align: middle;\n",
              "    }\n",
              "\n",
              "    .dataframe tbody tr th {\n",
              "        vertical-align: top;\n",
              "    }\n",
              "\n",
              "    .dataframe thead th {\n",
              "        text-align: right;\n",
              "    }\n",
              "</style>\n",
              "<table border=\"1\" class=\"dataframe\">\n",
              "  <thead>\n",
              "    <tr style=\"text-align: right;\">\n",
              "      <th></th>\n",
              "      <th></th>\n",
              "      <th>col1</th>\n",
              "      <th>col2</th>\n",
              "    </tr>\n",
              "    <tr>\n",
              "      <th>name</th>\n",
              "      <th></th>\n",
              "      <th></th>\n",
              "      <th></th>\n",
              "    </tr>\n",
              "  </thead>\n",
              "  <tbody>\n",
              "    <tr>\n",
              "      <th rowspan=\"3\" valign=\"top\">First</th>\n",
              "      <th>0</th>\n",
              "      <td>6.5</td>\n",
              "      <td>1.0</td>\n",
              "    </tr>\n",
              "    <tr>\n",
              "      <th>2</th>\n",
              "      <td>10.0</td>\n",
              "      <td>6.0</td>\n",
              "    </tr>\n",
              "    <tr>\n",
              "      <th>4</th>\n",
              "      <td>3.0</td>\n",
              "      <td>2.0</td>\n",
              "    </tr>\n",
              "    <tr>\n",
              "      <th rowspan=\"3\" valign=\"top\">Second</th>\n",
              "      <th>1</th>\n",
              "      <td>1.0</td>\n",
              "      <td>8.0</td>\n",
              "    </tr>\n",
              "    <tr>\n",
              "      <th>3</th>\n",
              "      <td>5.0</td>\n",
              "      <td>4.0</td>\n",
              "    </tr>\n",
              "    <tr>\n",
              "      <th>5</th>\n",
              "      <td>4.0</td>\n",
              "      <td>0.0</td>\n",
              "    </tr>\n",
              "  </tbody>\n",
              "</table>\n",
              "</div>"
            ],
            "text/plain": [
              "          col1  col2\n",
              "name                \n",
              "First  0   6.5   1.0\n",
              "       2  10.0   6.0\n",
              "       4   3.0   2.0\n",
              "Second 1   1.0   8.0\n",
              "       3   5.0   4.0\n",
              "       5   4.0   0.0"
            ]
          },
          "metadata": {
            "tags": []
          },
          "execution_count": 152
        }
      ]
    },
    {
      "cell_type": "markdown",
      "metadata": {
        "id": "AJyQ73zaQm_I"
      },
      "source": [
        "# Конец пояснения"
      ]
    },
    {
      "cell_type": "code",
      "metadata": {
        "id": "cjXfF6tWPT6z"
      },
      "source": [
        ""
      ],
      "execution_count": 153,
      "outputs": []
    },
    {
      "cell_type": "code",
      "metadata": {
        "id": "VqClF2HX5lAz"
      },
      "source": [
        ""
      ],
      "execution_count": null,
      "outputs": []
    },
    {
      "cell_type": "code",
      "metadata": {
        "id": "xA9cIlyESSAN"
      },
      "source": [
        ""
      ],
      "execution_count": null,
      "outputs": []
    },
    {
      "cell_type": "markdown",
      "metadata": {
        "id": "yHFXnhI2SSRj"
      },
      "source": [
        "#Категоризация"
      ]
    },
    {
      "cell_type": "markdown",
      "metadata": {
        "id": "scAGG2VZf0se"
      },
      "source": [
        "Лемматизация"
      ]
    },
    {
      "cell_type": "code",
      "metadata": {
        "colab": {
          "base_uri": "https://localhost:8080/"
        },
        "id": "yWMyIP3Tf2he",
        "outputId": "0bf678aa-2043-4d84-9a60-51980ef80d53"
      },
      "source": [
        "from collections import Counter\n",
        "Counter(data['education'])\n",
        "data['education'] = data['education'].str.lower()\n",
        "print(Counter(data['education']))\n",
        "\n",
        "Counter(data['family_status'])\n",
        "data['family_status'] = data['family_status'].str.lower()\n",
        "print(Counter(data['family_status']))\n",
        "print(Counter(data['income_type']))\n",
        "print(Counter(data['purpose']))\n",
        "print(Counter(data['gender']))\n"
      ],
      "execution_count": null,
      "outputs": [
        {
          "output_type": "stream",
          "text": [
            "Counter({'среднее': 15233, 'высшее': 5260, 'неоконченное высшее': 744, 'начальное': 282, 'ученая степень': 6})\n",
            "Counter({'женат / замужем': 12380, 'гражданский брак': 4177, 'не женат / не замужем': 2813, 'в разводе': 1195, 'вдовец / вдова': 960})\n",
            "Counter({'сотрудник': 11119, 'компаньон': 5085, 'пенсионер': 3856, 'госслужащий': 1459, 'безработный': 2, 'предприниматель': 2, 'студент': 1, 'в декрете': 1})\n",
            "Counter({'свадьба': 797, 'на проведение свадьбы': 777, 'сыграть свадьбу': 774, 'операции с недвижимостью': 676, 'покупка коммерческой недвижимости': 664, 'операции с жильем': 653, 'покупка жилья для сдачи': 653, 'операции с коммерческой недвижимостью': 651, 'покупка жилья': 647, 'жилье': 647, 'покупка жилья для семьи': 641, 'строительство собственной недвижимости': 635, 'недвижимость': 634, 'операции со своей недвижимостью': 630, 'строительство жилой недвижимости': 626, 'покупка недвижимости': 624, 'строительство недвижимости': 620, 'покупка своего жилья': 620, 'ремонт жилью': 612, 'покупка жилой недвижимости': 607, 'на покупку своего автомобиля': 505, 'заняться высшим образованием': 496, 'автомобиль': 495, 'сделка с подержанным автомобилем': 489, 'свой автомобиль': 480, 'на покупку подержанного автомобиля': 479, 'автомобили': 478, 'на покупку автомобиля': 472, 'приобретение автомобиля': 462, 'дополнительное образование': 462, 'сделка с автомобилем': 455, 'высшее образование': 453, 'образование': 447, 'получение дополнительного образования': 447, 'получение образования': 443, 'профильное образование': 436, 'получение высшего образования': 426, 'заняться образованием': 412})\n",
            "Counter({'F': 14236, 'M': 7288, 'XNA': 1})\n"
          ],
          "name": "stdout"
        }
      ]
    },
    {
      "cell_type": "code",
      "metadata": {
        "colab": {
          "base_uri": "https://localhost:8080/"
        },
        "id": "r0OcYYA9nW3F",
        "outputId": "b621f505-0f59-4ce6-a502-6b22d40fc018"
      },
      "source": [
        "pip install pymorphy2"
      ],
      "execution_count": null,
      "outputs": [
        {
          "output_type": "stream",
          "text": [
            "Collecting pymorphy2\n",
            "\u001b[?25l  Downloading https://files.pythonhosted.org/packages/07/57/b2ff2fae3376d4f3c697b9886b64a54b476e1a332c67eee9f88e7f1ae8c9/pymorphy2-0.9.1-py3-none-any.whl (55kB)\n",
            "\u001b[K     |████████████████████████████████| 61kB 6.7MB/s \n",
            "\u001b[?25hCollecting pymorphy2-dicts-ru<3.0,>=2.4\n",
            "\u001b[?25l  Downloading https://files.pythonhosted.org/packages/3a/79/bea0021eeb7eeefde22ef9e96badf174068a2dd20264b9a378f2be1cdd9e/pymorphy2_dicts_ru-2.4.417127.4579844-py2.py3-none-any.whl (8.2MB)\n",
            "\u001b[K     |████████████████████████████████| 8.2MB 28.4MB/s \n",
            "\u001b[?25hCollecting dawg-python>=0.7.1\n",
            "  Downloading https://files.pythonhosted.org/packages/6a/84/ff1ce2071d4c650ec85745766c0047ccc3b5036f1d03559fd46bb38b5eeb/DAWG_Python-0.7.2-py2.py3-none-any.whl\n",
            "Requirement already satisfied: docopt>=0.6 in /usr/local/lib/python3.7/dist-packages (from pymorphy2) (0.6.2)\n",
            "Installing collected packages: pymorphy2-dicts-ru, dawg-python, pymorphy2\n",
            "Successfully installed dawg-python-0.7.2 pymorphy2-0.9.1 pymorphy2-dicts-ru-2.4.417127.4579844\n"
          ],
          "name": "stdout"
        }
      ]
    },
    {
      "cell_type": "code",
      "metadata": {
        "id": "g1PLXcbpl9nG",
        "colab": {
          "base_uri": "https://localhost:8080/"
        },
        "outputId": "6b502418-c0a0-422d-9ee2-f7575cc1e031"
      },
      "source": [
        "pip install -U pymorphy2-dicts-ru"
      ],
      "execution_count": null,
      "outputs": [
        {
          "output_type": "stream",
          "text": [
            "Requirement already up-to-date: pymorphy2-dicts-ru in /usr/local/lib/python3.7/dist-packages (2.4.417127.4579844)\n"
          ],
          "name": "stdout"
        }
      ]
    },
    {
      "cell_type": "code",
      "metadata": {
        "id": "hIXX8iwFphp-"
      },
      "source": [
        "import pymorphy2\n",
        "morph = pymorphy2.MorphAnalyzer()"
      ],
      "execution_count": null,
      "outputs": []
    },
    {
      "cell_type": "code",
      "metadata": {
        "id": "skPyjQhtmCn_",
        "colab": {
          "base_uri": "https://localhost:8080/",
          "height": 35
        },
        "outputId": "fd773e11-07fd-4027-91ad-fdf0ca1831c1"
      },
      "source": [
        "morph.parse('своего')[0].normal_form"
      ],
      "execution_count": null,
      "outputs": [
        {
          "output_type": "execute_result",
          "data": {
            "application/vnd.google.colaboratory.intrinsic+json": {
              "type": "string"
            },
            "text/plain": [
              "'свой'"
            ]
          },
          "metadata": {
            "tags": []
          },
          "execution_count": 25
        }
      ]
    },
    {
      "cell_type": "code",
      "metadata": {
        "colab": {
          "base_uri": "https://localhost:8080/"
        },
        "id": "rKp9tYCZsmA4",
        "outputId": "77c5e242-4a3b-4bd7-a2dd-8d22d6f7a7b1"
      },
      "source": [
        " data['purpose']"
      ],
      "execution_count": null,
      "outputs": [
        {
          "output_type": "execute_result",
          "data": {
            "text/plain": [
              "0                       покупка жилья\n",
              "1             приобретение автомобиля\n",
              "2                       покупка жилья\n",
              "3          дополнительное образование\n",
              "4                     сыграть свадьбу\n",
              "                     ...             \n",
              "21520               операции с жильем\n",
              "21521            сделка с автомобилем\n",
              "21522                    недвижимость\n",
              "21523    на покупку своего автомобиля\n",
              "21524           на покупку автомобиля\n",
              "Name: purpose, Length: 21525, dtype: object"
            ]
          },
          "metadata": {
            "tags": []
          },
          "execution_count": 31
        }
      ]
    },
    {
      "cell_type": "code",
      "metadata": {
        "id": "HutwY2uLratW"
      },
      "source": [
        "lemmas = [[morph.parse(word)[0].normal_form for word in data['purpose']]]"
      ],
      "execution_count": null,
      "outputs": []
    },
    {
      "cell_type": "code",
      "metadata": {
        "id": "2HCA6Ta7rp5Q"
      },
      "source": [
        "#lemmas"
      ],
      "execution_count": null,
      "outputs": []
    },
    {
      "cell_type": "code",
      "metadata": {
        "colab": {
          "base_uri": "https://localhost:8080/",
          "height": 328
        },
        "id": "KPM6mbgR9Ex8",
        "outputId": "dc256369-24e9-4987-ae30-9d35706fdc49"
      },
      "source": [
        "data.head()"
      ],
      "execution_count": null,
      "outputs": [
        {
          "output_type": "execute_result",
          "data": {
            "text/html": [
              "<div>\n",
              "<style scoped>\n",
              "    .dataframe tbody tr th:only-of-type {\n",
              "        vertical-align: middle;\n",
              "    }\n",
              "\n",
              "    .dataframe tbody tr th {\n",
              "        vertical-align: top;\n",
              "    }\n",
              "\n",
              "    .dataframe thead th {\n",
              "        text-align: right;\n",
              "    }\n",
              "</style>\n",
              "<table border=\"1\" class=\"dataframe\">\n",
              "  <thead>\n",
              "    <tr style=\"text-align: right;\">\n",
              "      <th></th>\n",
              "      <th>Unnamed: 0</th>\n",
              "      <th>children</th>\n",
              "      <th>days_employed</th>\n",
              "      <th>dob_years</th>\n",
              "      <th>education</th>\n",
              "      <th>education_id</th>\n",
              "      <th>family_status</th>\n",
              "      <th>family_status_id</th>\n",
              "      <th>gender</th>\n",
              "      <th>income_type</th>\n",
              "      <th>debt</th>\n",
              "      <th>total_income</th>\n",
              "      <th>purpose</th>\n",
              "    </tr>\n",
              "  </thead>\n",
              "  <tbody>\n",
              "    <tr>\n",
              "      <th>0</th>\n",
              "      <td>0</td>\n",
              "      <td>1</td>\n",
              "      <td>8437</td>\n",
              "      <td>42</td>\n",
              "      <td>высшее</td>\n",
              "      <td>0</td>\n",
              "      <td>женат / замужем</td>\n",
              "      <td>0</td>\n",
              "      <td>F</td>\n",
              "      <td>сотрудник</td>\n",
              "      <td>0</td>\n",
              "      <td>253875</td>\n",
              "      <td>покупка жилья</td>\n",
              "    </tr>\n",
              "    <tr>\n",
              "      <th>1</th>\n",
              "      <td>1</td>\n",
              "      <td>1</td>\n",
              "      <td>4024</td>\n",
              "      <td>36</td>\n",
              "      <td>среднее</td>\n",
              "      <td>1</td>\n",
              "      <td>женат / замужем</td>\n",
              "      <td>0</td>\n",
              "      <td>F</td>\n",
              "      <td>сотрудник</td>\n",
              "      <td>0</td>\n",
              "      <td>112080</td>\n",
              "      <td>приобретение автомобиля</td>\n",
              "    </tr>\n",
              "    <tr>\n",
              "      <th>2</th>\n",
              "      <td>2</td>\n",
              "      <td>0</td>\n",
              "      <td>5623</td>\n",
              "      <td>33</td>\n",
              "      <td>Среднее</td>\n",
              "      <td>1</td>\n",
              "      <td>женат / замужем</td>\n",
              "      <td>0</td>\n",
              "      <td>M</td>\n",
              "      <td>сотрудник</td>\n",
              "      <td>0</td>\n",
              "      <td>145885</td>\n",
              "      <td>покупка жилья</td>\n",
              "    </tr>\n",
              "    <tr>\n",
              "      <th>3</th>\n",
              "      <td>3</td>\n",
              "      <td>3</td>\n",
              "      <td>4124</td>\n",
              "      <td>32</td>\n",
              "      <td>среднее</td>\n",
              "      <td>1</td>\n",
              "      <td>женат / замужем</td>\n",
              "      <td>0</td>\n",
              "      <td>M</td>\n",
              "      <td>сотрудник</td>\n",
              "      <td>0</td>\n",
              "      <td>267628</td>\n",
              "      <td>дополнительное образование</td>\n",
              "    </tr>\n",
              "    <tr>\n",
              "      <th>4</th>\n",
              "      <td>4</td>\n",
              "      <td>0</td>\n",
              "      <td>340266</td>\n",
              "      <td>53</td>\n",
              "      <td>среднее</td>\n",
              "      <td>1</td>\n",
              "      <td>гражданский брак</td>\n",
              "      <td>1</td>\n",
              "      <td>F</td>\n",
              "      <td>пенсионер</td>\n",
              "      <td>0</td>\n",
              "      <td>158616</td>\n",
              "      <td>сыграть свадьбу</td>\n",
              "    </tr>\n",
              "  </tbody>\n",
              "</table>\n",
              "</div>"
            ],
            "text/plain": [
              "   Unnamed: 0  children  ...  total_income                     purpose\n",
              "0           0         1  ...        253875               покупка жилья\n",
              "1           1         1  ...        112080     приобретение автомобиля\n",
              "2           2         0  ...        145885               покупка жилья\n",
              "3           3         3  ...        267628  дополнительное образование\n",
              "4           4         0  ...        158616             сыграть свадьбу\n",
              "\n",
              "[5 rows x 13 columns]"
            ]
          },
          "metadata": {
            "tags": []
          },
          "execution_count": 94
        }
      ]
    },
    {
      "cell_type": "markdown",
      "metadata": {
        "id": "inuiAJI7Q0EG"
      },
      "source": [
        "Обнаруженная **проблема**: к нормальной форме приводится только последнее слово предложения.\n",
        "\n",
        "**Решение**: В процессе.\n",
        "\n",
        "\n",
        "**Предложение:** чтобы категоризовать данные по \"смыслу\", заключенному в словах русского языка, неплохо было бы оставить во всех предложениях по одному слову, поставленному в нормальную форму.\n",
        "\n",
        "Предполагается, что это будет существительное в единственном числе и именительном падеже. Пример:\n",
        "\n",
        "\"сыграть свадьбу\" = \"свадьба\"\n",
        "\n",
        "\"на свадьбу\" = \"свадьба\"\n",
        "\n",
        "\n",
        "\"на приобретение недвижемости\" = \"недвижемость\" (как отсеять вариант \"приобретение\"????)\n",
        "\n",
        "\n",
        "\"на покупку автомобиля\" = \"автомобиль\"\n",
        "\n",
        "Тогда, во-первых будет существенно сокащен \"словарь\" данной задачи, а во-вторых станут доступны такие методы категоризации, как *One Hot Encoding*."
      ]
    },
    {
      "cell_type": "code",
      "metadata": {
        "id": "Br0CsTihQzZU"
      },
      "source": [
        ""
      ],
      "execution_count": null,
      "outputs": []
    },
    {
      "cell_type": "code",
      "metadata": {
        "id": "ZqgRsD1cQzb3"
      },
      "source": [
        ""
      ],
      "execution_count": null,
      "outputs": []
    },
    {
      "cell_type": "code",
      "metadata": {
        "id": "d8ZhSHvnQzeh"
      },
      "source": [
        ""
      ],
      "execution_count": null,
      "outputs": []
    },
    {
      "cell_type": "code",
      "metadata": {
        "id": "IE6r72TLQzg8"
      },
      "source": [
        ""
      ],
      "execution_count": null,
      "outputs": []
    },
    {
      "cell_type": "code",
      "metadata": {
        "id": "dYDbtuwsQzjE"
      },
      "source": [
        ""
      ],
      "execution_count": null,
      "outputs": []
    },
    {
      "cell_type": "code",
      "metadata": {
        "id": "DpOpmOXBQzn5"
      },
      "source": [
        ""
      ],
      "execution_count": null,
      "outputs": []
    },
    {
      "cell_type": "markdown",
      "metadata": {
        "id": "2Nv6e1ygSWr3"
      },
      "source": [
        "# Поиск зависимостей между признаками и целевой меткой:"
      ]
    },
    {
      "cell_type": "code",
      "metadata": {
        "colab": {
          "base_uri": "https://localhost:8080/",
          "height": 143
        },
        "id": "Rz_x6HlQr4aW",
        "outputId": "e9ac23f3-d6e1-4cb9-ce37-9d77fa8d7b7c"
      },
      "source": [
        "data[['children', 'total_income', 'debt']].corr()"
      ],
      "execution_count": null,
      "outputs": [
        {
          "output_type": "execute_result",
          "data": {
            "text/html": [
              "<div>\n",
              "<style scoped>\n",
              "    .dataframe tbody tr th:only-of-type {\n",
              "        vertical-align: middle;\n",
              "    }\n",
              "\n",
              "    .dataframe tbody tr th {\n",
              "        vertical-align: top;\n",
              "    }\n",
              "\n",
              "    .dataframe thead th {\n",
              "        text-align: right;\n",
              "    }\n",
              "</style>\n",
              "<table border=\"1\" class=\"dataframe\">\n",
              "  <thead>\n",
              "    <tr style=\"text-align: right;\">\n",
              "      <th></th>\n",
              "      <th>children</th>\n",
              "      <th>total_income</th>\n",
              "      <th>debt</th>\n",
              "    </tr>\n",
              "  </thead>\n",
              "  <tbody>\n",
              "    <tr>\n",
              "      <th>children</th>\n",
              "      <td>1.000000</td>\n",
              "      <td>0.018485</td>\n",
              "      <td>0.018470</td>\n",
              "    </tr>\n",
              "    <tr>\n",
              "      <th>total_income</th>\n",
              "      <td>0.018485</td>\n",
              "      <td>1.000000</td>\n",
              "      <td>-0.012304</td>\n",
              "    </tr>\n",
              "    <tr>\n",
              "      <th>debt</th>\n",
              "      <td>0.018470</td>\n",
              "      <td>-0.012304</td>\n",
              "      <td>1.000000</td>\n",
              "    </tr>\n",
              "  </tbody>\n",
              "</table>\n",
              "</div>"
            ],
            "text/plain": [
              "              children  total_income      debt\n",
              "children      1.000000      0.018485  0.018470\n",
              "total_income  0.018485      1.000000 -0.012304\n",
              "debt          0.018470     -0.012304  1.000000"
            ]
          },
          "metadata": {
            "tags": []
          },
          "execution_count": 96
        }
      ]
    },
    {
      "cell_type": "markdown",
      "metadata": {
        "id": "l9wgybIUSerl"
      },
      "source": [
        "**Проблема:** как интерпретировать? Значения близки к нулю.\n",
        "\n",
        "**Решение 1**: избавиться от выбросов.\n",
        "\n",
        "Отсортировать данные по столбцу total_income и \"выкинуть\" верхние и нижние 5% (10%).\n",
        "\n",
        "Проблему с детьми это не решает. Возможно такой корреляции на самом деле нет."
      ]
    },
    {
      "cell_type": "code",
      "metadata": {
        "id": "T52PzorGQynS"
      },
      "source": [
        ""
      ],
      "execution_count": null,
      "outputs": []
    },
    {
      "cell_type": "code",
      "metadata": {
        "id": "yQbwXYRhQyph"
      },
      "source": [
        ""
      ],
      "execution_count": null,
      "outputs": []
    },
    {
      "cell_type": "code",
      "metadata": {
        "id": "YEBqg-bEQyss"
      },
      "source": [
        ""
      ],
      "execution_count": null,
      "outputs": []
    },
    {
      "cell_type": "markdown",
      "metadata": {
        "id": "Ro7uFqD8TOBE"
      },
      "source": [
        "Ссылка на тренажер по pandas и numpy:\n",
        "\n",
        "https://stepik.org/lesson/190317/step/9\n",
        "\n",
        "\n",
        "- весь 6 модуль курса очень полезен."
      ]
    },
    {
      "cell_type": "code",
      "metadata": {
        "id": "A6tOctCuQyyz"
      },
      "source": [
        ""
      ],
      "execution_count": 153,
      "outputs": []
    },
    {
      "cell_type": "code",
      "metadata": {
        "id": "_2czMcff_tr9"
      },
      "source": [
        ""
      ],
      "execution_count": null,
      "outputs": []
    }
  ]
}