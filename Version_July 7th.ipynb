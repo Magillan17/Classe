{
 "cells": [
  {
   "cell_type": "markdown",
   "metadata": {},
   "source": [
    "<div style=\"border-radius: 15px; border: 3px solid indigo; padding: 15px;\">\n",
    "<b> Комментарий ревьюера</b>\n",
    "    \n",
    "Привет! Меня зовут Светлана Носова, я буду проверять твой проект. Если не против, давай общаться на «ты». Если тебе такой стиль общения не нравится, напиши об этом, будем на «вы». \n",
    "\n",
    "Сразу хочу обратить внимание на цветовую разметку.\n",
    "Зеленым отмечены отличные решения и идеи, которые можно и нужно использовать в будущем. Желтым отмечено то, что можно или нужно оптимизировать, в зависимости от контекста. Красным обозначены пропущенные пункты задания и  ошибки, которые обязательно надо будет исправить, чтобы результаты были верные.\n",
    "    \n",
    "**Ответы на мои комментарии или доработки по моим рекомендациям попрошу выделить каким-нибудь цветом, кроме перечисленных.**\n",
    "Также я попрошу тебя **не менять, не передвигать и не удалять мои комментарии**, чтобы при последующей проверке мне было проще ориентироваться.\n",
    "    \n",
    "Кроме того, комментарии у меня обозначены как заголовки. Это сбивает содержание, но при последующей проверке я могу снять с них заголовок, если тебе так будет удобнее. При этом они удобны, поскольку ты сразу можешь перейти к ним.   \n",
    "        \n",
    "<hr>\n",
    "    \n",
    "**По проекту:** в целом, работа выполнена хорошо, все оформлено понятно и аккуратно, есть анализ и промежуточные выводы. У меня остались некоторые вопросы, я все написала в комментариях. Там же я оставила и рекомендации по улучшению проекта. Буду ждать работу на повторное ревью.\n",
    "    \n",
    "<hr style=\"border-top: 3px solid purple; \"></hr>\n",
    "Комментарии можешь оставлять с помощью такого кода в Markdown ячейке:\n",
    "    \n",
    "    \n",
    "    <div class=\"alert alert-info\">\n",
    "    <h2> Комментарий студента</h2>\n",
    "\n",
    "    Тут текст.\n",
    "    </div>\n",
    "    \n",
    "    \n",
    "    <font color='red'> Этот код позволяет менять цвет текста. </font>     \n",
    "\n",
    "<font color='red'> Выглядит это так. </font> \n",
    "  \n",
    "    \n",
    "Если не хочешь, чтобы твои комментарии отображались в содержании как заголовки, замени **h2** на **b** или добавь `<a class=\"tocSkip\">` после фразы *Комментарий студента*.\n",
    "</div>"
   ]
  },
  {
   "cell_type": "markdown",
   "metadata": {},
   "source": [
    "# Исследование надёжности заёмщиков\n",
    "\n",
    "Заказчик — кредитный отдел банка. Нужно разобраться, влияет ли семейное положение и количество детей клиента на факт погашения кредита в срок. Входные данные от банка — статистика о платёжеспособности клиентов.\n",
    "\n",
    "Результаты исследования будут учтены при построении модели **кредитного скоринга** — специальной системы, которая оценивает способность потенциального заёмщика вернуть кредит банку."
   ]
  },
  {
   "cell_type": "markdown",
   "metadata": {},
   "source": [
    "<div class=\"alert alert-success\" style=\"border-radius: 15px; box-shadow: 4px 4px 4px; border: 1px solid \">\n",
    "<h2> Комментарий ревьюера</h2>\n",
    "    \n",
    "Правильно делаешь, что добавляешь краткое описание задачи. Это поможет быстро вспомнить, о чем проект, если ты к нему вернешься спустя какое-то время.\n",
    "</div>"
   ]
  },
  {
   "cell_type": "markdown",
   "metadata": {},
   "source": [
    "## Шаг 1. Откройте файл с данными и изучите общую информацию"
   ]
  },
  {
   "cell_type": "code",
   "execution_count": 1,
   "metadata": {},
   "outputs": [
    {
     "name": "stdout",
     "output_type": "stream",
     "text": [
      "    children  days_employed  dob_years            education  education_id  \\\n",
      "0          1   -8437.673028         42               высшее             0   \n",
      "1          1   -4024.803754         36              среднее             1   \n",
      "2          0   -5623.422610         33              Среднее             1   \n",
      "3          3   -4124.747207         32              среднее             1   \n",
      "4          0  340266.072047         53              среднее             1   \n",
      "5          0    -926.185831         27               высшее             0   \n",
      "6          0   -2879.202052         43               высшее             0   \n",
      "7          0    -152.779569         50              СРЕДНЕЕ             1   \n",
      "8          2   -6929.865299         35               ВЫСШЕЕ             0   \n",
      "9          0   -2188.756445         41              среднее             1   \n",
      "10         2   -4171.483647         36               высшее             0   \n",
      "11         0    -792.701887         40              среднее             1   \n",
      "12         0            NaN         65              среднее             1   \n",
      "13         0   -1846.641941         54  неоконченное высшее             2   \n",
      "14         0   -1844.956182         56               высшее             0   \n",
      "15         1    -972.364419         26              среднее             1   \n",
      "16         0   -1719.934226         35              среднее             1   \n",
      "17         0   -2369.999720         33               высшее             0   \n",
      "18         0  400281.136913         53              среднее             1   \n",
      "19         0  -10038.818549         48              СРЕДНЕЕ             1   \n",
      "\n",
      "       family_status  family_status_id gender income_type  debt  \\\n",
      "0    женат / замужем                 0      F   сотрудник     0   \n",
      "1    женат / замужем                 0      F   сотрудник     0   \n",
      "2    женат / замужем                 0      M   сотрудник     0   \n",
      "3    женат / замужем                 0      M   сотрудник     0   \n",
      "4   гражданский брак                 1      F   пенсионер     0   \n",
      "5   гражданский брак                 1      M   компаньон     0   \n",
      "6    женат / замужем                 0      F   компаньон     0   \n",
      "7    женат / замужем                 0      M   сотрудник     0   \n",
      "8   гражданский брак                 1      F   сотрудник     0   \n",
      "9    женат / замужем                 0      M   сотрудник     0   \n",
      "10   женат / замужем                 0      M   компаньон     0   \n",
      "11   женат / замужем                 0      F   сотрудник     0   \n",
      "12  гражданский брак                 1      M   пенсионер     0   \n",
      "13   женат / замужем                 0      F   сотрудник     0   \n",
      "14  гражданский брак                 1      F   компаньон     1   \n",
      "15   женат / замужем                 0      F   сотрудник     0   \n",
      "16   женат / замужем                 0      F   сотрудник     0   \n",
      "17  гражданский брак                 1      M   сотрудник     0   \n",
      "18    вдовец / вдова                 2      F   пенсионер     0   \n",
      "19         в разводе                 3      F   сотрудник     0   \n",
      "\n",
      "     total_income                                 purpose  \n",
      "0   253875.639453                           покупка жилья  \n",
      "1   112080.014102                 приобретение автомобиля  \n",
      "2   145885.952297                           покупка жилья  \n",
      "3   267628.550329              дополнительное образование  \n",
      "4   158616.077870                         сыграть свадьбу  \n",
      "5   255763.565419                           покупка жилья  \n",
      "6   240525.971920                       операции с жильем  \n",
      "7   135823.934197                             образование  \n",
      "8    95856.832424                   на проведение свадьбы  \n",
      "9   144425.938277                 покупка жилья для семьи  \n",
      "10  113943.491460                    покупка недвижимости  \n",
      "11   77069.234271       покупка коммерческой недвижимости  \n",
      "12            NaN                         сыграть свадьбу  \n",
      "13  130458.228857                 приобретение автомобиля  \n",
      "14  165127.911772              покупка жилой недвижимости  \n",
      "15  116820.904450  строительство собственной недвижимости  \n",
      "16  289202.704229                            недвижимость  \n",
      "17   90410.586745              строительство недвижимости  \n",
      "18   56823.777243      на покупку подержанного автомобиля  \n",
      "19  242831.107982            на покупку своего автомобиля  \n",
      "<class 'pandas.core.frame.DataFrame'>\n",
      "RangeIndex: 21525 entries, 0 to 21524\n",
      "Data columns (total 12 columns):\n",
      "children            21525 non-null int64\n",
      "days_employed       19351 non-null float64\n",
      "dob_years           21525 non-null int64\n",
      "education           21525 non-null object\n",
      "education_id        21525 non-null int64\n",
      "family_status       21525 non-null object\n",
      "family_status_id    21525 non-null int64\n",
      "gender              21525 non-null object\n",
      "income_type         21525 non-null object\n",
      "debt                21525 non-null int64\n",
      "total_income        19351 non-null float64\n",
      "purpose             21525 non-null object\n",
      "dtypes: float64(2), int64(5), object(5)\n",
      "memory usage: 2.0+ MB\n"
     ]
    }
   ],
   "source": [
    "import pandas as pd\n",
    "data = pd.read_csv('/datasets/data.csv')\n",
    "print(data.head(20))\n",
    "data.info()"
   ]
  },
  {
   "cell_type": "markdown",
   "metadata": {},
   "source": [
    "**Вывод**"
   ]
  },
  {
   "cell_type": "markdown",
   "metadata": {},
   "source": [
    "Импортировали библиотеку pandas. Методом .read_csv() загрузили файл и сохранили в переменную data.\n",
    "При просмотре исходной таблицы видны отрицательные значения в продолжительности рабочего стажа (в days_employed), в столбце education есть значения, которые начинаются с заглавных букв (Среднее), total_income приведен до шестого знака после запятой. Заметны большие значения в days_employed и total_income. При просмотре информации, полученной методом .info(), замечены пропущенные значения в столбцах days_employed, total_income.   "
   ]
  },
  {
   "cell_type": "markdown",
   "metadata": {},
   "source": [
    "<div class=\"alert alert-success\" style=\"border-radius: 15px; box-shadow: 4px 4px 4px; border: 1px solid \">\n",
    "<h2> Комментарий ревьюера</h2>\n",
    "    \n",
    "Хорошая вводная часть.\n",
    "</div>"
   ]
  },
  {
   "cell_type": "markdown",
   "metadata": {},
   "source": [
    "## Шаг 2. Предобработка данных"
   ]
  },
  {
   "cell_type": "markdown",
   "metadata": {},
   "source": [
    "### Обработка пропусков"
   ]
  },
  {
   "cell_type": "code",
   "execution_count": 2,
   "metadata": {},
   "outputs": [
    {
     "name": "stdout",
     "output_type": "stream",
     "text": [
      "children               0\n",
      "days_employed       2174\n",
      "dob_years              0\n",
      "education              0\n",
      "education_id           0\n",
      "family_status          0\n",
      "family_status_id       0\n",
      "gender                 0\n",
      "income_type            0\n",
      "debt                   0\n",
      "total_income        2174\n",
      "purpose                0\n",
      "dtype: int64\n",
      "       children  days_employed  dob_years education  education_id  \\\n",
      "12            0            NaN         65   среднее             1   \n",
      "26            0            NaN         41   среднее             1   \n",
      "29            0            NaN         63   среднее             1   \n",
      "41            0            NaN         50   среднее             1   \n",
      "55            0            NaN         54   среднее             1   \n",
      "...         ...            ...        ...       ...           ...   \n",
      "21489         2            NaN         47   Среднее             1   \n",
      "21495         1            NaN         50   среднее             1   \n",
      "21497         0            NaN         48    ВЫСШЕЕ             0   \n",
      "21502         1            NaN         42   среднее             1   \n",
      "21510         2            NaN         28   среднее             1   \n",
      "\n",
      "               family_status  family_status_id gender  income_type  debt  \\\n",
      "12          гражданский брак                 1      M    пенсионер     0   \n",
      "26           женат / замужем                 0      M  госслужащий     0   \n",
      "29     Не женат / не замужем                 4      F    пенсионер     0   \n",
      "41           женат / замужем                 0      F  госслужащий     0   \n",
      "55          гражданский брак                 1      F    пенсионер     1   \n",
      "...                      ...               ...    ...          ...   ...   \n",
      "21489        женат / замужем                 0      M    компаньон     0   \n",
      "21495       гражданский брак                 1      F    сотрудник     0   \n",
      "21497        женат / замужем                 0      F    компаньон     0   \n",
      "21502        женат / замужем                 0      F    сотрудник     0   \n",
      "21510        женат / замужем                 0      F    сотрудник     0   \n",
      "\n",
      "       total_income                           purpose  \n",
      "12              NaN                   сыграть свадьбу  \n",
      "26              NaN                       образование  \n",
      "29              NaN  строительство жилой недвижимости  \n",
      "41              NaN  сделка с подержанным автомобилем  \n",
      "55              NaN                   сыграть свадьбу  \n",
      "...             ...                               ...  \n",
      "21489           NaN              сделка с автомобилем  \n",
      "21495           NaN                           свадьба  \n",
      "21497           NaN        строительство недвижимости  \n",
      "21502           NaN  строительство жилой недвижимости  \n",
      "21510           NaN           приобретение автомобиля  \n",
      "\n",
      "[2174 rows x 12 columns]\n",
      "['сотрудник' 'пенсионер' 'компаньон' 'госслужащий' 'безработный'\n",
      " 'предприниматель' 'студент' 'в декрете']\n",
      "['пенсионер' 'госслужащий' 'компаньон' 'сотрудник' 'предприниматель']\n"
     ]
    }
   ],
   "source": [
    "print(data.isnull().sum())\n",
    "missing_data = data[data.isnull().any(axis=1)]\n",
    "print(missing_data)\n",
    "\n",
    "print(data['income_type'].unique())\n",
    "print(missing_data['income_type'].unique())\n",
    "\n",
    "data['days_employed'] = data['days_employed'].abs()\n",
    "\n"
   ]
  },
  {
   "cell_type": "code",
   "execution_count": 3,
   "metadata": {},
   "outputs": [
    {
     "name": "stdout",
     "output_type": "stream",
     "text": [
      "75\n",
      "0\n",
      "children            0\n",
      "days_employed       0\n",
      "dob_years           0\n",
      "education           0\n",
      "education_id        0\n",
      "family_status       0\n",
      "family_status_id    0\n",
      "gender              0\n",
      "income_type         0\n",
      "debt                0\n",
      "total_income        4\n",
      "purpose             0\n",
      "age_group           0\n",
      "dtype: int64\n"
     ]
    },
    {
     "name": "stderr",
     "output_type": "stream",
     "text": [
      "/opt/conda/lib/python3.7/site-packages/numpy/lib/nanfunctions.py:1111: RuntimeWarning: Mean of empty slice\n",
      "  return np.nanmean(a, axis, out=out, keepdims=keepdims)\n"
     ]
    },
    {
     "data": {
      "text/html": [
       "<div>\n",
       "<style scoped>\n",
       "    .dataframe tbody tr th:only-of-type {\n",
       "        vertical-align: middle;\n",
       "    }\n",
       "\n",
       "    .dataframe tbody tr th {\n",
       "        vertical-align: top;\n",
       "    }\n",
       "\n",
       "    .dataframe thead th {\n",
       "        text-align: right;\n",
       "    }\n",
       "</style>\n",
       "<table border=\"1\" class=\"dataframe\">\n",
       "  <thead>\n",
       "    <tr style=\"text-align: right;\">\n",
       "      <th></th>\n",
       "      <th>children</th>\n",
       "      <th>days_employed</th>\n",
       "      <th>dob_years</th>\n",
       "      <th>education</th>\n",
       "      <th>education_id</th>\n",
       "      <th>family_status</th>\n",
       "      <th>family_status_id</th>\n",
       "      <th>gender</th>\n",
       "      <th>income_type</th>\n",
       "      <th>debt</th>\n",
       "      <th>total_income</th>\n",
       "      <th>purpose</th>\n",
       "      <th>age_group</th>\n",
       "    </tr>\n",
       "  </thead>\n",
       "  <tbody>\n",
       "    <tr>\n",
       "      <td>3891</td>\n",
       "      <td>1</td>\n",
       "      <td>1574.202821</td>\n",
       "      <td>68</td>\n",
       "      <td>НЕОКОНЧЕННОЕ ВЫСШЕЕ</td>\n",
       "      <td>2</td>\n",
       "      <td>в разводе</td>\n",
       "      <td>3</td>\n",
       "      <td>F</td>\n",
       "      <td>сотрудник</td>\n",
       "      <td>0</td>\n",
       "      <td>NaN</td>\n",
       "      <td>строительство недвижимости</td>\n",
       "      <td>senior</td>\n",
       "    </tr>\n",
       "    <tr>\n",
       "      <td>5936</td>\n",
       "      <td>0</td>\n",
       "      <td>520.848083</td>\n",
       "      <td>58</td>\n",
       "      <td>высшее</td>\n",
       "      <td>0</td>\n",
       "      <td>женат / замужем</td>\n",
       "      <td>0</td>\n",
       "      <td>M</td>\n",
       "      <td>предприниматель</td>\n",
       "      <td>0</td>\n",
       "      <td>NaN</td>\n",
       "      <td>покупка жилой недвижимости</td>\n",
       "      <td>senior</td>\n",
       "    </tr>\n",
       "    <tr>\n",
       "      <td>6670</td>\n",
       "      <td>0</td>\n",
       "      <td>365213.306266</td>\n",
       "      <td>0</td>\n",
       "      <td>Высшее</td>\n",
       "      <td>0</td>\n",
       "      <td>в разводе</td>\n",
       "      <td>3</td>\n",
       "      <td>F</td>\n",
       "      <td>пенсионер</td>\n",
       "      <td>0</td>\n",
       "      <td>NaN</td>\n",
       "      <td>покупка жилой недвижимости</td>\n",
       "      <td>young</td>\n",
       "    </tr>\n",
       "    <tr>\n",
       "      <td>18818</td>\n",
       "      <td>0</td>\n",
       "      <td>1574.202821</td>\n",
       "      <td>61</td>\n",
       "      <td>НЕОКОНЧЕННОЕ ВЫСШЕЕ</td>\n",
       "      <td>2</td>\n",
       "      <td>женат / замужем</td>\n",
       "      <td>0</td>\n",
       "      <td>F</td>\n",
       "      <td>сотрудник</td>\n",
       "      <td>0</td>\n",
       "      <td>NaN</td>\n",
       "      <td>операции с жильем</td>\n",
       "      <td>senior</td>\n",
       "    </tr>\n",
       "  </tbody>\n",
       "</table>\n",
       "</div>"
      ],
      "text/plain": [
       "       children  days_employed  dob_years            education  education_id  \\\n",
       "3891          1    1574.202821         68  НЕОКОНЧЕННОЕ ВЫСШЕЕ             2   \n",
       "5936          0     520.848083         58               высшее             0   \n",
       "6670          0  365213.306266          0               Высшее             0   \n",
       "18818         0    1574.202821         61  НЕОКОНЧЕННОЕ ВЫСШЕЕ             2   \n",
       "\n",
       "         family_status  family_status_id gender      income_type  debt  \\\n",
       "3891         в разводе                 3      F        сотрудник     0   \n",
       "5936   женат / замужем                 0      M  предприниматель     0   \n",
       "6670         в разводе                 3      F        пенсионер     0   \n",
       "18818  женат / замужем                 0      F        сотрудник     0   \n",
       "\n",
       "       total_income                     purpose age_group  \n",
       "3891            NaN  строительство недвижимости    senior  \n",
       "5936            NaN  покупка жилой недвижимости    senior  \n",
       "6670            NaN  покупка жилой недвижимости     young  \n",
       "18818           NaN           операции с жильем    senior  "
      ]
     },
     "execution_count": 3,
     "metadata": {},
     "output_type": "execute_result"
    }
   ],
   "source": [
    "print(data['dob_years'].max())\n",
    "print(data['dob_years'].min())\n",
    "\n",
    "def age_groups(age):\n",
    "    if age <20:\n",
    "        return 'young'\n",
    "    if 20 <= age < 55:\n",
    "        return 'middle age'\n",
    "    else:\n",
    "        return 'senior'\n",
    "    \n",
    "data['age_group'] = data['dob_years'].apply(age_groups)    \n",
    "    \n",
    "data.loc[:,('total_income')] = data.groupby(['income_type', 'education', 'age_group'])['total_income'].apply(lambda x: x.fillna(x.median()))\n",
    "\n",
    "data.loc[:,('days_employed')] = data.groupby('income_type')['days_employed'].apply(lambda x: x.fillna(x.median()))\n",
    "\n",
    "print(data.isnull().sum())\n",
    "\n",
    "data[data['total_income'].isnull()]\n",
    "\n",
    "#remove these rows\n"
   ]
  },
  {
   "cell_type": "markdown",
   "metadata": {},
   "source": [
    "<div class=\"alert alert-warning\" style=\"border-radius: 15px; box-shadow: 4px 4px 4px; border: 1px solid \">\n",
    "<h2> Комментарий ревьюера</h2>\n",
    "    \n",
    "Отлично. Раз уж у нас есть такая возможность, давай попробуем заменить пропуски медианой, но взятой по 2-3 характеристикам клиента? Группы можно собрать по разным параметрам. Например, тип занятости + образование + возрастная группа. Попробуешь реализовать это? Если что, я помогу. Столбец стажа можно так не заполнять, поскольку он нам не нужен. \n",
    "</div>\n",
    "<div class=\"alert alert-info\">\n",
    "<h2> Комментарий студента</h2>\n",
    "\n",
    "Добавлены изменения с учетом рекоммендаций:\n",
    "1)    выявлены минимальный и максимальный возраст, чтобы убедиться в отсутствии выбросов:\n",
    "    print(data['dob_years'].max())\n",
    "    print(data['dob_years'].min())\n",
    "    \n",
    "2) Написана функция для сортировки по возрасту:\n",
    "    def age_groups(age):\n",
    "    if age <20:\n",
    "        return 'young'\n",
    "    if 20 <= age < 55:\n",
    "        return 'middle age'\n",
    "    else:\n",
    "        return 'senior'\n",
    "                      \n",
    "3) Добавлен новый столбец с вызовом функции\n",
    "                      data['age_group'] = data['dob_years'].apply(age_groups) \n",
    "                      \n",
    "4) В группировку для 'total income' добавлены столбцы 'education' и 'age_group':\n",
    "                      data.loc[:,('total_income')] = data.groupby(['income_type', 'education', 'age_group'])['total_income'].apply(lambda x: x.fillna(x.median()))\n",
    "                       \n",
    "</div>\n",
    "\n"
   ]
  },
  {
   "cell_type": "markdown",
   "metadata": {},
   "source": [
    "**Вывод**"
   ]
  },
  {
   "cell_type": "markdown",
   "metadata": {},
   "source": [
    "Используя функции .isnull().sum() видим, что в столбцах days_employed и total_income пропущено одинаковое количество значений - 2174. После отфильтровки строк с пропущенными значениями при помощи логической индексации, видим, что общее количество строк с пропущенными значениями 2174. Это означает что в каждой из таких сторок пропущены сразу два значения: days_employed и total_income. Это выглядим логичным, так как люди без работы не имеют дохода. Проверяем эту гипотезу. \n",
    "\n",
    "Вызовом функции unique() сморим, как обозначены люди без дохода и видим, что есть отдельная категория 'безработный'. При проверке уникальных значений для таблицы с пропущенными значениями missing_data, видим, что безработные туда не входят. Значит, значения пропущены случайным образом. \n",
    "\n",
    "Все пропуски помечены NaN. Их необходимо заполнить медианными данными для соответствующих категорий занятости ('пенсионер' 'госслужащий' 'компаньон' 'сотрудник' 'предприниматель'). Перед рассчетом медианы, избавимся от отрицательныз значений в столбце 'days_employed', сохранив их как положительные.  \n",
    "\n",
    "Заполним пропуски на медианные значения для соответствующих категорий используя метод apply(). Затем проверим заполнение вызовом функции isnull().sum(). Пропущенных значений больше нет.  "
   ]
  },
  {
   "cell_type": "markdown",
   "metadata": {},
   "source": [
    "<div class=\"alert alert-success\" style=\"border-radius: 15px; box-shadow: 4px 4px 4px; border: 1px solid \">\n",
    "<h2> Комментарий ревьюера</h2>\n",
    "    \n",
    "Да, очень похоже на то, что пропуски случайны. Скорее всего имеем склейку разных таблиц.</div>"
   ]
  },
  {
   "cell_type": "markdown",
   "metadata": {},
   "source": [
    "### Замена типа данных"
   ]
  },
  {
   "cell_type": "code",
   "execution_count": 4,
   "metadata": {},
   "outputs": [
    {
     "ename": "ValueError",
     "evalue": "Cannot convert non-finite values (NA or inf) to integer",
     "output_type": "error",
     "traceback": [
      "\u001b[0;31m---------------------------------------------------------------------------\u001b[0m",
      "\u001b[0;31mValueError\u001b[0m                                Traceback (most recent call last)",
      "\u001b[0;32m<ipython-input-4-cfcba15bd36a>\u001b[0m in \u001b[0;36m<module>\u001b[0;34m\u001b[0m\n\u001b[1;32m      1\u001b[0m \u001b[0mdata\u001b[0m\u001b[0;34m[\u001b[0m\u001b[0;34m'days_employed'\u001b[0m\u001b[0;34m]\u001b[0m \u001b[0;34m=\u001b[0m \u001b[0mdata\u001b[0m\u001b[0;34m[\u001b[0m\u001b[0;34m'days_employed'\u001b[0m\u001b[0;34m]\u001b[0m\u001b[0;34m.\u001b[0m\u001b[0mastype\u001b[0m\u001b[0;34m(\u001b[0m\u001b[0mint\u001b[0m\u001b[0;34m)\u001b[0m\u001b[0;34m\u001b[0m\u001b[0;34m\u001b[0m\u001b[0m\n\u001b[0;32m----> 2\u001b[0;31m \u001b[0mdata\u001b[0m\u001b[0;34m[\u001b[0m\u001b[0;34m'total_income'\u001b[0m\u001b[0;34m]\u001b[0m \u001b[0;34m=\u001b[0m \u001b[0mdata\u001b[0m\u001b[0;34m[\u001b[0m\u001b[0;34m'total_income'\u001b[0m\u001b[0;34m]\u001b[0m\u001b[0;34m.\u001b[0m\u001b[0mastype\u001b[0m\u001b[0;34m(\u001b[0m\u001b[0mint\u001b[0m\u001b[0;34m)\u001b[0m\u001b[0;34m\u001b[0m\u001b[0;34m\u001b[0m\u001b[0m\n\u001b[0m\u001b[1;32m      3\u001b[0m \u001b[0;34m\u001b[0m\u001b[0m\n",
      "\u001b[0;32m/opt/conda/lib/python3.7/site-packages/pandas/core/generic.py\u001b[0m in \u001b[0;36mastype\u001b[0;34m(self, dtype, copy, errors, **kwargs)\u001b[0m\n\u001b[1;32m   5880\u001b[0m             \u001b[0;31m# else, only a single dtype is given\u001b[0m\u001b[0;34m\u001b[0m\u001b[0;34m\u001b[0m\u001b[0;34m\u001b[0m\u001b[0m\n\u001b[1;32m   5881\u001b[0m             new_data = self._data.astype(\n\u001b[0;32m-> 5882\u001b[0;31m                 \u001b[0mdtype\u001b[0m\u001b[0;34m=\u001b[0m\u001b[0mdtype\u001b[0m\u001b[0;34m,\u001b[0m \u001b[0mcopy\u001b[0m\u001b[0;34m=\u001b[0m\u001b[0mcopy\u001b[0m\u001b[0;34m,\u001b[0m \u001b[0merrors\u001b[0m\u001b[0;34m=\u001b[0m\u001b[0merrors\u001b[0m\u001b[0;34m,\u001b[0m \u001b[0;34m**\u001b[0m\u001b[0mkwargs\u001b[0m\u001b[0;34m\u001b[0m\u001b[0;34m\u001b[0m\u001b[0m\n\u001b[0m\u001b[1;32m   5883\u001b[0m             )\n\u001b[1;32m   5884\u001b[0m             \u001b[0;32mreturn\u001b[0m \u001b[0mself\u001b[0m\u001b[0;34m.\u001b[0m\u001b[0m_constructor\u001b[0m\u001b[0;34m(\u001b[0m\u001b[0mnew_data\u001b[0m\u001b[0;34m)\u001b[0m\u001b[0;34m.\u001b[0m\u001b[0m__finalize__\u001b[0m\u001b[0;34m(\u001b[0m\u001b[0mself\u001b[0m\u001b[0;34m)\u001b[0m\u001b[0;34m\u001b[0m\u001b[0;34m\u001b[0m\u001b[0m\n",
      "\u001b[0;32m/opt/conda/lib/python3.7/site-packages/pandas/core/internals/managers.py\u001b[0m in \u001b[0;36mastype\u001b[0;34m(self, dtype, **kwargs)\u001b[0m\n\u001b[1;32m    579\u001b[0m \u001b[0;34m\u001b[0m\u001b[0m\n\u001b[1;32m    580\u001b[0m     \u001b[0;32mdef\u001b[0m \u001b[0mastype\u001b[0m\u001b[0;34m(\u001b[0m\u001b[0mself\u001b[0m\u001b[0;34m,\u001b[0m \u001b[0mdtype\u001b[0m\u001b[0;34m,\u001b[0m \u001b[0;34m**\u001b[0m\u001b[0mkwargs\u001b[0m\u001b[0;34m)\u001b[0m\u001b[0;34m:\u001b[0m\u001b[0;34m\u001b[0m\u001b[0;34m\u001b[0m\u001b[0m\n\u001b[0;32m--> 581\u001b[0;31m         \u001b[0;32mreturn\u001b[0m \u001b[0mself\u001b[0m\u001b[0;34m.\u001b[0m\u001b[0mapply\u001b[0m\u001b[0;34m(\u001b[0m\u001b[0;34m\"astype\"\u001b[0m\u001b[0;34m,\u001b[0m \u001b[0mdtype\u001b[0m\u001b[0;34m=\u001b[0m\u001b[0mdtype\u001b[0m\u001b[0;34m,\u001b[0m \u001b[0;34m**\u001b[0m\u001b[0mkwargs\u001b[0m\u001b[0;34m)\u001b[0m\u001b[0;34m\u001b[0m\u001b[0;34m\u001b[0m\u001b[0m\n\u001b[0m\u001b[1;32m    582\u001b[0m \u001b[0;34m\u001b[0m\u001b[0m\n\u001b[1;32m    583\u001b[0m     \u001b[0;32mdef\u001b[0m \u001b[0mconvert\u001b[0m\u001b[0;34m(\u001b[0m\u001b[0mself\u001b[0m\u001b[0;34m,\u001b[0m \u001b[0;34m**\u001b[0m\u001b[0mkwargs\u001b[0m\u001b[0;34m)\u001b[0m\u001b[0;34m:\u001b[0m\u001b[0;34m\u001b[0m\u001b[0;34m\u001b[0m\u001b[0m\n",
      "\u001b[0;32m/opt/conda/lib/python3.7/site-packages/pandas/core/internals/managers.py\u001b[0m in \u001b[0;36mapply\u001b[0;34m(self, f, axes, filter, do_integrity_check, consolidate, **kwargs)\u001b[0m\n\u001b[1;32m    436\u001b[0m                     \u001b[0mkwargs\u001b[0m\u001b[0;34m[\u001b[0m\u001b[0mk\u001b[0m\u001b[0;34m]\u001b[0m \u001b[0;34m=\u001b[0m \u001b[0mobj\u001b[0m\u001b[0;34m.\u001b[0m\u001b[0mreindex\u001b[0m\u001b[0;34m(\u001b[0m\u001b[0mb_items\u001b[0m\u001b[0;34m,\u001b[0m \u001b[0maxis\u001b[0m\u001b[0;34m=\u001b[0m\u001b[0maxis\u001b[0m\u001b[0;34m,\u001b[0m \u001b[0mcopy\u001b[0m\u001b[0;34m=\u001b[0m\u001b[0malign_copy\u001b[0m\u001b[0;34m)\u001b[0m\u001b[0;34m\u001b[0m\u001b[0;34m\u001b[0m\u001b[0m\n\u001b[1;32m    437\u001b[0m \u001b[0;34m\u001b[0m\u001b[0m\n\u001b[0;32m--> 438\u001b[0;31m             \u001b[0mapplied\u001b[0m \u001b[0;34m=\u001b[0m \u001b[0mgetattr\u001b[0m\u001b[0;34m(\u001b[0m\u001b[0mb\u001b[0m\u001b[0;34m,\u001b[0m \u001b[0mf\u001b[0m\u001b[0;34m)\u001b[0m\u001b[0;34m(\u001b[0m\u001b[0;34m**\u001b[0m\u001b[0mkwargs\u001b[0m\u001b[0;34m)\u001b[0m\u001b[0;34m\u001b[0m\u001b[0;34m\u001b[0m\u001b[0m\n\u001b[0m\u001b[1;32m    439\u001b[0m             \u001b[0mresult_blocks\u001b[0m \u001b[0;34m=\u001b[0m \u001b[0m_extend_blocks\u001b[0m\u001b[0;34m(\u001b[0m\u001b[0mapplied\u001b[0m\u001b[0;34m,\u001b[0m \u001b[0mresult_blocks\u001b[0m\u001b[0;34m)\u001b[0m\u001b[0;34m\u001b[0m\u001b[0;34m\u001b[0m\u001b[0m\n\u001b[1;32m    440\u001b[0m \u001b[0;34m\u001b[0m\u001b[0m\n",
      "\u001b[0;32m/opt/conda/lib/python3.7/site-packages/pandas/core/internals/blocks.py\u001b[0m in \u001b[0;36mastype\u001b[0;34m(self, dtype, copy, errors, values, **kwargs)\u001b[0m\n\u001b[1;32m    557\u001b[0m \u001b[0;34m\u001b[0m\u001b[0m\n\u001b[1;32m    558\u001b[0m     \u001b[0;32mdef\u001b[0m \u001b[0mastype\u001b[0m\u001b[0;34m(\u001b[0m\u001b[0mself\u001b[0m\u001b[0;34m,\u001b[0m \u001b[0mdtype\u001b[0m\u001b[0;34m,\u001b[0m \u001b[0mcopy\u001b[0m\u001b[0;34m=\u001b[0m\u001b[0;32mFalse\u001b[0m\u001b[0;34m,\u001b[0m \u001b[0merrors\u001b[0m\u001b[0;34m=\u001b[0m\u001b[0;34m\"raise\"\u001b[0m\u001b[0;34m,\u001b[0m \u001b[0mvalues\u001b[0m\u001b[0;34m=\u001b[0m\u001b[0;32mNone\u001b[0m\u001b[0;34m,\u001b[0m \u001b[0;34m**\u001b[0m\u001b[0mkwargs\u001b[0m\u001b[0;34m)\u001b[0m\u001b[0;34m:\u001b[0m\u001b[0;34m\u001b[0m\u001b[0;34m\u001b[0m\u001b[0m\n\u001b[0;32m--> 559\u001b[0;31m         \u001b[0;32mreturn\u001b[0m \u001b[0mself\u001b[0m\u001b[0;34m.\u001b[0m\u001b[0m_astype\u001b[0m\u001b[0;34m(\u001b[0m\u001b[0mdtype\u001b[0m\u001b[0;34m,\u001b[0m \u001b[0mcopy\u001b[0m\u001b[0;34m=\u001b[0m\u001b[0mcopy\u001b[0m\u001b[0;34m,\u001b[0m \u001b[0merrors\u001b[0m\u001b[0;34m=\u001b[0m\u001b[0merrors\u001b[0m\u001b[0;34m,\u001b[0m \u001b[0mvalues\u001b[0m\u001b[0;34m=\u001b[0m\u001b[0mvalues\u001b[0m\u001b[0;34m,\u001b[0m \u001b[0;34m**\u001b[0m\u001b[0mkwargs\u001b[0m\u001b[0;34m)\u001b[0m\u001b[0;34m\u001b[0m\u001b[0;34m\u001b[0m\u001b[0m\n\u001b[0m\u001b[1;32m    560\u001b[0m \u001b[0;34m\u001b[0m\u001b[0m\n\u001b[1;32m    561\u001b[0m     \u001b[0;32mdef\u001b[0m \u001b[0m_astype\u001b[0m\u001b[0;34m(\u001b[0m\u001b[0mself\u001b[0m\u001b[0;34m,\u001b[0m \u001b[0mdtype\u001b[0m\u001b[0;34m,\u001b[0m \u001b[0mcopy\u001b[0m\u001b[0;34m=\u001b[0m\u001b[0;32mFalse\u001b[0m\u001b[0;34m,\u001b[0m \u001b[0merrors\u001b[0m\u001b[0;34m=\u001b[0m\u001b[0;34m\"raise\"\u001b[0m\u001b[0;34m,\u001b[0m \u001b[0mvalues\u001b[0m\u001b[0;34m=\u001b[0m\u001b[0;32mNone\u001b[0m\u001b[0;34m,\u001b[0m \u001b[0;34m**\u001b[0m\u001b[0mkwargs\u001b[0m\u001b[0;34m)\u001b[0m\u001b[0;34m:\u001b[0m\u001b[0;34m\u001b[0m\u001b[0;34m\u001b[0m\u001b[0m\n",
      "\u001b[0;32m/opt/conda/lib/python3.7/site-packages/pandas/core/internals/blocks.py\u001b[0m in \u001b[0;36m_astype\u001b[0;34m(self, dtype, copy, errors, values, **kwargs)\u001b[0m\n\u001b[1;32m    641\u001b[0m                     \u001b[0;31m# _astype_nansafe works fine with 1-d only\u001b[0m\u001b[0;34m\u001b[0m\u001b[0;34m\u001b[0m\u001b[0;34m\u001b[0m\u001b[0m\n\u001b[1;32m    642\u001b[0m                     \u001b[0mvals1d\u001b[0m \u001b[0;34m=\u001b[0m \u001b[0mvalues\u001b[0m\u001b[0;34m.\u001b[0m\u001b[0mravel\u001b[0m\u001b[0;34m(\u001b[0m\u001b[0;34m)\u001b[0m\u001b[0;34m\u001b[0m\u001b[0;34m\u001b[0m\u001b[0m\n\u001b[0;32m--> 643\u001b[0;31m                     \u001b[0mvalues\u001b[0m \u001b[0;34m=\u001b[0m \u001b[0mastype_nansafe\u001b[0m\u001b[0;34m(\u001b[0m\u001b[0mvals1d\u001b[0m\u001b[0;34m,\u001b[0m \u001b[0mdtype\u001b[0m\u001b[0;34m,\u001b[0m \u001b[0mcopy\u001b[0m\u001b[0;34m=\u001b[0m\u001b[0;32mTrue\u001b[0m\u001b[0;34m,\u001b[0m \u001b[0;34m**\u001b[0m\u001b[0mkwargs\u001b[0m\u001b[0;34m)\u001b[0m\u001b[0;34m\u001b[0m\u001b[0;34m\u001b[0m\u001b[0m\n\u001b[0m\u001b[1;32m    644\u001b[0m \u001b[0;34m\u001b[0m\u001b[0m\n\u001b[1;32m    645\u001b[0m                 \u001b[0;31m# TODO(extension)\u001b[0m\u001b[0;34m\u001b[0m\u001b[0;34m\u001b[0m\u001b[0;34m\u001b[0m\u001b[0m\n",
      "\u001b[0;32m/opt/conda/lib/python3.7/site-packages/pandas/core/dtypes/cast.py\u001b[0m in \u001b[0;36mastype_nansafe\u001b[0;34m(arr, dtype, copy, skipna)\u001b[0m\n\u001b[1;32m    698\u001b[0m         \u001b[0;32mif\u001b[0m \u001b[0;32mnot\u001b[0m \u001b[0mnp\u001b[0m\u001b[0;34m.\u001b[0m\u001b[0misfinite\u001b[0m\u001b[0;34m(\u001b[0m\u001b[0marr\u001b[0m\u001b[0;34m)\u001b[0m\u001b[0;34m.\u001b[0m\u001b[0mall\u001b[0m\u001b[0;34m(\u001b[0m\u001b[0;34m)\u001b[0m\u001b[0;34m:\u001b[0m\u001b[0;34m\u001b[0m\u001b[0;34m\u001b[0m\u001b[0m\n\u001b[1;32m    699\u001b[0m             raise ValueError(\n\u001b[0;32m--> 700\u001b[0;31m                 \u001b[0;34m\"Cannot convert non-finite values (NA or inf) to \"\u001b[0m \u001b[0;34m\"integer\"\u001b[0m\u001b[0;34m\u001b[0m\u001b[0;34m\u001b[0m\u001b[0m\n\u001b[0m\u001b[1;32m    701\u001b[0m             )\n\u001b[1;32m    702\u001b[0m \u001b[0;34m\u001b[0m\u001b[0m\n",
      "\u001b[0;31mValueError\u001b[0m: Cannot convert non-finite values (NA or inf) to integer"
     ]
    }
   ],
   "source": [
    "data['days_employed'] = data['days_employed'].astype(int)\n",
    "data['total_income'] = data['total_income'].astype(int)\n",
    "       "
   ]
  },
  {
   "cell_type": "markdown",
   "metadata": {},
   "source": []
  },
  {
   "cell_type": "markdown",
   "metadata": {},
   "source": [
    "Вывод\n",
    "\n",
    "Для удобства работы с данными, заменим тип данных столбцов days_employed и total_income с float на integer испольщуя метод .astype(int). Десятичные цифры в данном случае не важны, их можно опустить для ускорения времени обработки.\n"
   ]
  },
  {
   "cell_type": "markdown",
   "metadata": {},
   "source": [
    "### Обработка дубликатов"
   ]
  },
  {
   "cell_type": "code",
   "execution_count": null,
   "metadata": {},
   "outputs": [],
   "source": [
    "from collections import Counter\n",
    "print(Counter(data['education']))\n",
    "data['education'] = data['education'].str.lower()\n",
    "print(Counter(data['education']))\n",
    "\n",
    "print(Counter(data['family_status']))\n",
    "data['family_status'] = data['family_status'].str.lower()\n",
    "print(Counter(data['family_status']))\n",
    "print(Counter(data['income_type']))\n",
    "print(Counter(data['purpose']))\n",
    "print(Counter(data['gender']))\n",
    "\n",
    "print(data.duplicated().sum()) \n",
    "print(data.shape)\n",
    "\n",
    "data.drop_duplicates(keep = 'first', inplace = True)\n",
    "\n",
    "print(data.duplicated().sum()) \n",
    "print(data.shape)\n"
   ]
  },
  {
   "cell_type": "code",
   "execution_count": 6,
   "metadata": {},
   "outputs": [
    {
     "name": "stdout",
     "output_type": "stream",
     "text": [
      "    education_id            education\n",
      "0              0               высшее\n",
      "4              0               ВЫСШЕЕ\n",
      "7              0               Высшее\n",
      "1              1              среднее\n",
      "2              1              Среднее\n",
      "3              1              СРЕДНЕЕ\n",
      "5              2  неоконченное высшее\n",
      "8              2  НЕОКОНЧЕННОЕ ВЫСШЕЕ\n",
      "9              2  Неоконченное высшее\n",
      "6              3            начальное\n",
      "10             3            НАЧАЛЬНОЕ\n",
      "11             3            Начальное\n",
      "12             4       Ученая степень\n",
      "13             4       УЧЕНАЯ СТЕПЕНЬ\n",
      "14             4       ученая степень\n",
      "   family_status_id          family_status\n",
      "0                 0        женат / замужем\n",
      "1                 1       гражданский брак\n",
      "2                 2         вдовец / вдова\n",
      "3                 3              в разводе\n",
      "4                 4  Не женат / не замужем\n"
     ]
    }
   ],
   "source": [
    "#Для обработки дубликатов в столбцах 'education_id'/'education' и 'family_status_id'/'family_status' были созданы словари:\n",
    "    \n",
    "education_dict = data[['education_id','education']]\n",
    "family_status_dict = data[['family_status_id', 'family_status']]\n",
    "\n",
    "# Затем было проведено удаление дубликатов из словарей припомощи метода drop_duplicates().Результат был проверен выводом на экран отсортированных значений.\n",
    "\n",
    "education_dict = education_dict.drop_duplicates().reset_index(drop=True)\n",
    "family_status_dict = family_status_dict.drop_duplicates().reset_index(drop=True)\n",
    "print(education_dict.sort_values(by = 'education_id'))\n",
    "\n",
    "print(family_status_dict.sort_values(by = 'family_status_id'))"
   ]
  },
  {
   "cell_type": "markdown",
   "metadata": {},
   "source": [
    "<div class=\"alert alert-success\" style=\"border-radius: 15px; box-shadow: 4px 4px 4px; border: 1px solid \">\n",
    "<h2> Комментарий ревьюера</h2>\n",
    "    \n",
    "Поскольку у нас нет уникальных идентификаторов пользователей, эти дубликаты вполне могут быть разными людьми. А вот дубликаты записей в столбцах вроде **Среднее** образование и **среднее** образование удалить надо было (путем приведения к одному регистру), это верно. </div>\n",
    "\n",
    "\n"
   ]
  },
  {
   "cell_type": "markdown",
   "metadata": {},
   "source": [
    "**Вывод**"
   ]
  },
  {
   "cell_type": "markdown",
   "metadata": {},
   "source": [
    "1) Методом Counter проверим количества уникальных значений для столбцов типа object. Видим, что в столбцах 'education' и 'family_status' много дубликатов из-за использования заглавных букв. Приведем содержимое этих двух столбцов к единому формату используя функцию str.lower(). Проверим результат методом Counter.\n",
    "2) Вызовом функции duplicated() находим общее количество дупликатов в таблице. Методом drop_duplicates удаляем полные дубликаты в таблице, оставляя первую строку при помощи keep = 'first' и избавляясь только от дублирующей строки. Проверяем результат методом shape до и после удаления. Видим, что удалены только 71 дублирующих строки. Полные дубликаты могли появиться при объединении нескольких меньших датасетов в один большой.\n"
   ]
  },
  {
   "cell_type": "markdown",
   "metadata": {},
   "source": [
    "<div class=\"alert alert-danger\" style=\"border-radius: 15px; box-shadow: 4px 4px 4px; border: 1px solid\">\n",
    "<h2> Комментарий ревьюера </h2>\n",
    "    \n",
    "В задаче нас просят обратить внимание на словари. Словарем можно назвать пару столбцов `education` и `education_id`, поскольку они взаимозаменяемы и из них можно слепить словарь (структуру данных dict). Есть еще что-нибудь подобное в таблице?\n",
    "    \n",
    "<div class=\"alert alert-info\">\n",
    "<h2> Комментарий студента</h2>\n",
    "\n",
    "Для обработки дубликатов в столбцах 'education_id'/'education' и 'family_status_id'/'family_status' были созданы словари:\n",
    "    \n",
    "education_dict = data[['education_id','education']]\n",
    "family_status_dict = data[['family_status_id', 'family_status']]\n",
    "\n",
    "Затем было проведено удаление дубликатов из словарей припомощи метода drop_duplicates().Результат был проверен выводом на экран отсортированных значений.\n",
    "\n",
    "education_dict = education_dict.drop_duplicates().reset_index(drop=True)\n",
    "family_status_dict = family_status_dict.drop_duplicates().reset_index(drop=True)\n",
    "print(education_dict.sort_values(by = 'education_id'))\n",
    "\n",
    "print(family_status_dict.sort_values(by = 'family_status_id')) \n",
    "</div>\n",
    "</div>"
   ]
  },
  {
   "cell_type": "markdown",
   "metadata": {},
   "source": [
    "### Лемматизация"
   ]
  },
  {
   "cell_type": "code",
   "execution_count": 1,
   "metadata": {
    "scrolled": false
   },
   "outputs": [
    {
     "ename": "NameError",
     "evalue": "name 'data' is not defined",
     "output_type": "error",
     "traceback": [
      "\u001b[0;31m---------------------------------------------------------------------------\u001b[0m",
      "\u001b[0;31mNameError\u001b[0m                                 Traceback (most recent call last)",
      "\u001b[0;32m<ipython-input-1-73d27b7f35ea>\u001b[0m in \u001b[0;36m<module>\u001b[0;34m\u001b[0m\n\u001b[1;32m      2\u001b[0m \u001b[0;32mfrom\u001b[0m \u001b[0mpymystem3\u001b[0m \u001b[0;32mimport\u001b[0m \u001b[0mMystem\u001b[0m\u001b[0;34m\u001b[0m\u001b[0;34m\u001b[0m\u001b[0m\n\u001b[1;32m      3\u001b[0m \u001b[0mm\u001b[0m \u001b[0;34m=\u001b[0m \u001b[0mMystem\u001b[0m\u001b[0;34m(\u001b[0m\u001b[0;34m)\u001b[0m\u001b[0;34m\u001b[0m\u001b[0;34m\u001b[0m\u001b[0m\n\u001b[0;32m----> 4\u001b[0;31m \u001b[0mlemmas\u001b[0m \u001b[0;34m=\u001b[0m \u001b[0;34m[\u001b[0m\u001b[0;34m[\u001b[0m\u001b[0mm\u001b[0m\u001b[0;34m.\u001b[0m\u001b[0mlemmatize\u001b[0m\u001b[0;34m(\u001b[0m\u001b[0mword\u001b[0m\u001b[0;34m)\u001b[0m \u001b[0;32mfor\u001b[0m \u001b[0mword\u001b[0m \u001b[0;32min\u001b[0m \u001b[0mdata\u001b[0m\u001b[0;34m[\u001b[0m\u001b[0;34m'purpose'\u001b[0m\u001b[0;34m]\u001b[0m\u001b[0;34m]\u001b[0m\u001b[0;34m]\u001b[0m\u001b[0;34m\u001b[0m\u001b[0;34m\u001b[0m\u001b[0m\n\u001b[0m\u001b[1;32m      5\u001b[0m \u001b[0;31m#print(lemmas)\u001b[0m\u001b[0;34m\u001b[0m\u001b[0;34m\u001b[0m\u001b[0;34m\u001b[0m\u001b[0m\n\u001b[1;32m      6\u001b[0m \u001b[0;32mimport\u001b[0m \u001b[0mnumpy\u001b[0m \u001b[0;32mas\u001b[0m \u001b[0mnp\u001b[0m\u001b[0;34m\u001b[0m\u001b[0;34m\u001b[0m\u001b[0m\n",
      "\u001b[0;31mNameError\u001b[0m: name 'data' is not defined"
     ]
    }
   ],
   "source": [
    "#Лемматизируем строки в столбце 'purpose'. \n",
    "#Для этого выделим основу каждого слова word в столбце и сохраним как переменную lemmas:\n",
    "from pymystem3 import Mystem\n",
    "m = Mystem()\n",
    "lemmas = [[m.lemmatize(word) for word in data['purpose']]]  \n",
    "#print(lemmas)\n",
    "\n",
    "#Сохраним переменную lemmas как объект Series\n",
    "import numpy as np\n",
    "n_lemmas = np.array(lemmas)\n",
    "df_lemmas = pd.Series(n_lemmas.reshape(-1))\n",
    "\n",
    "#Запишем переменную df_lemmas в новый столбеу таблицы \n",
    "#и переведем в формат string для последующего использования функции replace.\n",
    "data['df_lemmas'] = df_lemmas\n",
    "data['df_lemmas'] = data['df_lemmas'].astype(str)\n",
    "\n",
    "data.head()"
   ]
  },
  {
   "cell_type": "code",
   "execution_count": 8,
   "metadata": {},
   "outputs": [
    {
     "name": "stdout",
     "output_type": "stream",
     "text": [
      "Defaulting to user installation because normal site-packages is not writeable\n",
      "Requirement already satisfied: pymorphy2 in /opt/conda/lib/python3.7/site-packages (0.8)\n",
      "Requirement already satisfied: docopt>=0.6 in /opt/conda/lib/python3.7/site-packages (from pymorphy2) (0.6.2)\n",
      "Requirement already satisfied: dawg-python>=0.7 in /opt/conda/lib/python3.7/site-packages (from pymorphy2) (0.7.2)\n",
      "Requirement already satisfied: pymorphy2-dicts<3.0,>=2.4 in /opt/conda/lib/python3.7/site-packages (from pymorphy2) (2.4.393442.3710985)\n",
      "Note: you may need to restart the kernel to use updated packages.\n"
     ]
    }
   ],
   "source": [
    "#Усиановим морфологический анализатор для русского языка pymorphy2\n",
    "pip install pymorphy2\n"
   ]
  },
  {
   "cell_type": "code",
   "execution_count": 10,
   "metadata": {},
   "outputs": [],
   "source": [
    "import pymorphy2\n",
    "morph = pymorphy2.MorphAnalyzer()"
   ]
  },
  {
   "cell_type": "code",
   "execution_count": 11,
   "metadata": {},
   "outputs": [],
   "source": [
    "#Напишем функцию для выделения существительних из лемматизированных слов\n",
    "def only_nouns(list_of_strings):\n",
    "    buf_list = []\n",
    "    for word in list_of_strings:\n",
    "        #print(word)\n",
    "        razbor = morph.parse(word)[0]\n",
    "        if 'NOUN' in razbor.tag:\n",
    "            buf_list.append(word)\n",
    "    \n",
    "    return buf_list\n"
   ]
  },
  {
   "cell_type": "code",
   "execution_count": 12,
   "metadata": {},
   "outputs": [],
   "source": [
    "#Для удобства запишем столбец с лемматизированными словами как отдельную переменную Lem\n",
    "lem = data['df_lemmas']"
   ]
  },
  {
   "cell_type": "code",
   "execution_count": 13,
   "metadata": {},
   "outputs": [
    {
     "data": {
      "text/plain": [
       "\"['покупка', ' ', 'жилье', '\\\\n']\""
      ]
     },
     "execution_count": 13,
     "metadata": {},
     "output_type": "execute_result"
    }
   ],
   "source": [
    "#Посмотрим в каком формате находятся значения выводом одного из элементов столбца\n",
    "lem[0]"
   ]
  },
  {
   "cell_type": "code",
   "execution_count": 14,
   "metadata": {},
   "outputs": [],
   "source": [
    "#Избавимся от ненужных символов методом replace\n",
    "lem = lem.apply(lambda x : x.replace(\"[\", \"\").replace(\"]\", \"\").replace(\"\\'\", \"\").replace(\",\", \"\").replace(\"\\\\n\", \"\").replace(\"  \", '').split())\n"
   ]
  },
  {
   "cell_type": "code",
   "execution_count": 15,
   "metadata": {},
   "outputs": [
    {
     "data": {
      "text/plain": [
       "['сыграть', 'свадьба']"
      ]
     },
     "execution_count": 15,
     "metadata": {},
     "output_type": "execute_result"
    }
   ],
   "source": [
    "#Проверим результат замемены выводом одного из элементов столбца\n",
    "lem[4]"
   ]
  },
  {
   "cell_type": "code",
   "execution_count": 16,
   "metadata": {},
   "outputs": [],
   "source": [
    "#При использовании написанной ранее функции only_nouns, оставим только существительные\n",
    "lem = lem.apply(only_nouns)"
   ]
  },
  {
   "cell_type": "code",
   "execution_count": 17,
   "metadata": {},
   "outputs": [
    {
     "data": {
      "text/plain": [
       "0                  [покупка, жилье]\n",
       "1        [приобретение, автомобиль]\n",
       "2                  [покупка, жилье]\n",
       "3                     [образование]\n",
       "4                         [свадьба]\n",
       "                    ...            \n",
       "21520             [операция, жилье]\n",
       "21521          [сделка, автомобиль]\n",
       "21522                [недвижимость]\n",
       "21523         [покупка, автомобиль]\n",
       "21524         [покупка, автомобиль]\n",
       "Name: df_lemmas, Length: 21525, dtype: object"
      ]
     },
     "execution_count": 17,
     "metadata": {},
     "output_type": "execute_result"
    }
   ],
   "source": [
    "#Проверим результат. Видим, что последний элемент каждлй строки является ключевым словом для описания цели кредита\n",
    "lem"
   ]
  },
  {
   "cell_type": "code",
   "execution_count": 18,
   "metadata": {},
   "outputs": [],
   "source": [
    "#Оставим полько последний элемент каждой строки \n",
    "lem = lem.apply(lambda x: x[-1])"
   ]
  },
  {
   "cell_type": "code",
   "execution_count": 19,
   "metadata": {},
   "outputs": [
    {
     "data": {
      "text/plain": [
       "array(['жилье', 'автомобиль', 'образование', 'свадьба', 'семья',\n",
       "       'недвижимость', 'сдача'], dtype=object)"
      ]
     },
     "execution_count": 19,
     "metadata": {},
     "output_type": "execute_result"
    }
   ],
   "source": [
    "#Посморим уникальние значения целей кредита\n",
    "lem.unique()"
   ]
  },
  {
   "cell_type": "markdown",
   "metadata": {},
   "source": [
    "**Вывод**"
   ]
  },
  {
   "cell_type": "markdown",
   "metadata": {},
   "source": [
    "Лемматизируем строки в столбце 'purpose'. Для этого выделим основу каждого слова word в столбце и сохраним как переменную lemmas. Переменная lemmas была перобразована в объект Series и сохранена в отдельный столбец таблицы. После выделения существительных, оставили только одно ключевое слово для каджой строки.\n",
    "\n"
   ]
  },
  {
   "cell_type": "markdown",
   "metadata": {},
   "source": [
    "### Категоризация данных"
   ]
  },
  {
   "cell_type": "code",
   "execution_count": 21,
   "metadata": {},
   "outputs": [],
   "source": [
    "#старый код:\n",
    "\n",
    "#print(data['purpose'].value_counts())\n",
    "\n",
    "#def category_purpose(purpose):\n",
    "#    for i in lemmas:\n",
    "#        if 'жилье' in i:\n",
    "#            return 'операции с недвижимостью'\n",
    "#        if 'недвижимость' in i:\n",
    "#            return 'операции с недвижимостью'\n",
    "#        if 'автомобиль' in i:\n",
    "#            return 'операции с автомобилем'\n",
    "#        if 'свадьба' in i:\n",
    "#            return 'свадьба'  \n",
    "#        if 'образование' in i:\n",
    "#            return 'образование'     "
   ]
  },
  {
   "cell_type": "code",
   "execution_count": 23,
   "metadata": {},
   "outputs": [],
   "source": [
    "#Испортируем Counter, чтобы посмореть количество уникальных значений в целях кредита.\n",
    "from collections import Counter"
   ]
  },
  {
   "cell_type": "code",
   "execution_count": 24,
   "metadata": {},
   "outputs": [
    {
     "data": {
      "text/plain": [
       "Counter({'жилье': 3179,\n",
       "         'автомобиль': 4315,\n",
       "         'образование': 4022,\n",
       "         'свадьба': 2348,\n",
       "         'семья': 641,\n",
       "         'недвижимость': 6367,\n",
       "         'сдача': 653})"
      ]
     },
     "execution_count": 24,
     "metadata": {},
     "output_type": "execute_result"
    }
   ],
   "source": [
    "#Применением метода Counter видим, что у нас получилось 7 значений для целей кредита.\n",
    "Counter(lem)"
   ]
  },
  {
   "cell_type": "code",
   "execution_count": 26,
   "metadata": {},
   "outputs": [],
   "source": [
    "#Сохраняем значения в отдельный столбец purpose_lemmatized\n",
    "data['purpose_lemmatized'] = lem"
   ]
  },
  {
   "cell_type": "markdown",
   "metadata": {},
   "source": [
    "<div class=\"alert alert-warning\" style=\"border-radius: 15px; box-shadow: 4px 4px 4px; border: 1px solid \">\n",
    "<h2> Комментарий ревьюера</h2>\n",
    "    \n",
    "Согласна с категориями. Но если у тебя будет миллион строк и 100 категорий? Проще ведь сначала лемматизировать, а потом тот же Counter применить.  </div>\n",
    "\n",
    "<div class=\"alert alert-danger\" style=\"border-radius: 15px; box-shadow: 4px 4px 4px; border: 1px solid \">\n",
    "<h2> Комментарий ревьюера</h2>\n",
    "    \n",
    "Не забудь исправить ошибку. </div>\n",
    "\n",
    "<div class=\"alert alert-info\">\n",
    "<h2> Комментарий студента</h2>\n",
    "\n",
    "Применен более автоматизированный способ категоризации целей кредита.\n",
    "</div>"
   ]
  },
  {
   "cell_type": "markdown",
   "metadata": {},
   "source": [
    "**Вывод**"
   ]
  },
  {
   "cell_type": "markdown",
   "metadata": {},
   "source": [
    "Применением метода Counter видим, что у нас получилось 7 значений для целей кредита. При этом уникальными являются следующие цели: автомобиль, образование, свадьба, недвижимость. При этом Недвижимость может включать в себя довольно разные цели такие как операции с коммерческой недвижимостью, покупки жилья для собственной семьи или покупка для сдачи в аренду. Группировка данных по этому признаку может привнести заблуждение, поэтому оставляем значения как они есть."
   ]
  },
  {
   "cell_type": "markdown",
   "metadata": {},
   "source": [
    "## Шаг 3. Ответьте на вопросы"
   ]
  },
  {
   "cell_type": "markdown",
   "metadata": {},
   "source": [
    "- Есть ли зависимость между наличием детей и возвратом кредита в срок?"
   ]
  },
  {
   "cell_type": "code",
   "execution_count": null,
   "metadata": {},
   "outputs": [],
   "source": [
    "# Проверим количество детей на наличие артефактов:\n",
    "print(data['children'].value_counts())\n",
    "\n",
    "# Видим, что 47 строк имеют отрицательное количество детей (-1). \n",
    "#Скорее всего, знак минус был добавлен ошибочно. Избавимся от отрицательных значений методом abs:\n",
    "data['children'] = data['children'].abs()\n",
    "\n",
    "# 76 строк имеют количестыо делей равное 20. Учитывая что максимальное значение детей 5 (если отбросить 20),\n",
    "#говорит о том, что данные наиболее вероятно были введены с ошибкой. Перезапишем 20 детей как 2:\n",
    "\n",
    "def change_amount_of_children(x):\n",
    "    if x == 20:\n",
    "        return 2\n",
    "    else:\n",
    "        return x\n",
    "\n",
    "  \n",
    "data['children'] = data['children'].apply(change_amount_of_children)\n",
    "\n",
    "# Проверим результат методом value_counts()\n",
    "print(data['children'].value_counts())"
   ]
  },
  {
   "cell_type": "code",
   "execution_count": null,
   "metadata": {},
   "outputs": [],
   "source": [
    "debt_by_children_group = data.groupby('children')['debt'].sum()\n",
    "applicants_by_children_group = data.groupby('children')['children'].count() \n",
    "\n",
    "print(debt_by_children_group)\n",
    "print(applicants_by_children_group)\n",
    "\n",
    "perc_of_debt_by_children = (debt_by_children_group / applicants_by_children_group) * 100\n",
    "\n",
    "print((perc_of_debt_by_children).sort_values())"
   ]
  },
  {
   "cell_type": "markdown",
   "metadata": {},
   "source": [
    "**Вывод**"
   ]
  },
  {
   "cell_type": "markdown",
   "metadata": {},
   "source": [
    "Коэффициент корреляции между наличием детей и задолженностей по кредиту равен 0.03. Явной зависимости между этими двумя параметрами нет."
   ]
  },
  {
   "cell_type": "markdown",
   "metadata": {},
   "source": [
    "<div class=\"alert alert-danger\" style=\"border-radius: 15px; box-shadow: 4px 4px 4px; border: 1px solid \">\n",
    "<h2> Комментарий ревьюера</h2>\n",
    "    \n",
    "Это коэфф-т линейной связи. А если связь нелинейная? Выведи проценты невозврата. Для этого надо число долгов разделить на общее число кредитов внутри каждой группы. Ниже аналогично. </div>\n",
    "\n",
    "<div class=\"alert alert-info\">\n",
    "<h2> Комментарий студента</h2>\n",
    "\n",
    "Подсчитаем количество долга в зависимости от наличния и количества детей. Для этого сгруппируем данные по столбцу 'children' и подсчитаем количество долгов по сгруппированным данным:    \n",
    "debt_by_children_group = data.groupby('children')['debt'].sum()\n",
    "    \n",
    "Затем подсчитаем общее количество подавшихся на кредит также сгруппированных по наличию и количеству детей:    \n",
    "applicants_by_children_group = data.groupby('children')['children'].count() \n",
    "\n",
    "Распечатаем предварительные данные:\n",
    "print(debt_by_children_group)\n",
    "print(applicants_by_children_group)\n",
    "\n",
    "Вылислим процент невозврата по сгруппированным данным и выведем данные на экран:    \n",
    "perc_of_debt_by_children = (debt_by_children_group / applicants_by_children_group) * 100\n",
    "\n",
    "print(perc_of_debt_by_children)\n",
    "</div>\n",
    "\n",
    "<div class=\"alert alert-warning\" style=\"border-radius: 15px; box-shadow: 4px 4px 4px; border: 1px solid \">\n",
    "<h2> Комментарий ревьюера</h2>\n",
    "    \n",
    "20 детей это не ошибка? </div>\n",
    "\n",
    "<div class=\"alert alert-info\">\n",
    "<h2> Комментарий студента</h2>\n",
    "\n",
    "Проверим количество детей на наличие артефактов:\n",
    "print(data['children'].value_counts())\n",
    "\n",
    "Видим, что 47 строк имеют отрицательное количество детей (-1). \n",
    "Скорее всего, знак минус был добавлен ошибочно. Избавимся от отрицательных значений методом abs:\n",
    "data['children'] = data['children'].abs()\n",
    "\n",
    "76 строк имеют количестыо делей равное 20. Учитывая что максимальное значение детей 5 (если отбросить 20), это\n",
    "говорит о том, что данные наиболее вероятно были введены с ошибкой. Перезапишем 20 детей как 2:\n",
    "\n",
    "def change_amount_of_children(x):\n",
    "    if x == 20:\n",
    "        return 2\n",
    "    else:\n",
    "        return x\n",
    "\n",
    "  \n",
    "data['children'] = data['children'].apply(change_amount_of_children)\n",
    "\n",
    "Проверим результат методом value_counts()\n",
    "print(data['children'].value_counts())\n",
    "</div>\n",
    "\n",
    "<div class=\"alert alert-info\">\n",
    "<h2> Комментарий студента</h2>\n",
    "\n",
    "Вывод:\n",
    "Самый низкий процент невозврата наблюдается среди людей с 5 детьми. Однако это неверный вывод, так как таких людей всего 9. соответственно, данные по этой группе не могут быть использованы для исчерпывающего анализа. \n",
    "Следующий самый низкий процент невозврата (7.51%) наблюдается среди людей без детей. Самый высокий процент наблюдается для людей с 4 детьми (9.75%), однако таких людей всего 41, что значительно меньше в сравнении с количеством людей без детей (14149). В целом с увеличением количества детей процент невозврата растет. \n",
    "    \n",
    "</div>"
   ]
  },
  {
   "cell_type": "markdown",
   "metadata": {},
   "source": [
    "- Есть ли зависимость между семейным положением и возвратом кредита в срок?"
   ]
  },
  {
   "cell_type": "code",
   "execution_count": null,
   "metadata": {},
   "outputs": [],
   "source": [
    "print(data['family_status'].value_counts())\n",
    "\n",
    "debt_by_family_status_group = data.groupby('family_status')['debt'].sum()\n",
    "applicants_by_family_status_group = data.groupby('family_status')['family_status'].count() \n",
    "\n",
    "perc_of_debt_by_family_status = (debt_by_family_status_group / applicants_by_family_status_group) * 100\n",
    "\n",
    "print((perc_of_debt_by_family_status).sort_values())"
   ]
  },
  {
   "cell_type": "markdown",
   "metadata": {},
   "source": [
    "**Вывод**"
   ]
  },
  {
   "cell_type": "markdown",
   "metadata": {},
   "source": [
    "Коэффициент корреляции между семейным положением и задолженностей по кредиту равен -0.008. Явной зависимости между этими двумя параметрами нет.\n",
    "<div class=\"alert alert-info\">\n",
    "<h2> Комментарий студента</h2>\n",
    "\n",
    "Вывод:\n",
    "Самый низкий процент невозврата наблюдается для людей со статусом 'вдовец / вдова', однако общее количество таких людей в 10 раз меньше по сравнению с людьми в статусе 'женат / замужем'. \n",
    "Самый высокий процент наблюдался для людей со статусом 'Не женат / не замужем' (9.74%).    \n",
    "    \n",
    "</div>"
   ]
  },
  {
   "cell_type": "markdown",
   "metadata": {},
   "source": [
    "- Есть ли зависимость между уровнем дохода и возвратом кредита в срок?"
   ]
  },
  {
   "cell_type": "code",
   "execution_count": null,
   "metadata": {},
   "outputs": [],
   "source": [
    "data['debt'].corr(data['total_income']) # линейной корреляции нет\n",
    "\n",
    "# Разобьем данные по доходу на квартили, чтобы получить рамки доходом для группировки по группам: \n",
    "print(data['total_income'].quantile([0.25, 0.50, 0.75], interpolation='nearest'))\n",
    "\n",
    "# Группируем используя полученные квартили:\n",
    "def income_levels(x):\n",
    "    if x < 107702:\n",
    "        return 'low_income'\n",
    "    if 107702 <= x < 143302:\n",
    "        return 'middle'\n",
    "    if 143302 <= x < 198149:\n",
    "        return 'middle_high'\n",
    "    if x > 198149:\n",
    "        return 'high'\n",
    "    \n",
    "data['income_group'] = data['total_income'].apply(income_levels)   \n",
    "\n",
    "print(data['income_group'].value_counts())\n",
    "\n",
    "debt_by_income_group = data.groupby('income_group')['debt'].sum()\n",
    "applicants_by_income_group = data.groupby('income_group')['income_group'].count() \n",
    "\n",
    "perc_of_debt_by_income = (debt_by_income_group / applicants_by_income_group) * 100\n",
    "\n",
    "print((perc_of_debt_by_income).sort_values())"
   ]
  },
  {
   "cell_type": "markdown",
   "metadata": {},
   "source": [
    "**Вывод**\n",
    "\n",
    "<div class=\"alert alert-info\">\n",
    "<h2> Комментарий студента</h2>\n",
    "\n",
    "Линейной корреляции между уровнем дохода и возвратом кредита в срок выявлено не было. \n",
    "    \n",
    "После распреденения данных по уровню дохода с использованием квартилей и расчета доли невыплат по кредиту для сгруппированных данных, видим следующее: самый низкий процент невозврата (6.96%) наблюдается для группы с высоким уровнем дохода (выше 198149). Самый высокий процент (8.88%) наблюдается для для группы с уровнем дохода 107702 - 143302.\n",
    "</div>"
   ]
  },
  {
   "cell_type": "markdown",
   "metadata": {},
   "source": []
  },
  {
   "cell_type": "markdown",
   "metadata": {},
   "source": [
    "- Как разные цели кредита влияют на его возврат в срок?"
   ]
  },
  {
   "cell_type": "code",
   "execution_count": 28,
   "metadata": {},
   "outputs": [
    {
     "name": "stdout",
     "output_type": "stream",
     "text": [
      "недвижимость    6367\n",
      "автомобиль      4315\n",
      "образование     4022\n",
      "жилье           3179\n",
      "свадьба         2348\n",
      "сдача            653\n",
      "семья            641\n",
      "Name: purpose_lemmatized, dtype: int64\n",
      "purpose_lemmatized\n",
      "жилье           6.637307\n",
      "семья           7.020281\n",
      "недвижимость    7.444636\n",
      "свадьба         7.921635\n",
      "сдача           7.963247\n",
      "образование     9.199403\n",
      "автомобиль      9.339513\n",
      "dtype: float64\n"
     ]
    }
   ],
   "source": [
    "data.head(20)\n",
    "\n",
    "print(data['purpose_lemmatized'].value_counts())\n",
    "\n",
    "debt_by_purpose_group = data.groupby('purpose_lemmatized')['debt'].sum()\n",
    "applicants_by_purpose_group = data.groupby('purpose_lemmatized')['purpose_lemmatized'].count() \n",
    "\n",
    "perc_of_debt_by_purpose = (debt_by_purpose_group / applicants_by_purpose_group) * 100\n",
    "\n",
    "print((perc_of_debt_by_purpose).sort_values())"
   ]
  },
  {
   "cell_type": "markdown",
   "metadata": {},
   "source": [
    "**Вывод**"
   ]
  },
  {
   "cell_type": "markdown",
   "metadata": {},
   "source": [
    "Для анализа корреляции нужно привести значения в столбце purpose к категориальному типу. При использовании метода corr, коэффициент корреляции 0.001. Значительной корреляции между величинами нет.\n",
    "<div class=\"alert alert-info\">\n",
    "<h2> Комментарий студента</h2>\n",
    "\n",
    "При анализе процента невозврата для разничных целей кредита, видим, что самый низкий процент составляет 6.64% для операций с жильем. Все операции с недвижимлостью имеют процент невозврата в пределах 6.64-7.96%. Среди операций с недвижимостью самые ненедежные заемщики те, кто берет кредит для приобретения жилья под сдачу. \n",
    "Категории Автомобиль и Образование показали самые высокие проценты невозврата кредита в срок.    \n",
    "</div>"
   ]
  },
  {
   "cell_type": "markdown",
   "metadata": {},
   "source": [
    "## Шаг 4. Общий вывод"
   ]
  },
  {
   "cell_type": "markdown",
   "metadata": {},
   "source": [
    "Анализ показал, что ни один из перечисленных факторов не оказывает значительного влияния на возврат кредита в срок. "
   ]
  },
  {
   "cell_type": "markdown",
   "metadata": {},
   "source": [
    "<div class=\"alert alert-warning\" style=\"border-radius: 15px; box-shadow: 4px 4px 4px; border: 1px solid\">\n",
    "<h2> Комментарий ревьюера</h2>\n",
    "    \n",
    "После корректировок не забудь привести проценты невозврата в срок у самых надежных и самых безответственных клиентов для каждой группы. Например: самые надежные клиенты это люди, берущие кредит на операции с недвижимостью (такой-то процент невозврата в срок), а самые безответственные те, кто обращается в банк с целью получить деньги на покупку автомобиля (такой-то процент). И так для каждый группы. Это хороший тон, — подкреплять вывод полученными ранее результатами. Кроме того, так ты не оставляешь заказчику шансов неверно интерпретировать вывод.\n",
    "</div>\n",
    "<div class=\"alert alert-info\">\n",
    "<h2> Комментарий студента</h2>\n",
    "\n",
    "В ходе проведенного анадиза данных получены следующие выводы:\n",
    "    \n",
    "Влияние наличия/количества детей: самый низкий процент невозврата кредита в срок (7.51%) наблюдается среди людей без детей. Самый высокий процент наблюдается для людей с 4 детьми (9.75%), однако таких людей всего 41, что значительно меньше в сравнении с количеством людей без детей (14149). В целом с увеличением количества детей процент невозврата растет.  \n",
    "    \n",
    "Влияние семейного положения: самый низкий процент невозврата кредита в срок наблюдается для людей со статусом 'вдовец / вдова', однако общее количество таких людей в 10 раз меньше по сравнению с людьми в статусе 'женат / замужем'. Самый высокий процент наблюдался для людей со статусом 'Не женат / не замужем' (9.74%).\n",
    "    \n",
    "Влияние уровня дохода: самый низкий процент невозврата крудита в срок (6.96%) наблюдается для группы с высоким уровнем дохода (выше 198149). Самый высокий процент (8.88%) наблюдается для для группы с уровнем дохода 107702 - 143302. \n",
    "    \n",
    "Влияние цели кредита: самый низкий процент составляет 6.64% для операций с жильем. Все операции с недвижимлостью имеют процент невозврата в пределах 6.64-7.96%. Категории Автомобиль и Образование показали самые высокие проценты невозврата кредита в срок (9.33 и 9.20% соответственно).        \n",
    "</div>"
   ]
  },
  {
   "cell_type": "markdown",
   "metadata": {},
   "source": [
    "## Чек-лист готовности проекта\n",
    "\n",
    "Поставьте 'x' в выполненных пунктах. Далее нажмите Shift+Enter."
   ]
  },
  {
   "cell_type": "markdown",
   "metadata": {},
   "source": [
    "- [x]  открыт файл;\n",
    "- [x]  файл изучен;\n",
    "- [x]  определены пропущенные значения;\n",
    "- [x]  заполнены пропущенные значения;\n",
    "- [x]  есть пояснение, какие пропущенные значения обнаружены;\n",
    "- [x]  описаны возможные причины появления пропусков в данных;\n",
    "- [ ]  объяснено, по какому принципу заполнены пропуски;\n",
    "- [ ]  заменен вещественный тип данных на целочисленный;\n",
    "- [ ]  есть пояснение, какой метод используется для изменения типа данных и почему;\n",
    "- [ ]  удалены дубликаты;\n",
    "- [ ]  есть пояснение, какой метод используется для поиска и удаления дубликатов;\n",
    "- [ ]  описаны возможные причины появления дубликатов в данных;\n",
    "- [ ]  выделены леммы в значениях столбца с целями получения кредита;\n",
    "- [ ]  описан процесс лемматизации;\n",
    "- [ ]  данные категоризированы;\n",
    "- [ ]  есть объяснение принципа категоризации данных;\n",
    "- [ ]  есть ответ на вопрос: \"Есть ли зависимость между наличием детей и возвратом кредита в срок?\";\n",
    "- [ ]  есть ответ на вопрос: \"Есть ли зависимость между семейным положением и возвратом кредита в срок?\";\n",
    "- [ ]  есть ответ на вопрос: \"Есть ли зависимость между уровнем дохода и возвратом кредита в срок?\";\n",
    "- [ ]  есть ответ на вопрос: \"Как разные цели кредита влияют на его возврат в срок?\";\n",
    "- [ ]  в каждом этапе есть выводы;\n",
    "- [ ]  есть общий вывод."
   ]
  }
 ],
 "metadata": {
  "ExecuteTimeLog": [
   {
    "duration": 767,
    "start_time": "2021-06-25T19:38:56.207Z"
   },
   {
    "duration": 70,
    "start_time": "2021-06-25T19:39:14.219Z"
   },
   {
    "duration": 81,
    "start_time": "2021-06-25T19:39:38.085Z"
   },
   {
    "duration": 79,
    "start_time": "2021-06-25T19:39:43.298Z"
   },
   {
    "duration": 84,
    "start_time": "2021-06-25T19:47:01.100Z"
   },
   {
    "duration": 36,
    "start_time": "2021-06-25T21:31:44.574Z"
   },
   {
    "duration": 13,
    "start_time": "2021-06-25T21:31:55.585Z"
   },
   {
    "duration": 373,
    "start_time": "2021-06-25T21:33:28.499Z"
   },
   {
    "duration": 276,
    "start_time": "2021-06-25T21:33:42.802Z"
   },
   {
    "duration": 11,
    "start_time": "2021-06-25T21:35:59.007Z"
   },
   {
    "duration": 19,
    "start_time": "2021-06-25T21:37:32.776Z"
   },
   {
    "duration": 18,
    "start_time": "2021-06-25T21:39:10.980Z"
   },
   {
    "duration": 12,
    "start_time": "2021-06-25T21:43:14.368Z"
   },
   {
    "duration": 24,
    "start_time": "2021-06-25T21:43:26.895Z"
   },
   {
    "duration": 296,
    "start_time": "2021-06-25T21:45:27.217Z"
   },
   {
    "duration": 326,
    "start_time": "2021-06-25T21:46:14.830Z"
   },
   {
    "duration": 89,
    "start_time": "2021-06-25T21:46:52.727Z"
   },
   {
    "duration": 271,
    "start_time": "2021-06-25T21:46:57.562Z"
   },
   {
    "duration": 86,
    "start_time": "2021-06-25T21:48:32.946Z"
   },
   {
    "duration": 25,
    "start_time": "2021-06-25T21:48:40.068Z"
   },
   {
    "duration": 29,
    "start_time": "2021-06-25T21:50:09.090Z"
   },
   {
    "duration": 31,
    "start_time": "2021-06-25T21:50:19.447Z"
   },
   {
    "duration": 55,
    "start_time": "2021-06-25T22:03:41.724Z"
   },
   {
    "duration": 44,
    "start_time": "2021-06-25T22:04:59.142Z"
   },
   {
    "duration": 20,
    "start_time": "2021-06-25T22:05:32.539Z"
   },
   {
    "duration": 12,
    "start_time": "2021-06-25T22:05:58.526Z"
   },
   {
    "duration": 86,
    "start_time": "2021-06-25T22:06:03.760Z"
   },
   {
    "duration": 11,
    "start_time": "2021-06-25T22:06:03.849Z"
   },
   {
    "duration": 84,
    "start_time": "2021-06-25T22:06:21.468Z"
   },
   {
    "duration": 48,
    "start_time": "2021-06-25T22:06:21.555Z"
   },
   {
    "duration": 114,
    "start_time": "2021-06-26T10:31:51.123Z"
   },
   {
    "duration": 105,
    "start_time": "2021-06-26T10:34:13.071Z"
   },
   {
    "duration": 388,
    "start_time": "2021-06-26T10:38:23.711Z"
   },
   {
    "duration": 876,
    "start_time": "2021-06-26T10:38:35.944Z"
   },
   {
    "duration": 65,
    "start_time": "2021-06-26T10:38:36.822Z"
   },
   {
    "duration": 17,
    "start_time": "2021-06-26T10:38:36.889Z"
   },
   {
    "duration": 18,
    "start_time": "2021-06-26T10:42:04.967Z"
   },
   {
    "duration": 116,
    "start_time": "2021-06-26T10:42:12.143Z"
   },
   {
    "duration": 115,
    "start_time": "2021-06-26T10:43:25.999Z"
   },
   {
    "duration": 123,
    "start_time": "2021-06-26T10:43:35.883Z"
   },
   {
    "duration": 18,
    "start_time": "2021-06-26T10:50:28.397Z"
   },
   {
    "duration": 84,
    "start_time": "2021-06-26T10:50:36.086Z"
   },
   {
    "duration": 49,
    "start_time": "2021-06-26T10:50:36.172Z"
   },
   {
    "duration": 42,
    "start_time": "2021-06-26T10:50:36.223Z"
   },
   {
    "duration": 18,
    "start_time": "2021-06-26T10:53:32.428Z"
   },
   {
    "duration": 18,
    "start_time": "2021-06-26T10:55:10.189Z"
   },
   {
    "duration": 30,
    "start_time": "2021-06-26T11:00:20.907Z"
   },
   {
    "duration": 786,
    "start_time": "2021-06-26T11:12:53.157Z"
   },
   {
    "duration": 84,
    "start_time": "2021-06-26T11:13:05.677Z"
   },
   {
    "duration": 52,
    "start_time": "2021-06-26T11:13:05.764Z"
   },
   {
    "duration": 657,
    "start_time": "2021-06-26T11:13:05.819Z"
   },
   {
    "duration": 644,
    "start_time": "2021-06-26T11:13:36.324Z"
   },
   {
    "duration": 84,
    "start_time": "2021-06-26T11:13:46.227Z"
   },
   {
    "duration": 58,
    "start_time": "2021-06-26T11:13:46.314Z"
   },
   {
    "duration": 703,
    "start_time": "2021-06-26T11:13:46.376Z"
   },
   {
    "duration": 49,
    "start_time": "2021-06-26T11:37:50.075Z"
   },
   {
    "duration": 50,
    "start_time": "2021-06-26T11:38:42.479Z"
   },
   {
    "duration": 47,
    "start_time": "2021-06-26T11:38:55.825Z"
   },
   {
    "duration": 102,
    "start_time": "2021-06-26T11:39:08.074Z"
   },
   {
    "duration": 57,
    "start_time": "2021-06-26T11:39:08.179Z"
   },
   {
    "duration": 831,
    "start_time": "2021-06-26T11:39:08.239Z"
   },
   {
    "duration": 41,
    "start_time": "2021-06-26T11:39:55.261Z"
   },
   {
    "duration": 30,
    "start_time": "2021-06-26T11:41:43.221Z"
   },
   {
    "duration": 82,
    "start_time": "2021-06-26T11:41:58.455Z"
   },
   {
    "duration": 38,
    "start_time": "2021-06-26T11:41:58.540Z"
   },
   {
    "duration": 358,
    "start_time": "2021-06-26T11:41:58.581Z"
   },
   {
    "duration": 88,
    "start_time": "2021-06-26T11:42:19.095Z"
   },
   {
    "duration": 34,
    "start_time": "2021-06-26T11:42:19.186Z"
   },
   {
    "duration": 320,
    "start_time": "2021-06-26T11:42:19.223Z"
   },
   {
    "duration": 86,
    "start_time": "2021-06-26T11:56:07.675Z"
   },
   {
    "duration": 40,
    "start_time": "2021-06-26T11:56:07.764Z"
   },
   {
    "duration": 341,
    "start_time": "2021-06-26T11:56:07.807Z"
   },
   {
    "duration": 82,
    "start_time": "2021-06-26T12:03:15.660Z"
   },
   {
    "duration": 79,
    "start_time": "2021-06-26T12:03:15.745Z"
   },
   {
    "duration": 321,
    "start_time": "2021-06-26T12:03:15.827Z"
   },
   {
    "duration": 109,
    "start_time": "2021-06-26T12:05:58.666Z"
   },
   {
    "duration": 119,
    "start_time": "2021-06-26T12:06:25.359Z"
   },
   {
    "duration": 432,
    "start_time": "2021-06-26T12:07:09.864Z"
   },
   {
    "duration": 422,
    "start_time": "2021-06-26T12:07:24.005Z"
   },
   {
    "duration": 831,
    "start_time": "2021-06-26T12:08:02.551Z"
   },
   {
    "duration": 85,
    "start_time": "2021-06-26T12:19:25.078Z"
   },
   {
    "duration": 119,
    "start_time": "2021-06-26T12:19:25.167Z"
   },
   {
    "duration": 542,
    "start_time": "2021-06-26T12:19:24.746Z"
   },
   {
    "duration": 81,
    "start_time": "2021-06-26T12:19:43.723Z"
   },
   {
    "duration": 82,
    "start_time": "2021-06-26T12:21:55.978Z"
   },
   {
    "duration": 662,
    "start_time": "2021-06-26T12:23:37.433Z"
   },
   {
    "duration": 1286,
    "start_time": "2021-06-26T12:24:55.723Z"
   },
   {
    "duration": 84,
    "start_time": "2021-06-26T12:25:01.835Z"
   },
   {
    "duration": 1383,
    "start_time": "2021-06-26T12:25:01.921Z"
   },
   {
    "duration": 665,
    "start_time": "2021-06-26T12:25:02.642Z"
   },
   {
    "duration": 909,
    "start_time": "2021-06-26T12:32:39.042Z"
   },
   {
    "duration": 83,
    "start_time": "2021-06-26T12:33:08.032Z"
   },
   {
    "duration": 893,
    "start_time": "2021-06-26T12:33:08.198Z"
   },
   {
    "duration": 372,
    "start_time": "2021-06-26T12:33:09.093Z"
   },
   {
    "duration": 1216,
    "start_time": "2021-06-26T12:34:19.148Z"
   },
   {
    "duration": 787,
    "start_time": "2021-06-26T19:43:00.538Z"
   },
   {
    "duration": 74,
    "start_time": "2021-06-26T19:43:01.327Z"
   },
   {
    "duration": 388,
    "start_time": "2021-06-26T19:43:01.404Z"
   },
   {
    "duration": 1078,
    "start_time": "2021-06-26T19:53:37.176Z"
   },
   {
    "duration": 296,
    "start_time": "2021-06-26T19:56:06.118Z"
   },
   {
    "duration": 299,
    "start_time": "2021-06-26T20:02:54.793Z"
   },
   {
    "duration": 86,
    "start_time": "2021-06-26T20:03:00.333Z"
   },
   {
    "duration": 45,
    "start_time": "2021-06-26T20:03:00.422Z"
   },
   {
    "duration": 289,
    "start_time": "2021-06-26T20:03:00.470Z"
   },
   {
    "duration": 103,
    "start_time": "2021-06-26T20:10:52.154Z"
   },
   {
    "duration": 805,
    "start_time": "2021-06-26T20:11:06.854Z"
   },
   {
    "duration": 325,
    "start_time": "2021-06-26T20:11:51.167Z"
   },
   {
    "duration": 86,
    "start_time": "2021-06-26T20:12:09.167Z"
   },
   {
    "duration": 815,
    "start_time": "2021-06-26T20:12:09.256Z"
   },
   {
    "duration": 3357,
    "start_time": "2021-06-26T20:12:10.074Z"
   },
   {
    "duration": 81,
    "start_time": "2021-06-26T20:13:12.626Z"
   },
   {
    "duration": 836,
    "start_time": "2021-06-26T20:13:12.710Z"
   },
   {
    "duration": 3309,
    "start_time": "2021-06-26T20:13:13.549Z"
   },
   {
    "duration": 81,
    "start_time": "2021-06-26T20:17:58.065Z"
   },
   {
    "duration": 1123,
    "start_time": "2021-06-26T20:17:58.149Z"
   },
   {
    "duration": 1017,
    "start_time": "2021-06-26T20:17:58.257Z"
   },
   {
    "duration": 406,
    "start_time": "2021-06-26T20:20:13.943Z"
   },
   {
    "duration": 1176,
    "start_time": "2021-06-26T20:21:01.515Z"
   },
   {
    "duration": 1104,
    "start_time": "2021-06-26T20:21:12.752Z"
   },
   {
    "duration": 891,
    "start_time": "2021-06-27T12:19:28.427Z"
   },
   {
    "duration": 1514,
    "start_time": "2021-06-27T12:19:29.321Z"
   },
   {
    "duration": 269,
    "start_time": "2021-06-27T12:19:30.569Z"
   },
   {
    "duration": 1282,
    "start_time": "2021-06-27T12:20:12.056Z"
   },
   {
    "duration": 1440,
    "start_time": "2021-06-27T12:21:27.960Z"
   },
   {
    "duration": 1399,
    "start_time": "2021-06-27T12:29:31.088Z"
   },
   {
    "duration": 86,
    "start_time": "2021-06-27T12:29:55.104Z"
   },
   {
    "duration": 1332,
    "start_time": "2021-06-27T12:29:55.194Z"
   },
   {
    "duration": 292,
    "start_time": "2021-06-27T12:29:56.237Z"
   },
   {
    "duration": 84,
    "start_time": "2021-06-27T12:30:35.854Z"
   },
   {
    "duration": 1279,
    "start_time": "2021-06-27T12:30:35.941Z"
   },
   {
    "duration": 296,
    "start_time": "2021-06-27T12:30:36.926Z"
   },
   {
    "duration": 10076,
    "start_time": "2021-06-27T12:33:41.105Z"
   },
   {
    "duration": 86,
    "start_time": "2021-06-27T12:34:02.205Z"
   },
   {
    "duration": 9097,
    "start_time": "2021-06-27T12:34:02.293Z"
   },
   {
    "duration": 125,
    "start_time": "2021-06-27T12:34:11.268Z"
   },
   {
    "duration": 823,
    "start_time": "2021-06-27T15:12:10.720Z"
   },
   {
    "duration": 6960,
    "start_time": "2021-06-27T15:12:11.545Z"
   },
   {
    "duration": -14,
    "start_time": "2021-06-27T15:12:18.522Z"
   },
   {
    "duration": 42,
    "start_time": "2021-06-27T17:02:58.284Z"
   },
   {
    "duration": 7248,
    "start_time": "2021-06-27T17:03:42.304Z"
   },
   {
    "duration": 81,
    "start_time": "2021-06-27T17:03:51.558Z"
   },
   {
    "duration": 7033,
    "start_time": "2021-06-27T17:03:51.642Z"
   },
   {
    "duration": 685,
    "start_time": "2021-06-27T17:03:57.993Z"
   },
   {
    "duration": 77,
    "start_time": "2021-06-27T19:20:03.771Z"
   },
   {
    "duration": 361,
    "start_time": "2021-06-27T19:20:46.203Z"
   },
   {
    "duration": 94,
    "start_time": "2021-06-27T19:20:51.578Z"
   },
   {
    "duration": 57,
    "start_time": "2021-06-27T19:20:51.675Z"
   },
   {
    "duration": 282,
    "start_time": "2021-06-27T19:20:51.735Z"
   },
   {
    "duration": 340,
    "start_time": "2021-06-27T19:23:19.983Z"
   },
   {
    "duration": 293,
    "start_time": "2021-06-27T19:26:45.482Z"
   },
   {
    "duration": 49,
    "start_time": "2021-06-27T19:29:11.242Z"
   },
   {
    "duration": 797,
    "start_time": "2021-06-27T19:29:36.301Z"
   },
   {
    "duration": 681,
    "start_time": "2021-06-27T19:29:36.419Z"
   },
   {
    "duration": 679,
    "start_time": "2021-06-27T19:29:36.422Z"
   },
   {
    "duration": 96,
    "start_time": "2021-06-27T19:29:49.160Z"
   },
   {
    "duration": 7955,
    "start_time": "2021-06-27T19:29:49.260Z"
   },
   {
    "duration": 853,
    "start_time": "2021-06-27T19:29:56.365Z"
   },
   {
    "duration": 14,
    "start_time": "2021-06-27T19:53:11.158Z"
   },
   {
    "duration": 26,
    "start_time": "2021-06-27T19:53:37.591Z"
   },
   {
    "duration": 25,
    "start_time": "2021-06-27T19:53:56.285Z"
   },
   {
    "duration": 81,
    "start_time": "2021-06-27T20:00:17.700Z"
   },
   {
    "duration": 81,
    "start_time": "2021-06-27T20:00:22.879Z"
   },
   {
    "duration": 283,
    "start_time": "2021-06-27T20:00:31.322Z"
   },
   {
    "duration": 274,
    "start_time": "2021-06-27T20:00:38.636Z"
   },
   {
    "duration": 82,
    "start_time": "2021-06-27T20:01:08.761Z"
   },
   {
    "duration": 3,
    "start_time": "2021-06-27T20:01:08.846Z"
   },
   {
    "duration": 6,
    "start_time": "2021-06-27T20:01:08.852Z"
   },
   {
    "duration": 330,
    "start_time": "2021-06-27T20:01:08.861Z"
   },
   {
    "duration": 295,
    "start_time": "2021-06-27T20:08:09.032Z"
   },
   {
    "duration": 283,
    "start_time": "2021-06-27T20:08:26.677Z"
   },
   {
    "duration": 361,
    "start_time": "2021-06-27T20:08:32.231Z"
   },
   {
    "duration": 361,
    "start_time": "2021-06-27T20:09:48.771Z"
   },
   {
    "duration": 50,
    "start_time": "2021-06-27T20:09:52.787Z"
   },
   {
    "duration": 69,
    "start_time": "2021-06-27T20:10:04.171Z"
   },
   {
    "duration": 61,
    "start_time": "2021-06-27T20:11:09.263Z"
   },
   {
    "duration": 68,
    "start_time": "2021-06-27T20:12:55.083Z"
   },
   {
    "duration": 84,
    "start_time": "2021-06-27T20:13:12.450Z"
   },
   {
    "duration": 85,
    "start_time": "2021-06-27T20:15:29.870Z"
   },
   {
    "duration": 75,
    "start_time": "2021-06-27T20:15:36.886Z"
   },
   {
    "duration": 87,
    "start_time": "2021-06-27T20:15:46.769Z"
   },
   {
    "duration": 4,
    "start_time": "2021-06-27T20:15:46.860Z"
   },
   {
    "duration": 10,
    "start_time": "2021-06-27T20:15:46.867Z"
   },
   {
    "duration": 91,
    "start_time": "2021-06-27T20:15:46.880Z"
   },
   {
    "duration": 75,
    "start_time": "2021-06-27T20:16:10.399Z"
   },
   {
    "duration": 60,
    "start_time": "2021-06-27T20:16:42.876Z"
   },
   {
    "duration": 87,
    "start_time": "2021-06-27T20:16:51.193Z"
   },
   {
    "duration": 4,
    "start_time": "2021-06-27T20:16:51.283Z"
   },
   {
    "duration": 13,
    "start_time": "2021-06-27T20:16:51.289Z"
   },
   {
    "duration": 68,
    "start_time": "2021-06-27T20:16:51.304Z"
   },
   {
    "duration": 261,
    "start_time": "2021-06-27T20:34:00.983Z"
   },
   {
    "duration": 272,
    "start_time": "2021-06-27T20:34:29.322Z"
   },
   {
    "duration": 10,
    "start_time": "2021-06-27T20:35:12.356Z"
   },
   {
    "duration": 25,
    "start_time": "2021-06-27T20:35:50.366Z"
   },
   {
    "duration": 18,
    "start_time": "2021-06-27T20:35:57.549Z"
   },
   {
    "duration": 26,
    "start_time": "2021-06-27T20:36:18.684Z"
   },
   {
    "duration": 25,
    "start_time": "2021-06-27T20:36:29.748Z"
   },
   {
    "duration": 35,
    "start_time": "2021-06-27T20:36:32.795Z"
   },
   {
    "duration": 89,
    "start_time": "2021-06-27T20:36:36.860Z"
   },
   {
    "duration": 3,
    "start_time": "2021-06-27T20:36:36.951Z"
   },
   {
    "duration": 9,
    "start_time": "2021-06-27T20:36:36.957Z"
   },
   {
    "duration": 86,
    "start_time": "2021-06-27T20:36:36.969Z"
   },
   {
    "duration": 23,
    "start_time": "2021-06-27T20:36:37.058Z"
   },
   {
    "duration": 33,
    "start_time": "2021-06-27T20:37:26.171Z"
   },
   {
    "duration": 48,
    "start_time": "2021-06-27T20:37:50.197Z"
   },
   {
    "duration": 43,
    "start_time": "2021-06-27T20:37:58.337Z"
   },
   {
    "duration": 49,
    "start_time": "2021-06-27T20:38:01.558Z"
   },
   {
    "duration": 56,
    "start_time": "2021-06-27T20:38:11.543Z"
   },
   {
    "duration": 61,
    "start_time": "2021-06-27T20:39:11.568Z"
   },
   {
    "duration": 65,
    "start_time": "2021-06-27T20:39:34.386Z"
   },
   {
    "duration": 56,
    "start_time": "2021-06-27T20:40:13.354Z"
   },
   {
    "duration": 61,
    "start_time": "2021-06-27T20:41:01.879Z"
   },
   {
    "duration": 103,
    "start_time": "2021-06-27T20:42:43.581Z"
   },
   {
    "duration": 81,
    "start_time": "2021-06-27T20:43:03.468Z"
   },
   {
    "duration": 59,
    "start_time": "2021-06-27T20:43:22.569Z"
   },
   {
    "duration": 69,
    "start_time": "2021-06-27T20:43:26.667Z"
   },
   {
    "duration": 59,
    "start_time": "2021-06-27T20:43:36.979Z"
   },
   {
    "duration": 394,
    "start_time": "2021-06-27T20:46:16.994Z"
   },
   {
    "duration": 325,
    "start_time": "2021-06-27T20:46:25.854Z"
   },
   {
    "duration": 55,
    "start_time": "2021-06-27T20:47:07.104Z"
   },
   {
    "duration": 359,
    "start_time": "2021-06-27T20:47:53.139Z"
   },
   {
    "duration": 364,
    "start_time": "2021-06-27T20:49:29.408Z"
   },
   {
    "duration": 88,
    "start_time": "2021-06-27T20:50:00.761Z"
   },
   {
    "duration": 5,
    "start_time": "2021-06-27T20:50:00.852Z"
   },
   {
    "duration": 28,
    "start_time": "2021-06-27T20:50:00.861Z"
   },
   {
    "duration": 84,
    "start_time": "2021-06-27T20:50:00.892Z"
   },
   {
    "duration": 341,
    "start_time": "2021-06-27T20:50:00.980Z"
   },
   {
    "duration": 967,
    "start_time": "2021-06-27T20:50:53.219Z"
   },
   {
    "duration": 983,
    "start_time": "2021-06-27T20:51:04.395Z"
   },
   {
    "duration": 658,
    "start_time": "2021-06-27T20:52:50.882Z"
   },
   {
    "duration": 387,
    "start_time": "2021-06-28T11:47:51.592Z"
   },
   {
    "duration": 819,
    "start_time": "2021-06-28T11:48:35.507Z"
   },
   {
    "duration": 4,
    "start_time": "2021-06-28T11:48:36.328Z"
   },
   {
    "duration": 7,
    "start_time": "2021-06-28T11:48:36.335Z"
   },
   {
    "duration": 82,
    "start_time": "2021-06-28T11:48:36.344Z"
   },
   {
    "duration": 4172,
    "start_time": "2021-06-28T11:48:36.429Z"
   },
   {
    "duration": 299,
    "start_time": "2021-06-28T11:49:14.961Z"
   },
   {
    "duration": 95,
    "start_time": "2021-06-28T11:49:29.410Z"
   },
   {
    "duration": 3749,
    "start_time": "2021-06-28T11:49:41.638Z"
   },
   {
    "duration": 85,
    "start_time": "2021-06-28T11:55:29.322Z"
   },
   {
    "duration": 3,
    "start_time": "2021-06-28T11:55:29.409Z"
   },
   {
    "duration": 14,
    "start_time": "2021-06-28T11:55:29.415Z"
   },
   {
    "duration": 65,
    "start_time": "2021-06-28T11:55:29.494Z"
   },
   {
    "duration": 59217,
    "start_time": "2021-06-28T11:55:29.561Z"
   },
   {
    "duration": 96,
    "start_time": "2021-06-28T11:56:33.216Z"
   },
   {
    "duration": 4447,
    "start_time": "2021-06-28T11:56:44.372Z"
   },
   {
    "duration": 110,
    "start_time": "2021-06-28T12:04:54.308Z"
   },
   {
    "duration": 4598,
    "start_time": "2021-06-28T12:05:02.068Z"
   },
   {
    "duration": 4234,
    "start_time": "2021-06-28T12:06:28.308Z"
   },
   {
    "duration": 806,
    "start_time": "2021-06-28T12:32:26.924Z"
   },
   {
    "duration": 286,
    "start_time": "2021-06-28T12:33:21.650Z"
   },
   {
    "duration": 328,
    "start_time": "2021-06-28T12:33:40.524Z"
   },
   {
    "duration": 433,
    "start_time": "2021-06-28T12:34:58.226Z"
   },
   {
    "duration": 1046,
    "start_time": "2021-06-28T12:35:06.836Z"
   },
   {
    "duration": 92,
    "start_time": "2021-06-28T12:39:32.073Z"
   },
   {
    "duration": 8195,
    "start_time": "2021-06-28T12:39:32.167Z"
   },
   {
    "duration": 557,
    "start_time": "2021-06-28T12:39:39.807Z"
   },
   {
    "duration": 554,
    "start_time": "2021-06-28T12:39:39.811Z"
   },
   {
    "duration": 553,
    "start_time": "2021-06-28T12:39:39.813Z"
   },
   {
    "duration": 553,
    "start_time": "2021-06-28T12:39:39.815Z"
   },
   {
    "duration": 101,
    "start_time": "2021-06-28T14:41:16.098Z"
   },
   {
    "duration": 8521,
    "start_time": "2021-06-28T14:41:16.201Z"
   },
   {
    "duration": 614,
    "start_time": "2021-06-28T14:41:24.110Z"
   },
   {
    "duration": 613,
    "start_time": "2021-06-28T14:41:24.113Z"
   },
   {
    "duration": 613,
    "start_time": "2021-06-28T14:41:24.114Z"
   },
   {
    "duration": 613,
    "start_time": "2021-06-28T14:41:24.121Z"
   },
   {
    "duration": 93,
    "start_time": "2021-06-28T14:41:33.508Z"
   },
   {
    "duration": 10640,
    "start_time": "2021-06-28T14:41:33.604Z"
   },
   {
    "duration": 810,
    "start_time": "2021-06-28T14:41:43.437Z"
   },
   {
    "duration": 809,
    "start_time": "2021-06-28T14:41:43.440Z"
   },
   {
    "duration": 808,
    "start_time": "2021-06-28T14:41:43.442Z"
   },
   {
    "duration": 807,
    "start_time": "2021-06-28T14:41:43.444Z"
   },
   {
    "duration": 8,
    "start_time": "2021-06-28T14:41:50.400Z"
   },
   {
    "duration": 14,
    "start_time": "2021-06-28T14:47:21.874Z"
   },
   {
    "duration": 9,
    "start_time": "2021-06-28T14:47:38.144Z"
   },
   {
    "duration": 12,
    "start_time": "2021-06-28T14:50:05.519Z"
   },
   {
    "duration": 4938,
    "start_time": "2021-06-28T14:53:02.565Z"
   },
   {
    "duration": 4980,
    "start_time": "2021-06-28T14:53:25.967Z"
   },
   {
    "duration": 4726,
    "start_time": "2021-06-28T14:54:07.316Z"
   },
   {
    "duration": 19,
    "start_time": "2021-06-28T15:02:37.970Z"
   },
   {
    "duration": 17,
    "start_time": "2021-06-28T15:02:53.566Z"
   },
   {
    "duration": 27,
    "start_time": "2021-06-28T15:04:44.948Z"
   },
   {
    "duration": 795,
    "start_time": "2021-06-28T15:07:03.013Z"
   },
   {
    "duration": 329,
    "start_time": "2021-06-28T15:13:37.049Z"
   },
   {
    "duration": 18,
    "start_time": "2021-06-28T15:13:43.390Z"
   },
   {
    "duration": 19,
    "start_time": "2021-06-28T15:14:03.314Z"
   },
   {
    "duration": 120,
    "start_time": "2021-06-28T15:19:16.393Z"
   },
   {
    "duration": 19,
    "start_time": "2021-06-28T15:19:21.574Z"
   },
   {
    "duration": 19,
    "start_time": "2021-06-28T15:19:31.709Z"
   },
   {
    "duration": 23,
    "start_time": "2021-06-28T15:22:36.861Z"
   },
   {
    "duration": 27,
    "start_time": "2021-06-28T15:23:56.313Z"
   },
   {
    "duration": 10,
    "start_time": "2021-06-28T15:25:23.735Z"
   },
   {
    "duration": 1650,
    "start_time": "2021-06-28T15:25:56.858Z"
   },
   {
    "duration": 24,
    "start_time": "2021-06-28T15:28:39.193Z"
   },
   {
    "duration": 27,
    "start_time": "2021-06-28T15:29:17.291Z"
   },
   {
    "duration": 36,
    "start_time": "2021-06-28T15:29:53.673Z"
   },
   {
    "duration": 36,
    "start_time": "2021-06-28T15:31:59.285Z"
   },
   {
    "duration": 10,
    "start_time": "2021-06-28T15:36:45.960Z"
   },
   {
    "duration": 5,
    "start_time": "2021-06-28T15:36:59.155Z"
   },
   {
    "duration": 6,
    "start_time": "2021-06-28T15:37:09.923Z"
   },
   {
    "duration": 35,
    "start_time": "2021-06-28T15:41:01.427Z"
   },
   {
    "duration": 325,
    "start_time": "2021-06-30T12:41:12.842Z"
   },
   {
    "duration": 849,
    "start_time": "2021-06-30T12:41:18.699Z"
   },
   {
    "duration": 45,
    "start_time": "2021-06-30T12:41:19.552Z"
   },
   {
    "duration": 740,
    "start_time": "2021-06-30T12:41:19.600Z"
   },
   {
    "duration": -10864234,
    "start_time": "2021-06-30T15:42:24.577Z"
   },
   {
    "duration": -10864236,
    "start_time": "2021-06-30T15:42:24.581Z"
   },
   {
    "duration": -10864330,
    "start_time": "2021-06-30T15:42:24.676Z"
   },
   {
    "duration": -10864337,
    "start_time": "2021-06-30T15:42:24.685Z"
   },
   {
    "duration": -10864385,
    "start_time": "2021-06-30T15:42:24.734Z"
   },
   {
    "duration": -10864387,
    "start_time": "2021-06-30T15:42:24.738Z"
   },
   {
    "duration": 68,
    "start_time": "2021-06-30T12:41:37.411Z"
   },
   {
    "duration": 84,
    "start_time": "2021-06-30T12:43:47.250Z"
   },
   {
    "duration": 45,
    "start_time": "2021-06-30T12:43:47.338Z"
   },
   {
    "duration": 293,
    "start_time": "2021-06-30T12:43:47.387Z"
   },
   {
    "duration": -10864355,
    "start_time": "2021-06-30T15:44:52.039Z"
   },
   {
    "duration": -10864362,
    "start_time": "2021-06-30T15:44:52.048Z"
   },
   {
    "duration": -10864367,
    "start_time": "2021-06-30T15:44:52.054Z"
   },
   {
    "duration": -10864376,
    "start_time": "2021-06-30T15:44:52.065Z"
   },
   {
    "duration": -10864378,
    "start_time": "2021-06-30T15:44:52.068Z"
   },
   {
    "duration": -10864506,
    "start_time": "2021-06-30T15:44:52.198Z"
   },
   {
    "duration": 64,
    "start_time": "2021-06-30T12:44:11.813Z"
   },
   {
    "duration": 33,
    "start_time": "2021-06-30T12:47:50.437Z"
   },
   {
    "duration": 40,
    "start_time": "2021-06-30T12:48:14.073Z"
   },
   {
    "duration": 36,
    "start_time": "2021-06-30T12:48:23.766Z"
   },
   {
    "duration": 25,
    "start_time": "2021-06-30T12:52:59.046Z"
   },
   {
    "duration": 7,
    "start_time": "2021-06-30T12:53:56.547Z"
   },
   {
    "duration": 827,
    "start_time": "2021-06-30T20:27:20.244Z"
   },
   {
    "duration": 63,
    "start_time": "2021-06-30T20:36:27.942Z"
   },
   {
    "duration": 54,
    "start_time": "2021-06-30T20:36:43.447Z"
   },
   {
    "duration": 19,
    "start_time": "2021-06-30T20:37:20.168Z"
   },
   {
    "duration": 82,
    "start_time": "2021-06-30T20:37:38.404Z"
   },
   {
    "duration": 44,
    "start_time": "2021-06-30T20:37:38.488Z"
   },
   {
    "duration": 496,
    "start_time": "2021-06-30T20:37:38.535Z"
   },
   {
    "duration": -10863732,
    "start_time": "2021-06-30T23:38:42.767Z"
   },
   {
    "duration": -10863736,
    "start_time": "2021-06-30T23:38:42.773Z"
   },
   {
    "duration": -10863736,
    "start_time": "2021-06-30T23:38:42.776Z"
   },
   {
    "duration": -10863738,
    "start_time": "2021-06-30T23:38:42.780Z"
   },
   {
    "duration": -10863866,
    "start_time": "2021-06-30T23:38:42.910Z"
   },
   {
    "duration": -10863880,
    "start_time": "2021-06-30T23:38:42.926Z"
   },
   {
    "duration": 71,
    "start_time": "2021-06-30T20:38:18.451Z"
   },
   {
    "duration": 7,
    "start_time": "2021-06-30T20:40:30.509Z"
   },
   {
    "duration": 65,
    "start_time": "2021-06-30T20:47:46.955Z"
   },
   {
    "duration": 93,
    "start_time": "2021-06-30T20:48:02.613Z"
   },
   {
    "duration": 75,
    "start_time": "2021-06-30T20:48:02.709Z"
   },
   {
    "duration": 24,
    "start_time": "2021-06-30T20:48:02.787Z"
   },
   {
    "duration": 101,
    "start_time": "2021-06-30T20:48:02.815Z"
   },
   {
    "duration": 193,
    "start_time": "2021-06-30T20:48:02.919Z"
   },
   {
    "duration": -10863652,
    "start_time": "2021-06-30T23:49:06.766Z"
   },
   {
    "duration": -10863657,
    "start_time": "2021-06-30T23:49:06.773Z"
   },
   {
    "duration": -10863661,
    "start_time": "2021-06-30T23:49:06.778Z"
   },
   {
    "duration": -10863662,
    "start_time": "2021-06-30T23:49:06.781Z"
   },
   {
    "duration": 49,
    "start_time": "2021-06-30T20:48:34.100Z"
   },
   {
    "duration": 68,
    "start_time": "2021-06-30T20:48:43.460Z"
   },
   {
    "duration": 32,
    "start_time": "2021-06-30T20:50:06.700Z"
   },
   {
    "duration": 36,
    "start_time": "2021-06-30T20:50:39.613Z"
   },
   {
    "duration": 88,
    "start_time": "2021-06-30T20:52:08.433Z"
   },
   {
    "duration": 1510,
    "start_time": "2021-06-30T20:54:15.621Z"
   },
   {
    "duration": 42,
    "start_time": "2021-06-30T20:55:15.225Z"
   },
   {
    "duration": 54,
    "start_time": "2021-06-30T20:57:01.010Z"
   },
   {
    "duration": 73,
    "start_time": "2021-06-30T20:59:03.826Z"
   },
   {
    "duration": 83,
    "start_time": "2021-06-30T20:59:45.423Z"
   },
   {
    "duration": 69,
    "start_time": "2021-06-30T20:59:45.508Z"
   },
   {
    "duration": 5,
    "start_time": "2021-06-30T20:59:45.581Z"
   },
   {
    "duration": 64,
    "start_time": "2021-06-30T20:59:45.610Z"
   },
   {
    "duration": 140,
    "start_time": "2021-06-30T20:59:45.677Z"
   },
   {
    "duration": -10863987,
    "start_time": "2021-07-01T00:00:49.807Z"
   },
   {
    "duration": -10864005,
    "start_time": "2021-07-01T00:00:49.826Z"
   },
   {
    "duration": -10864010,
    "start_time": "2021-07-01T00:00:49.832Z"
   },
   {
    "duration": -10864013,
    "start_time": "2021-07-01T00:00:49.837Z"
   },
   {
    "duration": 60,
    "start_time": "2021-06-30T21:00:24.349Z"
   },
   {
    "duration": 61,
    "start_time": "2021-06-30T21:00:34.374Z"
   },
   {
    "duration": 118,
    "start_time": "2021-06-30T21:04:36.659Z"
   },
   {
    "duration": 84,
    "start_time": "2021-06-30T21:05:46.440Z"
   },
   {
    "duration": 60,
    "start_time": "2021-06-30T21:06:48.516Z"
   },
   {
    "duration": 84,
    "start_time": "2021-06-30T21:06:55.460Z"
   },
   {
    "duration": 91,
    "start_time": "2021-06-30T21:06:55.547Z"
   },
   {
    "duration": 5,
    "start_time": "2021-06-30T21:06:55.641Z"
   },
   {
    "duration": 73,
    "start_time": "2021-06-30T21:06:55.649Z"
   },
   {
    "duration": 133,
    "start_time": "2021-06-30T21:06:55.724Z"
   },
   {
    "duration": -10863643,
    "start_time": "2021-07-01T00:07:59.503Z"
   },
   {
    "duration": -10863653,
    "start_time": "2021-07-01T00:07:59.514Z"
   },
   {
    "duration": -10863655,
    "start_time": "2021-07-01T00:07:59.518Z"
   },
   {
    "duration": -10863657,
    "start_time": "2021-07-01T00:07:59.522Z"
   },
   {
    "duration": 55,
    "start_time": "2021-06-30T21:08:57.838Z"
   },
   {
    "duration": 80,
    "start_time": "2021-06-30T21:09:03.231Z"
   },
   {
    "duration": 74,
    "start_time": "2021-06-30T21:09:03.313Z"
   },
   {
    "duration": 23,
    "start_time": "2021-06-30T21:09:03.390Z"
   },
   {
    "duration": 84,
    "start_time": "2021-06-30T21:09:03.415Z"
   },
   {
    "duration": 135,
    "start_time": "2021-06-30T21:09:03.502Z"
   },
   {
    "duration": -10863594,
    "start_time": "2021-07-01T00:10:07.234Z"
   },
   {
    "duration": -10863602,
    "start_time": "2021-07-01T00:10:07.244Z"
   },
   {
    "duration": -10863620,
    "start_time": "2021-07-01T00:10:07.263Z"
   },
   {
    "duration": -10863749,
    "start_time": "2021-07-01T00:10:07.393Z"
   },
   {
    "duration": 153,
    "start_time": "2021-06-30T21:19:52.857Z"
   },
   {
    "duration": 72,
    "start_time": "2021-06-30T21:19:53.013Z"
   },
   {
    "duration": 26,
    "start_time": "2021-06-30T21:19:53.087Z"
   },
   {
    "duration": 74,
    "start_time": "2021-06-30T21:19:53.116Z"
   },
   {
    "duration": 21,
    "start_time": "2021-06-30T21:19:57.999Z"
   },
   {
    "duration": 86,
    "start_time": "2021-06-30T21:19:58.023Z"
   },
   {
    "duration": 39,
    "start_time": "2021-06-30T21:19:58.112Z"
   },
   {
    "duration": 6,
    "start_time": "2021-06-30T21:19:58.154Z"
   },
   {
    "duration": 4554,
    "start_time": "2021-06-30T21:24:54.644Z"
   },
   {
    "duration": 4568,
    "start_time": "2021-06-30T21:25:54.241Z"
   },
   {
    "duration": 127,
    "start_time": "2021-06-30T21:32:24.344Z"
   },
   {
    "duration": 125,
    "start_time": "2021-06-30T21:33:18.128Z"
   },
   {
    "duration": 87,
    "start_time": "2021-06-30T21:33:25.068Z"
   },
   {
    "duration": 92,
    "start_time": "2021-06-30T21:33:25.157Z"
   },
   {
    "duration": 6,
    "start_time": "2021-06-30T21:33:25.253Z"
   },
   {
    "duration": 140,
    "start_time": "2021-06-30T21:33:25.262Z"
   },
   {
    "duration": 4741,
    "start_time": "2021-06-30T21:33:25.409Z"
   },
   {
    "duration": 13,
    "start_time": "2021-06-30T21:33:30.153Z"
   },
   {
    "duration": 52,
    "start_time": "2021-06-30T21:33:30.169Z"
   },
   {
    "duration": 39,
    "start_time": "2021-06-30T21:33:30.225Z"
   },
   {
    "duration": 42,
    "start_time": "2021-06-30T21:33:30.268Z"
   },
   {
    "duration": 129,
    "start_time": "2021-06-30T21:35:16.437Z"
   },
   {
    "duration": 130,
    "start_time": "2021-06-30T21:35:29.647Z"
   },
   {
    "duration": 85,
    "start_time": "2021-06-30T21:35:39.060Z"
   },
   {
    "duration": 88,
    "start_time": "2021-06-30T21:35:39.147Z"
   },
   {
    "duration": 5,
    "start_time": "2021-06-30T21:35:39.238Z"
   },
   {
    "duration": 139,
    "start_time": "2021-06-30T21:35:39.246Z"
   },
   {
    "duration": 4638,
    "start_time": "2021-06-30T21:35:39.387Z"
   },
   {
    "duration": 12,
    "start_time": "2021-06-30T21:35:44.027Z"
   },
   {
    "duration": 29,
    "start_time": "2021-06-30T21:35:44.041Z"
   },
   {
    "duration": 61,
    "start_time": "2021-06-30T21:35:44.074Z"
   },
   {
    "duration": 6,
    "start_time": "2021-06-30T21:35:44.138Z"
   },
   {
    "duration": 132,
    "start_time": "2021-06-30T21:36:18.529Z"
   },
   {
    "duration": 84,
    "start_time": "2021-06-30T21:36:29.535Z"
   },
   {
    "duration": 70,
    "start_time": "2021-06-30T21:36:29.622Z"
   },
   {
    "duration": 6,
    "start_time": "2021-06-30T21:36:29.709Z"
   },
   {
    "duration": 155,
    "start_time": "2021-06-30T21:36:29.718Z"
   },
   {
    "duration": 4619,
    "start_time": "2021-06-30T21:36:29.875Z"
   },
   {
    "duration": 21,
    "start_time": "2021-06-30T21:36:34.497Z"
   },
   {
    "duration": 32,
    "start_time": "2021-06-30T21:36:34.520Z"
   },
   {
    "duration": 63,
    "start_time": "2021-06-30T21:36:34.555Z"
   },
   {
    "duration": 7,
    "start_time": "2021-06-30T21:36:34.621Z"
   },
   {
    "duration": 4525,
    "start_time": "2021-06-30T21:37:03.932Z"
   },
   {
    "duration": 4664,
    "start_time": "2021-06-30T21:38:20.922Z"
   },
   {
    "duration": 133,
    "start_time": "2021-06-30T21:47:42.549Z"
   },
   {
    "duration": 145,
    "start_time": "2021-06-30T21:47:54.926Z"
   },
   {
    "duration": 148,
    "start_time": "2021-06-30T21:48:35.551Z"
   },
   {
    "duration": 421,
    "start_time": "2021-06-30T21:48:40.018Z"
   },
   {
    "duration": 4614,
    "start_time": "2021-06-30T22:00:54.841Z"
   },
   {
    "duration": 149,
    "start_time": "2021-06-30T22:09:03.864Z"
   },
   {
    "duration": 638,
    "start_time": "2021-06-30T22:09:10.978Z"
   },
   {
    "duration": 136,
    "start_time": "2021-06-30T22:09:53.209Z"
   },
   {
    "duration": 358,
    "start_time": "2021-06-30T22:09:58.662Z"
   },
   {
    "duration": 1747,
    "start_time": "2021-06-30T22:11:34.310Z"
   },
   {
    "duration": 1789,
    "start_time": "2021-06-30T22:13:47.698Z"
   },
   {
    "duration": 1802,
    "start_time": "2021-06-30T22:15:28.741Z"
   },
   {
    "duration": 1685,
    "start_time": "2021-06-30T22:16:54.006Z"
   },
   {
    "duration": 6101,
    "start_time": "2021-06-30T22:18:04.156Z"
   },
   {
    "duration": -225,
    "start_time": "2021-06-30T22:24:17.036Z"
   },
   {
    "duration": 85,
    "start_time": "2021-06-30T22:24:32.251Z"
   },
   {
    "duration": 75,
    "start_time": "2021-06-30T22:24:32.339Z"
   },
   {
    "duration": 6,
    "start_time": "2021-06-30T22:24:32.417Z"
   },
   {
    "duration": 183,
    "start_time": "2021-06-30T22:24:32.425Z"
   },
   {
    "duration": 4580,
    "start_time": "2021-06-30T22:24:32.611Z"
   },
   {
    "duration": -156,
    "start_time": "2021-06-30T22:31:00.469Z"
   },
   {
    "duration": 85,
    "start_time": "2021-06-30T22:31:26.822Z"
   },
   {
    "duration": 72,
    "start_time": "2021-06-30T22:31:26.910Z"
   },
   {
    "duration": 25,
    "start_time": "2021-06-30T22:31:26.984Z"
   },
   {
    "duration": 137,
    "start_time": "2021-06-30T22:31:27.012Z"
   },
   {
    "duration": 4759,
    "start_time": "2021-06-30T22:31:27.152Z"
   },
   {
    "duration": 80,
    "start_time": "2021-06-30T22:32:19.156Z"
   },
   {
    "duration": 74,
    "start_time": "2021-06-30T22:32:19.164Z"
   },
   {
    "duration": 74,
    "start_time": "2021-06-30T22:32:19.166Z"
   },
   {
    "duration": 75,
    "start_time": "2021-06-30T22:32:19.167Z"
   },
   {
    "duration": 80,
    "start_time": "2021-06-30T22:33:29.204Z"
   },
   {
    "duration": 82,
    "start_time": "2021-06-30T22:34:47.229Z"
   },
   {
    "duration": 47399,
    "start_time": "2021-06-30T22:34:51.553Z"
   },
   {
    "duration": 83,
    "start_time": "2021-06-30T22:36:58.285Z"
   },
   {
    "duration": 82,
    "start_time": "2021-06-30T22:36:58.288Z"
   },
   {
    "duration": 83,
    "start_time": "2021-06-30T22:36:58.290Z"
   },
   {
    "duration": -188,
    "start_time": "2021-06-30T22:36:58.563Z"
   },
   {
    "duration": -189,
    "start_time": "2021-06-30T22:36:58.567Z"
   },
   {
    "duration": -223,
    "start_time": "2021-06-30T22:36:58.605Z"
   },
   {
    "duration": -342,
    "start_time": "2021-06-30T22:36:58.727Z"
   },
   {
    "duration": -351,
    "start_time": "2021-06-30T22:36:58.738Z"
   },
   {
    "duration": -352,
    "start_time": "2021-06-30T22:36:58.741Z"
   },
   {
    "duration": 46848,
    "start_time": "2021-06-30T22:38:12.510Z"
   },
   {
    "duration": 86,
    "start_time": "2021-06-30T22:40:14.099Z"
   },
   {
    "duration": 817,
    "start_time": "2021-06-30T22:42:50.099Z"
   },
   {
    "duration": 394,
    "start_time": "2021-06-30T22:43:47.104Z"
   },
   {
    "duration": 868,
    "start_time": "2021-06-30T22:44:01.918Z"
   },
   {
    "duration": 75,
    "start_time": "2021-06-30T22:44:02.790Z"
   },
   {
    "duration": 7,
    "start_time": "2021-06-30T22:44:02.870Z"
   },
   {
    "duration": 162,
    "start_time": "2021-06-30T22:44:02.880Z"
   },
   {
    "duration": 4585,
    "start_time": "2021-06-30T22:44:03.044Z"
   },
   {
    "duration": -236,
    "start_time": "2021-06-30T22:44:54.530Z"
   },
   {
    "duration": -237,
    "start_time": "2021-06-30T22:44:54.532Z"
   },
   {
    "duration": -236,
    "start_time": "2021-06-30T22:44:54.533Z"
   },
   {
    "duration": -237,
    "start_time": "2021-06-30T22:44:54.535Z"
   },
   {
    "duration": 34,
    "start_time": "2021-06-30T22:52:09.615Z"
   },
   {
    "duration": 37,
    "start_time": "2021-06-30T22:52:24.309Z"
   },
   {
    "duration": 6,
    "start_time": "2021-06-30T22:53:08.545Z"
   },
   {
    "duration": 2206,
    "start_time": "2021-06-30T22:54:28.356Z"
   },
   {
    "duration": 410,
    "start_time": "2021-06-30T22:56:45.590Z"
   },
   {
    "duration": 40,
    "start_time": "2021-06-30T22:56:52.536Z"
   },
   {
    "duration": 394,
    "start_time": "2021-06-30T22:57:53.587Z"
   },
   {
    "duration": 15,
    "start_time": "2021-06-30T22:58:01.057Z"
   },
   {
    "duration": 14,
    "start_time": "2021-06-30T22:58:52.333Z"
   },
   {
    "duration": 13,
    "start_time": "2021-06-30T22:58:59.984Z"
   },
   {
    "duration": 13,
    "start_time": "2021-06-30T22:59:05.373Z"
   },
   {
    "duration": 84,
    "start_time": "2021-06-30T22:59:22.330Z"
   },
   {
    "duration": 72,
    "start_time": "2021-06-30T22:59:22.416Z"
   },
   {
    "duration": 23,
    "start_time": "2021-06-30T22:59:22.491Z"
   },
   {
    "duration": 148,
    "start_time": "2021-06-30T22:59:22.517Z"
   },
   {
    "duration": 4827,
    "start_time": "2021-06-30T22:59:22.668Z"
   },
   {
    "duration": 930,
    "start_time": "2021-06-30T23:00:18.085Z"
   },
   {
    "duration": 72,
    "start_time": "2021-06-30T23:00:19.017Z"
   },
   {
    "duration": 20,
    "start_time": "2021-06-30T23:00:19.093Z"
   },
   {
    "duration": 154,
    "start_time": "2021-06-30T23:00:19.116Z"
   },
   {
    "duration": 4579,
    "start_time": "2021-06-30T23:00:19.273Z"
   },
   {
    "duration": 4,
    "start_time": "2021-06-30T23:00:23.855Z"
   },
   {
    "duration": 71,
    "start_time": "2021-06-30T23:00:23.861Z"
   },
   {
    "duration": 91,
    "start_time": "2021-06-30T23:00:23.935Z"
   },
   {
    "duration": 8,
    "start_time": "2021-06-30T23:00:25.567Z"
   },
   {
    "duration": 12,
    "start_time": "2021-06-30T23:00:39.268Z"
   },
   {
    "duration": 10,
    "start_time": "2021-06-30T23:01:09.616Z"
   },
   {
    "duration": 2167,
    "start_time": "2021-06-30T23:01:28.201Z"
   },
   {
    "duration": 14,
    "start_time": "2021-06-30T23:02:10.615Z"
   },
   {
    "duration": 905,
    "start_time": "2021-07-01T11:14:21.483Z"
   },
   {
    "duration": 82,
    "start_time": "2021-07-01T11:14:22.391Z"
   },
   {
    "duration": 5,
    "start_time": "2021-07-01T11:14:22.476Z"
   },
   {
    "duration": 143,
    "start_time": "2021-07-01T11:14:22.484Z"
   },
   {
    "duration": 4859,
    "start_time": "2021-07-01T11:14:22.629Z"
   },
   {
    "duration": 45470,
    "start_time": "2021-07-01T11:14:27.491Z"
   },
   {
    "duration": 2263,
    "start_time": "2021-07-01T11:15:10.701Z"
   },
   {
    "duration": 2262,
    "start_time": "2021-07-01T11:15:10.704Z"
   },
   {
    "duration": 2262,
    "start_time": "2021-07-01T11:15:10.707Z"
   },
   {
    "duration": 2257,
    "start_time": "2021-07-01T11:15:10.714Z"
   },
   {
    "duration": 83,
    "start_time": "2021-07-01T11:43:14.082Z"
   },
   {
    "duration": 44,
    "start_time": "2021-07-01T11:43:33.935Z"
   },
   {
    "duration": 10,
    "start_time": "2021-07-01T11:45:21.735Z"
   },
   {
    "duration": 11,
    "start_time": "2021-07-01T11:45:29.976Z"
   },
   {
    "duration": 84,
    "start_time": "2021-07-01T11:51:23.692Z"
   },
   {
    "duration": 72,
    "start_time": "2021-07-01T11:51:23.779Z"
   },
   {
    "duration": 6,
    "start_time": "2021-07-01T11:51:23.863Z"
   },
   {
    "duration": 146,
    "start_time": "2021-07-01T11:51:23.872Z"
   },
   {
    "duration": 5125,
    "start_time": "2021-07-01T11:51:24.020Z"
   },
   {
    "duration": 46944,
    "start_time": "2021-07-01T11:51:29.148Z"
   },
   {
    "duration": 2220,
    "start_time": "2021-07-01T11:52:13.875Z"
   },
   {
    "duration": 2218,
    "start_time": "2021-07-01T11:52:13.879Z"
   },
   {
    "duration": 2215,
    "start_time": "2021-07-01T11:52:13.883Z"
   },
   {
    "duration": 2212,
    "start_time": "2021-07-01T11:52:13.887Z"
   },
   {
    "duration": 101,
    "start_time": "2021-07-01T11:54:27.592Z"
   },
   {
    "duration": 91,
    "start_time": "2021-07-01T11:54:27.696Z"
   },
   {
    "duration": 6,
    "start_time": "2021-07-01T11:54:27.790Z"
   },
   {
    "duration": 181,
    "start_time": "2021-07-01T11:54:27.799Z"
   },
   {
    "duration": 5831,
    "start_time": "2021-07-01T11:54:27.982Z"
   },
   {
    "duration": 71126,
    "start_time": "2021-07-01T11:54:33.817Z"
   },
   {
    "duration": 2271,
    "start_time": "2021-07-01T11:55:42.675Z"
   },
   {
    "duration": 2270,
    "start_time": "2021-07-01T11:55:42.679Z"
   },
   {
    "duration": 2265,
    "start_time": "2021-07-01T11:55:42.686Z"
   },
   {
    "duration": 2264,
    "start_time": "2021-07-01T11:55:42.689Z"
   },
   {
    "duration": 28,
    "start_time": "2021-07-01T11:56:16.275Z"
   },
   {
    "duration": 333,
    "start_time": "2021-07-01T18:12:49.531Z"
   },
   {
    "duration": 830,
    "start_time": "2021-07-01T18:13:15.774Z"
   },
   {
    "duration": 68,
    "start_time": "2021-07-01T18:13:16.607Z"
   },
   {
    "duration": 5,
    "start_time": "2021-07-01T18:13:16.678Z"
   },
   {
    "duration": 134,
    "start_time": "2021-07-01T18:13:16.700Z"
   },
   {
    "duration": 4504,
    "start_time": "2021-07-01T18:13:16.836Z"
   },
   {
    "duration": 44565,
    "start_time": "2021-07-01T18:13:21.344Z"
   },
   {
    "duration": -259,
    "start_time": "2021-07-01T18:14:06.171Z"
   },
   {
    "duration": -266,
    "start_time": "2021-07-01T18:14:06.180Z"
   },
   {
    "duration": -273,
    "start_time": "2021-07-01T18:14:06.189Z"
   },
   {
    "duration": -277,
    "start_time": "2021-07-01T18:14:06.194Z"
   },
   {
    "duration": -279,
    "start_time": "2021-07-01T18:14:06.198Z"
   },
   {
    "duration": 300,
    "start_time": "2021-07-01T18:14:25.536Z"
   },
   {
    "duration": 79,
    "start_time": "2021-07-01T18:14:41.283Z"
   },
   {
    "duration": 65,
    "start_time": "2021-07-01T18:19:52.156Z"
   },
   {
    "duration": 68,
    "start_time": "2021-07-01T18:21:13.493Z"
   },
   {
    "duration": 68,
    "start_time": "2021-07-01T18:21:38.250Z"
   },
   {
    "duration": 92,
    "start_time": "2021-07-02T12:22:57.201Z"
   },
   {
    "duration": 91,
    "start_time": "2021-07-02T12:23:05.797Z"
   },
   {
    "duration": 700,
    "start_time": "2021-07-02T12:24:07.833Z"
   },
   {
    "duration": 801,
    "start_time": "2021-07-02T12:24:22.356Z"
   },
   {
    "duration": 99,
    "start_time": "2021-07-02T12:24:26.053Z"
   },
   {
    "duration": 90,
    "start_time": "2021-07-02T12:25:41.682Z"
   },
   {
    "duration": 70389,
    "start_time": "2021-07-02T12:29:54.967Z"
   },
   {
    "duration": 1968,
    "start_time": "2021-07-02T12:35:55.706Z"
   },
   {
    "duration": 103,
    "start_time": "2021-07-02T12:36:23.097Z"
   },
   {
    "duration": 107,
    "start_time": "2021-07-02T12:36:55.488Z"
   },
   {
    "duration": 141,
    "start_time": "2021-07-02T12:37:33.349Z"
   },
   {
    "duration": 92,
    "start_time": "2021-07-02T12:39:51.701Z"
   },
   {
    "duration": 145,
    "start_time": "2021-07-02T12:40:05.231Z"
   },
   {
    "duration": 437,
    "start_time": "2021-07-03T22:26:06.706Z"
   },
   {
    "duration": 331,
    "start_time": "2021-07-03T22:26:13.917Z"
   },
   {
    "duration": 351,
    "start_time": "2021-07-03T22:26:31.539Z"
   },
   {
    "duration": 887,
    "start_time": "2021-07-03T22:26:46.581Z"
   },
   {
    "duration": 181,
    "start_time": "2021-07-03T22:26:47.470Z"
   },
   {
    "duration": 363,
    "start_time": "2021-07-03T22:26:47.653Z"
   },
   {
    "duration": 166,
    "start_time": "2021-07-03T22:26:51.599Z"
   },
   {
    "duration": 156,
    "start_time": "2021-07-03T22:27:09.258Z"
   },
   {
    "duration": 154,
    "start_time": "2021-07-03T22:34:43.315Z"
   },
   {
    "duration": 52,
    "start_time": "2021-07-03T23:03:31.059Z"
   },
   {
    "duration": 28,
    "start_time": "2021-07-03T23:03:39.894Z"
   },
   {
    "duration": 50,
    "start_time": "2021-07-03T23:04:36.225Z"
   },
   {
    "duration": 28,
    "start_time": "2021-07-03T23:05:41.797Z"
   },
   {
    "duration": 30,
    "start_time": "2021-07-03T23:10:53.184Z"
   },
   {
    "duration": 638,
    "start_time": "2021-07-03T23:13:34.400Z"
   },
   {
    "duration": 119,
    "start_time": "2021-07-03T23:19:45.331Z"
   },
   {
    "duration": 126,
    "start_time": "2021-07-03T23:20:01.854Z"
   },
   {
    "duration": 578,
    "start_time": "2021-07-03T23:20:13.637Z"
   },
   {
    "duration": 80,
    "start_time": "2021-07-03T23:21:08.444Z"
   },
   {
    "duration": 182,
    "start_time": "2021-07-03T23:21:08.527Z"
   },
   {
    "duration": 378,
    "start_time": "2021-07-03T23:21:08.712Z"
   },
   {
    "duration": 722,
    "start_time": "2021-07-03T23:21:08.371Z"
   },
   {
    "duration": 720,
    "start_time": "2021-07-03T23:21:08.374Z"
   },
   {
    "duration": 718,
    "start_time": "2021-07-03T23:21:08.377Z"
   },
   {
    "duration": 593,
    "start_time": "2021-07-03T23:21:13.730Z"
   },
   {
    "duration": 85,
    "start_time": "2021-07-04T10:48:38.611Z"
   },
   {
    "duration": 312,
    "start_time": "2021-07-04T10:48:42.743Z"
   },
   {
    "duration": 765,
    "start_time": "2021-07-04T10:48:58.509Z"
   },
   {
    "duration": 250,
    "start_time": "2021-07-04T10:49:02.042Z"
   },
   {
    "duration": 146,
    "start_time": "2021-07-04T10:49:35.800Z"
   },
   {
    "duration": 163,
    "start_time": "2021-07-04T10:49:55.783Z"
   },
   {
    "duration": 410,
    "start_time": "2021-07-04T10:50:17.675Z"
   },
   {
    "duration": 380,
    "start_time": "2021-07-04T10:52:28.382Z"
   },
   {
    "duration": 85,
    "start_time": "2021-07-04T10:52:40.907Z"
   },
   {
    "duration": 163,
    "start_time": "2021-07-04T10:52:49.123Z"
   },
   {
    "duration": 156,
    "start_time": "2021-07-04T10:53:12.491Z"
   },
   {
    "duration": 588,
    "start_time": "2021-07-04T10:55:15.528Z"
   },
   {
    "duration": 290,
    "start_time": "2021-07-04T10:55:26.137Z"
   },
   {
    "duration": 152,
    "start_time": "2021-07-04T10:55:51.004Z"
   },
   {
    "duration": 146,
    "start_time": "2021-07-04T10:56:37.226Z"
   },
   {
    "duration": 4378,
    "start_time": "2021-07-04T11:06:55.306Z"
   },
   {
    "duration": 6889,
    "start_time": "2021-07-04T11:08:11.256Z"
   },
   {
    "duration": 6317,
    "start_time": "2021-07-04T11:08:33.403Z"
   },
   {
    "duration": 34,
    "start_time": "2021-07-04T11:09:35.141Z"
   },
   {
    "duration": 20,
    "start_time": "2021-07-04T11:09:48.458Z"
   },
   {
    "duration": 155,
    "start_time": "2021-07-04T11:14:42.526Z"
   },
   {
    "duration": 2015,
    "start_time": "2021-07-04T11:28:47.777Z"
   },
   {
    "duration": 2111,
    "start_time": "2021-07-04T11:29:35.725Z"
   },
   {
    "duration": 1908,
    "start_time": "2021-07-04T11:30:17.512Z"
   },
   {
    "duration": 167,
    "start_time": "2021-07-04T11:30:29.769Z"
   },
   {
    "duration": 170,
    "start_time": "2021-07-04T11:30:50.528Z"
   },
   {
    "duration": 171,
    "start_time": "2021-07-04T11:31:48.996Z"
   },
   {
    "duration": 84,
    "start_time": "2021-07-04T11:31:58.699Z"
   },
   {
    "duration": 179,
    "start_time": "2021-07-04T11:32:00.462Z"
   },
   {
    "duration": 436,
    "start_time": "2021-07-04T11:32:28.483Z"
   },
   {
    "duration": 162,
    "start_time": "2021-07-04T11:32:35.662Z"
   },
   {
    "duration": 90,
    "start_time": "2021-07-04T11:34:06.895Z"
   },
   {
    "duration": 163,
    "start_time": "2021-07-04T11:34:17.272Z"
   },
   {
    "duration": 265,
    "start_time": "2021-07-04T11:34:44.693Z"
   },
   {
    "duration": 116,
    "start_time": "2021-07-04T11:37:11.015Z"
   },
   {
    "duration": 289,
    "start_time": "2021-07-04T11:37:11.134Z"
   },
   {
    "duration": 297,
    "start_time": "2021-07-04T11:37:11.427Z"
   },
   {
    "duration": -10864979,
    "start_time": "2021-07-04T14:38:16.707Z"
   },
   {
    "duration": -10864983,
    "start_time": "2021-07-04T14:38:16.713Z"
   },
   {
    "duration": -10864987,
    "start_time": "2021-07-04T14:38:16.718Z"
   },
   {
    "duration": -10864990,
    "start_time": "2021-07-04T14:38:16.723Z"
   },
   {
    "duration": -10864993,
    "start_time": "2021-07-04T14:38:16.728Z"
   },
   {
    "duration": -10865003,
    "start_time": "2021-07-04T14:38:16.739Z"
   },
   {
    "duration": -10865004,
    "start_time": "2021-07-04T14:38:16.742Z"
   },
   {
    "duration": -10865008,
    "start_time": "2021-07-04T14:38:16.749Z"
   },
   {
    "duration": 149,
    "start_time": "2021-07-04T11:49:02.785Z"
   },
   {
    "duration": 102,
    "start_time": "2021-07-04T11:58:27.912Z"
   },
   {
    "duration": 30,
    "start_time": "2021-07-04T11:58:33.437Z"
   },
   {
    "duration": 105,
    "start_time": "2021-07-04T12:06:19.813Z"
   },
   {
    "duration": 128,
    "start_time": "2021-07-04T12:06:41.229Z"
   },
   {
    "duration": 92,
    "start_time": "2021-07-04T12:07:36.306Z"
   },
   {
    "duration": 182,
    "start_time": "2021-07-04T12:07:36.401Z"
   },
   {
    "duration": 3,
    "start_time": "2021-07-04T12:07:36.586Z"
   },
   {
    "duration": 273,
    "start_time": "2021-07-04T12:07:36.592Z"
   },
   {
    "duration": -10864942,
    "start_time": "2021-07-04T15:08:41.810Z"
   },
   {
    "duration": -10864983,
    "start_time": "2021-07-04T15:08:41.853Z"
   },
   {
    "duration": -10865008,
    "start_time": "2021-07-04T15:08:41.880Z"
   },
   {
    "duration": -10865019,
    "start_time": "2021-07-04T15:08:41.892Z"
   },
   {
    "duration": -10865024,
    "start_time": "2021-07-04T15:08:41.898Z"
   },
   {
    "duration": -10865032,
    "start_time": "2021-07-04T15:08:41.908Z"
   },
   {
    "duration": -10865043,
    "start_time": "2021-07-04T15:08:41.920Z"
   },
   {
    "duration": -10865050,
    "start_time": "2021-07-04T15:08:41.928Z"
   },
   {
    "duration": 166,
    "start_time": "2021-07-04T12:08:14.984Z"
   },
   {
    "duration": 132,
    "start_time": "2021-07-04T12:08:35.808Z"
   },
   {
    "duration": 82,
    "start_time": "2021-07-04T12:08:41.926Z"
   },
   {
    "duration": 45,
    "start_time": "2021-07-04T12:08:42.011Z"
   },
   {
    "duration": 158,
    "start_time": "2021-07-04T12:08:42.059Z"
   },
   {
    "duration": 262,
    "start_time": "2021-07-04T12:08:42.220Z"
   },
   {
    "duration": -10864913,
    "start_time": "2021-07-04T15:09:47.398Z"
   },
   {
    "duration": -10864918,
    "start_time": "2021-07-04T15:09:47.405Z"
   },
   {
    "duration": -10864922,
    "start_time": "2021-07-04T15:09:47.410Z"
   },
   {
    "duration": -10864923,
    "start_time": "2021-07-04T15:09:47.413Z"
   },
   {
    "duration": -10864925,
    "start_time": "2021-07-04T15:09:47.416Z"
   },
   {
    "duration": -10864927,
    "start_time": "2021-07-04T15:09:47.419Z"
   },
   {
    "duration": -10864928,
    "start_time": "2021-07-04T15:09:47.422Z"
   },
   {
    "duration": -10864931,
    "start_time": "2021-07-04T15:09:47.426Z"
   },
   {
    "duration": 139,
    "start_time": "2021-07-04T12:09:08.907Z"
   },
   {
    "duration": 79,
    "start_time": "2021-07-04T12:09:36.289Z"
   },
   {
    "duration": 34,
    "start_time": "2021-07-04T12:09:36.370Z"
   },
   {
    "duration": 165,
    "start_time": "2021-07-04T12:09:36.407Z"
   },
   {
    "duration": 250,
    "start_time": "2021-07-04T12:09:36.574Z"
   },
   {
    "duration": -10864852,
    "start_time": "2021-07-04T15:10:41.679Z"
   },
   {
    "duration": -10864854,
    "start_time": "2021-07-04T15:10:41.683Z"
   },
   {
    "duration": -10864854,
    "start_time": "2021-07-04T15:10:41.686Z"
   },
   {
    "duration": -10864856,
    "start_time": "2021-07-04T15:10:41.690Z"
   },
   {
    "duration": -10864857,
    "start_time": "2021-07-04T15:10:41.693Z"
   },
   {
    "duration": -10864859,
    "start_time": "2021-07-04T15:10:41.697Z"
   },
   {
    "duration": -10864874,
    "start_time": "2021-07-04T15:10:41.714Z"
   },
   {
    "duration": -10864894,
    "start_time": "2021-07-04T15:10:41.736Z"
   },
   {
    "duration": 447,
    "start_time": "2021-07-04T12:28:48.991Z"
   },
   {
    "duration": 462,
    "start_time": "2021-07-04T12:34:19.304Z"
   },
   {
    "duration": 445,
    "start_time": "2021-07-04T12:37:09.983Z"
   },
   {
    "duration": 466,
    "start_time": "2021-07-04T12:38:27.138Z"
   },
   {
    "duration": 88,
    "start_time": "2021-07-04T12:39:08.350Z"
   },
   {
    "duration": 83,
    "start_time": "2021-07-04T12:39:21.648Z"
   },
   {
    "duration": 4408,
    "start_time": "2021-07-04T12:53:15.510Z"
   },
   {
    "duration": 6404,
    "start_time": "2021-07-04T12:54:17.812Z"
   },
   {
    "duration": 6386,
    "start_time": "2021-07-04T12:54:42.473Z"
   },
   {
    "duration": 6385,
    "start_time": "2021-07-04T12:55:06.348Z"
   },
   {
    "duration": 4662,
    "start_time": "2021-07-04T12:55:39.601Z"
   },
   {
    "duration": 4742,
    "start_time": "2021-07-04T12:55:59.027Z"
   },
   {
    "duration": 4358,
    "start_time": "2021-07-04T12:57:05.874Z"
   },
   {
    "duration": 4394,
    "start_time": "2021-07-04T12:57:25.165Z"
   },
   {
    "duration": 46,
    "start_time": "2021-07-04T12:58:19.948Z"
   },
   {
    "duration": 29,
    "start_time": "2021-07-04T12:58:52.145Z"
   },
   {
    "duration": 31,
    "start_time": "2021-07-04T12:58:59.879Z"
   },
   {
    "duration": 275,
    "start_time": "2021-07-04T13:00:53.961Z"
   },
   {
    "duration": 299,
    "start_time": "2021-07-04T13:01:10.499Z"
   },
   {
    "duration": 51,
    "start_time": "2021-07-04T13:04:02.949Z"
   },
   {
    "duration": 947,
    "start_time": "2021-07-04T13:06:11.786Z"
   },
   {
    "duration": 872,
    "start_time": "2021-07-05T15:40:37.144Z"
   },
   {
    "duration": 38,
    "start_time": "2021-07-05T15:40:38.018Z"
   },
   {
    "duration": 193,
    "start_time": "2021-07-05T15:40:38.059Z"
   },
   {
    "duration": 415,
    "start_time": "2021-07-05T15:40:38.255Z"
   },
   {
    "duration": 1365,
    "start_time": "2021-07-05T15:40:37.308Z"
   },
   {
    "duration": 1355,
    "start_time": "2021-07-05T15:40:37.320Z"
   },
   {
    "duration": 1346,
    "start_time": "2021-07-05T15:40:37.330Z"
   },
   {
    "duration": 1344,
    "start_time": "2021-07-05T15:40:37.333Z"
   },
   {
    "duration": 1343,
    "start_time": "2021-07-05T15:40:37.336Z"
   },
   {
    "duration": 1341,
    "start_time": "2021-07-05T15:40:37.339Z"
   },
   {
    "duration": 1336,
    "start_time": "2021-07-05T15:40:37.346Z"
   },
   {
    "duration": 1335,
    "start_time": "2021-07-05T15:40:37.348Z"
   },
   {
    "duration": 1333,
    "start_time": "2021-07-05T15:40:37.351Z"
   },
   {
    "duration": 103,
    "start_time": "2021-07-05T15:40:48.825Z"
   },
   {
    "duration": 8,
    "start_time": "2021-07-05T15:41:16.635Z"
   },
   {
    "duration": 23,
    "start_time": "2021-07-05T15:48:49.039Z"
   },
   {
    "duration": 21,
    "start_time": "2021-07-05T15:49:15.992Z"
   },
   {
    "duration": 23,
    "start_time": "2021-07-05T15:49:40.969Z"
   },
   {
    "duration": 24,
    "start_time": "2021-07-05T15:52:30.812Z"
   },
   {
    "duration": 23,
    "start_time": "2021-07-05T15:52:42.780Z"
   },
   {
    "duration": 18,
    "start_time": "2021-07-05T15:53:05.723Z"
   },
   {
    "duration": 19,
    "start_time": "2021-07-05T15:53:41.409Z"
   },
   {
    "duration": 146,
    "start_time": "2021-07-05T15:56:22.111Z"
   },
   {
    "duration": 21,
    "start_time": "2021-07-05T15:56:32.065Z"
   },
   {
    "duration": 20,
    "start_time": "2021-07-05T15:56:42.039Z"
   },
   {
    "duration": 21,
    "start_time": "2021-07-05T15:57:07.940Z"
   },
   {
    "duration": 336,
    "start_time": "2021-07-05T15:57:13.401Z"
   },
   {
    "duration": 461,
    "start_time": "2021-07-05T15:57:51.059Z"
   },
   {
    "duration": 331,
    "start_time": "2021-07-05T15:57:58.650Z"
   },
   {
    "duration": 102,
    "start_time": "2021-07-05T15:58:05.948Z"
   },
   {
    "duration": 51,
    "start_time": "2021-07-05T15:58:06.054Z"
   },
   {
    "duration": 180,
    "start_time": "2021-07-05T15:58:06.108Z"
   },
   {
    "duration": 362,
    "start_time": "2021-07-05T15:58:06.292Z"
   },
   {
    "duration": 1293,
    "start_time": "2021-07-05T15:58:05.365Z"
   },
   {
    "duration": 1292,
    "start_time": "2021-07-05T15:58:05.368Z"
   },
   {
    "duration": 1291,
    "start_time": "2021-07-05T15:58:05.371Z"
   },
   {
    "duration": 1064,
    "start_time": "2021-07-05T15:58:05.600Z"
   },
   {
    "duration": 1059,
    "start_time": "2021-07-05T15:58:05.607Z"
   },
   {
    "duration": 1060,
    "start_time": "2021-07-05T15:58:05.609Z"
   },
   {
    "duration": 1059,
    "start_time": "2021-07-05T15:58:05.612Z"
   },
   {
    "duration": 1059,
    "start_time": "2021-07-05T15:58:05.614Z"
   },
   {
    "duration": 1058,
    "start_time": "2021-07-05T15:58:05.617Z"
   },
   {
    "duration": 27,
    "start_time": "2021-07-05T15:58:15.945Z"
   },
   {
    "duration": 27,
    "start_time": "2021-07-05T16:09:09.138Z"
   },
   {
    "duration": 12,
    "start_time": "2021-07-05T16:12:15.653Z"
   },
   {
    "duration": 20,
    "start_time": "2021-07-05T16:14:59.724Z"
   },
   {
    "duration": 13,
    "start_time": "2021-07-05T16:15:15.196Z"
   },
   {
    "duration": 31,
    "start_time": "2021-07-05T16:33:15.849Z"
   },
   {
    "duration": 47,
    "start_time": "2021-07-05T16:35:27.215Z"
   },
   {
    "duration": 38,
    "start_time": "2021-07-05T16:36:08.271Z"
   },
   {
    "duration": 41,
    "start_time": "2021-07-05T16:36:32.655Z"
   },
   {
    "duration": 41,
    "start_time": "2021-07-05T16:37:23.513Z"
   },
   {
    "duration": 21,
    "start_time": "2021-07-05T16:40:48.462Z"
   },
   {
    "duration": 19,
    "start_time": "2021-07-05T16:41:44.319Z"
   },
   {
    "duration": 22,
    "start_time": "2021-07-05T16:46:39.710Z"
   },
   {
    "duration": 112,
    "start_time": "2021-07-05T16:46:59.605Z"
   },
   {
    "duration": 14,
    "start_time": "2021-07-05T16:47:04.515Z"
   },
   {
    "duration": 820,
    "start_time": "2021-07-05T16:53:46.522Z"
   },
   {
    "duration": 594,
    "start_time": "2021-07-05T16:54:14.222Z"
   },
   {
    "duration": 303,
    "start_time": "2021-07-05T16:55:06.143Z"
   },
   {
    "duration": 450,
    "start_time": "2021-07-05T17:05:24.735Z"
   },
   {
    "duration": 320,
    "start_time": "2021-07-05T17:05:44.004Z"
   },
   {
    "duration": 440,
    "start_time": "2021-07-05T17:07:04.829Z"
   },
   {
    "duration": 96,
    "start_time": "2021-07-05T17:07:18.974Z"
   },
   {
    "duration": 50,
    "start_time": "2021-07-05T17:07:19.073Z"
   },
   {
    "duration": 190,
    "start_time": "2021-07-05T17:07:19.127Z"
   },
   {
    "duration": 331,
    "start_time": "2021-07-05T17:07:19.320Z"
   },
   {
    "duration": 1586,
    "start_time": "2021-07-05T17:07:18.068Z"
   },
   {
    "duration": 1580,
    "start_time": "2021-07-05T17:07:18.075Z"
   },
   {
    "duration": 1579,
    "start_time": "2021-07-05T17:07:18.077Z"
   },
   {
    "duration": 1578,
    "start_time": "2021-07-05T17:07:18.080Z"
   },
   {
    "duration": 1577,
    "start_time": "2021-07-05T17:07:18.082Z"
   },
   {
    "duration": 1576,
    "start_time": "2021-07-05T17:07:18.084Z"
   },
   {
    "duration": 1575,
    "start_time": "2021-07-05T17:07:18.086Z"
   },
   {
    "duration": 1569,
    "start_time": "2021-07-05T17:07:18.094Z"
   },
   {
    "duration": 1568,
    "start_time": "2021-07-05T17:07:18.096Z"
   },
   {
    "duration": 1566,
    "start_time": "2021-07-05T17:07:18.099Z"
   },
   {
    "duration": 309,
    "start_time": "2021-07-05T17:07:23.318Z"
   },
   {
    "duration": 349,
    "start_time": "2021-07-05T17:07:41.183Z"
   },
   {
    "duration": 336,
    "start_time": "2021-07-05T17:08:24.223Z"
   },
   {
    "duration": 341,
    "start_time": "2021-07-05T17:09:36.247Z"
   },
   {
    "duration": 315,
    "start_time": "2021-07-05T17:10:04.670Z"
   },
   {
    "duration": 324,
    "start_time": "2021-07-05T17:10:29.610Z"
   },
   {
    "duration": 339,
    "start_time": "2021-07-05T17:11:05.689Z"
   },
   {
    "duration": 361,
    "start_time": "2021-07-05T17:20:54.684Z"
   },
   {
    "duration": 9,
    "start_time": "2021-07-05T17:21:05.299Z"
   },
   {
    "duration": 10,
    "start_time": "2021-07-05T17:21:24.502Z"
   },
   {
    "duration": 11,
    "start_time": "2021-07-05T17:23:51.072Z"
   },
   {
    "duration": 11,
    "start_time": "2021-07-05T17:24:00.731Z"
   },
   {
    "duration": 11,
    "start_time": "2021-07-05T17:24:07.530Z"
   },
   {
    "duration": 38,
    "start_time": "2021-07-05T17:25:41.478Z"
   },
   {
    "duration": 35,
    "start_time": "2021-07-05T17:28:38.619Z"
   },
   {
    "duration": 35,
    "start_time": "2021-07-05T17:30:00.501Z"
   },
   {
    "duration": 39,
    "start_time": "2021-07-05T17:30:13.066Z"
   },
   {
    "duration": 427,
    "start_time": "2021-07-05T17:49:18.925Z"
   },
   {
    "duration": 358,
    "start_time": "2021-07-05T17:49:32.851Z"
   },
   {
    "duration": 320,
    "start_time": "2021-07-05T17:50:54.174Z"
   },
   {
    "duration": 888,
    "start_time": "2021-07-05T17:52:29.390Z"
   },
   {
    "duration": 39,
    "start_time": "2021-07-05T17:52:30.281Z"
   },
   {
    "duration": 183,
    "start_time": "2021-07-05T17:52:30.323Z"
   },
   {
    "duration": 353,
    "start_time": "2021-07-05T17:52:30.509Z"
   },
   {
    "duration": 1691,
    "start_time": "2021-07-05T17:52:29.175Z"
   },
   {
    "duration": 1690,
    "start_time": "2021-07-05T17:52:29.177Z"
   },
   {
    "duration": 1681,
    "start_time": "2021-07-05T17:52:29.188Z"
   },
   {
    "duration": 1676,
    "start_time": "2021-07-05T17:52:29.195Z"
   },
   {
    "duration": 1674,
    "start_time": "2021-07-05T17:52:29.198Z"
   },
   {
    "duration": 1674,
    "start_time": "2021-07-05T17:52:29.200Z"
   },
   {
    "duration": 1674,
    "start_time": "2021-07-05T17:52:29.202Z"
   },
   {
    "duration": 1672,
    "start_time": "2021-07-05T17:52:29.205Z"
   },
   {
    "duration": 1667,
    "start_time": "2021-07-05T17:52:29.212Z"
   },
   {
    "duration": 1664,
    "start_time": "2021-07-05T17:52:29.216Z"
   },
   {
    "duration": 6114,
    "start_time": "2021-07-05T17:52:39.265Z"
   },
   {
    "duration": 326,
    "start_time": "2021-07-05T17:52:45.383Z"
   },
   {
    "duration": 7963,
    "start_time": "2021-07-05T17:53:07.992Z"
   },
   {
    "duration": 5819,
    "start_time": "2021-07-05T17:53:23.532Z"
   },
   {
    "duration": 1537,
    "start_time": "2021-07-05T17:53:27.819Z"
   },
   {
    "duration": 5372,
    "start_time": "2021-07-05T17:53:53.759Z"
   },
   {
    "duration": 5647,
    "start_time": "2021-07-05T17:59:25.737Z"
   },
   {
    "duration": 94,
    "start_time": "2021-07-05T17:59:58.753Z"
   },
   {
    "duration": 47,
    "start_time": "2021-07-05T17:59:58.851Z"
   },
   {
    "duration": 245,
    "start_time": "2021-07-05T17:59:58.903Z"
   },
   {
    "duration": 323,
    "start_time": "2021-07-05T17:59:59.151Z"
   },
   {
    "duration": 1684,
    "start_time": "2021-07-05T17:59:57.794Z"
   },
   {
    "duration": 1679,
    "start_time": "2021-07-05T17:59:57.801Z"
   },
   {
    "duration": 1679,
    "start_time": "2021-07-05T17:59:57.803Z"
   },
   {
    "duration": 1677,
    "start_time": "2021-07-05T17:59:57.807Z"
   },
   {
    "duration": 1677,
    "start_time": "2021-07-05T17:59:57.809Z"
   },
   {
    "duration": 1674,
    "start_time": "2021-07-05T17:59:57.814Z"
   },
   {
    "duration": 1670,
    "start_time": "2021-07-05T17:59:57.820Z"
   },
   {
    "duration": 1668,
    "start_time": "2021-07-05T17:59:57.824Z"
   },
   {
    "duration": 1667,
    "start_time": "2021-07-05T17:59:57.827Z"
   },
   {
    "duration": 5971,
    "start_time": "2021-07-05T18:00:07.079Z"
   },
   {
    "duration": 5320,
    "start_time": "2021-07-05T18:00:45.786Z"
   },
   {
    "duration": 92,
    "start_time": "2021-07-05T18:00:54.055Z"
   },
   {
    "duration": 47,
    "start_time": "2021-07-05T18:00:54.150Z"
   },
   {
    "duration": 185,
    "start_time": "2021-07-05T18:00:54.200Z"
   },
   {
    "duration": 319,
    "start_time": "2021-07-05T18:00:54.389Z"
   },
   {
    "duration": 1707,
    "start_time": "2021-07-05T18:00:53.004Z"
   },
   {
    "duration": 1707,
    "start_time": "2021-07-05T18:00:53.005Z"
   },
   {
    "duration": 1705,
    "start_time": "2021-07-05T18:00:53.008Z"
   },
   {
    "duration": 1705,
    "start_time": "2021-07-05T18:00:53.010Z"
   },
   {
    "duration": 1704,
    "start_time": "2021-07-05T18:00:53.012Z"
   },
   {
    "duration": 1703,
    "start_time": "2021-07-05T18:00:53.014Z"
   },
   {
    "duration": 1702,
    "start_time": "2021-07-05T18:00:53.017Z"
   },
   {
    "duration": 1700,
    "start_time": "2021-07-05T18:00:53.020Z"
   },
   {
    "duration": 1701,
    "start_time": "2021-07-05T18:00:53.021Z"
   },
   {
    "duration": 5297,
    "start_time": "2021-07-05T18:01:03.633Z"
   },
   {
    "duration": 370,
    "start_time": "2021-07-05T18:02:19.652Z"
   },
   {
    "duration": 1085,
    "start_time": "2021-07-05T18:05:32.326Z"
   },
   {
    "duration": 361,
    "start_time": "2021-07-05T18:05:50.895Z"
   },
   {
    "duration": 1450,
    "start_time": "2021-07-05T18:05:55.991Z"
   },
   {
    "duration": 357,
    "start_time": "2021-07-05T18:09:39.814Z"
   },
   {
    "duration": 307,
    "start_time": "2021-07-05T18:10:33.692Z"
   },
   {
    "duration": 1069,
    "start_time": "2021-07-05T18:10:49.168Z"
   },
   {
    "duration": 5186,
    "start_time": "2021-07-05T18:11:19.564Z"
   },
   {
    "duration": 10002,
    "start_time": "2021-07-05T18:13:17.323Z"
   },
   {
    "duration": 9837,
    "start_time": "2021-07-05T18:13:30.198Z"
   },
   {
    "duration": 5091,
    "start_time": "2021-07-05T18:14:23.808Z"
   },
   {
    "duration": 5238,
    "start_time": "2021-07-05T18:14:38.754Z"
   },
   {
    "duration": 105,
    "start_time": "2021-07-05T18:14:57.007Z"
   },
   {
    "duration": 384,
    "start_time": "2021-07-05T18:15:23.694Z"
   },
   {
    "duration": 358,
    "start_time": "2021-07-05T18:15:36.221Z"
   },
   {
    "duration": 323,
    "start_time": "2021-07-05T18:15:48.259Z"
   },
   {
    "duration": 111,
    "start_time": "2021-07-05T18:16:46.026Z"
   },
   {
    "duration": 312,
    "start_time": "2021-07-05T18:17:30.234Z"
   },
   {
    "duration": 309,
    "start_time": "2021-07-05T18:17:45.831Z"
   },
   {
    "duration": 130,
    "start_time": "2021-07-05T18:21:17.431Z"
   },
   {
    "duration": 327,
    "start_time": "2021-07-05T18:21:27.751Z"
   },
   {
    "duration": 129,
    "start_time": "2021-07-05T18:21:41.547Z"
   },
   {
    "duration": 56,
    "start_time": "2021-07-05T18:21:41.679Z"
   },
   {
    "duration": 248,
    "start_time": "2021-07-05T18:21:41.739Z"
   },
   {
    "duration": 425,
    "start_time": "2021-07-05T18:21:41.990Z"
   },
   {
    "duration": 1609,
    "start_time": "2021-07-05T18:21:40.809Z"
   },
   {
    "duration": 1607,
    "start_time": "2021-07-05T18:21:40.813Z"
   },
   {
    "duration": 1605,
    "start_time": "2021-07-05T18:21:40.817Z"
   },
   {
    "duration": 1603,
    "start_time": "2021-07-05T18:21:40.821Z"
   },
   {
    "duration": 1601,
    "start_time": "2021-07-05T18:21:40.824Z"
   },
   {
    "duration": 1600,
    "start_time": "2021-07-05T18:21:40.826Z"
   },
   {
    "duration": 1598,
    "start_time": "2021-07-05T18:21:40.830Z"
   },
   {
    "duration": 1598,
    "start_time": "2021-07-05T18:21:40.832Z"
   },
   {
    "duration": 1595,
    "start_time": "2021-07-05T18:21:40.836Z"
   },
   {
    "duration": 437,
    "start_time": "2021-07-05T18:21:50.760Z"
   },
   {
    "duration": 5631,
    "start_time": "2021-07-05T18:22:18.821Z"
   },
   {
    "duration": 5365,
    "start_time": "2021-07-05T18:22:25.885Z"
   },
   {
    "duration": 5549,
    "start_time": "2021-07-05T18:24:30.836Z"
   },
   {
    "duration": 5661,
    "start_time": "2021-07-05T18:26:17.994Z"
   },
   {
    "duration": 5424,
    "start_time": "2021-07-05T18:27:08.579Z"
   },
   {
    "duration": 5456,
    "start_time": "2021-07-05T18:27:26.812Z"
   },
   {
    "duration": 5012,
    "start_time": "2021-07-05T18:27:38.983Z"
   },
   {
    "duration": 282,
    "start_time": "2021-07-06T12:04:10.506Z"
   },
   {
    "duration": 605,
    "start_time": "2021-07-06T12:04:23.722Z"
   },
   {
    "duration": 25,
    "start_time": "2021-07-06T12:04:24.329Z"
   },
   {
    "duration": 113,
    "start_time": "2021-07-06T12:04:24.356Z"
   },
   {
    "duration": 205,
    "start_time": "2021-07-06T12:04:24.471Z"
   },
   {
    "duration": -10865807,
    "start_time": "2021-07-06T15:05:30.485Z"
   },
   {
    "duration": -10865811,
    "start_time": "2021-07-06T15:05:30.490Z"
   },
   {
    "duration": -10865822,
    "start_time": "2021-07-06T15:05:30.503Z"
   },
   {
    "duration": -10865826,
    "start_time": "2021-07-06T15:05:30.508Z"
   },
   {
    "duration": -10865830,
    "start_time": "2021-07-06T15:05:30.513Z"
   },
   {
    "duration": -10865833,
    "start_time": "2021-07-06T15:05:30.517Z"
   },
   {
    "duration": -10865836,
    "start_time": "2021-07-06T15:05:30.521Z"
   },
   {
    "duration": -10865839,
    "start_time": "2021-07-06T15:05:30.525Z"
   },
   {
    "duration": -10865840,
    "start_time": "2021-07-06T15:05:30.527Z"
   },
   {
    "duration": 6082,
    "start_time": "2021-07-06T12:04:57.476Z"
   },
   {
    "duration": 6034,
    "start_time": "2021-07-06T12:06:46.551Z"
   },
   {
    "duration": 6113,
    "start_time": "2021-07-06T12:07:11.741Z"
   },
   {
    "duration": 6224,
    "start_time": "2021-07-06T12:07:18.915Z"
   },
   {
    "duration": 3999,
    "start_time": "2021-07-06T12:08:22.322Z"
   },
   {
    "duration": 3722,
    "start_time": "2021-07-06T12:08:39.711Z"
   },
   {
    "duration": 4018,
    "start_time": "2021-07-06T12:08:49.023Z"
   },
   {
    "duration": 3932,
    "start_time": "2021-07-06T12:08:58.105Z"
   },
   {
    "duration": 3725,
    "start_time": "2021-07-06T12:09:30.446Z"
   },
   {
    "duration": 3395,
    "start_time": "2021-07-06T12:09:41.663Z"
   },
   {
    "duration": 3776,
    "start_time": "2021-07-06T12:10:49.115Z"
   },
   {
    "duration": 3790,
    "start_time": "2021-07-06T12:11:00.407Z"
   },
   {
    "duration": 3421,
    "start_time": "2021-07-06T12:11:11.064Z"
   },
   {
    "duration": 3413,
    "start_time": "2021-07-06T12:11:50.224Z"
   },
   {
    "duration": 77,
    "start_time": "2021-07-06T12:16:11.820Z"
   },
   {
    "duration": 26,
    "start_time": "2021-07-06T12:16:11.899Z"
   },
   {
    "duration": 111,
    "start_time": "2021-07-06T12:16:11.927Z"
   },
   {
    "duration": 205,
    "start_time": "2021-07-06T12:16:12.041Z"
   },
   {
    "duration": -10865550,
    "start_time": "2021-07-06T15:17:17.798Z"
   },
   {
    "duration": -10865556,
    "start_time": "2021-07-06T15:17:17.805Z"
   },
   {
    "duration": 3385,
    "start_time": "2021-07-06T12:16:17.701Z"
   },
   {
    "duration": 3526,
    "start_time": "2021-07-06T12:16:39.991Z"
   },
   {
    "duration": 3345,
    "start_time": "2021-07-06T12:17:01.097Z"
   },
   {
    "duration": 69,
    "start_time": "2021-07-06T12:17:12.144Z"
   },
   {
    "duration": 25,
    "start_time": "2021-07-06T12:17:12.215Z"
   },
   {
    "duration": 110,
    "start_time": "2021-07-06T12:17:12.242Z"
   },
   {
    "duration": 182,
    "start_time": "2021-07-06T12:17:12.354Z"
   },
   {
    "duration": -10865547,
    "start_time": "2021-07-06T15:18:18.085Z"
   },
   {
    "duration": -10865554,
    "start_time": "2021-07-06T15:18:18.093Z"
   },
   {
    "duration": -10865557,
    "start_time": "2021-07-06T15:18:18.097Z"
   },
   {
    "duration": -10865561,
    "start_time": "2021-07-06T15:18:18.102Z"
   },
   {
    "duration": -10865566,
    "start_time": "2021-07-06T15:18:18.107Z"
   },
   {
    "duration": -10865567,
    "start_time": "2021-07-06T15:18:18.109Z"
   },
   {
    "duration": -10865569,
    "start_time": "2021-07-06T15:18:18.112Z"
   },
   {
    "duration": -10865571,
    "start_time": "2021-07-06T15:18:18.115Z"
   },
   {
    "duration": -10865573,
    "start_time": "2021-07-06T15:18:18.118Z"
   },
   {
    "duration": 3431,
    "start_time": "2021-07-06T12:17:25.115Z"
   },
   {
    "duration": 3570,
    "start_time": "2021-07-06T12:17:54.266Z"
   },
   {
    "duration": 220,
    "start_time": "2021-07-06T12:22:03.428Z"
   },
   {
    "duration": 193,
    "start_time": "2021-07-06T12:22:14.013Z"
   },
   {
    "duration": 186,
    "start_time": "2021-07-06T12:23:18.536Z"
   },
   {
    "duration": 992,
    "start_time": "2021-07-06T12:24:04.554Z"
   },
   {
    "duration": 595,
    "start_time": "2021-07-06T12:26:03.619Z"
   },
   {
    "duration": 26,
    "start_time": "2021-07-06T12:26:04.215Z"
   },
   {
    "duration": 115,
    "start_time": "2021-07-06T12:26:04.243Z"
   },
   {
    "duration": 250,
    "start_time": "2021-07-06T12:26:04.360Z"
   },
   {
    "duration": -10865521,
    "start_time": "2021-07-06T15:27:10.133Z"
   },
   {
    "duration": -10865531,
    "start_time": "2021-07-06T15:27:10.144Z"
   },
   {
    "duration": -10865533,
    "start_time": "2021-07-06T15:27:10.147Z"
   },
   {
    "duration": -10865544,
    "start_time": "2021-07-06T15:27:10.159Z"
   },
   {
    "duration": -10865546,
    "start_time": "2021-07-06T15:27:10.162Z"
   },
   {
    "duration": -10865548,
    "start_time": "2021-07-06T15:27:10.166Z"
   },
   {
    "duration": -10865559,
    "start_time": "2021-07-06T15:27:10.178Z"
   },
   {
    "duration": -10865564,
    "start_time": "2021-07-06T15:27:10.183Z"
   },
   {
    "duration": -10865567,
    "start_time": "2021-07-06T15:27:10.187Z"
   },
   {
    "duration": -10865570,
    "start_time": "2021-07-06T15:27:10.192Z"
   },
   {
    "duration": 3717,
    "start_time": "2021-07-06T12:26:13.203Z"
   },
   {
    "duration": 198,
    "start_time": "2021-07-06T12:28:55.125Z"
   },
   {
    "duration": 191,
    "start_time": "2021-07-06T12:29:08.001Z"
   },
   {
    "duration": 2246,
    "start_time": "2021-07-06T12:33:46.910Z"
   },
   {
    "duration": 189,
    "start_time": "2021-07-06T12:35:35.530Z"
   },
   {
    "duration": 198,
    "start_time": "2021-07-06T12:35:51.278Z"
   },
   {
    "duration": 3,
    "start_time": "2021-07-06T12:36:14.162Z"
   },
   {
    "duration": 816,
    "start_time": "2021-07-06T12:36:35.165Z"
   },
   {
    "duration": 397,
    "start_time": "2021-07-06T14:52:38.489Z"
   },
   {
    "duration": 917,
    "start_time": "2021-07-06T14:52:48.094Z"
   },
   {
    "duration": 41,
    "start_time": "2021-07-06T14:52:49.015Z"
   },
   {
    "duration": 227,
    "start_time": "2021-07-06T14:52:49.060Z"
   },
   {
    "duration": 679,
    "start_time": "2021-07-06T14:52:49.290Z"
   },
   {
    "duration": 991,
    "start_time": "2021-07-06T14:52:48.980Z"
   },
   {
    "duration": 799,
    "start_time": "2021-07-06T14:52:49.174Z"
   },
   {
    "duration": 793,
    "start_time": "2021-07-06T14:52:49.181Z"
   },
   {
    "duration": 790,
    "start_time": "2021-07-06T14:52:49.186Z"
   },
   {
    "duration": 785,
    "start_time": "2021-07-06T14:52:49.192Z"
   },
   {
    "duration": 780,
    "start_time": "2021-07-06T14:52:49.198Z"
   },
   {
    "duration": 779,
    "start_time": "2021-07-06T14:52:49.201Z"
   },
   {
    "duration": 777,
    "start_time": "2021-07-06T14:52:49.204Z"
   },
   {
    "duration": 776,
    "start_time": "2021-07-06T14:52:49.206Z"
   },
   {
    "duration": 775,
    "start_time": "2021-07-06T14:52:49.209Z"
   },
   {
    "duration": 774,
    "start_time": "2021-07-06T14:52:49.211Z"
   },
   {
    "duration": 5478,
    "start_time": "2021-07-06T14:52:56.289Z"
   },
   {
    "duration": 6,
    "start_time": "2021-07-06T14:53:25.805Z"
   },
   {
    "duration": 1481,
    "start_time": "2021-07-06T14:53:38.042Z"
   },
   {
    "duration": 348,
    "start_time": "2021-07-06T15:38:06.392Z"
   },
   {
    "duration": 16,
    "start_time": "2021-07-06T15:38:15.696Z"
   },
   {
    "duration": 19,
    "start_time": "2021-07-06T15:38:22.466Z"
   },
   {
    "duration": 25,
    "start_time": "2021-07-06T15:38:42.211Z"
   },
   {
    "duration": 30,
    "start_time": "2021-07-06T15:40:46.230Z"
   },
   {
    "duration": 23,
    "start_time": "2021-07-06T15:40:54.020Z"
   },
   {
    "duration": 20,
    "start_time": "2021-07-06T15:40:59.026Z"
   },
   {
    "duration": 20,
    "start_time": "2021-07-06T15:41:15.295Z"
   },
   {
    "duration": 12,
    "start_time": "2021-07-06T15:41:30.970Z"
   },
   {
    "duration": 15,
    "start_time": "2021-07-06T15:41:48.408Z"
   },
   {
    "duration": 12,
    "start_time": "2021-07-06T15:42:13.897Z"
   },
   {
    "duration": 15,
    "start_time": "2021-07-06T15:43:43.032Z"
   },
   {
    "duration": 97,
    "start_time": "2021-07-06T15:43:47.772Z"
   },
   {
    "duration": 58,
    "start_time": "2021-07-06T15:43:47.872Z"
   },
   {
    "duration": 188,
    "start_time": "2021-07-06T15:43:47.934Z"
   },
   {
    "duration": 326,
    "start_time": "2021-07-06T15:43:48.126Z"
   },
   {
    "duration": -197,
    "start_time": "2021-07-06T15:43:48.651Z"
   },
   {
    "duration": -200,
    "start_time": "2021-07-06T15:43:48.656Z"
   },
   {
    "duration": -205,
    "start_time": "2021-07-06T15:43:48.663Z"
   },
   {
    "duration": -207,
    "start_time": "2021-07-06T15:43:48.666Z"
   },
   {
    "duration": -207,
    "start_time": "2021-07-06T15:43:48.668Z"
   },
   {
    "duration": -208,
    "start_time": "2021-07-06T15:43:48.670Z"
   },
   {
    "duration": -338,
    "start_time": "2021-07-06T15:43:48.801Z"
   },
   {
    "duration": -341,
    "start_time": "2021-07-06T15:43:48.805Z"
   },
   {
    "duration": -345,
    "start_time": "2021-07-06T15:43:48.811Z"
   },
   {
    "duration": -349,
    "start_time": "2021-07-06T15:43:48.816Z"
   },
   {
    "duration": -349,
    "start_time": "2021-07-06T15:43:48.818Z"
   },
   {
    "duration": 304,
    "start_time": "2021-07-06T15:43:55.841Z"
   },
   {
    "duration": 9,
    "start_time": "2021-07-06T15:44:22.406Z"
   },
   {
    "duration": 5614,
    "start_time": "2021-07-06T15:44:41.523Z"
   },
   {
    "duration": 12,
    "start_time": "2021-07-06T15:44:56.086Z"
   },
   {
    "duration": 12,
    "start_time": "2021-07-06T15:45:14.328Z"
   },
   {
    "duration": 21,
    "start_time": "2021-07-06T15:45:25.961Z"
   },
   {
    "duration": 18,
    "start_time": "2021-07-06T15:48:42.686Z"
   },
   {
    "duration": 103,
    "start_time": "2021-07-06T15:51:07.492Z"
   },
   {
    "duration": 101,
    "start_time": "2021-07-06T15:51:20.193Z"
   },
   {
    "duration": 106,
    "start_time": "2021-07-06T15:51:37.660Z"
   },
   {
    "duration": 101,
    "start_time": "2021-07-06T15:51:50.825Z"
   },
   {
    "duration": 1578,
    "start_time": "2021-07-06T15:52:00.544Z"
   },
   {
    "duration": 410,
    "start_time": "2021-07-06T15:55:31.963Z"
   },
   {
    "duration": 9,
    "start_time": "2021-07-06T15:56:18.215Z"
   },
   {
    "duration": 11,
    "start_time": "2021-07-06T15:56:23.225Z"
   },
   {
    "duration": 11,
    "start_time": "2021-07-06T15:56:38.379Z"
   },
   {
    "duration": 11,
    "start_time": "2021-07-06T15:56:59.569Z"
   },
   {
    "duration": 12,
    "start_time": "2021-07-06T15:57:25.447Z"
   },
   {
    "duration": 12,
    "start_time": "2021-07-06T15:57:50.474Z"
   },
   {
    "duration": 365,
    "start_time": "2021-07-06T19:23:03.713Z"
   },
   {
    "duration": 633,
    "start_time": "2021-07-06T19:23:09.810Z"
   },
   {
    "duration": 21,
    "start_time": "2021-07-06T19:23:10.445Z"
   },
   {
    "duration": 100,
    "start_time": "2021-07-06T19:23:10.468Z"
   },
   {
    "duration": 298,
    "start_time": "2021-07-06T19:23:10.570Z"
   },
   {
    "duration": -409,
    "start_time": "2021-07-06T19:23:11.279Z"
   },
   {
    "duration": -416,
    "start_time": "2021-07-06T19:23:11.287Z"
   },
   {
    "duration": -422,
    "start_time": "2021-07-06T19:23:11.295Z"
   },
   {
    "duration": -425,
    "start_time": "2021-07-06T19:23:11.299Z"
   },
   {
    "duration": -431,
    "start_time": "2021-07-06T19:23:11.306Z"
   },
   {
    "duration": -435,
    "start_time": "2021-07-06T19:23:11.311Z"
   },
   {
    "duration": -440,
    "start_time": "2021-07-06T19:23:11.318Z"
   },
   {
    "duration": -443,
    "start_time": "2021-07-06T19:23:11.322Z"
   },
   {
    "duration": -511,
    "start_time": "2021-07-06T19:23:11.391Z"
   },
   {
    "duration": -559,
    "start_time": "2021-07-06T19:23:11.441Z"
   },
   {
    "duration": -563,
    "start_time": "2021-07-06T19:23:11.446Z"
   },
   {
    "duration": 276,
    "start_time": "2021-07-06T19:23:19.992Z"
   },
   {
    "duration": 3550,
    "start_time": "2021-07-06T19:23:23.524Z"
   },
   {
    "duration": 1195,
    "start_time": "2021-07-06T19:23:30.118Z"
   },
   {
    "duration": 150,
    "start_time": "2021-07-06T19:23:44.198Z"
   },
   {
    "duration": 111,
    "start_time": "2021-07-06T19:25:29.858Z"
   },
   {
    "duration": 1455,
    "start_time": "2021-07-06T19:25:57.085Z"
   },
   {
    "duration": 3,
    "start_time": "2021-07-06T19:27:03.894Z"
   },
   {
    "duration": 1293,
    "start_time": "2021-07-06T19:27:05.889Z"
   },
   {
    "duration": 232,
    "start_time": "2021-07-07T15:33:15.734Z"
   },
   {
    "duration": 588,
    "start_time": "2021-07-07T15:33:27.830Z"
   },
   {
    "duration": 25,
    "start_time": "2021-07-07T15:33:34.654Z"
   },
   {
    "duration": 84,
    "start_time": "2021-07-07T15:33:48.155Z"
   },
   {
    "duration": 3318,
    "start_time": "2021-07-07T15:34:00.355Z"
   },
   {
    "duration": 3,
    "start_time": "2021-07-07T15:34:05.741Z"
   },
   {
    "duration": 4,
    "start_time": "2021-07-07T15:34:07.736Z"
   },
   {
    "duration": 1215,
    "start_time": "2021-07-07T15:35:20.658Z"
   },
   {
    "duration": 832,
    "start_time": "2021-07-07T15:35:55.339Z"
   },
   {
    "duration": 4,
    "start_time": "2021-07-07T15:36:42.550Z"
   },
   {
    "duration": 2151,
    "start_time": "2021-07-07T16:41:01.597Z"
   },
   {
    "duration": 53,
    "start_time": "2021-07-07T16:41:05.402Z"
   },
   {
    "duration": 3484,
    "start_time": "2021-07-07T16:41:43.179Z"
   },
   {
    "duration": 4,
    "start_time": "2021-07-07T16:42:18.925Z"
   },
   {
    "duration": 124,
    "start_time": "2021-07-07T16:42:41.021Z"
   },
   {
    "duration": 4,
    "start_time": "2021-07-07T16:42:43.471Z"
   },
   {
    "duration": 190,
    "start_time": "2021-07-07T16:42:58.582Z"
   },
   {
    "duration": 4,
    "start_time": "2021-07-07T16:43:07.002Z"
   },
   {
    "duration": 8943,
    "start_time": "2021-07-07T16:43:10.842Z"
   },
   {
    "duration": 7,
    "start_time": "2021-07-07T16:43:24.133Z"
   },
   {
    "duration": 68,
    "start_time": "2021-07-07T16:43:47.244Z"
   },
   {
    "duration": 64,
    "start_time": "2021-07-07T16:44:04.964Z"
   },
   {
    "duration": 26,
    "start_time": "2021-07-07T16:44:05.029Z"
   },
   {
    "duration": 100,
    "start_time": "2021-07-07T16:44:05.057Z"
   },
   {
    "duration": 192,
    "start_time": "2021-07-07T16:44:05.159Z"
   },
   {
    "duration": -486,
    "start_time": "2021-07-07T16:44:05.839Z"
   },
   {
    "duration": -493,
    "start_time": "2021-07-07T16:44:05.847Z"
   },
   {
    "duration": -503,
    "start_time": "2021-07-07T16:44:05.858Z"
   },
   {
    "duration": -510,
    "start_time": "2021-07-07T16:44:05.865Z"
   },
   {
    "duration": -522,
    "start_time": "2021-07-07T16:44:05.878Z"
   },
   {
    "duration": -534,
    "start_time": "2021-07-07T16:44:05.891Z"
   },
   {
    "duration": -540,
    "start_time": "2021-07-07T16:44:05.898Z"
   },
   {
    "duration": -549,
    "start_time": "2021-07-07T16:44:05.908Z"
   },
   {
    "duration": 4,
    "start_time": "2021-07-07T16:44:08.417Z"
   },
   {
    "duration": 4492,
    "start_time": "2021-07-07T16:44:11.735Z"
   },
   {
    "duration": 9,
    "start_time": "2021-07-07T16:44:16.229Z"
   },
   {
    "duration": 868,
    "start_time": "2021-07-07T16:44:20.646Z"
   },
   {
    "duration": 1226,
    "start_time": "2021-07-07T16:44:43.936Z"
   },
   {
    "duration": 602,
    "start_time": "2021-07-07T16:45:33.512Z"
   },
   {
    "duration": 23,
    "start_time": "2021-07-07T16:45:34.116Z"
   },
   {
    "duration": 114,
    "start_time": "2021-07-07T16:45:34.141Z"
   },
   {
    "duration": 249,
    "start_time": "2021-07-07T16:45:34.257Z"
   },
   {
    "duration": -583,
    "start_time": "2021-07-07T16:45:35.092Z"
   },
   {
    "duration": -587,
    "start_time": "2021-07-07T16:45:35.097Z"
   },
   {
    "duration": -591,
    "start_time": "2021-07-07T16:45:35.103Z"
   },
   {
    "duration": -596,
    "start_time": "2021-07-07T16:45:35.109Z"
   },
   {
    "duration": -599,
    "start_time": "2021-07-07T16:45:35.114Z"
   },
   {
    "duration": -603,
    "start_time": "2021-07-07T16:45:35.119Z"
   },
   {
    "duration": -656,
    "start_time": "2021-07-07T16:45:35.173Z"
   },
   {
    "duration": -661,
    "start_time": "2021-07-07T16:45:35.180Z"
   },
   {
    "duration": -664,
    "start_time": "2021-07-07T16:45:35.184Z"
   },
   {
    "duration": -671,
    "start_time": "2021-07-07T16:45:35.193Z"
   },
   {
    "duration": -721,
    "start_time": "2021-07-07T16:45:35.244Z"
   },
   {
    "duration": -723,
    "start_time": "2021-07-07T16:45:35.247Z"
   },
   {
    "duration": -724,
    "start_time": "2021-07-07T16:45:35.250Z"
   },
   {
    "duration": -726,
    "start_time": "2021-07-07T16:45:35.253Z"
   },
   {
    "duration": -726,
    "start_time": "2021-07-07T16:45:35.255Z"
   },
   {
    "duration": -730,
    "start_time": "2021-07-07T16:45:35.260Z"
   },
   {
    "duration": -731,
    "start_time": "2021-07-07T16:45:35.263Z"
   },
   {
    "duration": -733,
    "start_time": "2021-07-07T16:45:35.266Z"
   },
   {
    "duration": -778,
    "start_time": "2021-07-07T16:45:35.313Z"
   },
   {
    "duration": -780,
    "start_time": "2021-07-07T16:45:35.316Z"
   },
   {
    "duration": 184,
    "start_time": "2021-07-07T16:45:47.558Z"
   },
   {
    "duration": 17,
    "start_time": "2021-07-07T16:46:17.029Z"
   },
   {
    "duration": 3507,
    "start_time": "2021-07-07T16:46:22.929Z"
   },
   {
    "duration": 1896,
    "start_time": "2021-07-07T16:46:26.438Z"
   },
   {
    "duration": 63,
    "start_time": "2021-07-07T16:46:28.336Z"
   },
   {
    "duration": 43,
    "start_time": "2021-07-07T16:46:31.800Z"
   },
   {
    "duration": 3,
    "start_time": "2021-07-07T16:46:33.609Z"
   },
   {
    "duration": 3,
    "start_time": "2021-07-07T16:46:36.345Z"
   },
   {
    "duration": 4,
    "start_time": "2021-07-07T16:46:37.840Z"
   },
   {
    "duration": 113,
    "start_time": "2021-07-07T16:46:41.515Z"
   },
   {
    "duration": 4,
    "start_time": "2021-07-07T16:46:43.805Z"
   },
   {
    "duration": 9101,
    "start_time": "2021-07-07T16:46:47.506Z"
   },
   {
    "duration": 6,
    "start_time": "2021-07-07T16:46:56.609Z"
   },
   {
    "duration": 9,
    "start_time": "2021-07-07T16:46:56.617Z"
   },
   {
    "duration": 8,
    "start_time": "2021-07-07T16:46:56.995Z"
   },
   {
    "duration": 170,
    "start_time": "2021-07-07T16:52:11.131Z"
   },
   {
    "duration": 3,
    "start_time": "2021-07-07T16:52:18.108Z"
   },
   {
    "duration": 8,
    "start_time": "2021-07-07T16:52:20.223Z"
   },
   {
    "duration": 2,
    "start_time": "2021-07-07T16:53:49.582Z"
   },
   {
    "duration": 8,
    "start_time": "2021-07-07T16:53:51.402Z"
   },
   {
    "duration": 17,
    "start_time": "2021-07-07T16:59:31.251Z"
   },
   {
    "duration": 5,
    "start_time": "2021-07-07T17:00:48.173Z"
   },
   {
    "duration": 10,
    "start_time": "2021-07-07T17:01:43.631Z"
   },
   {
    "duration": 32,
    "start_time": "2021-07-07T17:03:12.519Z"
   },
   {
    "duration": 282,
    "start_time": "2021-07-08T10:57:41.460Z"
   }
  ],
  "kernelspec": {
   "display_name": "Python 3",
   "language": "python",
   "name": "python3"
  },
  "language_info": {
   "codemirror_mode": {
    "name": "ipython",
    "version": 3
   },
   "file_extension": ".py",
   "mimetype": "text/x-python",
   "name": "python",
   "nbconvert_exporter": "python",
   "pygments_lexer": "ipython3",
   "version": "3.7.8"
  },
  "toc": {
   "base_numbering": 1,
   "nav_menu": {},
   "number_sections": true,
   "sideBar": true,
   "skip_h1_title": true,
   "title_cell": "Table of Contents",
   "title_sidebar": "Contents",
   "toc_cell": false,
   "toc_position": {
    "height": "calc(100% - 180px)",
    "left": "10px",
    "top": "150px",
    "width": "165px"
   },
   "toc_section_display": true,
   "toc_window_display": true
  }
 },
 "nbformat": 4,
 "nbformat_minor": 2
}
