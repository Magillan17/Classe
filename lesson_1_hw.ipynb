{
 "cells": [
  {
   "cell_type": "code",
   "execution_count": 2,
   "id": "8454dc22",
   "metadata": {},
   "outputs": [],
   "source": [
    "import pandas as pd\n",
    "url = 'https://raw.githubusercontent.com/Magillan17/ML_lessons/main/googleplaystore.csv'\n",
    "df = pd.read_csv(url)"
   ]
  },
  {
   "cell_type": "code",
   "execution_count": 3,
   "id": "1ec7e2d6",
   "metadata": {},
   "outputs": [
    {
     "data": {
      "text/html": [
       "<div>\n",
       "<style scoped>\n",
       "    .dataframe tbody tr th:only-of-type {\n",
       "        vertical-align: middle;\n",
       "    }\n",
       "\n",
       "    .dataframe tbody tr th {\n",
       "        vertical-align: top;\n",
       "    }\n",
       "\n",
       "    .dataframe thead th {\n",
       "        text-align: right;\n",
       "    }\n",
       "</style>\n",
       "<table border=\"1\" class=\"dataframe\">\n",
       "  <thead>\n",
       "    <tr style=\"text-align: right;\">\n",
       "      <th></th>\n",
       "      <th>App</th>\n",
       "      <th>Category</th>\n",
       "      <th>Rating</th>\n",
       "      <th>Reviews</th>\n",
       "      <th>Size</th>\n",
       "      <th>Installs</th>\n",
       "      <th>Type</th>\n",
       "      <th>Price</th>\n",
       "      <th>Content Rating</th>\n",
       "      <th>Genres</th>\n",
       "      <th>Last Updated</th>\n",
       "      <th>Current Ver</th>\n",
       "      <th>Android Ver</th>\n",
       "    </tr>\n",
       "  </thead>\n",
       "  <tbody>\n",
       "    <tr>\n",
       "      <th>0</th>\n",
       "      <td>Photo Editor &amp; Candy Camera &amp; Grid &amp; ScrapBook</td>\n",
       "      <td>ART_AND_DESIGN</td>\n",
       "      <td>4.1</td>\n",
       "      <td>159</td>\n",
       "      <td>19M</td>\n",
       "      <td>10,000+</td>\n",
       "      <td>Free</td>\n",
       "      <td>0</td>\n",
       "      <td>Everyone</td>\n",
       "      <td>Art &amp; Design</td>\n",
       "      <td>January 7, 2018</td>\n",
       "      <td>1.0.0</td>\n",
       "      <td>4.0.3 and up</td>\n",
       "    </tr>\n",
       "    <tr>\n",
       "      <th>1</th>\n",
       "      <td>Coloring book moana</td>\n",
       "      <td>ART_AND_DESIGN</td>\n",
       "      <td>3.9</td>\n",
       "      <td>967</td>\n",
       "      <td>14M</td>\n",
       "      <td>500,000+</td>\n",
       "      <td>Free</td>\n",
       "      <td>0</td>\n",
       "      <td>Everyone</td>\n",
       "      <td>Art &amp; Design;Pretend Play</td>\n",
       "      <td>January 15, 2018</td>\n",
       "      <td>2.0.0</td>\n",
       "      <td>4.0.3 and up</td>\n",
       "    </tr>\n",
       "    <tr>\n",
       "      <th>2</th>\n",
       "      <td>U Launcher Lite – FREE Live Cool Themes, Hide ...</td>\n",
       "      <td>ART_AND_DESIGN</td>\n",
       "      <td>4.7</td>\n",
       "      <td>87510</td>\n",
       "      <td>8.7M</td>\n",
       "      <td>5,000,000+</td>\n",
       "      <td>Free</td>\n",
       "      <td>0</td>\n",
       "      <td>Everyone</td>\n",
       "      <td>Art &amp; Design</td>\n",
       "      <td>August 1, 2018</td>\n",
       "      <td>1.2.4</td>\n",
       "      <td>4.0.3 and up</td>\n",
       "    </tr>\n",
       "    <tr>\n",
       "      <th>3</th>\n",
       "      <td>Sketch - Draw &amp; Paint</td>\n",
       "      <td>ART_AND_DESIGN</td>\n",
       "      <td>4.5</td>\n",
       "      <td>215644</td>\n",
       "      <td>25M</td>\n",
       "      <td>50,000,000+</td>\n",
       "      <td>Free</td>\n",
       "      <td>0</td>\n",
       "      <td>Teen</td>\n",
       "      <td>Art &amp; Design</td>\n",
       "      <td>June 8, 2018</td>\n",
       "      <td>Varies with device</td>\n",
       "      <td>4.2 and up</td>\n",
       "    </tr>\n",
       "    <tr>\n",
       "      <th>4</th>\n",
       "      <td>Pixel Draw - Number Art Coloring Book</td>\n",
       "      <td>ART_AND_DESIGN</td>\n",
       "      <td>4.3</td>\n",
       "      <td>967</td>\n",
       "      <td>2.8M</td>\n",
       "      <td>100,000+</td>\n",
       "      <td>Free</td>\n",
       "      <td>0</td>\n",
       "      <td>Everyone</td>\n",
       "      <td>Art &amp; Design;Creativity</td>\n",
       "      <td>June 20, 2018</td>\n",
       "      <td>1.1</td>\n",
       "      <td>4.4 and up</td>\n",
       "    </tr>\n",
       "  </tbody>\n",
       "</table>\n",
       "</div>"
      ],
      "text/plain": [
       "                                                 App        Category  Rating  \\\n",
       "0     Photo Editor & Candy Camera & Grid & ScrapBook  ART_AND_DESIGN     4.1   \n",
       "1                                Coloring book moana  ART_AND_DESIGN     3.9   \n",
       "2  U Launcher Lite – FREE Live Cool Themes, Hide ...  ART_AND_DESIGN     4.7   \n",
       "3                              Sketch - Draw & Paint  ART_AND_DESIGN     4.5   \n",
       "4              Pixel Draw - Number Art Coloring Book  ART_AND_DESIGN     4.3   \n",
       "\n",
       "  Reviews  Size     Installs  Type Price Content Rating  \\\n",
       "0     159   19M      10,000+  Free     0       Everyone   \n",
       "1     967   14M     500,000+  Free     0       Everyone   \n",
       "2   87510  8.7M   5,000,000+  Free     0       Everyone   \n",
       "3  215644   25M  50,000,000+  Free     0           Teen   \n",
       "4     967  2.8M     100,000+  Free     0       Everyone   \n",
       "\n",
       "                      Genres      Last Updated         Current Ver  \\\n",
       "0               Art & Design   January 7, 2018               1.0.0   \n",
       "1  Art & Design;Pretend Play  January 15, 2018               2.0.0   \n",
       "2               Art & Design    August 1, 2018               1.2.4   \n",
       "3               Art & Design      June 8, 2018  Varies with device   \n",
       "4    Art & Design;Creativity     June 20, 2018                 1.1   \n",
       "\n",
       "    Android Ver  \n",
       "0  4.0.3 and up  \n",
       "1  4.0.3 and up  \n",
       "2  4.0.3 and up  \n",
       "3    4.2 and up  \n",
       "4    4.4 and up  "
      ]
     },
     "execution_count": 3,
     "metadata": {},
     "output_type": "execute_result"
    }
   ],
   "source": [
    "df.head()"
   ]
  },
  {
   "cell_type": "markdown",
   "id": "e28258cb",
   "metadata": {},
   "source": [
    "# Feature\n",
    "**App** Application name <br/> \n",
    "**Category** Category the app belongs to <br/>\n",
    "**Rating** Overall user rating of the app (as when scraped) <br/>\n",
    "**Reviews** Number of user reviews for the app (as when scraped) <br/>\n",
    "**Size** Size of the app (as when scraped)<br/>\n",
    "**Installs** Number of user downloads/installs for the app (as when scraped) <br/>\n",
    "**Type** Paid or Free <br/>\n",
    "**Price** Price of the app (as when scraped) <br/>\n",
    "**Content Rating** Age group the app is targeted at - Children / Mature 21+ / Adult <br/>\n",
    "**Genres** An app can belong to multiple genres (apart from its main category). For eg, a musical family game will belong to <br/>"
   ]
  },
  {
   "cell_type": "code",
   "execution_count": 11,
   "id": "a3e1284b",
   "metadata": {},
   "outputs": [],
   "source": [
    "import numpy as np"
   ]
  },
  {
   "cell_type": "code",
   "execution_count": 13,
   "id": "353fdfc6",
   "metadata": {},
   "outputs": [],
   "source": [
    "# Вывести количество платных и бесплатных приложений"
   ]
  },
  {
   "cell_type": "code",
   "execution_count": null,
   "id": "5d2bb5bd",
   "metadata": {},
   "outputs": [],
   "source": [
    "# Сколько всего есть различных категорий? Какая самая популярная? В ней преобладают платные или бесплатные приложения?"
   ]
  },
  {
   "cell_type": "code",
   "execution_count": null,
   "id": "0e4bbcc9",
   "metadata": {},
   "outputs": [],
   "source": [
    "# Cколько приложений с рейтингом от 3 до 4?"
   ]
  },
  {
   "cell_type": "code",
   "execution_count": null,
   "id": "18b94060",
   "metadata": {},
   "outputs": [],
   "source": [
    "# Какова средняя цена всех ПЛАТНЫХ приложений?"
   ]
  },
  {
   "cell_type": "code",
   "execution_count": null,
   "id": "7516d363",
   "metadata": {},
   "outputs": [],
   "source": [
    "# Сколько приложений имеет большее значение Reviews чем среднее?"
   ]
  },
  {
   "cell_type": "code",
   "execution_count": null,
   "id": "fa7fe402",
   "metadata": {},
   "outputs": [],
   "source": [
    "# Вывести 5 самых скачиваемых приложений"
   ]
  },
  {
   "cell_type": "code",
   "execution_count": null,
   "id": "c9b8b40e",
   "metadata": {},
   "outputs": [],
   "source": [
    "# Сделать новый бинарный признак 'more_mean_rating'. Посчитать среднюю по rating,\n",
    "# и в зависимисти от сэмпла проставить 1 или 0(использовать фильтры)"
   ]
  },
  {
   "cell_type": "code",
   "execution_count": null,
   "id": "fedafa2f",
   "metadata": {},
   "outputs": [],
   "source": [
    "#Удалить столбик Genres, Android Ver"
   ]
  },
  {
   "cell_type": "code",
   "execution_count": null,
   "id": "d7b4be17",
   "metadata": {},
   "outputs": [],
   "source": []
  },
  {
   "cell_type": "code",
   "execution_count": null,
   "id": "5c3e1348",
   "metadata": {},
   "outputs": [],
   "source": []
  },
  {
   "cell_type": "code",
   "execution_count": null,
   "id": "47d51a8d",
   "metadata": {},
   "outputs": [],
   "source": [
    "# Найти кол-во приложений, у которых в название есть значок  \"&\" ?"
   ]
  },
  {
   "cell_type": "code",
   "execution_count": null,
   "id": "6fe08a06",
   "metadata": {},
   "outputs": [],
   "source": [
    "# Сделать one_hot_encoding признака \"category\""
   ]
  },
  {
   "cell_type": "code",
   "execution_count": null,
   "id": "bfa60c50",
   "metadata": {},
   "outputs": [],
   "source": []
  }
 ],
 "metadata": {
  "kernelspec": {
   "display_name": "Python 3",
   "language": "python",
   "name": "python3"
  },
  "language_info": {
   "codemirror_mode": {
    "name": "ipython",
    "version": 3
   },
   "file_extension": ".py",
   "mimetype": "text/x-python",
   "name": "python",
   "nbconvert_exporter": "python",
   "pygments_lexer": "ipython3",
   "version": "3.8.8"
  }
 },
 "nbformat": 4,
 "nbformat_minor": 5
}
