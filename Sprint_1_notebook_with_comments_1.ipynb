{
  "nbformat": 4,
  "nbformat_minor": 0,
  "metadata": {
    "ExecuteTimeLog": [
      {
        "duration": 767,
        "start_time": "2021-06-25T19:38:56.207Z"
      },
      {
        "duration": 70,
        "start_time": "2021-06-25T19:39:14.219Z"
      },
      {
        "duration": 81,
        "start_time": "2021-06-25T19:39:38.085Z"
      },
      {
        "duration": 79,
        "start_time": "2021-06-25T19:39:43.298Z"
      },
      {
        "duration": 84,
        "start_time": "2021-06-25T19:47:01.100Z"
      },
      {
        "duration": 36,
        "start_time": "2021-06-25T21:31:44.574Z"
      },
      {
        "duration": 13,
        "start_time": "2021-06-25T21:31:55.585Z"
      },
      {
        "duration": 373,
        "start_time": "2021-06-25T21:33:28.499Z"
      },
      {
        "duration": 276,
        "start_time": "2021-06-25T21:33:42.802Z"
      },
      {
        "duration": 11,
        "start_time": "2021-06-25T21:35:59.007Z"
      },
      {
        "duration": 19,
        "start_time": "2021-06-25T21:37:32.776Z"
      },
      {
        "duration": 18,
        "start_time": "2021-06-25T21:39:10.980Z"
      },
      {
        "duration": 12,
        "start_time": "2021-06-25T21:43:14.368Z"
      },
      {
        "duration": 24,
        "start_time": "2021-06-25T21:43:26.895Z"
      },
      {
        "duration": 296,
        "start_time": "2021-06-25T21:45:27.217Z"
      },
      {
        "duration": 326,
        "start_time": "2021-06-25T21:46:14.830Z"
      },
      {
        "duration": 89,
        "start_time": "2021-06-25T21:46:52.727Z"
      },
      {
        "duration": 271,
        "start_time": "2021-06-25T21:46:57.562Z"
      },
      {
        "duration": 86,
        "start_time": "2021-06-25T21:48:32.946Z"
      },
      {
        "duration": 25,
        "start_time": "2021-06-25T21:48:40.068Z"
      },
      {
        "duration": 29,
        "start_time": "2021-06-25T21:50:09.090Z"
      },
      {
        "duration": 31,
        "start_time": "2021-06-25T21:50:19.447Z"
      },
      {
        "duration": 55,
        "start_time": "2021-06-25T22:03:41.724Z"
      },
      {
        "duration": 44,
        "start_time": "2021-06-25T22:04:59.142Z"
      },
      {
        "duration": 20,
        "start_time": "2021-06-25T22:05:32.539Z"
      },
      {
        "duration": 12,
        "start_time": "2021-06-25T22:05:58.526Z"
      },
      {
        "duration": 86,
        "start_time": "2021-06-25T22:06:03.760Z"
      },
      {
        "duration": 11,
        "start_time": "2021-06-25T22:06:03.849Z"
      },
      {
        "duration": 84,
        "start_time": "2021-06-25T22:06:21.468Z"
      },
      {
        "duration": 48,
        "start_time": "2021-06-25T22:06:21.555Z"
      },
      {
        "duration": 114,
        "start_time": "2021-06-26T10:31:51.123Z"
      },
      {
        "duration": 105,
        "start_time": "2021-06-26T10:34:13.071Z"
      },
      {
        "duration": 388,
        "start_time": "2021-06-26T10:38:23.711Z"
      },
      {
        "duration": 876,
        "start_time": "2021-06-26T10:38:35.944Z"
      },
      {
        "duration": 65,
        "start_time": "2021-06-26T10:38:36.822Z"
      },
      {
        "duration": 17,
        "start_time": "2021-06-26T10:38:36.889Z"
      },
      {
        "duration": 18,
        "start_time": "2021-06-26T10:42:04.967Z"
      },
      {
        "duration": 116,
        "start_time": "2021-06-26T10:42:12.143Z"
      },
      {
        "duration": 115,
        "start_time": "2021-06-26T10:43:25.999Z"
      },
      {
        "duration": 123,
        "start_time": "2021-06-26T10:43:35.883Z"
      },
      {
        "duration": 18,
        "start_time": "2021-06-26T10:50:28.397Z"
      },
      {
        "duration": 84,
        "start_time": "2021-06-26T10:50:36.086Z"
      },
      {
        "duration": 49,
        "start_time": "2021-06-26T10:50:36.172Z"
      },
      {
        "duration": 42,
        "start_time": "2021-06-26T10:50:36.223Z"
      },
      {
        "duration": 18,
        "start_time": "2021-06-26T10:53:32.428Z"
      },
      {
        "duration": 18,
        "start_time": "2021-06-26T10:55:10.189Z"
      },
      {
        "duration": 30,
        "start_time": "2021-06-26T11:00:20.907Z"
      },
      {
        "duration": 786,
        "start_time": "2021-06-26T11:12:53.157Z"
      },
      {
        "duration": 84,
        "start_time": "2021-06-26T11:13:05.677Z"
      },
      {
        "duration": 52,
        "start_time": "2021-06-26T11:13:05.764Z"
      },
      {
        "duration": 657,
        "start_time": "2021-06-26T11:13:05.819Z"
      },
      {
        "duration": 644,
        "start_time": "2021-06-26T11:13:36.324Z"
      },
      {
        "duration": 84,
        "start_time": "2021-06-26T11:13:46.227Z"
      },
      {
        "duration": 58,
        "start_time": "2021-06-26T11:13:46.314Z"
      },
      {
        "duration": 703,
        "start_time": "2021-06-26T11:13:46.376Z"
      },
      {
        "duration": 49,
        "start_time": "2021-06-26T11:37:50.075Z"
      },
      {
        "duration": 50,
        "start_time": "2021-06-26T11:38:42.479Z"
      },
      {
        "duration": 47,
        "start_time": "2021-06-26T11:38:55.825Z"
      },
      {
        "duration": 102,
        "start_time": "2021-06-26T11:39:08.074Z"
      },
      {
        "duration": 57,
        "start_time": "2021-06-26T11:39:08.179Z"
      },
      {
        "duration": 831,
        "start_time": "2021-06-26T11:39:08.239Z"
      },
      {
        "duration": 41,
        "start_time": "2021-06-26T11:39:55.261Z"
      },
      {
        "duration": 30,
        "start_time": "2021-06-26T11:41:43.221Z"
      },
      {
        "duration": 82,
        "start_time": "2021-06-26T11:41:58.455Z"
      },
      {
        "duration": 38,
        "start_time": "2021-06-26T11:41:58.540Z"
      },
      {
        "duration": 358,
        "start_time": "2021-06-26T11:41:58.581Z"
      },
      {
        "duration": 88,
        "start_time": "2021-06-26T11:42:19.095Z"
      },
      {
        "duration": 34,
        "start_time": "2021-06-26T11:42:19.186Z"
      },
      {
        "duration": 320,
        "start_time": "2021-06-26T11:42:19.223Z"
      },
      {
        "duration": 86,
        "start_time": "2021-06-26T11:56:07.675Z"
      },
      {
        "duration": 40,
        "start_time": "2021-06-26T11:56:07.764Z"
      },
      {
        "duration": 341,
        "start_time": "2021-06-26T11:56:07.807Z"
      },
      {
        "duration": 82,
        "start_time": "2021-06-26T12:03:15.660Z"
      },
      {
        "duration": 79,
        "start_time": "2021-06-26T12:03:15.745Z"
      },
      {
        "duration": 321,
        "start_time": "2021-06-26T12:03:15.827Z"
      },
      {
        "duration": 109,
        "start_time": "2021-06-26T12:05:58.666Z"
      },
      {
        "duration": 119,
        "start_time": "2021-06-26T12:06:25.359Z"
      },
      {
        "duration": 432,
        "start_time": "2021-06-26T12:07:09.864Z"
      },
      {
        "duration": 422,
        "start_time": "2021-06-26T12:07:24.005Z"
      },
      {
        "duration": 831,
        "start_time": "2021-06-26T12:08:02.551Z"
      },
      {
        "duration": 85,
        "start_time": "2021-06-26T12:19:25.078Z"
      },
      {
        "duration": 119,
        "start_time": "2021-06-26T12:19:25.167Z"
      },
      {
        "duration": 542,
        "start_time": "2021-06-26T12:19:24.746Z"
      },
      {
        "duration": 81,
        "start_time": "2021-06-26T12:19:43.723Z"
      },
      {
        "duration": 82,
        "start_time": "2021-06-26T12:21:55.978Z"
      },
      {
        "duration": 662,
        "start_time": "2021-06-26T12:23:37.433Z"
      },
      {
        "duration": 1286,
        "start_time": "2021-06-26T12:24:55.723Z"
      },
      {
        "duration": 84,
        "start_time": "2021-06-26T12:25:01.835Z"
      },
      {
        "duration": 1383,
        "start_time": "2021-06-26T12:25:01.921Z"
      },
      {
        "duration": 665,
        "start_time": "2021-06-26T12:25:02.642Z"
      },
      {
        "duration": 909,
        "start_time": "2021-06-26T12:32:39.042Z"
      },
      {
        "duration": 83,
        "start_time": "2021-06-26T12:33:08.032Z"
      },
      {
        "duration": 893,
        "start_time": "2021-06-26T12:33:08.198Z"
      },
      {
        "duration": 372,
        "start_time": "2021-06-26T12:33:09.093Z"
      },
      {
        "duration": 1216,
        "start_time": "2021-06-26T12:34:19.148Z"
      },
      {
        "duration": 787,
        "start_time": "2021-06-26T19:43:00.538Z"
      },
      {
        "duration": 74,
        "start_time": "2021-06-26T19:43:01.327Z"
      },
      {
        "duration": 388,
        "start_time": "2021-06-26T19:43:01.404Z"
      },
      {
        "duration": 1078,
        "start_time": "2021-06-26T19:53:37.176Z"
      },
      {
        "duration": 296,
        "start_time": "2021-06-26T19:56:06.118Z"
      },
      {
        "duration": 299,
        "start_time": "2021-06-26T20:02:54.793Z"
      },
      {
        "duration": 86,
        "start_time": "2021-06-26T20:03:00.333Z"
      },
      {
        "duration": 45,
        "start_time": "2021-06-26T20:03:00.422Z"
      },
      {
        "duration": 289,
        "start_time": "2021-06-26T20:03:00.470Z"
      },
      {
        "duration": 103,
        "start_time": "2021-06-26T20:10:52.154Z"
      },
      {
        "duration": 805,
        "start_time": "2021-06-26T20:11:06.854Z"
      },
      {
        "duration": 325,
        "start_time": "2021-06-26T20:11:51.167Z"
      },
      {
        "duration": 86,
        "start_time": "2021-06-26T20:12:09.167Z"
      },
      {
        "duration": 815,
        "start_time": "2021-06-26T20:12:09.256Z"
      },
      {
        "duration": 3357,
        "start_time": "2021-06-26T20:12:10.074Z"
      },
      {
        "duration": 81,
        "start_time": "2021-06-26T20:13:12.626Z"
      },
      {
        "duration": 836,
        "start_time": "2021-06-26T20:13:12.710Z"
      },
      {
        "duration": 3309,
        "start_time": "2021-06-26T20:13:13.549Z"
      },
      {
        "duration": 81,
        "start_time": "2021-06-26T20:17:58.065Z"
      },
      {
        "duration": 1123,
        "start_time": "2021-06-26T20:17:58.149Z"
      },
      {
        "duration": 1017,
        "start_time": "2021-06-26T20:17:58.257Z"
      },
      {
        "duration": 406,
        "start_time": "2021-06-26T20:20:13.943Z"
      },
      {
        "duration": 1176,
        "start_time": "2021-06-26T20:21:01.515Z"
      },
      {
        "duration": 1104,
        "start_time": "2021-06-26T20:21:12.752Z"
      },
      {
        "duration": 891,
        "start_time": "2021-06-27T12:19:28.427Z"
      },
      {
        "duration": 1514,
        "start_time": "2021-06-27T12:19:29.321Z"
      },
      {
        "duration": 269,
        "start_time": "2021-06-27T12:19:30.569Z"
      },
      {
        "duration": 1282,
        "start_time": "2021-06-27T12:20:12.056Z"
      },
      {
        "duration": 1440,
        "start_time": "2021-06-27T12:21:27.960Z"
      },
      {
        "duration": 1399,
        "start_time": "2021-06-27T12:29:31.088Z"
      },
      {
        "duration": 86,
        "start_time": "2021-06-27T12:29:55.104Z"
      },
      {
        "duration": 1332,
        "start_time": "2021-06-27T12:29:55.194Z"
      },
      {
        "duration": 292,
        "start_time": "2021-06-27T12:29:56.237Z"
      },
      {
        "duration": 84,
        "start_time": "2021-06-27T12:30:35.854Z"
      },
      {
        "duration": 1279,
        "start_time": "2021-06-27T12:30:35.941Z"
      },
      {
        "duration": 296,
        "start_time": "2021-06-27T12:30:36.926Z"
      },
      {
        "duration": 10076,
        "start_time": "2021-06-27T12:33:41.105Z"
      },
      {
        "duration": 86,
        "start_time": "2021-06-27T12:34:02.205Z"
      },
      {
        "duration": 9097,
        "start_time": "2021-06-27T12:34:02.293Z"
      },
      {
        "duration": 125,
        "start_time": "2021-06-27T12:34:11.268Z"
      },
      {
        "duration": 823,
        "start_time": "2021-06-27T15:12:10.720Z"
      },
      {
        "duration": 6960,
        "start_time": "2021-06-27T15:12:11.545Z"
      },
      {
        "duration": -14,
        "start_time": "2021-06-27T15:12:18.522Z"
      },
      {
        "duration": 42,
        "start_time": "2021-06-27T17:02:58.284Z"
      },
      {
        "duration": 7248,
        "start_time": "2021-06-27T17:03:42.304Z"
      },
      {
        "duration": 81,
        "start_time": "2021-06-27T17:03:51.558Z"
      },
      {
        "duration": 7033,
        "start_time": "2021-06-27T17:03:51.642Z"
      },
      {
        "duration": 685,
        "start_time": "2021-06-27T17:03:57.993Z"
      },
      {
        "duration": 77,
        "start_time": "2021-06-27T19:20:03.771Z"
      },
      {
        "duration": 361,
        "start_time": "2021-06-27T19:20:46.203Z"
      },
      {
        "duration": 94,
        "start_time": "2021-06-27T19:20:51.578Z"
      },
      {
        "duration": 57,
        "start_time": "2021-06-27T19:20:51.675Z"
      },
      {
        "duration": 282,
        "start_time": "2021-06-27T19:20:51.735Z"
      },
      {
        "duration": 340,
        "start_time": "2021-06-27T19:23:19.983Z"
      },
      {
        "duration": 293,
        "start_time": "2021-06-27T19:26:45.482Z"
      },
      {
        "duration": 49,
        "start_time": "2021-06-27T19:29:11.242Z"
      },
      {
        "duration": 797,
        "start_time": "2021-06-27T19:29:36.301Z"
      },
      {
        "duration": 681,
        "start_time": "2021-06-27T19:29:36.419Z"
      },
      {
        "duration": 679,
        "start_time": "2021-06-27T19:29:36.422Z"
      },
      {
        "duration": 96,
        "start_time": "2021-06-27T19:29:49.160Z"
      },
      {
        "duration": 7955,
        "start_time": "2021-06-27T19:29:49.260Z"
      },
      {
        "duration": 853,
        "start_time": "2021-06-27T19:29:56.365Z"
      },
      {
        "duration": 14,
        "start_time": "2021-06-27T19:53:11.158Z"
      },
      {
        "duration": 26,
        "start_time": "2021-06-27T19:53:37.591Z"
      },
      {
        "duration": 25,
        "start_time": "2021-06-27T19:53:56.285Z"
      },
      {
        "duration": 81,
        "start_time": "2021-06-27T20:00:17.700Z"
      },
      {
        "duration": 81,
        "start_time": "2021-06-27T20:00:22.879Z"
      },
      {
        "duration": 283,
        "start_time": "2021-06-27T20:00:31.322Z"
      },
      {
        "duration": 274,
        "start_time": "2021-06-27T20:00:38.636Z"
      },
      {
        "duration": 82,
        "start_time": "2021-06-27T20:01:08.761Z"
      },
      {
        "duration": 3,
        "start_time": "2021-06-27T20:01:08.846Z"
      },
      {
        "duration": 6,
        "start_time": "2021-06-27T20:01:08.852Z"
      },
      {
        "duration": 330,
        "start_time": "2021-06-27T20:01:08.861Z"
      },
      {
        "duration": 295,
        "start_time": "2021-06-27T20:08:09.032Z"
      },
      {
        "duration": 283,
        "start_time": "2021-06-27T20:08:26.677Z"
      },
      {
        "duration": 361,
        "start_time": "2021-06-27T20:08:32.231Z"
      },
      {
        "duration": 361,
        "start_time": "2021-06-27T20:09:48.771Z"
      },
      {
        "duration": 50,
        "start_time": "2021-06-27T20:09:52.787Z"
      },
      {
        "duration": 69,
        "start_time": "2021-06-27T20:10:04.171Z"
      },
      {
        "duration": 61,
        "start_time": "2021-06-27T20:11:09.263Z"
      },
      {
        "duration": 68,
        "start_time": "2021-06-27T20:12:55.083Z"
      },
      {
        "duration": 84,
        "start_time": "2021-06-27T20:13:12.450Z"
      },
      {
        "duration": 85,
        "start_time": "2021-06-27T20:15:29.870Z"
      },
      {
        "duration": 75,
        "start_time": "2021-06-27T20:15:36.886Z"
      },
      {
        "duration": 87,
        "start_time": "2021-06-27T20:15:46.769Z"
      },
      {
        "duration": 4,
        "start_time": "2021-06-27T20:15:46.860Z"
      },
      {
        "duration": 10,
        "start_time": "2021-06-27T20:15:46.867Z"
      },
      {
        "duration": 91,
        "start_time": "2021-06-27T20:15:46.880Z"
      },
      {
        "duration": 75,
        "start_time": "2021-06-27T20:16:10.399Z"
      },
      {
        "duration": 60,
        "start_time": "2021-06-27T20:16:42.876Z"
      },
      {
        "duration": 87,
        "start_time": "2021-06-27T20:16:51.193Z"
      },
      {
        "duration": 4,
        "start_time": "2021-06-27T20:16:51.283Z"
      },
      {
        "duration": 13,
        "start_time": "2021-06-27T20:16:51.289Z"
      },
      {
        "duration": 68,
        "start_time": "2021-06-27T20:16:51.304Z"
      },
      {
        "duration": 261,
        "start_time": "2021-06-27T20:34:00.983Z"
      },
      {
        "duration": 272,
        "start_time": "2021-06-27T20:34:29.322Z"
      },
      {
        "duration": 10,
        "start_time": "2021-06-27T20:35:12.356Z"
      },
      {
        "duration": 25,
        "start_time": "2021-06-27T20:35:50.366Z"
      },
      {
        "duration": 18,
        "start_time": "2021-06-27T20:35:57.549Z"
      },
      {
        "duration": 26,
        "start_time": "2021-06-27T20:36:18.684Z"
      },
      {
        "duration": 25,
        "start_time": "2021-06-27T20:36:29.748Z"
      },
      {
        "duration": 35,
        "start_time": "2021-06-27T20:36:32.795Z"
      },
      {
        "duration": 89,
        "start_time": "2021-06-27T20:36:36.860Z"
      },
      {
        "duration": 3,
        "start_time": "2021-06-27T20:36:36.951Z"
      },
      {
        "duration": 9,
        "start_time": "2021-06-27T20:36:36.957Z"
      },
      {
        "duration": 86,
        "start_time": "2021-06-27T20:36:36.969Z"
      },
      {
        "duration": 23,
        "start_time": "2021-06-27T20:36:37.058Z"
      },
      {
        "duration": 33,
        "start_time": "2021-06-27T20:37:26.171Z"
      },
      {
        "duration": 48,
        "start_time": "2021-06-27T20:37:50.197Z"
      },
      {
        "duration": 43,
        "start_time": "2021-06-27T20:37:58.337Z"
      },
      {
        "duration": 49,
        "start_time": "2021-06-27T20:38:01.558Z"
      },
      {
        "duration": 56,
        "start_time": "2021-06-27T20:38:11.543Z"
      },
      {
        "duration": 61,
        "start_time": "2021-06-27T20:39:11.568Z"
      },
      {
        "duration": 65,
        "start_time": "2021-06-27T20:39:34.386Z"
      },
      {
        "duration": 56,
        "start_time": "2021-06-27T20:40:13.354Z"
      },
      {
        "duration": 61,
        "start_time": "2021-06-27T20:41:01.879Z"
      },
      {
        "duration": 103,
        "start_time": "2021-06-27T20:42:43.581Z"
      },
      {
        "duration": 81,
        "start_time": "2021-06-27T20:43:03.468Z"
      },
      {
        "duration": 59,
        "start_time": "2021-06-27T20:43:22.569Z"
      },
      {
        "duration": 69,
        "start_time": "2021-06-27T20:43:26.667Z"
      },
      {
        "duration": 59,
        "start_time": "2021-06-27T20:43:36.979Z"
      },
      {
        "duration": 394,
        "start_time": "2021-06-27T20:46:16.994Z"
      },
      {
        "duration": 325,
        "start_time": "2021-06-27T20:46:25.854Z"
      },
      {
        "duration": 55,
        "start_time": "2021-06-27T20:47:07.104Z"
      },
      {
        "duration": 359,
        "start_time": "2021-06-27T20:47:53.139Z"
      },
      {
        "duration": 364,
        "start_time": "2021-06-27T20:49:29.408Z"
      },
      {
        "duration": 88,
        "start_time": "2021-06-27T20:50:00.761Z"
      },
      {
        "duration": 5,
        "start_time": "2021-06-27T20:50:00.852Z"
      },
      {
        "duration": 28,
        "start_time": "2021-06-27T20:50:00.861Z"
      },
      {
        "duration": 84,
        "start_time": "2021-06-27T20:50:00.892Z"
      },
      {
        "duration": 341,
        "start_time": "2021-06-27T20:50:00.980Z"
      },
      {
        "duration": 967,
        "start_time": "2021-06-27T20:50:53.219Z"
      },
      {
        "duration": 983,
        "start_time": "2021-06-27T20:51:04.395Z"
      },
      {
        "duration": 658,
        "start_time": "2021-06-27T20:52:50.882Z"
      },
      {
        "duration": 387,
        "start_time": "2021-06-28T11:47:51.592Z"
      },
      {
        "duration": 819,
        "start_time": "2021-06-28T11:48:35.507Z"
      },
      {
        "duration": 4,
        "start_time": "2021-06-28T11:48:36.328Z"
      },
      {
        "duration": 7,
        "start_time": "2021-06-28T11:48:36.335Z"
      },
      {
        "duration": 82,
        "start_time": "2021-06-28T11:48:36.344Z"
      },
      {
        "duration": 4172,
        "start_time": "2021-06-28T11:48:36.429Z"
      },
      {
        "duration": 299,
        "start_time": "2021-06-28T11:49:14.961Z"
      },
      {
        "duration": 95,
        "start_time": "2021-06-28T11:49:29.410Z"
      },
      {
        "duration": 3749,
        "start_time": "2021-06-28T11:49:41.638Z"
      },
      {
        "duration": 85,
        "start_time": "2021-06-28T11:55:29.322Z"
      },
      {
        "duration": 3,
        "start_time": "2021-06-28T11:55:29.409Z"
      },
      {
        "duration": 14,
        "start_time": "2021-06-28T11:55:29.415Z"
      },
      {
        "duration": 65,
        "start_time": "2021-06-28T11:55:29.494Z"
      },
      {
        "duration": 59217,
        "start_time": "2021-06-28T11:55:29.561Z"
      },
      {
        "duration": 96,
        "start_time": "2021-06-28T11:56:33.216Z"
      },
      {
        "duration": 4447,
        "start_time": "2021-06-28T11:56:44.372Z"
      },
      {
        "duration": 110,
        "start_time": "2021-06-28T12:04:54.308Z"
      },
      {
        "duration": 4598,
        "start_time": "2021-06-28T12:05:02.068Z"
      },
      {
        "duration": 4234,
        "start_time": "2021-06-28T12:06:28.308Z"
      },
      {
        "duration": 806,
        "start_time": "2021-06-28T12:32:26.924Z"
      },
      {
        "duration": 286,
        "start_time": "2021-06-28T12:33:21.650Z"
      },
      {
        "duration": 328,
        "start_time": "2021-06-28T12:33:40.524Z"
      },
      {
        "duration": 433,
        "start_time": "2021-06-28T12:34:58.226Z"
      },
      {
        "duration": 1046,
        "start_time": "2021-06-28T12:35:06.836Z"
      },
      {
        "duration": 92,
        "start_time": "2021-06-28T12:39:32.073Z"
      },
      {
        "duration": 8195,
        "start_time": "2021-06-28T12:39:32.167Z"
      },
      {
        "duration": 557,
        "start_time": "2021-06-28T12:39:39.807Z"
      },
      {
        "duration": 554,
        "start_time": "2021-06-28T12:39:39.811Z"
      },
      {
        "duration": 553,
        "start_time": "2021-06-28T12:39:39.813Z"
      },
      {
        "duration": 553,
        "start_time": "2021-06-28T12:39:39.815Z"
      },
      {
        "duration": 101,
        "start_time": "2021-06-28T14:41:16.098Z"
      },
      {
        "duration": 8521,
        "start_time": "2021-06-28T14:41:16.201Z"
      },
      {
        "duration": 614,
        "start_time": "2021-06-28T14:41:24.110Z"
      },
      {
        "duration": 613,
        "start_time": "2021-06-28T14:41:24.113Z"
      },
      {
        "duration": 613,
        "start_time": "2021-06-28T14:41:24.114Z"
      },
      {
        "duration": 613,
        "start_time": "2021-06-28T14:41:24.121Z"
      },
      {
        "duration": 93,
        "start_time": "2021-06-28T14:41:33.508Z"
      },
      {
        "duration": 10640,
        "start_time": "2021-06-28T14:41:33.604Z"
      },
      {
        "duration": 810,
        "start_time": "2021-06-28T14:41:43.437Z"
      },
      {
        "duration": 809,
        "start_time": "2021-06-28T14:41:43.440Z"
      },
      {
        "duration": 808,
        "start_time": "2021-06-28T14:41:43.442Z"
      },
      {
        "duration": 807,
        "start_time": "2021-06-28T14:41:43.444Z"
      },
      {
        "duration": 8,
        "start_time": "2021-06-28T14:41:50.400Z"
      },
      {
        "duration": 14,
        "start_time": "2021-06-28T14:47:21.874Z"
      },
      {
        "duration": 9,
        "start_time": "2021-06-28T14:47:38.144Z"
      },
      {
        "duration": 12,
        "start_time": "2021-06-28T14:50:05.519Z"
      },
      {
        "duration": 4938,
        "start_time": "2021-06-28T14:53:02.565Z"
      },
      {
        "duration": 4980,
        "start_time": "2021-06-28T14:53:25.967Z"
      },
      {
        "duration": 4726,
        "start_time": "2021-06-28T14:54:07.316Z"
      },
      {
        "duration": 19,
        "start_time": "2021-06-28T15:02:37.970Z"
      },
      {
        "duration": 17,
        "start_time": "2021-06-28T15:02:53.566Z"
      },
      {
        "duration": 27,
        "start_time": "2021-06-28T15:04:44.948Z"
      },
      {
        "duration": 795,
        "start_time": "2021-06-28T15:07:03.013Z"
      },
      {
        "duration": 329,
        "start_time": "2021-06-28T15:13:37.049Z"
      },
      {
        "duration": 18,
        "start_time": "2021-06-28T15:13:43.390Z"
      },
      {
        "duration": 19,
        "start_time": "2021-06-28T15:14:03.314Z"
      },
      {
        "duration": 120,
        "start_time": "2021-06-28T15:19:16.393Z"
      },
      {
        "duration": 19,
        "start_time": "2021-06-28T15:19:21.574Z"
      },
      {
        "duration": 19,
        "start_time": "2021-06-28T15:19:31.709Z"
      },
      {
        "duration": 23,
        "start_time": "2021-06-28T15:22:36.861Z"
      },
      {
        "duration": 27,
        "start_time": "2021-06-28T15:23:56.313Z"
      },
      {
        "duration": 10,
        "start_time": "2021-06-28T15:25:23.735Z"
      },
      {
        "duration": 1650,
        "start_time": "2021-06-28T15:25:56.858Z"
      },
      {
        "duration": 24,
        "start_time": "2021-06-28T15:28:39.193Z"
      },
      {
        "duration": 27,
        "start_time": "2021-06-28T15:29:17.291Z"
      },
      {
        "duration": 36,
        "start_time": "2021-06-28T15:29:53.673Z"
      },
      {
        "duration": 36,
        "start_time": "2021-06-28T15:31:59.285Z"
      },
      {
        "duration": 10,
        "start_time": "2021-06-28T15:36:45.960Z"
      },
      {
        "duration": 5,
        "start_time": "2021-06-28T15:36:59.155Z"
      },
      {
        "duration": 6,
        "start_time": "2021-06-28T15:37:09.923Z"
      },
      {
        "duration": 35,
        "start_time": "2021-06-28T15:41:01.427Z"
      },
      {
        "duration": 325,
        "start_time": "2021-06-30T12:41:12.842Z"
      },
      {
        "duration": 849,
        "start_time": "2021-06-30T12:41:18.699Z"
      },
      {
        "duration": 45,
        "start_time": "2021-06-30T12:41:19.552Z"
      },
      {
        "duration": 740,
        "start_time": "2021-06-30T12:41:19.600Z"
      },
      {
        "duration": -10864234,
        "start_time": "2021-06-30T15:42:24.577Z"
      },
      {
        "duration": -10864236,
        "start_time": "2021-06-30T15:42:24.581Z"
      },
      {
        "duration": -10864330,
        "start_time": "2021-06-30T15:42:24.676Z"
      },
      {
        "duration": -10864337,
        "start_time": "2021-06-30T15:42:24.685Z"
      },
      {
        "duration": -10864385,
        "start_time": "2021-06-30T15:42:24.734Z"
      },
      {
        "duration": -10864387,
        "start_time": "2021-06-30T15:42:24.738Z"
      },
      {
        "duration": 68,
        "start_time": "2021-06-30T12:41:37.411Z"
      },
      {
        "duration": 84,
        "start_time": "2021-06-30T12:43:47.250Z"
      },
      {
        "duration": 45,
        "start_time": "2021-06-30T12:43:47.338Z"
      },
      {
        "duration": 293,
        "start_time": "2021-06-30T12:43:47.387Z"
      },
      {
        "duration": -10864355,
        "start_time": "2021-06-30T15:44:52.039Z"
      },
      {
        "duration": -10864362,
        "start_time": "2021-06-30T15:44:52.048Z"
      },
      {
        "duration": -10864367,
        "start_time": "2021-06-30T15:44:52.054Z"
      },
      {
        "duration": -10864376,
        "start_time": "2021-06-30T15:44:52.065Z"
      },
      {
        "duration": -10864378,
        "start_time": "2021-06-30T15:44:52.068Z"
      },
      {
        "duration": -10864506,
        "start_time": "2021-06-30T15:44:52.198Z"
      },
      {
        "duration": 64,
        "start_time": "2021-06-30T12:44:11.813Z"
      },
      {
        "duration": 33,
        "start_time": "2021-06-30T12:47:50.437Z"
      },
      {
        "duration": 40,
        "start_time": "2021-06-30T12:48:14.073Z"
      },
      {
        "duration": 36,
        "start_time": "2021-06-30T12:48:23.766Z"
      },
      {
        "duration": 25,
        "start_time": "2021-06-30T12:52:59.046Z"
      },
      {
        "duration": 7,
        "start_time": "2021-06-30T12:53:56.547Z"
      },
      {
        "duration": 827,
        "start_time": "2021-06-30T20:27:20.244Z"
      },
      {
        "duration": 63,
        "start_time": "2021-06-30T20:36:27.942Z"
      },
      {
        "duration": 54,
        "start_time": "2021-06-30T20:36:43.447Z"
      },
      {
        "duration": 19,
        "start_time": "2021-06-30T20:37:20.168Z"
      },
      {
        "duration": 82,
        "start_time": "2021-06-30T20:37:38.404Z"
      },
      {
        "duration": 44,
        "start_time": "2021-06-30T20:37:38.488Z"
      },
      {
        "duration": 496,
        "start_time": "2021-06-30T20:37:38.535Z"
      },
      {
        "duration": -10863732,
        "start_time": "2021-06-30T23:38:42.767Z"
      },
      {
        "duration": -10863736,
        "start_time": "2021-06-30T23:38:42.773Z"
      },
      {
        "duration": -10863736,
        "start_time": "2021-06-30T23:38:42.776Z"
      },
      {
        "duration": -10863738,
        "start_time": "2021-06-30T23:38:42.780Z"
      },
      {
        "duration": -10863866,
        "start_time": "2021-06-30T23:38:42.910Z"
      },
      {
        "duration": -10863880,
        "start_time": "2021-06-30T23:38:42.926Z"
      },
      {
        "duration": 71,
        "start_time": "2021-06-30T20:38:18.451Z"
      },
      {
        "duration": 7,
        "start_time": "2021-06-30T20:40:30.509Z"
      },
      {
        "duration": 65,
        "start_time": "2021-06-30T20:47:46.955Z"
      },
      {
        "duration": 93,
        "start_time": "2021-06-30T20:48:02.613Z"
      },
      {
        "duration": 75,
        "start_time": "2021-06-30T20:48:02.709Z"
      },
      {
        "duration": 24,
        "start_time": "2021-06-30T20:48:02.787Z"
      },
      {
        "duration": 101,
        "start_time": "2021-06-30T20:48:02.815Z"
      },
      {
        "duration": 193,
        "start_time": "2021-06-30T20:48:02.919Z"
      },
      {
        "duration": -10863652,
        "start_time": "2021-06-30T23:49:06.766Z"
      },
      {
        "duration": -10863657,
        "start_time": "2021-06-30T23:49:06.773Z"
      },
      {
        "duration": -10863661,
        "start_time": "2021-06-30T23:49:06.778Z"
      },
      {
        "duration": -10863662,
        "start_time": "2021-06-30T23:49:06.781Z"
      },
      {
        "duration": 49,
        "start_time": "2021-06-30T20:48:34.100Z"
      },
      {
        "duration": 68,
        "start_time": "2021-06-30T20:48:43.460Z"
      },
      {
        "duration": 32,
        "start_time": "2021-06-30T20:50:06.700Z"
      },
      {
        "duration": 36,
        "start_time": "2021-06-30T20:50:39.613Z"
      },
      {
        "duration": 88,
        "start_time": "2021-06-30T20:52:08.433Z"
      },
      {
        "duration": 1510,
        "start_time": "2021-06-30T20:54:15.621Z"
      },
      {
        "duration": 42,
        "start_time": "2021-06-30T20:55:15.225Z"
      },
      {
        "duration": 54,
        "start_time": "2021-06-30T20:57:01.010Z"
      },
      {
        "duration": 73,
        "start_time": "2021-06-30T20:59:03.826Z"
      },
      {
        "duration": 83,
        "start_time": "2021-06-30T20:59:45.423Z"
      },
      {
        "duration": 69,
        "start_time": "2021-06-30T20:59:45.508Z"
      },
      {
        "duration": 5,
        "start_time": "2021-06-30T20:59:45.581Z"
      },
      {
        "duration": 64,
        "start_time": "2021-06-30T20:59:45.610Z"
      },
      {
        "duration": 140,
        "start_time": "2021-06-30T20:59:45.677Z"
      },
      {
        "duration": -10863987,
        "start_time": "2021-07-01T00:00:49.807Z"
      },
      {
        "duration": -10864005,
        "start_time": "2021-07-01T00:00:49.826Z"
      },
      {
        "duration": -10864010,
        "start_time": "2021-07-01T00:00:49.832Z"
      },
      {
        "duration": -10864013,
        "start_time": "2021-07-01T00:00:49.837Z"
      },
      {
        "duration": 60,
        "start_time": "2021-06-30T21:00:24.349Z"
      },
      {
        "duration": 61,
        "start_time": "2021-06-30T21:00:34.374Z"
      },
      {
        "duration": 118,
        "start_time": "2021-06-30T21:04:36.659Z"
      },
      {
        "duration": 84,
        "start_time": "2021-06-30T21:05:46.440Z"
      },
      {
        "duration": 60,
        "start_time": "2021-06-30T21:06:48.516Z"
      },
      {
        "duration": 84,
        "start_time": "2021-06-30T21:06:55.460Z"
      },
      {
        "duration": 91,
        "start_time": "2021-06-30T21:06:55.547Z"
      },
      {
        "duration": 5,
        "start_time": "2021-06-30T21:06:55.641Z"
      },
      {
        "duration": 73,
        "start_time": "2021-06-30T21:06:55.649Z"
      },
      {
        "duration": 133,
        "start_time": "2021-06-30T21:06:55.724Z"
      },
      {
        "duration": -10863643,
        "start_time": "2021-07-01T00:07:59.503Z"
      },
      {
        "duration": -10863653,
        "start_time": "2021-07-01T00:07:59.514Z"
      },
      {
        "duration": -10863655,
        "start_time": "2021-07-01T00:07:59.518Z"
      },
      {
        "duration": -10863657,
        "start_time": "2021-07-01T00:07:59.522Z"
      },
      {
        "duration": 55,
        "start_time": "2021-06-30T21:08:57.838Z"
      },
      {
        "duration": 80,
        "start_time": "2021-06-30T21:09:03.231Z"
      },
      {
        "duration": 74,
        "start_time": "2021-06-30T21:09:03.313Z"
      },
      {
        "duration": 23,
        "start_time": "2021-06-30T21:09:03.390Z"
      },
      {
        "duration": 84,
        "start_time": "2021-06-30T21:09:03.415Z"
      },
      {
        "duration": 135,
        "start_time": "2021-06-30T21:09:03.502Z"
      },
      {
        "duration": -10863594,
        "start_time": "2021-07-01T00:10:07.234Z"
      },
      {
        "duration": -10863602,
        "start_time": "2021-07-01T00:10:07.244Z"
      },
      {
        "duration": -10863620,
        "start_time": "2021-07-01T00:10:07.263Z"
      },
      {
        "duration": -10863749,
        "start_time": "2021-07-01T00:10:07.393Z"
      },
      {
        "duration": 153,
        "start_time": "2021-06-30T21:19:52.857Z"
      },
      {
        "duration": 72,
        "start_time": "2021-06-30T21:19:53.013Z"
      },
      {
        "duration": 26,
        "start_time": "2021-06-30T21:19:53.087Z"
      },
      {
        "duration": 74,
        "start_time": "2021-06-30T21:19:53.116Z"
      },
      {
        "duration": 21,
        "start_time": "2021-06-30T21:19:57.999Z"
      },
      {
        "duration": 86,
        "start_time": "2021-06-30T21:19:58.023Z"
      },
      {
        "duration": 39,
        "start_time": "2021-06-30T21:19:58.112Z"
      },
      {
        "duration": 6,
        "start_time": "2021-06-30T21:19:58.154Z"
      },
      {
        "duration": 4554,
        "start_time": "2021-06-30T21:24:54.644Z"
      },
      {
        "duration": 4568,
        "start_time": "2021-06-30T21:25:54.241Z"
      },
      {
        "duration": 127,
        "start_time": "2021-06-30T21:32:24.344Z"
      },
      {
        "duration": 125,
        "start_time": "2021-06-30T21:33:18.128Z"
      },
      {
        "duration": 87,
        "start_time": "2021-06-30T21:33:25.068Z"
      },
      {
        "duration": 92,
        "start_time": "2021-06-30T21:33:25.157Z"
      },
      {
        "duration": 6,
        "start_time": "2021-06-30T21:33:25.253Z"
      },
      {
        "duration": 140,
        "start_time": "2021-06-30T21:33:25.262Z"
      },
      {
        "duration": 4741,
        "start_time": "2021-06-30T21:33:25.409Z"
      },
      {
        "duration": 13,
        "start_time": "2021-06-30T21:33:30.153Z"
      },
      {
        "duration": 52,
        "start_time": "2021-06-30T21:33:30.169Z"
      },
      {
        "duration": 39,
        "start_time": "2021-06-30T21:33:30.225Z"
      },
      {
        "duration": 42,
        "start_time": "2021-06-30T21:33:30.268Z"
      },
      {
        "duration": 129,
        "start_time": "2021-06-30T21:35:16.437Z"
      },
      {
        "duration": 130,
        "start_time": "2021-06-30T21:35:29.647Z"
      },
      {
        "duration": 85,
        "start_time": "2021-06-30T21:35:39.060Z"
      },
      {
        "duration": 88,
        "start_time": "2021-06-30T21:35:39.147Z"
      },
      {
        "duration": 5,
        "start_time": "2021-06-30T21:35:39.238Z"
      },
      {
        "duration": 139,
        "start_time": "2021-06-30T21:35:39.246Z"
      },
      {
        "duration": 4638,
        "start_time": "2021-06-30T21:35:39.387Z"
      },
      {
        "duration": 12,
        "start_time": "2021-06-30T21:35:44.027Z"
      },
      {
        "duration": 29,
        "start_time": "2021-06-30T21:35:44.041Z"
      },
      {
        "duration": 61,
        "start_time": "2021-06-30T21:35:44.074Z"
      },
      {
        "duration": 6,
        "start_time": "2021-06-30T21:35:44.138Z"
      },
      {
        "duration": 132,
        "start_time": "2021-06-30T21:36:18.529Z"
      },
      {
        "duration": 84,
        "start_time": "2021-06-30T21:36:29.535Z"
      },
      {
        "duration": 70,
        "start_time": "2021-06-30T21:36:29.622Z"
      },
      {
        "duration": 6,
        "start_time": "2021-06-30T21:36:29.709Z"
      },
      {
        "duration": 155,
        "start_time": "2021-06-30T21:36:29.718Z"
      },
      {
        "duration": 4619,
        "start_time": "2021-06-30T21:36:29.875Z"
      },
      {
        "duration": 21,
        "start_time": "2021-06-30T21:36:34.497Z"
      },
      {
        "duration": 32,
        "start_time": "2021-06-30T21:36:34.520Z"
      },
      {
        "duration": 63,
        "start_time": "2021-06-30T21:36:34.555Z"
      },
      {
        "duration": 7,
        "start_time": "2021-06-30T21:36:34.621Z"
      },
      {
        "duration": 4525,
        "start_time": "2021-06-30T21:37:03.932Z"
      },
      {
        "duration": 4664,
        "start_time": "2021-06-30T21:38:20.922Z"
      },
      {
        "duration": 133,
        "start_time": "2021-06-30T21:47:42.549Z"
      },
      {
        "duration": 145,
        "start_time": "2021-06-30T21:47:54.926Z"
      },
      {
        "duration": 148,
        "start_time": "2021-06-30T21:48:35.551Z"
      },
      {
        "duration": 421,
        "start_time": "2021-06-30T21:48:40.018Z"
      },
      {
        "duration": 4614,
        "start_time": "2021-06-30T22:00:54.841Z"
      },
      {
        "duration": 149,
        "start_time": "2021-06-30T22:09:03.864Z"
      },
      {
        "duration": 638,
        "start_time": "2021-06-30T22:09:10.978Z"
      },
      {
        "duration": 136,
        "start_time": "2021-06-30T22:09:53.209Z"
      },
      {
        "duration": 358,
        "start_time": "2021-06-30T22:09:58.662Z"
      },
      {
        "duration": 1747,
        "start_time": "2021-06-30T22:11:34.310Z"
      },
      {
        "duration": 1789,
        "start_time": "2021-06-30T22:13:47.698Z"
      },
      {
        "duration": 1802,
        "start_time": "2021-06-30T22:15:28.741Z"
      },
      {
        "duration": 1685,
        "start_time": "2021-06-30T22:16:54.006Z"
      },
      {
        "duration": 6101,
        "start_time": "2021-06-30T22:18:04.156Z"
      },
      {
        "duration": -225,
        "start_time": "2021-06-30T22:24:17.036Z"
      },
      {
        "duration": 85,
        "start_time": "2021-06-30T22:24:32.251Z"
      },
      {
        "duration": 75,
        "start_time": "2021-06-30T22:24:32.339Z"
      },
      {
        "duration": 6,
        "start_time": "2021-06-30T22:24:32.417Z"
      },
      {
        "duration": 183,
        "start_time": "2021-06-30T22:24:32.425Z"
      },
      {
        "duration": 4580,
        "start_time": "2021-06-30T22:24:32.611Z"
      },
      {
        "duration": -156,
        "start_time": "2021-06-30T22:31:00.469Z"
      },
      {
        "duration": 85,
        "start_time": "2021-06-30T22:31:26.822Z"
      },
      {
        "duration": 72,
        "start_time": "2021-06-30T22:31:26.910Z"
      },
      {
        "duration": 25,
        "start_time": "2021-06-30T22:31:26.984Z"
      },
      {
        "duration": 137,
        "start_time": "2021-06-30T22:31:27.012Z"
      },
      {
        "duration": 4759,
        "start_time": "2021-06-30T22:31:27.152Z"
      },
      {
        "duration": 80,
        "start_time": "2021-06-30T22:32:19.156Z"
      },
      {
        "duration": 74,
        "start_time": "2021-06-30T22:32:19.164Z"
      },
      {
        "duration": 74,
        "start_time": "2021-06-30T22:32:19.166Z"
      },
      {
        "duration": 75,
        "start_time": "2021-06-30T22:32:19.167Z"
      },
      {
        "duration": 80,
        "start_time": "2021-06-30T22:33:29.204Z"
      },
      {
        "duration": 82,
        "start_time": "2021-06-30T22:34:47.229Z"
      },
      {
        "duration": 47399,
        "start_time": "2021-06-30T22:34:51.553Z"
      },
      {
        "duration": 83,
        "start_time": "2021-06-30T22:36:58.285Z"
      },
      {
        "duration": 82,
        "start_time": "2021-06-30T22:36:58.288Z"
      },
      {
        "duration": 83,
        "start_time": "2021-06-30T22:36:58.290Z"
      },
      {
        "duration": -188,
        "start_time": "2021-06-30T22:36:58.563Z"
      },
      {
        "duration": -189,
        "start_time": "2021-06-30T22:36:58.567Z"
      },
      {
        "duration": -223,
        "start_time": "2021-06-30T22:36:58.605Z"
      },
      {
        "duration": -342,
        "start_time": "2021-06-30T22:36:58.727Z"
      },
      {
        "duration": -351,
        "start_time": "2021-06-30T22:36:58.738Z"
      },
      {
        "duration": -352,
        "start_time": "2021-06-30T22:36:58.741Z"
      },
      {
        "duration": 46848,
        "start_time": "2021-06-30T22:38:12.510Z"
      },
      {
        "duration": 86,
        "start_time": "2021-06-30T22:40:14.099Z"
      },
      {
        "duration": 817,
        "start_time": "2021-06-30T22:42:50.099Z"
      },
      {
        "duration": 394,
        "start_time": "2021-06-30T22:43:47.104Z"
      },
      {
        "duration": 868,
        "start_time": "2021-06-30T22:44:01.918Z"
      },
      {
        "duration": 75,
        "start_time": "2021-06-30T22:44:02.790Z"
      },
      {
        "duration": 7,
        "start_time": "2021-06-30T22:44:02.870Z"
      },
      {
        "duration": 162,
        "start_time": "2021-06-30T22:44:02.880Z"
      },
      {
        "duration": 4585,
        "start_time": "2021-06-30T22:44:03.044Z"
      },
      {
        "duration": -236,
        "start_time": "2021-06-30T22:44:54.530Z"
      },
      {
        "duration": -237,
        "start_time": "2021-06-30T22:44:54.532Z"
      },
      {
        "duration": -236,
        "start_time": "2021-06-30T22:44:54.533Z"
      },
      {
        "duration": -237,
        "start_time": "2021-06-30T22:44:54.535Z"
      },
      {
        "duration": 34,
        "start_time": "2021-06-30T22:52:09.615Z"
      },
      {
        "duration": 37,
        "start_time": "2021-06-30T22:52:24.309Z"
      },
      {
        "duration": 6,
        "start_time": "2021-06-30T22:53:08.545Z"
      },
      {
        "duration": 2206,
        "start_time": "2021-06-30T22:54:28.356Z"
      },
      {
        "duration": 410,
        "start_time": "2021-06-30T22:56:45.590Z"
      },
      {
        "duration": 40,
        "start_time": "2021-06-30T22:56:52.536Z"
      },
      {
        "duration": 394,
        "start_time": "2021-06-30T22:57:53.587Z"
      },
      {
        "duration": 15,
        "start_time": "2021-06-30T22:58:01.057Z"
      },
      {
        "duration": 14,
        "start_time": "2021-06-30T22:58:52.333Z"
      },
      {
        "duration": 13,
        "start_time": "2021-06-30T22:58:59.984Z"
      },
      {
        "duration": 13,
        "start_time": "2021-06-30T22:59:05.373Z"
      },
      {
        "duration": 84,
        "start_time": "2021-06-30T22:59:22.330Z"
      },
      {
        "duration": 72,
        "start_time": "2021-06-30T22:59:22.416Z"
      },
      {
        "duration": 23,
        "start_time": "2021-06-30T22:59:22.491Z"
      },
      {
        "duration": 148,
        "start_time": "2021-06-30T22:59:22.517Z"
      },
      {
        "duration": 4827,
        "start_time": "2021-06-30T22:59:22.668Z"
      },
      {
        "duration": 930,
        "start_time": "2021-06-30T23:00:18.085Z"
      },
      {
        "duration": 72,
        "start_time": "2021-06-30T23:00:19.017Z"
      },
      {
        "duration": 20,
        "start_time": "2021-06-30T23:00:19.093Z"
      },
      {
        "duration": 154,
        "start_time": "2021-06-30T23:00:19.116Z"
      },
      {
        "duration": 4579,
        "start_time": "2021-06-30T23:00:19.273Z"
      },
      {
        "duration": 4,
        "start_time": "2021-06-30T23:00:23.855Z"
      },
      {
        "duration": 71,
        "start_time": "2021-06-30T23:00:23.861Z"
      },
      {
        "duration": 91,
        "start_time": "2021-06-30T23:00:23.935Z"
      },
      {
        "duration": 8,
        "start_time": "2021-06-30T23:00:25.567Z"
      },
      {
        "duration": 12,
        "start_time": "2021-06-30T23:00:39.268Z"
      },
      {
        "duration": 10,
        "start_time": "2021-06-30T23:01:09.616Z"
      },
      {
        "duration": 2167,
        "start_time": "2021-06-30T23:01:28.201Z"
      },
      {
        "duration": 14,
        "start_time": "2021-06-30T23:02:10.615Z"
      },
      {
        "duration": 905,
        "start_time": "2021-07-01T11:14:21.483Z"
      },
      {
        "duration": 82,
        "start_time": "2021-07-01T11:14:22.391Z"
      },
      {
        "duration": 5,
        "start_time": "2021-07-01T11:14:22.476Z"
      },
      {
        "duration": 143,
        "start_time": "2021-07-01T11:14:22.484Z"
      },
      {
        "duration": 4859,
        "start_time": "2021-07-01T11:14:22.629Z"
      },
      {
        "duration": 45470,
        "start_time": "2021-07-01T11:14:27.491Z"
      },
      {
        "duration": 2263,
        "start_time": "2021-07-01T11:15:10.701Z"
      },
      {
        "duration": 2262,
        "start_time": "2021-07-01T11:15:10.704Z"
      },
      {
        "duration": 2262,
        "start_time": "2021-07-01T11:15:10.707Z"
      },
      {
        "duration": 2257,
        "start_time": "2021-07-01T11:15:10.714Z"
      },
      {
        "duration": 83,
        "start_time": "2021-07-01T11:43:14.082Z"
      },
      {
        "duration": 44,
        "start_time": "2021-07-01T11:43:33.935Z"
      },
      {
        "duration": 10,
        "start_time": "2021-07-01T11:45:21.735Z"
      },
      {
        "duration": 11,
        "start_time": "2021-07-01T11:45:29.976Z"
      },
      {
        "duration": 84,
        "start_time": "2021-07-01T11:51:23.692Z"
      },
      {
        "duration": 72,
        "start_time": "2021-07-01T11:51:23.779Z"
      },
      {
        "duration": 6,
        "start_time": "2021-07-01T11:51:23.863Z"
      },
      {
        "duration": 146,
        "start_time": "2021-07-01T11:51:23.872Z"
      },
      {
        "duration": 5125,
        "start_time": "2021-07-01T11:51:24.020Z"
      },
      {
        "duration": 46944,
        "start_time": "2021-07-01T11:51:29.148Z"
      },
      {
        "duration": 2220,
        "start_time": "2021-07-01T11:52:13.875Z"
      },
      {
        "duration": 2218,
        "start_time": "2021-07-01T11:52:13.879Z"
      },
      {
        "duration": 2215,
        "start_time": "2021-07-01T11:52:13.883Z"
      },
      {
        "duration": 2212,
        "start_time": "2021-07-01T11:52:13.887Z"
      },
      {
        "duration": 101,
        "start_time": "2021-07-01T11:54:27.592Z"
      },
      {
        "duration": 91,
        "start_time": "2021-07-01T11:54:27.696Z"
      },
      {
        "duration": 6,
        "start_time": "2021-07-01T11:54:27.790Z"
      },
      {
        "duration": 181,
        "start_time": "2021-07-01T11:54:27.799Z"
      },
      {
        "duration": 5831,
        "start_time": "2021-07-01T11:54:27.982Z"
      },
      {
        "duration": 71126,
        "start_time": "2021-07-01T11:54:33.817Z"
      },
      {
        "duration": 2271,
        "start_time": "2021-07-01T11:55:42.675Z"
      },
      {
        "duration": 2270,
        "start_time": "2021-07-01T11:55:42.679Z"
      },
      {
        "duration": 2265,
        "start_time": "2021-07-01T11:55:42.686Z"
      },
      {
        "duration": 2264,
        "start_time": "2021-07-01T11:55:42.689Z"
      },
      {
        "duration": 28,
        "start_time": "2021-07-01T11:56:16.275Z"
      }
    ],
    "kernelspec": {
      "display_name": "Python 3",
      "language": "python",
      "name": "python3"
    },
    "language_info": {
      "codemirror_mode": {
        "name": "ipython",
        "version": 3
      },
      "file_extension": ".py",
      "mimetype": "text/x-python",
      "name": "python",
      "nbconvert_exporter": "python",
      "pygments_lexer": "ipython3",
      "version": "3.7.8"
    },
    "toc": {
      "base_numbering": 1,
      "nav_menu": {},
      "number_sections": true,
      "sideBar": true,
      "skip_h1_title": true,
      "title_cell": "Table of Contents",
      "title_sidebar": "Contents",
      "toc_cell": false,
      "toc_position": {},
      "toc_section_display": true,
      "toc_window_display": true
    },
    "colab": {
      "name": "Sprint 1_notebook_with_comments 1.ipynb",
      "provenance": [],
      "collapsed_sections": []
    }
  },
  "cells": [
    {
      "cell_type": "markdown",
      "metadata": {
        "id": "XjD5-BGiL1aX"
      },
      "source": [
        "<div style=\"border-radius: 15px; border: 3px solid indigo; padding: 15px;\">\n",
        "<b> Комментарий ревьюера</b>\n",
        "    \n",
        "Привет! Меня зовут Светлана Носова, я буду проверять твой проект. Если не против, давай общаться на «ты». Если тебе такой стиль общения не нравится, напиши об этом, будем на «вы». \n",
        "\n",
        "Сразу хочу обратить внимание на цветовую разметку.\n",
        "Зеленым отмечены отличные решения и идеи, которые можно и нужно использовать в будущем. Желтым отмечено то, что можно или нужно оптимизировать, в зависимости от контекста. Красным обозначены пропущенные пункты задания и  ошибки, которые обязательно надо будет исправить, чтобы результаты были верные.\n",
        "    \n",
        "**Ответы на мои комментарии или доработки по моим рекомендациям попрошу выделить каким-нибудь цветом, кроме перечисленных.**\n",
        "Также я попрошу тебя **не менять, не передвигать и не удалять мои комментарии**, чтобы при последующей проверке мне было проще ориентироваться.\n",
        "    \n",
        "Кроме того, комментарии у меня обозначены как заголовки. Это сбивает содержание, но при последующей проверке я могу снять с них заголовок, если тебе так будет удобнее. При этом они удобны, поскольку ты сразу можешь перейти к ним.   \n",
        "        \n",
        "<hr>\n",
        "    \n",
        "**По проекту:** в целом, работа выполнена хорошо, все оформлено понятно и аккуратно, есть анализ и промежуточные выводы. У меня остались некоторые вопросы, я все написала в комментариях. Там же я оставила и рекомендации по улучшению проекта. Буду ждать работу на повторное ревью.\n",
        "    \n",
        "<hr style=\"border-top: 3px solid purple; \"></hr>\n",
        "Комментарии можешь оставлять с помощью такого кода в Markdown ячейке:\n",
        "    \n",
        "    \n",
        "    <div class=\"alert alert-info\">\n",
        "    <h2> Комментарий студента</h2>\n",
        "\n",
        "    Тут текст.\n",
        "    </div>\n",
        "    \n",
        "    \n",
        "    <font color='red'> Этот код позволяет менять цвет текста. </font>     \n",
        "\n",
        "<font color='red'> Выглядит это так. </font> \n",
        "  \n",
        "    \n",
        "Если не хочешь, чтобы твои комментарии отображались в содержании как заголовки, замени **h2** на **b** или добавь `<a class=\"tocSkip\">` после фразы *Комментарий студента*.\n",
        "</div>"
      ]
    },
    {
      "cell_type": "markdown",
      "metadata": {
        "id": "fXoduJxRL1aZ"
      },
      "source": [
        "# Исследование надёжности заёмщиков\n",
        "\n",
        "Заказчик — кредитный отдел банка. Нужно разобраться, влияет ли семейное положение и количество детей клиента на факт погашения кредита в срок. Входные данные от банка — статистика о платёжеспособности клиентов.\n",
        "\n",
        "Результаты исследования будут учтены при построении модели **кредитного скоринга** — специальной системы, которая оценивает способность потенциального заёмщика вернуть кредит банку."
      ]
    },
    {
      "cell_type": "markdown",
      "metadata": {
        "id": "I7-7NuzUL1aa"
      },
      "source": [
        "<div class=\"alert alert-success\" style=\"border-radius: 15px; box-shadow: 4px 4px 4px; border: 1px solid \">\n",
        "<h2> Комментарий ревьюера</h2>\n",
        "    \n",
        "Правильно делаешь, что добавляешь краткое описание задачи. Это поможет быстро вспомнить, о чем проект, если ты к нему вернешься спустя какое-то время.\n",
        "</div>"
      ]
    },
    {
      "cell_type": "code",
      "metadata": {
        "id": "iatA-x1cD-Sj"
      },
      "source": [
        "from matplotlib import pyplot as plt"
      ],
      "execution_count": 86,
      "outputs": []
    },
    {
      "cell_type": "markdown",
      "metadata": {
        "id": "WLsz8B5WL1ab"
      },
      "source": [
        "## Шаг 1. Откройте файл с данными и изучите общую информацию"
      ]
    },
    {
      "cell_type": "code",
      "metadata": {
        "trusted": true,
        "colab": {
          "base_uri": "https://localhost:8080/"
        },
        "id": "Tmy_wE6jL1ac",
        "outputId": "14a467ca-14b0-4aa6-95a6-666c6c9cc687"
      },
      "source": [
        "import pandas as pd\n",
        "data = pd.read_csv('/content/drive/MyDrive/Inga/Data/data_project_1.csv')\n",
        "print(data.head(20))\n",
        "data.info()"
      ],
      "execution_count": 21,
      "outputs": [
        {
          "output_type": "stream",
          "text": [
            "    Unnamed: 0  children  ...   total_income                                 purpose\n",
            "0            0         1  ...  253875.639453                           покупка жилья\n",
            "1            1         1  ...  112080.014102                 приобретение автомобиля\n",
            "2            2         0  ...  145885.952297                           покупка жилья\n",
            "3            3         3  ...  267628.550329              дополнительное образование\n",
            "4            4         0  ...  158616.077870                         сыграть свадьбу\n",
            "5            5         0  ...  255763.565419                           покупка жилья\n",
            "6            6         0  ...  240525.971920                       операции с жильем\n",
            "7            7         0  ...  135823.934197                             образование\n",
            "8            8         2  ...   95856.832424                   на проведение свадьбы\n",
            "9            9         0  ...  144425.938277                 покупка жилья для семьи\n",
            "10          10         2  ...  113943.491460                    покупка недвижимости\n",
            "11          11         0  ...   77069.234271       покупка коммерческой недвижимости\n",
            "12          12         0  ...            NaN                         сыграть свадьбу\n",
            "13          13         0  ...  130458.228857                 приобретение автомобиля\n",
            "14          14         0  ...  165127.911772              покупка жилой недвижимости\n",
            "15          15         1  ...  116820.904450  строительство собственной недвижимости\n",
            "16          16         0  ...  289202.704229                            недвижимость\n",
            "17          17         0  ...   90410.586745              строительство недвижимости\n",
            "18          18         0  ...   56823.777243      на покупку подержанного автомобиля\n",
            "19          19         0  ...  242831.107982            на покупку своего автомобиля\n",
            "\n",
            "[20 rows x 13 columns]\n",
            "<class 'pandas.core.frame.DataFrame'>\n",
            "RangeIndex: 21525 entries, 0 to 21524\n",
            "Data columns (total 13 columns):\n",
            " #   Column            Non-Null Count  Dtype  \n",
            "---  ------            --------------  -----  \n",
            " 0   Unnamed: 0        21525 non-null  int64  \n",
            " 1   children          21525 non-null  int64  \n",
            " 2   days_employed     19351 non-null  float64\n",
            " 3   dob_years         21525 non-null  int64  \n",
            " 4   education         21525 non-null  object \n",
            " 5   education_id      21525 non-null  int64  \n",
            " 6   family_status     21525 non-null  object \n",
            " 7   family_status_id  21525 non-null  int64  \n",
            " 8   gender            21525 non-null  object \n",
            " 9   income_type       21525 non-null  object \n",
            " 10  debt              21525 non-null  int64  \n",
            " 11  total_income      19351 non-null  float64\n",
            " 12  purpose           21525 non-null  object \n",
            "dtypes: float64(2), int64(6), object(5)\n",
            "memory usage: 2.1+ MB\n"
          ],
          "name": "stdout"
        }
      ]
    },
    {
      "cell_type": "code",
      "metadata": {
        "colab": {
          "base_uri": "https://localhost:8080/"
        },
        "id": "rumsfkfuNACB",
        "outputId": "7608e259-2f26-4d96-b9f9-0ceb2f088890"
      },
      "source": [
        "from google.colab import drive\n",
        "drive.mount('/content/drive')"
      ],
      "execution_count": 22,
      "outputs": [
        {
          "output_type": "stream",
          "text": [
            "Drive already mounted at /content/drive; to attempt to forcibly remount, call drive.mount(\"/content/drive\", force_remount=True).\n"
          ],
          "name": "stdout"
        }
      ]
    },
    {
      "cell_type": "markdown",
      "metadata": {
        "id": "MEVsI47PL1ad"
      },
      "source": [
        "**Вывод**"
      ]
    },
    {
      "cell_type": "markdown",
      "metadata": {
        "id": "PllZHkV2L1ad"
      },
      "source": [
        "Импортировали библиотеку pandas. Методом .read_csv() загрузили файл и сохранили в переменную data.\n",
        "При просмотре исходной таблицы видны отрицательные значения в продолжительности рабочего стажа (в days_employed), в столбце education есть значения, которые начинаются с заглавных букв (Среднее), total_income приведен до шестого знака после запятой. Заметны большие значения в days_employed и total_income. При просмотре информации, полученной методом .info(), замечены пропущенные значения в столбцах days_employed, total_income.   "
      ]
    },
    {
      "cell_type": "markdown",
      "metadata": {
        "id": "_G-5TuOdL1ae"
      },
      "source": [
        "<div class=\"alert alert-success\" style=\"border-radius: 15px; box-shadow: 4px 4px 4px; border: 1px solid \">\n",
        "<h2> Комментарий ревьюера</h2>\n",
        "    \n",
        "Хорошая вводная часть.\n",
        "</div>"
      ]
    },
    {
      "cell_type": "markdown",
      "metadata": {
        "id": "WuTHnafyL1ae"
      },
      "source": [
        "## Шаг 2. Предобработка данных"
      ]
    },
    {
      "cell_type": "markdown",
      "metadata": {
        "id": "fjobJMpML1af"
      },
      "source": [
        "### Обработка пропусков"
      ]
    },
    {
      "cell_type": "code",
      "metadata": {
        "trusted": true,
        "colab": {
          "base_uri": "https://localhost:8080/"
        },
        "id": "rEpxF8EyL1af",
        "outputId": "8e71d623-cc1e-4593-e872-7ed547b96cc8"
      },
      "source": [
        "print(data.isnull().sum())\n",
        "missing_data = data[data.isnull().any(axis=1)]\n",
        "print(missing_data)\n",
        "\n",
        "print(data['income_type'].unique())\n",
        "print(missing_data['income_type'].unique())\n",
        "\n",
        "data['days_employed'] = data['days_employed'].abs()\n",
        "\n"
      ],
      "execution_count": 23,
      "outputs": [
        {
          "output_type": "stream",
          "text": [
            "Unnamed: 0             0\n",
            "children               0\n",
            "days_employed       2174\n",
            "dob_years              0\n",
            "education              0\n",
            "education_id           0\n",
            "family_status          0\n",
            "family_status_id       0\n",
            "gender                 0\n",
            "income_type            0\n",
            "debt                   0\n",
            "total_income        2174\n",
            "purpose                0\n",
            "dtype: int64\n",
            "       Unnamed: 0  children  ...  total_income                           purpose\n",
            "12             12         0  ...           NaN                   сыграть свадьбу\n",
            "26             26         0  ...           NaN                       образование\n",
            "29             29         0  ...           NaN  строительство жилой недвижимости\n",
            "41             41         0  ...           NaN  сделка с подержанным автомобилем\n",
            "55             55         0  ...           NaN                   сыграть свадьбу\n",
            "...           ...       ...  ...           ...                               ...\n",
            "21489       21489         2  ...           NaN              сделка с автомобилем\n",
            "21495       21495         1  ...           NaN                           свадьба\n",
            "21497       21497         0  ...           NaN        строительство недвижимости\n",
            "21502       21502         1  ...           NaN  строительство жилой недвижимости\n",
            "21510       21510         2  ...           NaN           приобретение автомобиля\n",
            "\n",
            "[2174 rows x 13 columns]\n",
            "['сотрудник' 'пенсионер' 'компаньон' 'госслужащий' 'безработный'\n",
            " 'предприниматель' 'студент' 'в декрете']\n",
            "['пенсионер' 'госслужащий' 'компаньон' 'сотрудник' 'предприниматель']\n"
          ],
          "name": "stdout"
        }
      ]
    },
    {
      "cell_type": "code",
      "metadata": {
        "colab": {
          "base_uri": "https://localhost:8080/"
        },
        "id": "NASIvfZ9xDb9",
        "outputId": "53e4c4b1-efa6-4573-ca82-04a72350dca3"
      },
      "source": [
        "#data.loc[:,('total_income')] = data.groupby('income_type')['total_income'].apply(lambda x: x.fillna(x.median()))\n",
        "data.loc[:,('days_employed')] = data.groupby('income_type')['days_employed'].apply(lambda x: x.fillna(x.median()))\n",
        "\n",
        "print(data.isnull().sum())"
      ],
      "execution_count": 24,
      "outputs": [
        {
          "output_type": "stream",
          "text": [
            "Unnamed: 0             0\n",
            "children               0\n",
            "days_employed          0\n",
            "dob_years              0\n",
            "education              0\n",
            "education_id           0\n",
            "family_status          0\n",
            "family_status_id       0\n",
            "gender                 0\n",
            "income_type            0\n",
            "debt                   0\n",
            "total_income        2174\n",
            "purpose                0\n",
            "dtype: int64\n"
          ],
          "name": "stdout"
        }
      ]
    },
    {
      "cell_type": "markdown",
      "metadata": {
        "id": "RFv_S0EYL1ah"
      },
      "source": [
        "<div class=\"alert alert-warning\" style=\"border-radius: 15px; box-shadow: 4px 4px 4px; border: 1px solid \">\n",
        "<h2> Комментарий ревьюера</h2>\n",
        "    \n",
        "Отлично. Раз уж у нас есть такая возможность, давай попробуем заменить пропуски медианой, но взятой по 2-3 характеристикам клиента? Группы можно собрать по разным параметрам. Например, тип занятости + образование + возрастная группа. Попробуешь реализовать это? Если что, я помогу. Столбец стажа можно так не заполнять, поскольку он нам не нужен. \n",
        "</div>"
      ]
    },
    {
      "cell_type": "code",
      "metadata": {
        "colab": {
          "base_uri": "https://localhost:8080/",
          "height": 204
        },
        "id": "ymetqqQf1CpA",
        "outputId": "5cc46f44-6f6c-4c0e-a9db-79569ec46062"
      },
      "source": [
        "data.head()"
      ],
      "execution_count": 9,
      "outputs": [
        {
          "output_type": "execute_result",
          "data": {
            "text/html": [
              "<div>\n",
              "<style scoped>\n",
              "    .dataframe tbody tr th:only-of-type {\n",
              "        vertical-align: middle;\n",
              "    }\n",
              "\n",
              "    .dataframe tbody tr th {\n",
              "        vertical-align: top;\n",
              "    }\n",
              "\n",
              "    .dataframe thead th {\n",
              "        text-align: right;\n",
              "    }\n",
              "</style>\n",
              "<table border=\"1\" class=\"dataframe\">\n",
              "  <thead>\n",
              "    <tr style=\"text-align: right;\">\n",
              "      <th></th>\n",
              "      <th>Unnamed: 0</th>\n",
              "      <th>children</th>\n",
              "      <th>days_employed</th>\n",
              "      <th>dob_years</th>\n",
              "      <th>education</th>\n",
              "      <th>education_id</th>\n",
              "      <th>family_status</th>\n",
              "      <th>family_status_id</th>\n",
              "      <th>gender</th>\n",
              "      <th>income_type</th>\n",
              "      <th>debt</th>\n",
              "      <th>total_income</th>\n",
              "      <th>purpose</th>\n",
              "    </tr>\n",
              "  </thead>\n",
              "  <tbody>\n",
              "    <tr>\n",
              "      <th>0</th>\n",
              "      <td>0</td>\n",
              "      <td>1</td>\n",
              "      <td>8437.673028</td>\n",
              "      <td>42</td>\n",
              "      <td>высшее</td>\n",
              "      <td>0</td>\n",
              "      <td>женат / замужем</td>\n",
              "      <td>0</td>\n",
              "      <td>F</td>\n",
              "      <td>сотрудник</td>\n",
              "      <td>0</td>\n",
              "      <td>253875.639453</td>\n",
              "      <td>покупка жилья</td>\n",
              "    </tr>\n",
              "    <tr>\n",
              "      <th>1</th>\n",
              "      <td>1</td>\n",
              "      <td>1</td>\n",
              "      <td>4024.803754</td>\n",
              "      <td>36</td>\n",
              "      <td>среднее</td>\n",
              "      <td>1</td>\n",
              "      <td>женат / замужем</td>\n",
              "      <td>0</td>\n",
              "      <td>F</td>\n",
              "      <td>сотрудник</td>\n",
              "      <td>0</td>\n",
              "      <td>112080.014102</td>\n",
              "      <td>приобретение автомобиля</td>\n",
              "    </tr>\n",
              "    <tr>\n",
              "      <th>2</th>\n",
              "      <td>2</td>\n",
              "      <td>0</td>\n",
              "      <td>5623.422610</td>\n",
              "      <td>33</td>\n",
              "      <td>Среднее</td>\n",
              "      <td>1</td>\n",
              "      <td>женат / замужем</td>\n",
              "      <td>0</td>\n",
              "      <td>M</td>\n",
              "      <td>сотрудник</td>\n",
              "      <td>0</td>\n",
              "      <td>145885.952297</td>\n",
              "      <td>покупка жилья</td>\n",
              "    </tr>\n",
              "    <tr>\n",
              "      <th>3</th>\n",
              "      <td>3</td>\n",
              "      <td>3</td>\n",
              "      <td>4124.747207</td>\n",
              "      <td>32</td>\n",
              "      <td>среднее</td>\n",
              "      <td>1</td>\n",
              "      <td>женат / замужем</td>\n",
              "      <td>0</td>\n",
              "      <td>M</td>\n",
              "      <td>сотрудник</td>\n",
              "      <td>0</td>\n",
              "      <td>267628.550329</td>\n",
              "      <td>дополнительное образование</td>\n",
              "    </tr>\n",
              "    <tr>\n",
              "      <th>4</th>\n",
              "      <td>4</td>\n",
              "      <td>0</td>\n",
              "      <td>340266.072047</td>\n",
              "      <td>53</td>\n",
              "      <td>среднее</td>\n",
              "      <td>1</td>\n",
              "      <td>гражданский брак</td>\n",
              "      <td>1</td>\n",
              "      <td>F</td>\n",
              "      <td>пенсионер</td>\n",
              "      <td>0</td>\n",
              "      <td>158616.077870</td>\n",
              "      <td>сыграть свадьбу</td>\n",
              "    </tr>\n",
              "  </tbody>\n",
              "</table>\n",
              "</div>"
            ],
            "text/plain": [
              "   Unnamed: 0  children  ...   total_income                     purpose\n",
              "0           0         1  ...  253875.639453               покупка жилья\n",
              "1           1         1  ...  112080.014102     приобретение автомобиля\n",
              "2           2         0  ...  145885.952297               покупка жилья\n",
              "3           3         3  ...  267628.550329  дополнительное образование\n",
              "4           4         0  ...  158616.077870             сыграть свадьбу\n",
              "\n",
              "[5 rows x 13 columns]"
            ]
          },
          "metadata": {
            "tags": []
          },
          "execution_count": 9
        }
      ]
    },
    {
      "cell_type": "code",
      "metadata": {
        "id": "BTJx_R7J1DG4"
      },
      "source": [
        "years = data.dob_years.apply(lambda x: int(x/10))"
      ],
      "execution_count": 25,
      "outputs": []
    },
    {
      "cell_type": "code",
      "metadata": {
        "id": "szb8230E1DKY"
      },
      "source": [
        "data[['years']] = years"
      ],
      "execution_count": 26,
      "outputs": []
    },
    {
      "cell_type": "code",
      "metadata": {
        "id": "t9YWkF1IxLM0"
      },
      "source": [
        "data.loc[:,('total_income')] = data[['total_income', 'income_type', 'education_id', 'years']].groupby(['income_type', 'education_id', 'years'])['total_income'].apply(lambda x: x.fillna(x.median()))"
      ],
      "execution_count": 27,
      "outputs": []
    },
    {
      "cell_type": "code",
      "metadata": {
        "colab": {
          "base_uri": "https://localhost:8080/"
        },
        "id": "BHKJhT7QxLUG",
        "outputId": "abb513f4-d218-41db-f808-e55e7102fc16"
      },
      "source": [
        "data.isna().sum()"
      ],
      "execution_count": 28,
      "outputs": [
        {
          "output_type": "execute_result",
          "data": {
            "text/plain": [
              "Unnamed: 0          0\n",
              "children            0\n",
              "days_employed       0\n",
              "dob_years           0\n",
              "education           0\n",
              "education_id        0\n",
              "family_status       0\n",
              "family_status_id    0\n",
              "gender              0\n",
              "income_type         0\n",
              "debt                0\n",
              "total_income        3\n",
              "purpose             0\n",
              "years               0\n",
              "dtype: int64"
            ]
          },
          "metadata": {
            "tags": []
          },
          "execution_count": 28
        }
      ]
    },
    {
      "cell_type": "code",
      "metadata": {
        "id": "jg2sBOGSxLaX"
      },
      "source": [
        "data = data.dropna()"
      ],
      "execution_count": 30,
      "outputs": []
    },
    {
      "cell_type": "markdown",
      "metadata": {
        "id": "hP1NuXEHBhKa"
      },
      "source": [
        "## Попробуем избавиться от выбросов"
      ]
    },
    {
      "cell_type": "code",
      "metadata": {
        "colab": {
          "base_uri": "https://localhost:8080/",
          "height": 297
        },
        "id": "jqsz_2ekBfs_",
        "outputId": "bf6edb27-4fb2-42d9-dc0a-e70c96cabb4a"
      },
      "source": [
        "data.describe()"
      ],
      "execution_count": 79,
      "outputs": [
        {
          "output_type": "execute_result",
          "data": {
            "text/html": [
              "<div>\n",
              "<style scoped>\n",
              "    .dataframe tbody tr th:only-of-type {\n",
              "        vertical-align: middle;\n",
              "    }\n",
              "\n",
              "    .dataframe tbody tr th {\n",
              "        vertical-align: top;\n",
              "    }\n",
              "\n",
              "    .dataframe thead th {\n",
              "        text-align: right;\n",
              "    }\n",
              "</style>\n",
              "<table border=\"1\" class=\"dataframe\">\n",
              "  <thead>\n",
              "    <tr style=\"text-align: right;\">\n",
              "      <th></th>\n",
              "      <th>Unnamed: 0</th>\n",
              "      <th>children</th>\n",
              "      <th>days_employed</th>\n",
              "      <th>dob_years</th>\n",
              "      <th>education_id</th>\n",
              "      <th>family_status_id</th>\n",
              "      <th>debt</th>\n",
              "      <th>total_income</th>\n",
              "      <th>years</th>\n",
              "      <th>children_yes_or_no</th>\n",
              "      <th>family_status_index</th>\n",
              "    </tr>\n",
              "  </thead>\n",
              "  <tbody>\n",
              "    <tr>\n",
              "      <th>count</th>\n",
              "      <td>21522.000000</td>\n",
              "      <td>21522.000000</td>\n",
              "      <td>21522.000000</td>\n",
              "      <td>21522.000000</td>\n",
              "      <td>21522.000000</td>\n",
              "      <td>21522.000000</td>\n",
              "      <td>21522.000000</td>\n",
              "      <td>2.152200e+04</td>\n",
              "      <td>21522.000000</td>\n",
              "      <td>21522.000000</td>\n",
              "      <td>21522.000000</td>\n",
              "    </tr>\n",
              "    <tr>\n",
              "      <th>mean</th>\n",
              "      <td>10762.785475</td>\n",
              "      <td>0.543305</td>\n",
              "      <td>67308.168014</td>\n",
              "      <td>43.290493</td>\n",
              "      <td>0.817071</td>\n",
              "      <td>0.972586</td>\n",
              "      <td>0.080894</td>\n",
              "      <td>1.653762e+05</td>\n",
              "      <td>3.880123</td>\n",
              "      <td>0.342673</td>\n",
              "      <td>0.769166</td>\n",
              "    </tr>\n",
              "    <tr>\n",
              "      <th>std</th>\n",
              "      <td>6213.862386</td>\n",
              "      <td>1.379959</td>\n",
              "      <td>139409.359935</td>\n",
              "      <td>12.572950</td>\n",
              "      <td>0.547744</td>\n",
              "      <td>1.420407</td>\n",
              "      <td>0.272679</td>\n",
              "      <td>9.817482e+04</td>\n",
              "      <td>1.282008</td>\n",
              "      <td>0.474614</td>\n",
              "      <td>0.421376</td>\n",
              "    </tr>\n",
              "    <tr>\n",
              "      <th>min</th>\n",
              "      <td>0.000000</td>\n",
              "      <td>0.000000</td>\n",
              "      <td>24.000000</td>\n",
              "      <td>0.000000</td>\n",
              "      <td>0.000000</td>\n",
              "      <td>0.000000</td>\n",
              "      <td>0.000000</td>\n",
              "      <td>2.066700e+04</td>\n",
              "      <td>0.000000</td>\n",
              "      <td>0.000000</td>\n",
              "      <td>0.000000</td>\n",
              "    </tr>\n",
              "    <tr>\n",
              "      <th>25%</th>\n",
              "      <td>5381.250000</td>\n",
              "      <td>0.000000</td>\n",
              "      <td>1025.000000</td>\n",
              "      <td>33.000000</td>\n",
              "      <td>1.000000</td>\n",
              "      <td>0.000000</td>\n",
              "      <td>0.000000</td>\n",
              "      <td>1.076522e+05</td>\n",
              "      <td>3.000000</td>\n",
              "      <td>0.000000</td>\n",
              "      <td>1.000000</td>\n",
              "    </tr>\n",
              "    <tr>\n",
              "      <th>50%</th>\n",
              "      <td>10763.500000</td>\n",
              "      <td>0.000000</td>\n",
              "      <td>1993.500000</td>\n",
              "      <td>42.000000</td>\n",
              "      <td>1.000000</td>\n",
              "      <td>0.000000</td>\n",
              "      <td>0.000000</td>\n",
              "      <td>1.431290e+05</td>\n",
              "      <td>4.000000</td>\n",
              "      <td>0.000000</td>\n",
              "      <td>1.000000</td>\n",
              "    </tr>\n",
              "    <tr>\n",
              "      <th>75%</th>\n",
              "      <td>16143.750000</td>\n",
              "      <td>1.000000</td>\n",
              "      <td>5348.500000</td>\n",
              "      <td>53.000000</td>\n",
              "      <td>1.000000</td>\n",
              "      <td>1.000000</td>\n",
              "      <td>0.000000</td>\n",
              "      <td>1.976342e+05</td>\n",
              "      <td>5.000000</td>\n",
              "      <td>1.000000</td>\n",
              "      <td>1.000000</td>\n",
              "    </tr>\n",
              "    <tr>\n",
              "      <th>max</th>\n",
              "      <td>21524.000000</td>\n",
              "      <td>20.000000</td>\n",
              "      <td>401755.000000</td>\n",
              "      <td>75.000000</td>\n",
              "      <td>4.000000</td>\n",
              "      <td>4.000000</td>\n",
              "      <td>1.000000</td>\n",
              "      <td>2.265604e+06</td>\n",
              "      <td>7.000000</td>\n",
              "      <td>1.000000</td>\n",
              "      <td>1.000000</td>\n",
              "    </tr>\n",
              "  </tbody>\n",
              "</table>\n",
              "</div>"
            ],
            "text/plain": [
              "         Unnamed: 0      children  ...  children_yes_or_no  family_status_index\n",
              "count  21522.000000  21522.000000  ...        21522.000000         21522.000000\n",
              "mean   10762.785475      0.543305  ...            0.342673             0.769166\n",
              "std     6213.862386      1.379959  ...            0.474614             0.421376\n",
              "min        0.000000      0.000000  ...            0.000000             0.000000\n",
              "25%     5381.250000      0.000000  ...            0.000000             1.000000\n",
              "50%    10763.500000      0.000000  ...            0.000000             1.000000\n",
              "75%    16143.750000      1.000000  ...            1.000000             1.000000\n",
              "max    21524.000000     20.000000  ...            1.000000             1.000000\n",
              "\n",
              "[8 rows x 11 columns]"
            ]
          },
          "metadata": {
            "tags": []
          },
          "execution_count": 79
        }
      ]
    },
    {
      "cell_type": "markdown",
      "metadata": {
        "id": "1cnLeEfvCIeo"
      },
      "source": [
        "Кандидаты на удаление: \n",
        "* max children\n",
        "* max days_employed\n",
        "* max total_income"
      ]
    },
    {
      "cell_type": "code",
      "metadata": {
        "colab": {
          "base_uri": "https://localhost:8080/",
          "height": 677
        },
        "id": "OXj4DHK8Bfvx",
        "outputId": "540ef97f-9207-47b4-aad5-92722636f1c9"
      },
      "source": [
        "data.sort_values(['children'])"
      ],
      "execution_count": 80,
      "outputs": [
        {
          "output_type": "execute_result",
          "data": {
            "text/html": [
              "<div>\n",
              "<style scoped>\n",
              "    .dataframe tbody tr th:only-of-type {\n",
              "        vertical-align: middle;\n",
              "    }\n",
              "\n",
              "    .dataframe tbody tr th {\n",
              "        vertical-align: top;\n",
              "    }\n",
              "\n",
              "    .dataframe thead th {\n",
              "        text-align: right;\n",
              "    }\n",
              "</style>\n",
              "<table border=\"1\" class=\"dataframe\">\n",
              "  <thead>\n",
              "    <tr style=\"text-align: right;\">\n",
              "      <th></th>\n",
              "      <th>Unnamed: 0</th>\n",
              "      <th>children</th>\n",
              "      <th>days_employed</th>\n",
              "      <th>dob_years</th>\n",
              "      <th>education</th>\n",
              "      <th>education_id</th>\n",
              "      <th>family_status</th>\n",
              "      <th>family_status_id</th>\n",
              "      <th>gender</th>\n",
              "      <th>income_type</th>\n",
              "      <th>debt</th>\n",
              "      <th>total_income</th>\n",
              "      <th>purpose</th>\n",
              "      <th>years</th>\n",
              "      <th>children_yes_or_no</th>\n",
              "      <th>family_status_index</th>\n",
              "    </tr>\n",
              "  </thead>\n",
              "  <tbody>\n",
              "    <tr>\n",
              "      <th>10763</th>\n",
              "      <td>10763</td>\n",
              "      <td>0</td>\n",
              "      <td>352170</td>\n",
              "      <td>55</td>\n",
              "      <td>начальное</td>\n",
              "      <td>3</td>\n",
              "      <td>женат / замужем</td>\n",
              "      <td>0</td>\n",
              "      <td>F</td>\n",
              "      <td>пенсионер</td>\n",
              "      <td>0</td>\n",
              "      <td>84727</td>\n",
              "      <td>ремонт жилью</td>\n",
              "      <td>5</td>\n",
              "      <td>0</td>\n",
              "      <td>1</td>\n",
              "    </tr>\n",
              "    <tr>\n",
              "      <th>17565</th>\n",
              "      <td>17565</td>\n",
              "      <td>0</td>\n",
              "      <td>476</td>\n",
              "      <td>25</td>\n",
              "      <td>высшее</td>\n",
              "      <td>0</td>\n",
              "      <td>не женат / не замужем</td>\n",
              "      <td>4</td>\n",
              "      <td>F</td>\n",
              "      <td>сотрудник</td>\n",
              "      <td>0</td>\n",
              "      <td>185558</td>\n",
              "      <td>покупка жилой недвижимости</td>\n",
              "      <td>2</td>\n",
              "      <td>0</td>\n",
              "      <td>0</td>\n",
              "    </tr>\n",
              "    <tr>\n",
              "      <th>10101</th>\n",
              "      <td>10101</td>\n",
              "      <td>0</td>\n",
              "      <td>1404</td>\n",
              "      <td>60</td>\n",
              "      <td>среднее</td>\n",
              "      <td>1</td>\n",
              "      <td>женат / замужем</td>\n",
              "      <td>0</td>\n",
              "      <td>F</td>\n",
              "      <td>компаньон</td>\n",
              "      <td>0</td>\n",
              "      <td>206714</td>\n",
              "      <td>на покупку своего автомобиля</td>\n",
              "      <td>6</td>\n",
              "      <td>0</td>\n",
              "      <td>1</td>\n",
              "    </tr>\n",
              "    <tr>\n",
              "      <th>10102</th>\n",
              "      <td>10102</td>\n",
              "      <td>0</td>\n",
              "      <td>647</td>\n",
              "      <td>53</td>\n",
              "      <td>среднее</td>\n",
              "      <td>1</td>\n",
              "      <td>вдовец / вдова</td>\n",
              "      <td>2</td>\n",
              "      <td>M</td>\n",
              "      <td>сотрудник</td>\n",
              "      <td>0</td>\n",
              "      <td>171922</td>\n",
              "      <td>покупка своего жилья</td>\n",
              "      <td>5</td>\n",
              "      <td>0</td>\n",
              "      <td>0</td>\n",
              "    </tr>\n",
              "    <tr>\n",
              "      <th>10103</th>\n",
              "      <td>10103</td>\n",
              "      <td>0</td>\n",
              "      <td>1347</td>\n",
              "      <td>52</td>\n",
              "      <td>высшее</td>\n",
              "      <td>0</td>\n",
              "      <td>женат / замужем</td>\n",
              "      <td>0</td>\n",
              "      <td>F</td>\n",
              "      <td>сотрудник</td>\n",
              "      <td>0</td>\n",
              "      <td>133402</td>\n",
              "      <td>сделка с автомобилем</td>\n",
              "      <td>5</td>\n",
              "      <td>0</td>\n",
              "      <td>1</td>\n",
              "    </tr>\n",
              "    <tr>\n",
              "      <th>...</th>\n",
              "      <td>...</td>\n",
              "      <td>...</td>\n",
              "      <td>...</td>\n",
              "      <td>...</td>\n",
              "      <td>...</td>\n",
              "      <td>...</td>\n",
              "      <td>...</td>\n",
              "      <td>...</td>\n",
              "      <td>...</td>\n",
              "      <td>...</td>\n",
              "      <td>...</td>\n",
              "      <td>...</td>\n",
              "      <td>...</td>\n",
              "      <td>...</td>\n",
              "      <td>...</td>\n",
              "      <td>...</td>\n",
              "    </tr>\n",
              "    <tr>\n",
              "      <th>5315</th>\n",
              "      <td>5315</td>\n",
              "      <td>20</td>\n",
              "      <td>2047</td>\n",
              "      <td>24</td>\n",
              "      <td>среднее</td>\n",
              "      <td>1</td>\n",
              "      <td>женат / замужем</td>\n",
              "      <td>0</td>\n",
              "      <td>F</td>\n",
              "      <td>сотрудник</td>\n",
              "      <td>0</td>\n",
              "      <td>100415</td>\n",
              "      <td>покупка коммерческой недвижимости</td>\n",
              "      <td>2</td>\n",
              "      <td>1</td>\n",
              "      <td>1</td>\n",
              "    </tr>\n",
              "    <tr>\n",
              "      <th>7078</th>\n",
              "      <td>7078</td>\n",
              "      <td>20</td>\n",
              "      <td>1202</td>\n",
              "      <td>40</td>\n",
              "      <td>среднее</td>\n",
              "      <td>1</td>\n",
              "      <td>женат / замужем</td>\n",
              "      <td>0</td>\n",
              "      <td>F</td>\n",
              "      <td>сотрудник</td>\n",
              "      <td>0</td>\n",
              "      <td>67529</td>\n",
              "      <td>получение высшего образования</td>\n",
              "      <td>4</td>\n",
              "      <td>1</td>\n",
              "      <td>1</td>\n",
              "    </tr>\n",
              "    <tr>\n",
              "      <th>9889</th>\n",
              "      <td>9889</td>\n",
              "      <td>20</td>\n",
              "      <td>2232</td>\n",
              "      <td>34</td>\n",
              "      <td>среднее</td>\n",
              "      <td>1</td>\n",
              "      <td>не женат / не замужем</td>\n",
              "      <td>4</td>\n",
              "      <td>M</td>\n",
              "      <td>сотрудник</td>\n",
              "      <td>0</td>\n",
              "      <td>53971</td>\n",
              "      <td>покупка жилья</td>\n",
              "      <td>3</td>\n",
              "      <td>1</td>\n",
              "      <td>0</td>\n",
              "    </tr>\n",
              "    <tr>\n",
              "      <th>3735</th>\n",
              "      <td>3735</td>\n",
              "      <td>20</td>\n",
              "      <td>805</td>\n",
              "      <td>26</td>\n",
              "      <td>высшее</td>\n",
              "      <td>0</td>\n",
              "      <td>не женат / не замужем</td>\n",
              "      <td>4</td>\n",
              "      <td>M</td>\n",
              "      <td>сотрудник</td>\n",
              "      <td>0</td>\n",
              "      <td>137200</td>\n",
              "      <td>ремонт жилью</td>\n",
              "      <td>2</td>\n",
              "      <td>1</td>\n",
              "      <td>0</td>\n",
              "    </tr>\n",
              "    <tr>\n",
              "      <th>13471</th>\n",
              "      <td>13471</td>\n",
              "      <td>20</td>\n",
              "      <td>630</td>\n",
              "      <td>44</td>\n",
              "      <td>высшее</td>\n",
              "      <td>0</td>\n",
              "      <td>женат / замужем</td>\n",
              "      <td>0</td>\n",
              "      <td>M</td>\n",
              "      <td>компаньон</td>\n",
              "      <td>0</td>\n",
              "      <td>245019</td>\n",
              "      <td>дополнительное образование</td>\n",
              "      <td>4</td>\n",
              "      <td>1</td>\n",
              "      <td>1</td>\n",
              "    </tr>\n",
              "  </tbody>\n",
              "</table>\n",
              "<p>21522 rows × 16 columns</p>\n",
              "</div>"
            ],
            "text/plain": [
              "       Unnamed: 0  children  ...  children_yes_or_no  family_status_index\n",
              "10763       10763         0  ...                   0                    1\n",
              "17565       17565         0  ...                   0                    0\n",
              "10101       10101         0  ...                   0                    1\n",
              "10102       10102         0  ...                   0                    0\n",
              "10103       10103         0  ...                   0                    1\n",
              "...           ...       ...  ...                 ...                  ...\n",
              "5315         5315        20  ...                   1                    1\n",
              "7078         7078        20  ...                   1                    1\n",
              "9889         9889        20  ...                   1                    0\n",
              "3735         3735        20  ...                   1                    0\n",
              "13471       13471        20  ...                   1                    1\n",
              "\n",
              "[21522 rows x 16 columns]"
            ]
          },
          "metadata": {
            "tags": []
          },
          "execution_count": 80
        }
      ]
    },
    {
      "cell_type": "markdown",
      "metadata": {
        "id": "mm5SHbEcCvJ1"
      },
      "source": [
        "Оказывается, 20 детей - не единичная ошибка, а целая группа. Сделаем предположение, что 20 = 2, и поменяем данные:"
      ]
    },
    {
      "cell_type": "code",
      "metadata": {
        "id": "ZI_zSc-fDKty"
      },
      "source": [
        "def no_more_children(x):\n",
        "    if x == 20:\n",
        "      return 2\n",
        "    else:\n",
        "      return x"
      ],
      "execution_count": 82,
      "outputs": []
    },
    {
      "cell_type": "code",
      "metadata": {
        "colab": {
          "base_uri": "https://localhost:8080/"
        },
        "id": "ucTqTSRpBfyE",
        "outputId": "f5dfb41d-329c-4333-e20e-afda14096d5d"
      },
      "source": [
        "data.children.apply(no_more_children)"
      ],
      "execution_count": 83,
      "outputs": [
        {
          "output_type": "execute_result",
          "data": {
            "text/plain": [
              "0        1\n",
              "1        1\n",
              "2        0\n",
              "3        3\n",
              "4        0\n",
              "        ..\n",
              "21520    1\n",
              "21521    0\n",
              "21522    1\n",
              "21523    3\n",
              "21524    2\n",
              "Name: children, Length: 21522, dtype: int64"
            ]
          },
          "metadata": {
            "tags": []
          },
          "execution_count": 83
        }
      ]
    },
    {
      "cell_type": "code",
      "metadata": {
        "colab": {
          "base_uri": "https://localhost:8080/",
          "height": 643
        },
        "id": "12CJBS0JBf1O",
        "outputId": "6bb1d9e0-5234-4328-8565-19cc9c9b4508"
      },
      "source": [
        "data"
      ],
      "execution_count": 84,
      "outputs": [
        {
          "output_type": "execute_result",
          "data": {
            "text/html": [
              "<div>\n",
              "<style scoped>\n",
              "    .dataframe tbody tr th:only-of-type {\n",
              "        vertical-align: middle;\n",
              "    }\n",
              "\n",
              "    .dataframe tbody tr th {\n",
              "        vertical-align: top;\n",
              "    }\n",
              "\n",
              "    .dataframe thead th {\n",
              "        text-align: right;\n",
              "    }\n",
              "</style>\n",
              "<table border=\"1\" class=\"dataframe\">\n",
              "  <thead>\n",
              "    <tr style=\"text-align: right;\">\n",
              "      <th></th>\n",
              "      <th>Unnamed: 0</th>\n",
              "      <th>children</th>\n",
              "      <th>days_employed</th>\n",
              "      <th>dob_years</th>\n",
              "      <th>education</th>\n",
              "      <th>education_id</th>\n",
              "      <th>family_status</th>\n",
              "      <th>family_status_id</th>\n",
              "      <th>gender</th>\n",
              "      <th>income_type</th>\n",
              "      <th>debt</th>\n",
              "      <th>total_income</th>\n",
              "      <th>purpose</th>\n",
              "      <th>years</th>\n",
              "      <th>children_yes_or_no</th>\n",
              "      <th>family_status_index</th>\n",
              "    </tr>\n",
              "  </thead>\n",
              "  <tbody>\n",
              "    <tr>\n",
              "      <th>0</th>\n",
              "      <td>0</td>\n",
              "      <td>1</td>\n",
              "      <td>8437</td>\n",
              "      <td>42</td>\n",
              "      <td>высшее</td>\n",
              "      <td>0</td>\n",
              "      <td>женат / замужем</td>\n",
              "      <td>0</td>\n",
              "      <td>F</td>\n",
              "      <td>сотрудник</td>\n",
              "      <td>0</td>\n",
              "      <td>253875</td>\n",
              "      <td>покупка жилья</td>\n",
              "      <td>4</td>\n",
              "      <td>1</td>\n",
              "      <td>1</td>\n",
              "    </tr>\n",
              "    <tr>\n",
              "      <th>1</th>\n",
              "      <td>1</td>\n",
              "      <td>1</td>\n",
              "      <td>4024</td>\n",
              "      <td>36</td>\n",
              "      <td>среднее</td>\n",
              "      <td>1</td>\n",
              "      <td>женат / замужем</td>\n",
              "      <td>0</td>\n",
              "      <td>F</td>\n",
              "      <td>сотрудник</td>\n",
              "      <td>0</td>\n",
              "      <td>112080</td>\n",
              "      <td>приобретение автомобиля</td>\n",
              "      <td>3</td>\n",
              "      <td>1</td>\n",
              "      <td>1</td>\n",
              "    </tr>\n",
              "    <tr>\n",
              "      <th>2</th>\n",
              "      <td>2</td>\n",
              "      <td>0</td>\n",
              "      <td>5623</td>\n",
              "      <td>33</td>\n",
              "      <td>среднее</td>\n",
              "      <td>1</td>\n",
              "      <td>женат / замужем</td>\n",
              "      <td>0</td>\n",
              "      <td>M</td>\n",
              "      <td>сотрудник</td>\n",
              "      <td>0</td>\n",
              "      <td>145885</td>\n",
              "      <td>покупка жилья</td>\n",
              "      <td>3</td>\n",
              "      <td>0</td>\n",
              "      <td>1</td>\n",
              "    </tr>\n",
              "    <tr>\n",
              "      <th>3</th>\n",
              "      <td>3</td>\n",
              "      <td>3</td>\n",
              "      <td>4124</td>\n",
              "      <td>32</td>\n",
              "      <td>среднее</td>\n",
              "      <td>1</td>\n",
              "      <td>женат / замужем</td>\n",
              "      <td>0</td>\n",
              "      <td>M</td>\n",
              "      <td>сотрудник</td>\n",
              "      <td>0</td>\n",
              "      <td>267628</td>\n",
              "      <td>дополнительное образование</td>\n",
              "      <td>3</td>\n",
              "      <td>1</td>\n",
              "      <td>1</td>\n",
              "    </tr>\n",
              "    <tr>\n",
              "      <th>4</th>\n",
              "      <td>4</td>\n",
              "      <td>0</td>\n",
              "      <td>340266</td>\n",
              "      <td>53</td>\n",
              "      <td>среднее</td>\n",
              "      <td>1</td>\n",
              "      <td>гражданский брак</td>\n",
              "      <td>1</td>\n",
              "      <td>F</td>\n",
              "      <td>пенсионер</td>\n",
              "      <td>0</td>\n",
              "      <td>158616</td>\n",
              "      <td>сыграть свадьбу</td>\n",
              "      <td>5</td>\n",
              "      <td>0</td>\n",
              "      <td>1</td>\n",
              "    </tr>\n",
              "    <tr>\n",
              "      <th>...</th>\n",
              "      <td>...</td>\n",
              "      <td>...</td>\n",
              "      <td>...</td>\n",
              "      <td>...</td>\n",
              "      <td>...</td>\n",
              "      <td>...</td>\n",
              "      <td>...</td>\n",
              "      <td>...</td>\n",
              "      <td>...</td>\n",
              "      <td>...</td>\n",
              "      <td>...</td>\n",
              "      <td>...</td>\n",
              "      <td>...</td>\n",
              "      <td>...</td>\n",
              "      <td>...</td>\n",
              "      <td>...</td>\n",
              "    </tr>\n",
              "    <tr>\n",
              "      <th>21520</th>\n",
              "      <td>21520</td>\n",
              "      <td>1</td>\n",
              "      <td>4529</td>\n",
              "      <td>43</td>\n",
              "      <td>среднее</td>\n",
              "      <td>1</td>\n",
              "      <td>гражданский брак</td>\n",
              "      <td>1</td>\n",
              "      <td>F</td>\n",
              "      <td>компаньон</td>\n",
              "      <td>0</td>\n",
              "      <td>224791</td>\n",
              "      <td>операции с жильем</td>\n",
              "      <td>4</td>\n",
              "      <td>1</td>\n",
              "      <td>1</td>\n",
              "    </tr>\n",
              "    <tr>\n",
              "      <th>21521</th>\n",
              "      <td>21521</td>\n",
              "      <td>0</td>\n",
              "      <td>343937</td>\n",
              "      <td>67</td>\n",
              "      <td>среднее</td>\n",
              "      <td>1</td>\n",
              "      <td>женат / замужем</td>\n",
              "      <td>0</td>\n",
              "      <td>F</td>\n",
              "      <td>пенсионер</td>\n",
              "      <td>0</td>\n",
              "      <td>155999</td>\n",
              "      <td>сделка с автомобилем</td>\n",
              "      <td>6</td>\n",
              "      <td>0</td>\n",
              "      <td>1</td>\n",
              "    </tr>\n",
              "    <tr>\n",
              "      <th>21522</th>\n",
              "      <td>21522</td>\n",
              "      <td>1</td>\n",
              "      <td>2113</td>\n",
              "      <td>38</td>\n",
              "      <td>среднее</td>\n",
              "      <td>1</td>\n",
              "      <td>гражданский брак</td>\n",
              "      <td>1</td>\n",
              "      <td>M</td>\n",
              "      <td>сотрудник</td>\n",
              "      <td>1</td>\n",
              "      <td>89672</td>\n",
              "      <td>недвижимость</td>\n",
              "      <td>3</td>\n",
              "      <td>1</td>\n",
              "      <td>1</td>\n",
              "    </tr>\n",
              "    <tr>\n",
              "      <th>21523</th>\n",
              "      <td>21523</td>\n",
              "      <td>3</td>\n",
              "      <td>3112</td>\n",
              "      <td>38</td>\n",
              "      <td>среднее</td>\n",
              "      <td>1</td>\n",
              "      <td>женат / замужем</td>\n",
              "      <td>0</td>\n",
              "      <td>M</td>\n",
              "      <td>сотрудник</td>\n",
              "      <td>1</td>\n",
              "      <td>244093</td>\n",
              "      <td>на покупку своего автомобиля</td>\n",
              "      <td>3</td>\n",
              "      <td>1</td>\n",
              "      <td>1</td>\n",
              "    </tr>\n",
              "    <tr>\n",
              "      <th>21524</th>\n",
              "      <td>21524</td>\n",
              "      <td>2</td>\n",
              "      <td>1984</td>\n",
              "      <td>40</td>\n",
              "      <td>среднее</td>\n",
              "      <td>1</td>\n",
              "      <td>женат / замужем</td>\n",
              "      <td>0</td>\n",
              "      <td>F</td>\n",
              "      <td>сотрудник</td>\n",
              "      <td>0</td>\n",
              "      <td>82047</td>\n",
              "      <td>на покупку автомобиля</td>\n",
              "      <td>4</td>\n",
              "      <td>1</td>\n",
              "      <td>1</td>\n",
              "    </tr>\n",
              "  </tbody>\n",
              "</table>\n",
              "<p>21522 rows × 16 columns</p>\n",
              "</div>"
            ],
            "text/plain": [
              "       Unnamed: 0  children  ...  children_yes_or_no  family_status_index\n",
              "0               0         1  ...                   1                    1\n",
              "1               1         1  ...                   1                    1\n",
              "2               2         0  ...                   0                    1\n",
              "3               3         3  ...                   1                    1\n",
              "4               4         0  ...                   0                    1\n",
              "...           ...       ...  ...                 ...                  ...\n",
              "21520       21520         1  ...                   1                    1\n",
              "21521       21521         0  ...                   0                    1\n",
              "21522       21522         1  ...                   1                    1\n",
              "21523       21523         3  ...                   1                    1\n",
              "21524       21524         2  ...                   1                    1\n",
              "\n",
              "[21522 rows x 16 columns]"
            ]
          },
          "metadata": {
            "tags": []
          },
          "execution_count": 84
        }
      ]
    },
    {
      "cell_type": "code",
      "metadata": {
        "id": "eNm9fCkuDmbu"
      },
      "source": [
        ""
      ],
      "execution_count": null,
      "outputs": []
    },
    {
      "cell_type": "code",
      "metadata": {
        "colab": {
          "base_uri": "https://localhost:8080/",
          "height": 626
        },
        "id": "Ol2sKjbfDmeH",
        "outputId": "87d0e354-d543-4254-e5cc-faba503162ae"
      },
      "source": [
        "data.sort_values([\"days_employed\"])"
      ],
      "execution_count": 85,
      "outputs": [
        {
          "output_type": "execute_result",
          "data": {
            "text/html": [
              "<div>\n",
              "<style scoped>\n",
              "    .dataframe tbody tr th:only-of-type {\n",
              "        vertical-align: middle;\n",
              "    }\n",
              "\n",
              "    .dataframe tbody tr th {\n",
              "        vertical-align: top;\n",
              "    }\n",
              "\n",
              "    .dataframe thead th {\n",
              "        text-align: right;\n",
              "    }\n",
              "</style>\n",
              "<table border=\"1\" class=\"dataframe\">\n",
              "  <thead>\n",
              "    <tr style=\"text-align: right;\">\n",
              "      <th></th>\n",
              "      <th>Unnamed: 0</th>\n",
              "      <th>children</th>\n",
              "      <th>days_employed</th>\n",
              "      <th>dob_years</th>\n",
              "      <th>education</th>\n",
              "      <th>education_id</th>\n",
              "      <th>family_status</th>\n",
              "      <th>family_status_id</th>\n",
              "      <th>gender</th>\n",
              "      <th>income_type</th>\n",
              "      <th>debt</th>\n",
              "      <th>total_income</th>\n",
              "      <th>purpose</th>\n",
              "      <th>years</th>\n",
              "      <th>children_yes_or_no</th>\n",
              "      <th>family_status_index</th>\n",
              "    </tr>\n",
              "  </thead>\n",
              "  <tbody>\n",
              "    <tr>\n",
              "      <th>17437</th>\n",
              "      <td>17437</td>\n",
              "      <td>1</td>\n",
              "      <td>24</td>\n",
              "      <td>31</td>\n",
              "      <td>среднее</td>\n",
              "      <td>1</td>\n",
              "      <td>женат / замужем</td>\n",
              "      <td>0</td>\n",
              "      <td>F</td>\n",
              "      <td>сотрудник</td>\n",
              "      <td>1</td>\n",
              "      <td>166952</td>\n",
              "      <td>высшее образование</td>\n",
              "      <td>3</td>\n",
              "      <td>1</td>\n",
              "      <td>1</td>\n",
              "    </tr>\n",
              "    <tr>\n",
              "      <th>8336</th>\n",
              "      <td>8336</td>\n",
              "      <td>0</td>\n",
              "      <td>24</td>\n",
              "      <td>32</td>\n",
              "      <td>высшее</td>\n",
              "      <td>0</td>\n",
              "      <td>не женат / не замужем</td>\n",
              "      <td>4</td>\n",
              "      <td>M</td>\n",
              "      <td>сотрудник</td>\n",
              "      <td>0</td>\n",
              "      <td>124115</td>\n",
              "      <td>получение дополнительного образования</td>\n",
              "      <td>3</td>\n",
              "      <td>0</td>\n",
              "      <td>0</td>\n",
              "    </tr>\n",
              "    <tr>\n",
              "      <th>6157</th>\n",
              "      <td>6157</td>\n",
              "      <td>2</td>\n",
              "      <td>30</td>\n",
              "      <td>47</td>\n",
              "      <td>среднее</td>\n",
              "      <td>1</td>\n",
              "      <td>гражданский брак</td>\n",
              "      <td>1</td>\n",
              "      <td>M</td>\n",
              "      <td>компаньон</td>\n",
              "      <td>0</td>\n",
              "      <td>231461</td>\n",
              "      <td>свадьба</td>\n",
              "      <td>4</td>\n",
              "      <td>1</td>\n",
              "      <td>1</td>\n",
              "    </tr>\n",
              "    <tr>\n",
              "      <th>9683</th>\n",
              "      <td>9683</td>\n",
              "      <td>0</td>\n",
              "      <td>33</td>\n",
              "      <td>43</td>\n",
              "      <td>среднее</td>\n",
              "      <td>1</td>\n",
              "      <td>не женат / не замужем</td>\n",
              "      <td>4</td>\n",
              "      <td>M</td>\n",
              "      <td>сотрудник</td>\n",
              "      <td>1</td>\n",
              "      <td>128555</td>\n",
              "      <td>приобретение автомобиля</td>\n",
              "      <td>4</td>\n",
              "      <td>0</td>\n",
              "      <td>0</td>\n",
              "    </tr>\n",
              "    <tr>\n",
              "      <th>2127</th>\n",
              "      <td>2127</td>\n",
              "      <td>1</td>\n",
              "      <td>34</td>\n",
              "      <td>31</td>\n",
              "      <td>высшее</td>\n",
              "      <td>0</td>\n",
              "      <td>женат / замужем</td>\n",
              "      <td>0</td>\n",
              "      <td>F</td>\n",
              "      <td>компаньон</td>\n",
              "      <td>0</td>\n",
              "      <td>90557</td>\n",
              "      <td>получение образования</td>\n",
              "      <td>3</td>\n",
              "      <td>1</td>\n",
              "      <td>1</td>\n",
              "    </tr>\n",
              "    <tr>\n",
              "      <th>...</th>\n",
              "      <td>...</td>\n",
              "      <td>...</td>\n",
              "      <td>...</td>\n",
              "      <td>...</td>\n",
              "      <td>...</td>\n",
              "      <td>...</td>\n",
              "      <td>...</td>\n",
              "      <td>...</td>\n",
              "      <td>...</td>\n",
              "      <td>...</td>\n",
              "      <td>...</td>\n",
              "      <td>...</td>\n",
              "      <td>...</td>\n",
              "      <td>...</td>\n",
              "      <td>...</td>\n",
              "      <td>...</td>\n",
              "    </tr>\n",
              "    <tr>\n",
              "      <th>7794</th>\n",
              "      <td>7794</td>\n",
              "      <td>0</td>\n",
              "      <td>401663</td>\n",
              "      <td>61</td>\n",
              "      <td>среднее</td>\n",
              "      <td>1</td>\n",
              "      <td>гражданский брак</td>\n",
              "      <td>1</td>\n",
              "      <td>F</td>\n",
              "      <td>пенсионер</td>\n",
              "      <td>0</td>\n",
              "      <td>48286</td>\n",
              "      <td>свадьба</td>\n",
              "      <td>6</td>\n",
              "      <td>0</td>\n",
              "      <td>1</td>\n",
              "    </tr>\n",
              "    <tr>\n",
              "      <th>2156</th>\n",
              "      <td>2156</td>\n",
              "      <td>0</td>\n",
              "      <td>401674</td>\n",
              "      <td>60</td>\n",
              "      <td>среднее</td>\n",
              "      <td>1</td>\n",
              "      <td>женат / замужем</td>\n",
              "      <td>0</td>\n",
              "      <td>M</td>\n",
              "      <td>пенсионер</td>\n",
              "      <td>0</td>\n",
              "      <td>325395</td>\n",
              "      <td>автомобили</td>\n",
              "      <td>6</td>\n",
              "      <td>0</td>\n",
              "      <td>1</td>\n",
              "    </tr>\n",
              "    <tr>\n",
              "      <th>7664</th>\n",
              "      <td>7664</td>\n",
              "      <td>1</td>\n",
              "      <td>401675</td>\n",
              "      <td>61</td>\n",
              "      <td>среднее</td>\n",
              "      <td>1</td>\n",
              "      <td>женат / замужем</td>\n",
              "      <td>0</td>\n",
              "      <td>F</td>\n",
              "      <td>пенсионер</td>\n",
              "      <td>0</td>\n",
              "      <td>126214</td>\n",
              "      <td>операции с жильем</td>\n",
              "      <td>6</td>\n",
              "      <td>1</td>\n",
              "      <td>1</td>\n",
              "    </tr>\n",
              "    <tr>\n",
              "      <th>10006</th>\n",
              "      <td>10006</td>\n",
              "      <td>0</td>\n",
              "      <td>401715</td>\n",
              "      <td>69</td>\n",
              "      <td>высшее</td>\n",
              "      <td>0</td>\n",
              "      <td>не женат / не замужем</td>\n",
              "      <td>4</td>\n",
              "      <td>F</td>\n",
              "      <td>пенсионер</td>\n",
              "      <td>0</td>\n",
              "      <td>57390</td>\n",
              "      <td>получение образования</td>\n",
              "      <td>6</td>\n",
              "      <td>0</td>\n",
              "      <td>0</td>\n",
              "    </tr>\n",
              "    <tr>\n",
              "      <th>6954</th>\n",
              "      <td>6954</td>\n",
              "      <td>0</td>\n",
              "      <td>401755</td>\n",
              "      <td>56</td>\n",
              "      <td>среднее</td>\n",
              "      <td>1</td>\n",
              "      <td>вдовец / вдова</td>\n",
              "      <td>2</td>\n",
              "      <td>F</td>\n",
              "      <td>пенсионер</td>\n",
              "      <td>0</td>\n",
              "      <td>176278</td>\n",
              "      <td>ремонт жилью</td>\n",
              "      <td>5</td>\n",
              "      <td>0</td>\n",
              "      <td>0</td>\n",
              "    </tr>\n",
              "  </tbody>\n",
              "</table>\n",
              "<p>21522 rows × 16 columns</p>\n",
              "</div>"
            ],
            "text/plain": [
              "       Unnamed: 0  children  ...  children_yes_or_no  family_status_index\n",
              "17437       17437         1  ...                   1                    1\n",
              "8336         8336         0  ...                   0                    0\n",
              "6157         6157         2  ...                   1                    1\n",
              "9683         9683         0  ...                   0                    0\n",
              "2127         2127         1  ...                   1                    1\n",
              "...           ...       ...  ...                 ...                  ...\n",
              "7794         7794         0  ...                   0                    1\n",
              "2156         2156         0  ...                   0                    1\n",
              "7664         7664         1  ...                   1                    1\n",
              "10006       10006         0  ...                   0                    0\n",
              "6954         6954         0  ...                   0                    0\n",
              "\n",
              "[21522 rows x 16 columns]"
            ]
          },
          "metadata": {
            "tags": []
          },
          "execution_count": 85
        }
      ]
    },
    {
      "cell_type": "code",
      "metadata": {
        "colab": {
          "base_uri": "https://localhost:8080/",
          "height": 282
        },
        "id": "9XaRrC8CD6vl",
        "outputId": "9d33a8a6-2f49-4674-8cf4-7d757a59dcbe"
      },
      "source": [
        "plt.scatter(data.dob_years,data.days_employed)"
      ],
      "execution_count": 88,
      "outputs": [
        {
          "output_type": "execute_result",
          "data": {
            "text/plain": [
              "<matplotlib.collections.PathCollection at 0x7f23fb0bdb10>"
            ]
          },
          "metadata": {
            "tags": []
          },
          "execution_count": 88
        },
        {
          "output_type": "display_data",
          "data": {
            "image/png": "[encoded data removed]",
            "text/plain": [
              "<Figure size 432x288 with 1 Axes>"
            ]
          },
          "metadata": {
            "tags": [],
            "needs_background": "light"
          }
        }
      ]
    },
    {
      "cell_type": "code",
      "metadata": {
        "id": "Ewn6MibmDmhp"
      },
      "source": [
        ""
      ],
      "execution_count": null,
      "outputs": []
    },
    {
      "cell_type": "markdown",
      "metadata": {
        "id": "gRP9J5nrL1ai"
      },
      "source": [
        "**Вывод**"
      ]
    },
    {
      "cell_type": "markdown",
      "metadata": {
        "id": "4A28ogM0L1aj"
      },
      "source": [
        "Используя функции .isnull().sum() видим, что в столбцах days_employed и total_income пропущено одинаковое количество значений - 2174. После отфильтровки строк с пропущенными значениями при помощи логической индексации, видим, что общее количество строк с пропущенными значениями 2174. Это означает что в каждой из таких сторок пропущены сразу два значения: days_employed и total_income. Это выглядим логичным, так как люди без работы не имеют дохода. Проверяем эту гипотезу. \n",
        "\n",
        "Вызовом функции unique() сморим, как обозначены люди без дохода и видим, что есть отдельная категория 'безработный'. При проверке уникальных значений для таблицы с пропущенными значениями missing_data, видим, что безработные туда не входят. Значит, значения пропущены случайным образом. \n",
        "\n",
        "Все пропуски помечены NaN. Их необходимо заполнить медианными данными для соответствующих категорий занятости ('пенсионер' 'госслужащий' 'компаньон' 'сотрудник' 'предприниматель'). Перед рассчетом медианы, избавимся от отрицательныз значений в столбце 'days_employed', сохранив их как положительные.  \n",
        "\n",
        "Заполним пропуски на медианные значения для соответствующих категорий используя метод apply(). Затем проверим заполнение вызовом функции isnull().sum(). Пропущенных значений больше нет.  "
      ]
    },
    {
      "cell_type": "markdown",
      "metadata": {
        "id": "E1AwAMUxL1ak"
      },
      "source": [
        "<div class=\"alert alert-success\" style=\"border-radius: 15px; box-shadow: 4px 4px 4px; border: 1px solid \">\n",
        "<h2> Комментарий ревьюера</h2>\n",
        "    \n",
        "Да, очень похоже на то, что пропуски случайны. Скорее всего имеем склейку разных таблиц.</div>"
      ]
    },
    {
      "cell_type": "markdown",
      "metadata": {
        "id": "x6IL59cmL1al"
      },
      "source": [
        "### Замена типа данных"
      ]
    },
    {
      "cell_type": "code",
      "metadata": {
        "trusted": true,
        "id": "GaSVBYjyL1al"
      },
      "source": [
        "data['days_employed'] = data['days_employed'].astype(int)\n",
        "data['total_income'] = data['total_income'].astype(int)\n",
        "       "
      ],
      "execution_count": 31,
      "outputs": []
    },
    {
      "cell_type": "markdown",
      "metadata": {
        "id": "z3NCzFuPL1am"
      },
      "source": [
        ""
      ]
    },
    {
      "cell_type": "markdown",
      "metadata": {
        "id": "f77IUegHL1am"
      },
      "source": [
        "Вывод\n",
        "\n",
        "Для удобства работы с данными, заменим тип данных столбцов days_employed и total_income с float на integer испольщуя метод .astype(int). Десятичные цифры в данном случае не важны, их можно опустить для ускорения времени обработки.\n"
      ]
    },
    {
      "cell_type": "markdown",
      "metadata": {
        "id": "ddn8hWpkL1am"
      },
      "source": [
        "### Обработка дубликатов"
      ]
    },
    {
      "cell_type": "code",
      "metadata": {
        "trusted": true,
        "colab": {
          "base_uri": "https://localhost:8080/"
        },
        "id": "N49R0cFxL1an",
        "outputId": "95d1dddc-dec1-41a1-e340-2ae7c817fab0"
      },
      "source": [
        "from collections import Counter\n",
        "print(Counter(data['education']))\n",
        "data['education'] = data['education'].str.lower()\n",
        "print(Counter(data['education']))\n",
        "\n",
        "print(Counter(data['family_status']))\n",
        "data['family_status'] = data['family_status'].str.lower()\n",
        "print(Counter(data['family_status']))\n",
        "print(Counter(data['income_type']))\n",
        "print(Counter(data['purpose']))\n",
        "print(Counter(data['gender']))\n",
        "\n",
        "print(data.duplicated().sum()) \n",
        "print(data.shape)\n",
        "\n",
        "data.drop_duplicates(keep = 'first', inplace = True)\n",
        "\n",
        "print(data.duplicated().sum()) \n",
        "print(data.shape)"
      ],
      "execution_count": 32,
      "outputs": [
        {
          "output_type": "stream",
          "text": [
            "Counter({'среднее': 13750, 'высшее': 4717, 'СРЕДНЕЕ': 772, 'Среднее': 711, 'неоконченное высшее': 668, 'ВЫСШЕЕ': 274, 'Высшее': 268, 'начальное': 248, 'Неоконченное высшее': 47, 'НЕОКОНЧЕННОЕ ВЫСШЕЕ': 29, 'НАЧАЛЬНОЕ': 17, 'Начальное': 15, 'ученая степень': 4, 'Ученая степень': 1, 'УЧЕНАЯ СТЕПЕНЬ': 1})\n",
            "Counter({'среднее': 15233, 'высшее': 5259, 'неоконченное высшее': 744, 'начальное': 280, 'ученая степень': 6})\n",
            "Counter({'женат / замужем': 12379, 'гражданский брак': 4175, 'Не женат / не замужем': 2813, 'в разводе': 1195, 'вдовец / вдова': 960})\n",
            "Counter({'женат / замужем': 12379, 'гражданский брак': 4175, 'не женат / не замужем': 2813, 'в разводе': 1195, 'вдовец / вдова': 960})\n",
            "Counter({'сотрудник': 11118, 'компаньон': 5085, 'пенсионер': 3856, 'госслужащий': 1458, 'безработный': 2, 'студент': 1, 'предприниматель': 1, 'в декрете': 1})\n",
            "Counter({'свадьба': 797, 'на проведение свадьбы': 777, 'сыграть свадьбу': 773, 'операции с недвижимостью': 676, 'покупка коммерческой недвижимости': 664, 'операции с жильем': 653, 'покупка жилья для сдачи': 653, 'операции с коммерческой недвижимостью': 650, 'покупка жилья': 647, 'жилье': 647, 'покупка жилья для семьи': 641, 'строительство собственной недвижимости': 635, 'недвижимость': 634, 'операции со своей недвижимостью': 630, 'строительство жилой недвижимости': 626, 'покупка недвижимости': 624, 'строительство недвижимости': 620, 'покупка своего жилья': 620, 'ремонт жилью': 612, 'покупка жилой недвижимости': 606, 'на покупку своего автомобиля': 505, 'заняться высшим образованием': 496, 'автомобиль': 495, 'сделка с подержанным автомобилем': 489, 'свой автомобиль': 480, 'на покупку подержанного автомобиля': 479, 'автомобили': 478, 'на покупку автомобиля': 472, 'приобретение автомобиля': 462, 'дополнительное образование': 462, 'сделка с автомобилем': 455, 'высшее образование': 453, 'образование': 447, 'получение дополнительного образования': 447, 'получение образования': 443, 'профильное образование': 436, 'получение высшего образования': 426, 'заняться образованием': 412})\n",
            "Counter({'F': 14234, 'M': 7287, 'XNA': 1})\n",
            "0\n",
            "(21522, 14)\n",
            "0\n",
            "(21522, 14)\n"
          ],
          "name": "stdout"
        }
      ]
    },
    {
      "cell_type": "markdown",
      "metadata": {
        "id": "woMEtDFjL1an"
      },
      "source": [
        "<div class=\"alert alert-success\" style=\"border-radius: 15px; box-shadow: 4px 4px 4px; border: 1px solid \">\n",
        "<h2> Комментарий ревьюера</h2>\n",
        "    \n",
        "Поскольку у нас нет уникальных идентификаторов пользователей, эти дубликаты вполне могут быть разными людьми. А вот дубликаты записей в столбцах вроде **Среднее** образование и **среднее** образование удалить надо было (путем приведения к одному регистру), это верно. </div>"
      ]
    },
    {
      "cell_type": "markdown",
      "metadata": {
        "id": "Ktn-l2yxL1ao"
      },
      "source": [
        "**Вывод**"
      ]
    },
    {
      "cell_type": "markdown",
      "metadata": {
        "id": "aFuMlrxlL1ao"
      },
      "source": [
        "1) Методом Counter проверим количества уникальных значений для столбцов типа object. Видим, что в столбцах 'education' и 'family_status' много дубликатов из-за использования заглавных букв. Приведем содержимое этих двух столбцов к единому формату используя функцию str.lower(). Проверим результат методом Counter.\n",
        "2) Вызовом функции duplicated() находим общее количество дупликатов в таблице. Методом drop_duplicates удаляем полные дубликаты в таблице, оставляя первую строку при помощи keep = 'first' и избавляясь только от дублирующей строки. Проверяем результат методом shape до и после удаления. Видим, что удалены только 71 дублирующих строки. Полные дубликаты могли появиться при объединении нескольких меньших датасетов в один большой.\n"
      ]
    },
    {
      "cell_type": "markdown",
      "metadata": {
        "id": "sXtUAeKwL1ao"
      },
      "source": [
        "<div class=\"alert alert-danger\" style=\"border-radius: 15px; box-shadow: 4px 4px 4px; border: 1px solid\">\n",
        "<h2> Комментарий ревьюера </h2>\n",
        "    \n",
        "В задаче нас просят обратить внимание на словари. Словарем можно назвать пару столбцов `education` и `education_id`, поскольку они взаимозаменяемы и из них можно слепить словарь (структуру данных dict). Есть еще что-нибудь подобное в таблице?\n",
        "</div>"
      ]
    },
    {
      "cell_type": "markdown",
      "metadata": {
        "id": "ONY_ahD_L1ap"
      },
      "source": [
        "### Лемматизация"
      ]
    },
    {
      "cell_type": "code",
      "metadata": {
        "scrolled": true,
        "trusted": true,
        "id": "y7YO3kYCL1ap",
        "colab": {
          "base_uri": "https://localhost:8080/",
          "height": 453
        },
        "outputId": "7e739c41-095b-4aa1-e4e8-72f75ff9e60a"
      },
      "source": [
        "from pymystem3 import Mystem\n",
        "m = Mystem()\n",
        "lemmas = [[m.lemmatize(word) for word in data['purpose']]]  \n",
        "print(lemmas)\n"
      ],
      "execution_count": 33,
      "outputs": [
        {
          "output_type": "stream",
          "text": [
            "Installing mystem to /root/.local/bin/mystem from http://download.cdn.yandex.net/mystem/mystem-3.1-linux-64bit.tar.gz\n"
          ],
          "name": "stderr"
        },
        {
          "output_type": "error",
          "ename": "KeyboardInterrupt",
          "evalue": "ignored",
          "traceback": [
            "\u001b[0;31m---------------------------------------------------------------------------\u001b[0m",
            "\u001b[0;31mStopIteration\u001b[0m                             Traceback (most recent call last)",
            "\u001b[0;32m/usr/lib/python3.7/json/decoder.py\u001b[0m in \u001b[0;36mraw_decode\u001b[0;34m(self, s, idx)\u001b[0m\n\u001b[1;32m    352\u001b[0m         \u001b[0;32mtry\u001b[0m\u001b[0;34m:\u001b[0m\u001b[0;34m\u001b[0m\u001b[0;34m\u001b[0m\u001b[0m\n\u001b[0;32m--> 353\u001b[0;31m             \u001b[0mobj\u001b[0m\u001b[0;34m,\u001b[0m \u001b[0mend\u001b[0m \u001b[0;34m=\u001b[0m \u001b[0mself\u001b[0m\u001b[0;34m.\u001b[0m\u001b[0mscan_once\u001b[0m\u001b[0;34m(\u001b[0m\u001b[0ms\u001b[0m\u001b[0;34m,\u001b[0m \u001b[0midx\u001b[0m\u001b[0;34m)\u001b[0m\u001b[0;34m\u001b[0m\u001b[0;34m\u001b[0m\u001b[0m\n\u001b[0m\u001b[1;32m    354\u001b[0m         \u001b[0;32mexcept\u001b[0m \u001b[0mStopIteration\u001b[0m \u001b[0;32mas\u001b[0m \u001b[0merr\u001b[0m\u001b[0;34m:\u001b[0m\u001b[0;34m\u001b[0m\u001b[0;34m\u001b[0m\u001b[0m\n",
            "\u001b[0;31mStopIteration\u001b[0m: 0",
            "\nDuring handling of the above exception, another exception occurred:\n",
            "\u001b[0;31mKeyboardInterrupt\u001b[0m                         Traceback (most recent call last)",
            "\u001b[0;32m<ipython-input-33-b0e5fb2b7379>\u001b[0m in \u001b[0;36m<module>\u001b[0;34m()\u001b[0m\n\u001b[1;32m      1\u001b[0m \u001b[0;32mfrom\u001b[0m \u001b[0mpymystem3\u001b[0m \u001b[0;32mimport\u001b[0m \u001b[0mMystem\u001b[0m\u001b[0;34m\u001b[0m\u001b[0;34m\u001b[0m\u001b[0m\n\u001b[1;32m      2\u001b[0m \u001b[0mm\u001b[0m \u001b[0;34m=\u001b[0m \u001b[0mMystem\u001b[0m\u001b[0;34m(\u001b[0m\u001b[0;34m)\u001b[0m\u001b[0;34m\u001b[0m\u001b[0;34m\u001b[0m\u001b[0m\n\u001b[0;32m----> 3\u001b[0;31m \u001b[0mlemmas\u001b[0m \u001b[0;34m=\u001b[0m \u001b[0;34m[\u001b[0m\u001b[0;34m[\u001b[0m\u001b[0mm\u001b[0m\u001b[0;34m.\u001b[0m\u001b[0mlemmatize\u001b[0m\u001b[0;34m(\u001b[0m\u001b[0mword\u001b[0m\u001b[0;34m)\u001b[0m \u001b[0;32mfor\u001b[0m \u001b[0mword\u001b[0m \u001b[0;32min\u001b[0m \u001b[0mdata\u001b[0m\u001b[0;34m[\u001b[0m\u001b[0;34m'purpose'\u001b[0m\u001b[0;34m]\u001b[0m\u001b[0;34m]\u001b[0m\u001b[0;34m]\u001b[0m\u001b[0;34m\u001b[0m\u001b[0;34m\u001b[0m\u001b[0m\n\u001b[0m\u001b[1;32m      4\u001b[0m \u001b[0mprint\u001b[0m\u001b[0;34m(\u001b[0m\u001b[0mlemmas\u001b[0m\u001b[0;34m)\u001b[0m\u001b[0;34m\u001b[0m\u001b[0;34m\u001b[0m\u001b[0m\n",
            "\u001b[0;32m<ipython-input-33-b0e5fb2b7379>\u001b[0m in \u001b[0;36m<listcomp>\u001b[0;34m(.0)\u001b[0m\n\u001b[1;32m      1\u001b[0m \u001b[0;32mfrom\u001b[0m \u001b[0mpymystem3\u001b[0m \u001b[0;32mimport\u001b[0m \u001b[0mMystem\u001b[0m\u001b[0;34m\u001b[0m\u001b[0;34m\u001b[0m\u001b[0m\n\u001b[1;32m      2\u001b[0m \u001b[0mm\u001b[0m \u001b[0;34m=\u001b[0m \u001b[0mMystem\u001b[0m\u001b[0;34m(\u001b[0m\u001b[0;34m)\u001b[0m\u001b[0;34m\u001b[0m\u001b[0;34m\u001b[0m\u001b[0m\n\u001b[0;32m----> 3\u001b[0;31m \u001b[0mlemmas\u001b[0m \u001b[0;34m=\u001b[0m \u001b[0;34m[\u001b[0m\u001b[0;34m[\u001b[0m\u001b[0mm\u001b[0m\u001b[0;34m.\u001b[0m\u001b[0mlemmatize\u001b[0m\u001b[0;34m(\u001b[0m\u001b[0mword\u001b[0m\u001b[0;34m)\u001b[0m \u001b[0;32mfor\u001b[0m \u001b[0mword\u001b[0m \u001b[0;32min\u001b[0m \u001b[0mdata\u001b[0m\u001b[0;34m[\u001b[0m\u001b[0;34m'purpose'\u001b[0m\u001b[0;34m]\u001b[0m\u001b[0;34m]\u001b[0m\u001b[0;34m]\u001b[0m\u001b[0;34m\u001b[0m\u001b[0;34m\u001b[0m\u001b[0m\n\u001b[0m\u001b[1;32m      4\u001b[0m \u001b[0mprint\u001b[0m\u001b[0;34m(\u001b[0m\u001b[0mlemmas\u001b[0m\u001b[0;34m)\u001b[0m\u001b[0;34m\u001b[0m\u001b[0;34m\u001b[0m\u001b[0m\n",
            "\u001b[0;32m/usr/local/lib/python3.7/dist-packages/pymystem3/mystem.py\u001b[0m in \u001b[0;36mlemmatize\u001b[0;34m(self, text)\u001b[0m\n\u001b[1;32m    263\u001b[0m         \u001b[0mneed_encode\u001b[0m \u001b[0;34m=\u001b[0m \u001b[0;34m(\u001b[0m\u001b[0msys\u001b[0m\u001b[0;34m.\u001b[0m\u001b[0mversion_info\u001b[0m\u001b[0;34m[\u001b[0m\u001b[0;36m0\u001b[0m\u001b[0;34m]\u001b[0m \u001b[0;34m<\u001b[0m \u001b[0;36m3\u001b[0m \u001b[0;32mand\u001b[0m \u001b[0misinstance\u001b[0m\u001b[0;34m(\u001b[0m\u001b[0mtext\u001b[0m\u001b[0;34m,\u001b[0m \u001b[0mstr\u001b[0m\u001b[0;34m)\u001b[0m\u001b[0;34m)\u001b[0m\u001b[0;34m\u001b[0m\u001b[0;34m\u001b[0m\u001b[0m\n\u001b[1;32m    264\u001b[0m \u001b[0;34m\u001b[0m\u001b[0m\n\u001b[0;32m--> 265\u001b[0;31m         \u001b[0minfos\u001b[0m \u001b[0;34m=\u001b[0m \u001b[0mself\u001b[0m\u001b[0;34m.\u001b[0m\u001b[0manalyze\u001b[0m\u001b[0;34m(\u001b[0m\u001b[0mtext\u001b[0m\u001b[0;34m)\u001b[0m\u001b[0;34m\u001b[0m\u001b[0;34m\u001b[0m\u001b[0m\n\u001b[0m\u001b[1;32m    266\u001b[0m         \u001b[0mlemmas\u001b[0m \u001b[0;34m=\u001b[0m \u001b[0mlist\u001b[0m\u001b[0;34m(\u001b[0m\u001b[0mfilter\u001b[0m\u001b[0;34m(\u001b[0m\u001b[0;32mNone\u001b[0m\u001b[0;34m,\u001b[0m \u001b[0mmap\u001b[0m\u001b[0;34m(\u001b[0m\u001b[0mself\u001b[0m\u001b[0;34m.\u001b[0m\u001b[0m_get_lemma\u001b[0m\u001b[0;34m,\u001b[0m \u001b[0minfos\u001b[0m\u001b[0;34m)\u001b[0m\u001b[0;34m)\u001b[0m\u001b[0;34m)\u001b[0m\u001b[0;34m\u001b[0m\u001b[0;34m\u001b[0m\u001b[0m\n\u001b[1;32m    267\u001b[0m \u001b[0;34m\u001b[0m\u001b[0m\n",
            "\u001b[0;32m/usr/local/lib/python3.7/dist-packages/pymystem3/mystem.py\u001b[0m in \u001b[0;36manalyze\u001b[0;34m(self, text)\u001b[0m\n\u001b[1;32m    248\u001b[0m         \u001b[0mresult\u001b[0m \u001b[0;34m=\u001b[0m \u001b[0;34m[\u001b[0m\u001b[0;34m]\u001b[0m\u001b[0;34m\u001b[0m\u001b[0;34m\u001b[0m\u001b[0m\n\u001b[1;32m    249\u001b[0m         \u001b[0;32mfor\u001b[0m \u001b[0mline\u001b[0m \u001b[0;32min\u001b[0m \u001b[0mtext\u001b[0m\u001b[0;34m.\u001b[0m\u001b[0msplitlines\u001b[0m\u001b[0;34m(\u001b[0m\u001b[0;34m)\u001b[0m\u001b[0;34m:\u001b[0m\u001b[0;34m\u001b[0m\u001b[0;34m\u001b[0m\u001b[0m\n\u001b[0;32m--> 250\u001b[0;31m             \u001b[0mresult\u001b[0m\u001b[0;34m.\u001b[0m\u001b[0mextend\u001b[0m\u001b[0;34m(\u001b[0m\u001b[0mself\u001b[0m\u001b[0;34m.\u001b[0m\u001b[0m_analyze_impl\u001b[0m\u001b[0;34m(\u001b[0m\u001b[0mline\u001b[0m\u001b[0;34m)\u001b[0m\u001b[0;34m)\u001b[0m\u001b[0;34m\u001b[0m\u001b[0;34m\u001b[0m\u001b[0m\n\u001b[0m\u001b[1;32m    251\u001b[0m         \u001b[0;32mreturn\u001b[0m \u001b[0mresult\u001b[0m\u001b[0;34m\u001b[0m\u001b[0;34m\u001b[0m\u001b[0m\n\u001b[1;32m    252\u001b[0m \u001b[0;34m\u001b[0m\u001b[0m\n",
            "\u001b[0;32m/usr/local/lib/python3.7/dist-packages/pymystem3/mystem.py\u001b[0m in \u001b[0;36m_analyze_impl\u001b[0;34m(self, text)\u001b[0m\n\u001b[1;32m    291\u001b[0m                     \u001b[0mout\u001b[0m \u001b[0;34m=\u001b[0m \u001b[0mself\u001b[0m\u001b[0;34m.\u001b[0m\u001b[0m_procout\u001b[0m\u001b[0;34m.\u001b[0m\u001b[0mread\u001b[0m\u001b[0;34m(\u001b[0m\u001b[0;34m)\u001b[0m\u001b[0;34m\u001b[0m\u001b[0;34m\u001b[0m\u001b[0m\n\u001b[1;32m    292\u001b[0m                     \u001b[0msio\u001b[0m\u001b[0;34m.\u001b[0m\u001b[0mwrite\u001b[0m\u001b[0;34m(\u001b[0m\u001b[0mout\u001b[0m\u001b[0;34m)\u001b[0m\u001b[0;34m\u001b[0m\u001b[0;34m\u001b[0m\u001b[0m\n\u001b[0;32m--> 293\u001b[0;31m                     \u001b[0mobj\u001b[0m \u001b[0;34m=\u001b[0m \u001b[0mjson\u001b[0m\u001b[0;34m.\u001b[0m\u001b[0mloads\u001b[0m\u001b[0;34m(\u001b[0m\u001b[0msio\u001b[0m\u001b[0;34m.\u001b[0m\u001b[0mgetvalue\u001b[0m\u001b[0;34m(\u001b[0m\u001b[0;34m)\u001b[0m\u001b[0;34m.\u001b[0m\u001b[0mdecode\u001b[0m\u001b[0;34m(\u001b[0m\u001b[0;34m'utf-8'\u001b[0m\u001b[0;34m)\u001b[0m\u001b[0;34m)\u001b[0m\u001b[0;34m\u001b[0m\u001b[0;34m\u001b[0m\u001b[0m\n\u001b[0m\u001b[1;32m    294\u001b[0m                     \u001b[0;32mbreak\u001b[0m\u001b[0;34m\u001b[0m\u001b[0;34m\u001b[0m\u001b[0m\n\u001b[1;32m    295\u001b[0m                 \u001b[0;32mexcept\u001b[0m \u001b[0;34m(\u001b[0m\u001b[0mIOError\u001b[0m\u001b[0;34m,\u001b[0m \u001b[0mValueError\u001b[0m\u001b[0;34m)\u001b[0m\u001b[0;34m:\u001b[0m\u001b[0;34m\u001b[0m\u001b[0;34m\u001b[0m\u001b[0m\n",
            "\u001b[0;32m/usr/lib/python3.7/json/__init__.py\u001b[0m in \u001b[0;36mloads\u001b[0;34m(s, encoding, cls, object_hook, parse_float, parse_int, parse_constant, object_pairs_hook, **kw)\u001b[0m\n\u001b[1;32m    346\u001b[0m             \u001b[0mparse_int\u001b[0m \u001b[0;32mis\u001b[0m \u001b[0;32mNone\u001b[0m \u001b[0;32mand\u001b[0m \u001b[0mparse_float\u001b[0m \u001b[0;32mis\u001b[0m \u001b[0;32mNone\u001b[0m \u001b[0;32mand\u001b[0m\u001b[0;34m\u001b[0m\u001b[0;34m\u001b[0m\u001b[0m\n\u001b[1;32m    347\u001b[0m             parse_constant is None and object_pairs_hook is None and not kw):\n\u001b[0;32m--> 348\u001b[0;31m         \u001b[0;32mreturn\u001b[0m \u001b[0m_default_decoder\u001b[0m\u001b[0;34m.\u001b[0m\u001b[0mdecode\u001b[0m\u001b[0;34m(\u001b[0m\u001b[0ms\u001b[0m\u001b[0;34m)\u001b[0m\u001b[0;34m\u001b[0m\u001b[0;34m\u001b[0m\u001b[0m\n\u001b[0m\u001b[1;32m    349\u001b[0m     \u001b[0;32mif\u001b[0m \u001b[0mcls\u001b[0m \u001b[0;32mis\u001b[0m \u001b[0;32mNone\u001b[0m\u001b[0;34m:\u001b[0m\u001b[0;34m\u001b[0m\u001b[0;34m\u001b[0m\u001b[0m\n\u001b[1;32m    350\u001b[0m         \u001b[0mcls\u001b[0m \u001b[0;34m=\u001b[0m \u001b[0mJSONDecoder\u001b[0m\u001b[0;34m\u001b[0m\u001b[0;34m\u001b[0m\u001b[0m\n",
            "\u001b[0;32m/usr/lib/python3.7/json/decoder.py\u001b[0m in \u001b[0;36mdecode\u001b[0;34m(self, s, _w)\u001b[0m\n\u001b[1;32m    335\u001b[0m \u001b[0;34m\u001b[0m\u001b[0m\n\u001b[1;32m    336\u001b[0m         \"\"\"\n\u001b[0;32m--> 337\u001b[0;31m         \u001b[0mobj\u001b[0m\u001b[0;34m,\u001b[0m \u001b[0mend\u001b[0m \u001b[0;34m=\u001b[0m \u001b[0mself\u001b[0m\u001b[0;34m.\u001b[0m\u001b[0mraw_decode\u001b[0m\u001b[0;34m(\u001b[0m\u001b[0ms\u001b[0m\u001b[0;34m,\u001b[0m \u001b[0midx\u001b[0m\u001b[0;34m=\u001b[0m\u001b[0m_w\u001b[0m\u001b[0;34m(\u001b[0m\u001b[0ms\u001b[0m\u001b[0;34m,\u001b[0m \u001b[0;36m0\u001b[0m\u001b[0;34m)\u001b[0m\u001b[0;34m.\u001b[0m\u001b[0mend\u001b[0m\u001b[0;34m(\u001b[0m\u001b[0;34m)\u001b[0m\u001b[0;34m)\u001b[0m\u001b[0;34m\u001b[0m\u001b[0;34m\u001b[0m\u001b[0m\n\u001b[0m\u001b[1;32m    338\u001b[0m         \u001b[0mend\u001b[0m \u001b[0;34m=\u001b[0m \u001b[0m_w\u001b[0m\u001b[0;34m(\u001b[0m\u001b[0ms\u001b[0m\u001b[0;34m,\u001b[0m \u001b[0mend\u001b[0m\u001b[0;34m)\u001b[0m\u001b[0;34m.\u001b[0m\u001b[0mend\u001b[0m\u001b[0;34m(\u001b[0m\u001b[0;34m)\u001b[0m\u001b[0;34m\u001b[0m\u001b[0;34m\u001b[0m\u001b[0m\n\u001b[1;32m    339\u001b[0m         \u001b[0;32mif\u001b[0m \u001b[0mend\u001b[0m \u001b[0;34m!=\u001b[0m \u001b[0mlen\u001b[0m\u001b[0;34m(\u001b[0m\u001b[0ms\u001b[0m\u001b[0;34m)\u001b[0m\u001b[0;34m:\u001b[0m\u001b[0;34m\u001b[0m\u001b[0;34m\u001b[0m\u001b[0m\n",
            "\u001b[0;32m/usr/lib/python3.7/json/decoder.py\u001b[0m in \u001b[0;36mraw_decode\u001b[0;34m(self, s, idx)\u001b[0m\n\u001b[1;32m    353\u001b[0m             \u001b[0mobj\u001b[0m\u001b[0;34m,\u001b[0m \u001b[0mend\u001b[0m \u001b[0;34m=\u001b[0m \u001b[0mself\u001b[0m\u001b[0;34m.\u001b[0m\u001b[0mscan_once\u001b[0m\u001b[0;34m(\u001b[0m\u001b[0ms\u001b[0m\u001b[0;34m,\u001b[0m \u001b[0midx\u001b[0m\u001b[0;34m)\u001b[0m\u001b[0;34m\u001b[0m\u001b[0;34m\u001b[0m\u001b[0m\n\u001b[1;32m    354\u001b[0m         \u001b[0;32mexcept\u001b[0m \u001b[0mStopIteration\u001b[0m \u001b[0;32mas\u001b[0m \u001b[0merr\u001b[0m\u001b[0;34m:\u001b[0m\u001b[0;34m\u001b[0m\u001b[0;34m\u001b[0m\u001b[0m\n\u001b[0;32m--> 355\u001b[0;31m             \u001b[0;32mraise\u001b[0m \u001b[0mJSONDecodeError\u001b[0m\u001b[0;34m(\u001b[0m\u001b[0;34m\"Expecting value\"\u001b[0m\u001b[0;34m,\u001b[0m \u001b[0ms\u001b[0m\u001b[0;34m,\u001b[0m \u001b[0merr\u001b[0m\u001b[0;34m.\u001b[0m\u001b[0mvalue\u001b[0m\u001b[0;34m)\u001b[0m \u001b[0;32mfrom\u001b[0m \u001b[0;32mNone\u001b[0m\u001b[0;34m\u001b[0m\u001b[0;34m\u001b[0m\u001b[0m\n\u001b[0m\u001b[1;32m    356\u001b[0m         \u001b[0;32mreturn\u001b[0m \u001b[0mobj\u001b[0m\u001b[0;34m,\u001b[0m \u001b[0mend\u001b[0m\u001b[0;34m\u001b[0m\u001b[0;34m\u001b[0m\u001b[0m\n",
            "\u001b[0;32m/usr/lib/python3.7/json/decoder.py\u001b[0m in \u001b[0;36m__init__\u001b[0;34m(self, msg, doc, pos)\u001b[0m\n\u001b[1;32m     31\u001b[0m     \u001b[0;32mdef\u001b[0m \u001b[0m__init__\u001b[0m\u001b[0;34m(\u001b[0m\u001b[0mself\u001b[0m\u001b[0;34m,\u001b[0m \u001b[0mmsg\u001b[0m\u001b[0;34m,\u001b[0m \u001b[0mdoc\u001b[0m\u001b[0;34m,\u001b[0m \u001b[0mpos\u001b[0m\u001b[0;34m)\u001b[0m\u001b[0;34m:\u001b[0m\u001b[0;34m\u001b[0m\u001b[0;34m\u001b[0m\u001b[0m\n\u001b[1;32m     32\u001b[0m         \u001b[0mlineno\u001b[0m \u001b[0;34m=\u001b[0m \u001b[0mdoc\u001b[0m\u001b[0;34m.\u001b[0m\u001b[0mcount\u001b[0m\u001b[0;34m(\u001b[0m\u001b[0;34m'\\n'\u001b[0m\u001b[0;34m,\u001b[0m \u001b[0;36m0\u001b[0m\u001b[0;34m,\u001b[0m \u001b[0mpos\u001b[0m\u001b[0;34m)\u001b[0m \u001b[0;34m+\u001b[0m \u001b[0;36m1\u001b[0m\u001b[0;34m\u001b[0m\u001b[0;34m\u001b[0m\u001b[0m\n\u001b[0;32m---> 33\u001b[0;31m         \u001b[0mcolno\u001b[0m \u001b[0;34m=\u001b[0m \u001b[0mpos\u001b[0m \u001b[0;34m-\u001b[0m \u001b[0mdoc\u001b[0m\u001b[0;34m.\u001b[0m\u001b[0mrfind\u001b[0m\u001b[0;34m(\u001b[0m\u001b[0;34m'\\n'\u001b[0m\u001b[0;34m,\u001b[0m \u001b[0;36m0\u001b[0m\u001b[0;34m,\u001b[0m \u001b[0mpos\u001b[0m\u001b[0;34m)\u001b[0m\u001b[0;34m\u001b[0m\u001b[0;34m\u001b[0m\u001b[0m\n\u001b[0m\u001b[1;32m     34\u001b[0m         \u001b[0merrmsg\u001b[0m \u001b[0;34m=\u001b[0m \u001b[0;34m'%s: line %d column %d (char %d)'\u001b[0m \u001b[0;34m%\u001b[0m \u001b[0;34m(\u001b[0m\u001b[0mmsg\u001b[0m\u001b[0;34m,\u001b[0m \u001b[0mlineno\u001b[0m\u001b[0;34m,\u001b[0m \u001b[0mcolno\u001b[0m\u001b[0;34m,\u001b[0m \u001b[0mpos\u001b[0m\u001b[0;34m)\u001b[0m\u001b[0;34m\u001b[0m\u001b[0;34m\u001b[0m\u001b[0m\n\u001b[1;32m     35\u001b[0m         \u001b[0mValueError\u001b[0m\u001b[0;34m.\u001b[0m\u001b[0m__init__\u001b[0m\u001b[0;34m(\u001b[0m\u001b[0mself\u001b[0m\u001b[0;34m,\u001b[0m \u001b[0merrmsg\u001b[0m\u001b[0;34m)\u001b[0m\u001b[0;34m\u001b[0m\u001b[0;34m\u001b[0m\u001b[0m\n",
            "\u001b[0;31mKeyboardInterrupt\u001b[0m: "
          ]
        }
      ]
    },
    {
      "cell_type": "markdown",
      "metadata": {
        "id": "mqgEE2AZL1ap"
      },
      "source": [
        "**Вывод**"
      ]
    },
    {
      "cell_type": "markdown",
      "metadata": {
        "id": "SCMOfbz1L1aq"
      },
      "source": [
        "Лемматизируем строки в столбце 'purpose'. Для этого выделим основу каждого слова word в столбце и сохраним как переменную lemmas.\n",
        "\n"
      ]
    },
    {
      "cell_type": "markdown",
      "metadata": {
        "id": "uI6q4uvTL1aq"
      },
      "source": [
        "### Категоризация данных"
      ]
    },
    {
      "cell_type": "code",
      "metadata": {
        "trusted": true,
        "id": "uCpnCpxFL1aq",
        "outputId": "6ea8f7d9-7ae4-4b50-996a-b650f685aa0c"
      },
      "source": [
        "#print(data['purpose'].value_counts())\n",
        "\n",
        "def category_purpose(purpose):\n",
        "    for i in lemmas:\n",
        "        if 'жилье' in i:\n",
        "            return 'операции с недвижимостью'\n",
        "        if 'недвижимость' in i:\n",
        "            return 'операции с недвижимостью'\n",
        "        if 'автомобиль' in i:\n",
        "            return 'операции с автомобилем'\n",
        "        if 'свадьба' in i:\n",
        "            return 'свадьба'  \n",
        "        if 'образование' in i:\n",
        "            return 'образование'     \n",
        "    \n",
        "data.loc[data.loc[:,'purpose'].apply(category_purpose)] \n",
        "\n",
        "print(Counter(data['purpose']))\n"
      ],
      "execution_count": null,
      "outputs": [
        {
          "output_type": "error",
          "ename": "ValueError",
          "evalue": "cannot index with vector containing NA / NaN values",
          "traceback": [
            "\u001b[0;31m---------------------------------------------------------------------------\u001b[0m",
            "\u001b[0;31mValueError\u001b[0m                                Traceback (most recent call last)",
            "\u001b[0;32m<ipython-input-22-73ba2a41a8ff>\u001b[0m in \u001b[0;36m<module>\u001b[0;34m\u001b[0m\n\u001b[1;32m     14\u001b[0m             \u001b[0;32mreturn\u001b[0m \u001b[0;34m'образование'\u001b[0m\u001b[0;34m\u001b[0m\u001b[0;34m\u001b[0m\u001b[0m\n\u001b[1;32m     15\u001b[0m \u001b[0;34m\u001b[0m\u001b[0m\n\u001b[0;32m---> 16\u001b[0;31m \u001b[0mdata\u001b[0m\u001b[0;34m.\u001b[0m\u001b[0mloc\u001b[0m\u001b[0;34m[\u001b[0m\u001b[0mdata\u001b[0m\u001b[0;34m.\u001b[0m\u001b[0mloc\u001b[0m\u001b[0;34m[\u001b[0m\u001b[0;34m:\u001b[0m\u001b[0;34m,\u001b[0m\u001b[0;34m'purpose'\u001b[0m\u001b[0;34m]\u001b[0m\u001b[0;34m.\u001b[0m\u001b[0mapply\u001b[0m\u001b[0;34m(\u001b[0m\u001b[0mcategory_purpose\u001b[0m\u001b[0;34m)\u001b[0m\u001b[0;34m]\u001b[0m\u001b[0;34m\u001b[0m\u001b[0;34m\u001b[0m\u001b[0m\n\u001b[0m\u001b[1;32m     17\u001b[0m \u001b[0;34m\u001b[0m\u001b[0m\n\u001b[1;32m     18\u001b[0m \u001b[0mprint\u001b[0m\u001b[0;34m(\u001b[0m\u001b[0mCounter\u001b[0m\u001b[0;34m(\u001b[0m\u001b[0mdata\u001b[0m\u001b[0;34m[\u001b[0m\u001b[0;34m'purpose'\u001b[0m\u001b[0;34m]\u001b[0m\u001b[0;34m)\u001b[0m\u001b[0;34m)\u001b[0m\u001b[0;34m\u001b[0m\u001b[0;34m\u001b[0m\u001b[0m\n",
            "\u001b[0;32m/opt/conda/lib/python3.7/site-packages/pandas/core/indexing.py\u001b[0m in \u001b[0;36m__getitem__\u001b[0;34m(self, key)\u001b[0m\n\u001b[1;32m   1422\u001b[0m \u001b[0;34m\u001b[0m\u001b[0m\n\u001b[1;32m   1423\u001b[0m             \u001b[0mmaybe_callable\u001b[0m \u001b[0;34m=\u001b[0m \u001b[0mcom\u001b[0m\u001b[0;34m.\u001b[0m\u001b[0mapply_if_callable\u001b[0m\u001b[0;34m(\u001b[0m\u001b[0mkey\u001b[0m\u001b[0;34m,\u001b[0m \u001b[0mself\u001b[0m\u001b[0;34m.\u001b[0m\u001b[0mobj\u001b[0m\u001b[0;34m)\u001b[0m\u001b[0;34m\u001b[0m\u001b[0;34m\u001b[0m\u001b[0m\n\u001b[0;32m-> 1424\u001b[0;31m             \u001b[0;32mreturn\u001b[0m \u001b[0mself\u001b[0m\u001b[0;34m.\u001b[0m\u001b[0m_getitem_axis\u001b[0m\u001b[0;34m(\u001b[0m\u001b[0mmaybe_callable\u001b[0m\u001b[0;34m,\u001b[0m \u001b[0maxis\u001b[0m\u001b[0;34m=\u001b[0m\u001b[0maxis\u001b[0m\u001b[0;34m)\u001b[0m\u001b[0;34m\u001b[0m\u001b[0;34m\u001b[0m\u001b[0m\n\u001b[0m\u001b[1;32m   1425\u001b[0m \u001b[0;34m\u001b[0m\u001b[0m\n\u001b[1;32m   1426\u001b[0m     \u001b[0;32mdef\u001b[0m \u001b[0m_is_scalar_access\u001b[0m\u001b[0;34m(\u001b[0m\u001b[0mself\u001b[0m\u001b[0;34m,\u001b[0m \u001b[0mkey\u001b[0m\u001b[0;34m:\u001b[0m \u001b[0mTuple\u001b[0m\u001b[0;34m)\u001b[0m\u001b[0;34m:\u001b[0m\u001b[0;34m\u001b[0m\u001b[0;34m\u001b[0m\u001b[0m\n",
            "\u001b[0;32m/opt/conda/lib/python3.7/site-packages/pandas/core/indexing.py\u001b[0m in \u001b[0;36m_getitem_axis\u001b[0;34m(self, key, axis)\u001b[0m\n\u001b[1;32m   1796\u001b[0m             \u001b[0mself\u001b[0m\u001b[0;34m.\u001b[0m\u001b[0m_validate_key\u001b[0m\u001b[0;34m(\u001b[0m\u001b[0mkey\u001b[0m\u001b[0;34m,\u001b[0m \u001b[0maxis\u001b[0m\u001b[0;34m)\u001b[0m\u001b[0;34m\u001b[0m\u001b[0;34m\u001b[0m\u001b[0m\n\u001b[1;32m   1797\u001b[0m             \u001b[0;32mreturn\u001b[0m \u001b[0mself\u001b[0m\u001b[0;34m.\u001b[0m\u001b[0m_get_slice_axis\u001b[0m\u001b[0;34m(\u001b[0m\u001b[0mkey\u001b[0m\u001b[0;34m,\u001b[0m \u001b[0maxis\u001b[0m\u001b[0;34m=\u001b[0m\u001b[0maxis\u001b[0m\u001b[0;34m)\u001b[0m\u001b[0;34m\u001b[0m\u001b[0;34m\u001b[0m\u001b[0m\n\u001b[0;32m-> 1798\u001b[0;31m         \u001b[0;32melif\u001b[0m \u001b[0mcom\u001b[0m\u001b[0;34m.\u001b[0m\u001b[0mis_bool_indexer\u001b[0m\u001b[0;34m(\u001b[0m\u001b[0mkey\u001b[0m\u001b[0;34m)\u001b[0m\u001b[0;34m:\u001b[0m\u001b[0;34m\u001b[0m\u001b[0;34m\u001b[0m\u001b[0m\n\u001b[0m\u001b[1;32m   1799\u001b[0m             \u001b[0;32mreturn\u001b[0m \u001b[0mself\u001b[0m\u001b[0;34m.\u001b[0m\u001b[0m_getbool_axis\u001b[0m\u001b[0;34m(\u001b[0m\u001b[0mkey\u001b[0m\u001b[0;34m,\u001b[0m \u001b[0maxis\u001b[0m\u001b[0;34m=\u001b[0m\u001b[0maxis\u001b[0m\u001b[0;34m)\u001b[0m\u001b[0;34m\u001b[0m\u001b[0;34m\u001b[0m\u001b[0m\n\u001b[1;32m   1800\u001b[0m         \u001b[0;32melif\u001b[0m \u001b[0mis_list_like_indexer\u001b[0m\u001b[0;34m(\u001b[0m\u001b[0mkey\u001b[0m\u001b[0;34m)\u001b[0m\u001b[0;34m:\u001b[0m\u001b[0;34m\u001b[0m\u001b[0;34m\u001b[0m\u001b[0m\n",
            "\u001b[0;32m/opt/conda/lib/python3.7/site-packages/pandas/core/common.py\u001b[0m in \u001b[0;36mis_bool_indexer\u001b[0;34m(key)\u001b[0m\n\u001b[1;32m    128\u001b[0m             \u001b[0;32mif\u001b[0m \u001b[0;32mnot\u001b[0m \u001b[0mlib\u001b[0m\u001b[0;34m.\u001b[0m\u001b[0mis_bool_array\u001b[0m\u001b[0;34m(\u001b[0m\u001b[0mkey\u001b[0m\u001b[0;34m)\u001b[0m\u001b[0;34m:\u001b[0m\u001b[0;34m\u001b[0m\u001b[0;34m\u001b[0m\u001b[0m\n\u001b[1;32m    129\u001b[0m                 \u001b[0;32mif\u001b[0m \u001b[0misna\u001b[0m\u001b[0;34m(\u001b[0m\u001b[0mkey\u001b[0m\u001b[0;34m)\u001b[0m\u001b[0;34m.\u001b[0m\u001b[0many\u001b[0m\u001b[0;34m(\u001b[0m\u001b[0;34m)\u001b[0m\u001b[0;34m:\u001b[0m\u001b[0;34m\u001b[0m\u001b[0;34m\u001b[0m\u001b[0m\n\u001b[0;32m--> 130\u001b[0;31m                     \u001b[0;32mraise\u001b[0m \u001b[0mValueError\u001b[0m\u001b[0;34m(\u001b[0m\u001b[0mna_msg\u001b[0m\u001b[0;34m)\u001b[0m\u001b[0;34m\u001b[0m\u001b[0;34m\u001b[0m\u001b[0m\n\u001b[0m\u001b[1;32m    131\u001b[0m                 \u001b[0;32mreturn\u001b[0m \u001b[0;32mFalse\u001b[0m\u001b[0;34m\u001b[0m\u001b[0;34m\u001b[0m\u001b[0m\n\u001b[1;32m    132\u001b[0m             \u001b[0;32mreturn\u001b[0m \u001b[0;32mTrue\u001b[0m\u001b[0;34m\u001b[0m\u001b[0;34m\u001b[0m\u001b[0m\n",
            "\u001b[0;31mValueError\u001b[0m: cannot index with vector containing NA / NaN values"
          ]
        }
      ]
    },
    {
      "cell_type": "markdown",
      "metadata": {
        "id": "taYxWt9wL1ar"
      },
      "source": [
        "<div class=\"alert alert-warning\" style=\"border-radius: 15px; box-shadow: 4px 4px 4px; border: 1px solid \">\n",
        "<h2> Комментарий ревьюера</h2>\n",
        "    \n",
        "Согласна с категориями. Но если у тебя будет миллион строк и 100 категорий? Проще ведь сначала лемматизировать, а потом тот же Counter применить.  </div>\n",
        "\n",
        "<div class=\"alert alert-danger\" style=\"border-radius: 15px; box-shadow: 4px 4px 4px; border: 1px solid \">\n",
        "<h2> Комментарий ревьюера</h2>\n",
        "    \n",
        "Не забудь исправить ошибку. </div>"
      ]
    },
    {
      "cell_type": "markdown",
      "metadata": {
        "id": "Erx8G7iGL1ar"
      },
      "source": [
        "**Вывод**"
      ]
    },
    {
      "cell_type": "markdown",
      "metadata": {
        "id": "Jm57_qY8L1as"
      },
      "source": [
        "Методом value_counts проверяем какие значения встречаются в столбце 'purpose'. Видно, что они и те же цели написаны по-разному (например, 'свадьба': 797, 'на проведение свадьбы': 777, 'сыграть свадьбу' и тд.). В функции создадим сортировку по категорям для целей кредита и перезапишем столбец purpose используя категории. Методом Counter проверим новые значения столбца purpose.  "
      ]
    },
    {
      "cell_type": "markdown",
      "metadata": {
        "id": "wzXELz9rL1as"
      },
      "source": [
        "## Шаг 3. Ответьте на вопросы"
      ]
    },
    {
      "cell_type": "markdown",
      "metadata": {
        "id": "CS2twzQjL1as"
      },
      "source": [
        "- Есть ли зависимость между наличием детей и возвратом кредита в срок?"
      ]
    },
    {
      "cell_type": "code",
      "metadata": {
        "trusted": true,
        "id": "xFcAKSRSL1at",
        "colab": {
          "base_uri": "https://localhost:8080/"
        },
        "outputId": "eada2ff0-e3e5-49c9-dd3e-2ccaee41d44c"
      },
      "source": [
        "print(data['children'].value_counts())\n",
        "data['children'] = data['children'].abs()\n",
        "print(data['children'].value_counts())\n",
        "# категоризация по наличию детей: boolean type - 0-детей нет, 1 - дети есть\n",
        "def children_yes_or_no(children):\n",
        "    if children == 0:\n",
        "        return 0\n",
        "    else:\n",
        "        return 1\n",
        "    \n",
        "data['children_yes_or_no'] = data['children'].apply(children_yes_or_no)\n",
        "#print(data['children_yes_or_no'].head(20))\n",
        "#print(data.head(20))\n",
        "data['debt'].corr(data['children_yes_or_no'])"
      ],
      "execution_count": 34,
      "outputs": [
        {
          "output_type": "stream",
          "text": [
            " 0     14147\n",
            " 1      4817\n",
            " 2      2055\n",
            " 3       330\n",
            " 20       76\n",
            "-1        47\n",
            " 4        41\n",
            " 5         9\n",
            "Name: children, dtype: int64\n",
            "0     14147\n",
            "1      4864\n",
            "2      2055\n",
            "3       330\n",
            "20       76\n",
            "4        41\n",
            "5         9\n",
            "Name: children, dtype: int64\n"
          ],
          "name": "stdout"
        },
        {
          "output_type": "execute_result",
          "data": {
            "text/plain": [
              "0.029228570049726794"
            ]
          },
          "metadata": {
            "tags": []
          },
          "execution_count": 34
        }
      ]
    },
    {
      "cell_type": "code",
      "metadata": {
        "id": "2mGW2GI1_jIY"
      },
      "source": [
        ""
      ],
      "execution_count": null,
      "outputs": []
    },
    {
      "cell_type": "code",
      "metadata": {
        "id": "mK-5EK2w_jLu"
      },
      "source": [
        "\n",
        "def family_status_index(status):\n",
        "    if status == 'не женат / не замужем': \n",
        "        return 0\n",
        "    if status == 'в разводе': \n",
        "        return 0 \n",
        "    \n",
        "    if status == 'вдовец / вдова':\n",
        "        return 0 \n",
        "    else:\n",
        "        return 1\n",
        "    \n",
        "data['family_status_index'] = data['family_status'].apply(family_status_index)"
      ],
      "execution_count": 44,
      "outputs": []
    },
    {
      "cell_type": "code",
      "metadata": {
        "id": "39sv7HbX7ef5"
      },
      "source": [
        ""
      ],
      "execution_count": 42,
      "outputs": []
    },
    {
      "cell_type": "code",
      "metadata": {
        "id": "yEZ7Kxt5ANCf"
      },
      "source": [
        ""
      ],
      "execution_count": null,
      "outputs": []
    },
    {
      "cell_type": "markdown",
      "metadata": {
        "id": "OMBAshwQL1at"
      },
      "source": [
        "**Вывод**"
      ]
    },
    {
      "cell_type": "markdown",
      "metadata": {
        "id": "Rdhwj9yBL1at"
      },
      "source": [
        "Коэффициент корреляции между наличием детей и задолженностей по кредиту равен 0.03. Явной зависимости между этими двумя параметрами нет."
      ]
    },
    {
      "cell_type": "markdown",
      "metadata": {
        "id": "W5blzBD8L1au"
      },
      "source": [
        "<div class=\"alert alert-danger\" style=\"border-radius: 15px; box-shadow: 4px 4px 4px; border: 1px solid \">\n",
        "<h2> Комментарий ревьюера</h2>\n",
        "    \n",
        "Это коэфф-т линейной связи. А если связь нелинейная? Выведи проценты невозврата. Для этого надо число долгов разделить на общее число кредитов внутри каждой группы. Ниже аналогично. </div>\n",
        "\n",
        "<div class=\"alert alert-warning\" style=\"border-radius: 15px; box-shadow: 4px 4px 4px; border: 1px solid \">\n",
        "<h2> Комментарий ревьюера</h2>\n",
        "    \n",
        "20 детей это не ошибка? </div>"
      ]
    },
    {
      "cell_type": "markdown",
      "metadata": {
        "id": "OqiHJLoyL1au"
      },
      "source": [
        "- Есть ли зависимость между семейным положением и возвратом кредита в срок?"
      ]
    },
    {
      "cell_type": "markdown",
      "metadata": {
        "id": "24f0B_8oL1av"
      },
      "source": [
        "**Вывод**"
      ]
    },
    {
      "cell_type": "markdown",
      "metadata": {
        "id": "D-A_IOVkL1av"
      },
      "source": [
        "Коэффициент корреляции между семейным положением и задолженностей по кредиту равен -0.008. Явной зависимости между этими двумя параметрами нет."
      ]
    },
    {
      "cell_type": "markdown",
      "metadata": {
        "id": "HljBx0PtL1av"
      },
      "source": [
        "- Есть ли зависимость между уровнем дохода и возвратом кредита в срок?"
      ]
    },
    {
      "cell_type": "code",
      "metadata": {
        "trusted": true,
        "id": "9RB-jYeZL1av"
      },
      "source": [
        "data['debt'].corr(data['total_income'])"
      ],
      "execution_count": null,
      "outputs": []
    },
    {
      "cell_type": "markdown",
      "metadata": {
        "id": "6Qc320hnL1aw"
      },
      "source": [
        "**Вывод**\n",
        "\n",
        "На удивление, анализ не выявил корреляции между уровнем дохода и возвратом кредита в срок. Возможно, стоит убрать выдающиеся значения из анализа."
      ]
    },
    {
      "cell_type": "markdown",
      "metadata": {
        "id": "rslrCkXKL1aw"
      },
      "source": [
        ""
      ]
    },
    {
      "cell_type": "markdown",
      "metadata": {
        "id": "sWDwJ18FL1aw"
      },
      "source": [
        "- Как разные цели кредита влияют на его возврат в срок?"
      ]
    },
    {
      "cell_type": "code",
      "metadata": {
        "trusted": true,
        "id": "1Qgay5x6L1ax"
      },
      "source": [
        "data['purpose']=data['purpose'].astype('category').cat.codes\n",
        "data['debt'].corr(data['purpose'])\n"
      ],
      "execution_count": null,
      "outputs": []
    },
    {
      "cell_type": "markdown",
      "metadata": {
        "id": "qRFoSQGvL1ax"
      },
      "source": [
        "**Вывод**"
      ]
    },
    {
      "cell_type": "markdown",
      "metadata": {
        "id": "HMhL5L1KL1ax"
      },
      "source": [
        "Для анализа корреляции нужно привести значения в столбце purpose к категориальному типу. При использовании метода corr, коэффициент корреляции 0.001. Значительной корреляции между величинами нет."
      ]
    },
    {
      "cell_type": "markdown",
      "metadata": {
        "id": "73BN9kFoL1ay"
      },
      "source": [
        "## Шаг 4. Общий вывод"
      ]
    },
    {
      "cell_type": "markdown",
      "metadata": {
        "id": "iIcVqUS6L1ay"
      },
      "source": [
        "Анализ показал, что ни один из перечисленных факторов не оказывает значительного влияния на возврат кредита в срок. "
      ]
    },
    {
      "cell_type": "markdown",
      "metadata": {
        "id": "ZJ8kOTfRL1ay"
      },
      "source": [
        "<div class=\"alert alert-warning\" style=\"border-radius: 15px; box-shadow: 4px 4px 4px; border: 1px solid\">\n",
        "<h2> Комментарий ревьюера</h2>\n",
        "    \n",
        "После корректировок не забудь привести проценты невозврата в срок у самых надежных и самых безответственных клиентов для каждой группы. Например: самые надежные клиенты это люди, берущие кредит на операции с недвижимостью (такой-то процент невозврата в срок), а самые безответственные те, кто обращается в банк с целью получить деньги на покупку автомобиля (такой-то процент). И так для каждый группы. Это хороший тон, — подкреплять вывод полученными ранее результатами. Кроме того, так ты не оставляешь заказчику шансов неверно интерпретировать вывод.\n",
        "</div>"
      ]
    },
    {
      "cell_type": "markdown",
      "metadata": {
        "id": "aLntIgf3L1az"
      },
      "source": [
        "## Чек-лист готовности проекта\n",
        "\n",
        "Поставьте 'x' в выполненных пунктах. Далее нажмите Shift+Enter."
      ]
    },
    {
      "cell_type": "markdown",
      "metadata": {
        "id": "Kes4VK96L1az"
      },
      "source": [
        "- [x]  открыт файл;\n",
        "- [x]  файл изучен;\n",
        "- [x]  определены пропущенные значения;\n",
        "- [x]  заполнены пропущенные значения;\n",
        "- [x]  есть пояснение, какие пропущенные значения обнаружены;\n",
        "- [x]  описаны возможные причины появления пропусков в данных;\n",
        "- [ ]  объяснено, по какому принципу заполнены пропуски;\n",
        "- [ ]  заменен вещественный тип данных на целочисленный;\n",
        "- [ ]  есть пояснение, какой метод используется для изменения типа данных и почему;\n",
        "- [ ]  удалены дубликаты;\n",
        "- [ ]  есть пояснение, какой метод используется для поиска и удаления дубликатов;\n",
        "- [ ]  описаны возможные причины появления дубликатов в данных;\n",
        "- [ ]  выделены леммы в значениях столбца с целями получения кредита;\n",
        "- [ ]  описан процесс лемматизации;\n",
        "- [ ]  данные категоризированы;\n",
        "- [ ]  есть объяснение принципа категоризации данных;\n",
        "- [ ]  есть ответ на вопрос: \"Есть ли зависимость между наличием детей и возвратом кредита в срок?\";\n",
        "- [ ]  есть ответ на вопрос: \"Есть ли зависимость между семейным положением и возвратом кредита в срок?\";\n",
        "- [ ]  есть ответ на вопрос: \"Есть ли зависимость между уровнем дохода и возвратом кредита в срок?\";\n",
        "- [ ]  есть ответ на вопрос: \"Как разные цели кредита влияют на его возврат в срок?\";\n",
        "- [ ]  в каждом этапе есть выводы;\n",
        "- [ ]  есть общий вывод."
      ]
    }
  ]
}